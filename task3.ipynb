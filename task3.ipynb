{
 "cells": [
  {
   "cell_type": "code",
   "execution_count": 1,
   "metadata": {},
   "outputs": [],
   "source": [
    "# ! curl http://archive.ics.uci.edu/ml/machine-learning-databases/ionosphere/ionosphere.data > ./data/ionosphere.data"
   ]
  },
  {
   "cell_type": "code",
   "execution_count": 2,
   "metadata": {},
   "outputs": [],
   "source": [
    "from sklearn.model_selection import train_test_split\n",
    "from sklearn.svm import SVC\n",
    "import pandas"
   ]
  },
  {
   "cell_type": "code",
   "execution_count": 3,
   "metadata": {},
   "outputs": [],
   "source": [
    "data = pandas.read_csv('./data/ionosphere.data', header=None) # Load data\n",
    "train, test = train_test_split(data, test_size=0.3)\n",
    "X_train = train[range(0, 34)]\n",
    "y_train = train[34]\n",
    "X_test = test[range(0, 34)]\n",
    "y_test = test[34]"
   ]
  },
  {
   "cell_type": "markdown",
   "metadata": {},
   "source": [
    "## Построение модели\n",
    "Строится модель простого классификатора, для того чтобы оценить потом профит от подбора гиперпараметров"
   ]
  },
  {
   "cell_type": "code",
   "execution_count": 15,
   "metadata": {},
   "outputs": [
    {
     "data": {
      "text/plain": [
       "{'accuracy': 0.9245283018867925,\n",
       " 'precision': 0.9358974358974359,\n",
       " 'f1': 0.948051948051948,\n",
       " 'recall': 0.9605263157894737}"
      ]
     },
     "execution_count": 15,
     "metadata": {},
     "output_type": "execute_result"
    }
   ],
   "source": [
    "from sklearn.svm import SVC\n",
    "from sklearn.metrics import accuracy_score, recall_score, precision_score, f1_score\n",
    "\n",
    "def scores(y_true, y_pred):\n",
    "    return { \n",
    "        \"accuracy\": accuracy_score(y_true, y_pred),\n",
    "        \"precision\": precision_score(y_true, y_pred, labels=['g', 'b'], pos_label='g'),\n",
    "        \"f1\": f1_score(y_true, y_pred, labels=['g', 'b'], pos_label='g'),\n",
    "        \"recall\": recall_score(y_true, y_pred, labels=['g', 'b'], pos_label='g'),\n",
    "    }\n",
    "\n",
    "classifier = SVC(kernel=\"linear\")\n",
    "model = classifier.fit(X_train, y_train)\n",
    "\n",
    "y_predicted = classifier.predict(X_test)\n",
    "scores(y_test, y_predicted)"
   ]
  },
  {
   "cell_type": "markdown",
   "metadata": {},
   "source": [
    "## Подбор гиперпараметров"
   ]
  },
  {
   "cell_type": "code",
   "execution_count": 23,
   "metadata": {},
   "outputs": [
    {
     "name": "stdout",
     "output_type": "stream",
     "text": [
      "{'C': 0.3, 'kernel': 'rbf'}\n"
     ]
    },
    {
     "data": {
      "text/plain": [
       "{'accuracy': 0.9528301886792453,\n",
       " 'precision': 0.961038961038961,\n",
       " 'f1': 0.9673202614379085,\n",
       " 'recall': 0.9736842105263158}"
      ]
     },
     "execution_count": 23,
     "metadata": {},
     "output_type": "execute_result"
    }
   ],
   "source": [
    "from sklearn.model_selection import GridSearchCV\n",
    "\n",
    "parameters = { \"kernel\": [\"linear\", \"rbf\", \"poly\", \"sigmoid\"],\n",
    "               \"C\": list(map(lambda x: x/10, range(1, 11, 1))) }\n",
    "\n",
    "classifier = GridSearchCV(SVC(), param_grid=parameters)\n",
    "\n",
    "model = classifier.fit(X_train, y_train)\n",
    "\n",
    "print(model.best_params_)\n",
    "classifier = model.best_estimator_\n",
    "\n",
    "y_predicted = classifier.predict(X_test)\n",
    "scores(y_test, y_predicted)"
   ]
  }
 ],
 "metadata": {
  "interpreter": {
   "hash": "97fa0b24c8c0759eef5d9e7b2d151f8aa8e03b1380d4b02682a37881ea66ccff"
  },
  "kernelspec": {
   "display_name": "Python 3.9.6 64-bit ('env': venv)",
   "name": "python3"
  },
  "language_info": {
   "codemirror_mode": {
    "name": "ipython",
    "version": 3
   },
   "file_extension": ".py",
   "mimetype": "text/x-python",
   "name": "python",
   "nbconvert_exporter": "python",
   "pygments_lexer": "ipython3",
   "version": "3.9.6"
  },
  "orig_nbformat": 4
 },
 "nbformat": 4,
 "nbformat_minor": 2
}
