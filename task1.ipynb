{
 "cells": [
  {
   "cell_type": "markdown",
   "metadata": {},
   "source": [
    "# Работа №1 - Поиск ассоциативных правил\n",
    "\n",
    "_Вариант 5. Сформировать набор из 30 транзакций на основе продуктов, употребляемых на завтрак, обед и ужин._"
   ]
  },
  {
   "cell_type": "code",
   "execution_count": 1,
   "metadata": {},
   "outputs": [],
   "source": [
    "#! echo '[[\"Мясо\", \"Соус\", \"Вино\"],[\"Мясо\", \"Соус\", \"Картофель\", \"Масло\"],[\"Картофель\", \"Масло\"],[\"Картофель\", \"Масло\"],[\"Вино\", \"Яйца\", \"Бекон\"],[\"Овощи\", \"Мясо\", \"Специи\"],[\"Яйца\", \"Бекон\", \"Овощи\", \"Мясо\", \"Специи\"],[\"Яйца\", \"Бекон\", \"Овощи\", \"Мясо\", \"Специи\"],[\"Лапша\", \"Кетчуп\"],[\"Пельмени\", \"Майонез\", \"Кетчуп\"],[\"Пельмени\", \"Майонез\", \"Кетчуп\"],[\"Овощи\", \"Пельмени\", \"Майонез\", \"Кетчуп\"],[\"Овощи\", \"Соус\", \"Вино\"],[\"Кетчуп\"],[\"Кетчуп\", \"Лапша\", \"Пельмени\", \"Майонез\"],[\"Кетчуп\", \"Лапша\", \"Пельмени\", \"Майонез\"],[\"Кетчуп\", \"Лапша\", \"Мясо\", \"Соус\", \"Вино\"],[\"Овощи\", \"Мясо\", \"Соус\", \"Вино\"],[\"Майонез\"],[\"Вино\"],[\"Овощи\", \"Масло\"],[\"Овощи\", \"Масло\", \"Картофель\"],[\"Овощи\", \"Масло\", \"Картофель\", \"Мясо\", \"Соус\"],[\"Овощи\", \"Бекон\", \"Яйца\"],[\"Бекон\", \"Яйца\"],[\"Яйца\", \"Кетчуп\", \"Лапша\"],[\"Мясо\"],[\"Мясо\", \"Масло\"],[\"Мясо\", \"Масло\", \"Картофель\"],[\"Масло\", \"Картофель\"]]' > data/data_set.json\n",
    "#! curl https://raw.githubusercontent.com/viktree/curly-octo-chainsaw/master/BreadBasket_DMS.csv > ./data/BreadBasket_DMS.csv\n",
    "#! pip3 install apriori_python efficient-apriori fpgrowth-py pyarmviz pandas numpy pyarmviz "
   ]
  },
  {
   "cell_type": "code",
   "execution_count": 2,
   "metadata": {},
   "outputs": [],
   "source": [
    "from lib import datasets\n",
    "from pandas import pandas\n",
    "from fpgrowth_py import fpgrowth\n",
    "from efficient_apriori import apriori as e_apriori\n",
    "from apriori_python import apriori as apriori"
   ]
  },
  {
   "cell_type": "code",
   "execution_count": 4,
   "metadata": {},
   "outputs": [
    {
     "data": {
      "text/plain": [
       "dict_values([{'Bread'}, {'Scandinavian'}, {'Cookies', 'Hot chocolate', 'Jam'}, {'Muffin'}, {'Coffee', 'Pastry', 'Bread'}, {'Medialuna', 'Muffin', 'Pastry'}, {'Medialuna', 'Coffee', 'Pastry', 'Tea'}, {'Pastry', 'Bread'}, {'Muffin', 'Bread'}, {'Medialuna', 'Scandinavian'}, {'Medialuna', 'NONE', 'Bread'}, {'Pastry', 'Tea', 'Jam', 'Tartine', 'Coffee'}, {'Coffee', 'Basket', 'Bread'}, {'Medialuna', 'Pastry', 'Bread'}, {'Mineral water', 'Scandinavian', 'NONE'}, {'Medialuna', 'Coffee', 'Bread'}, {'Hot chocolate'}, {'Farm House'}, {'Farm House', 'Bread'}, {'Medialuna', 'Bread'}, {'Medialuna', 'Coffee', 'Bread'}, {'Jam'}, {'Scandinavian', 'Muffin'}, {'Bread'}, {'Scandinavian'}, {'Fudge'}, {'Scandinavian'}, {'Coffee', 'Bread'}, {'Jam', 'NONE', 'Bread'}, {'Bread'}, {'Basket'}, {'Scandinavian', 'Muffin'}, {'Coffee'}, {'Coffee', 'Muffin'}, {'Scandinavian', 'Muffin'}, {'Tea', 'Bread'}, {'Coffee', 'NONE', 'Bread'}, {'Tea', 'Bread'}, {'Scandinavian'}, {'Muffin', 'Juice', 'Tartine', 'Coffee', 'NONE'}, {'Scandinavian'}, {'Tea', 'Bread'}, {'Scandinavian', 'Fudge'}, {'Medialuna', 'Coffee'}, {'Medialuna', 'Coffee', 'Hot chocolate'}, {'Coffee'}, {'Muffin', \"Ella's Kitchen Pouches\", 'Jam', 'Juice', 'Bread'}, {'Coffee'}, {'Medialuna', 'Coffee'}, {'Victorian Sponge', 'Bread'}, {'Bread'}, {'Scandinavian'}, {'Bread'}, {'Coffee', 'Hearty & Seasonal', 'Frittata', 'Tea'}, {'Coffee', 'Frittata'}, {'Scandinavian'}, {'Soup', 'Victorian Sponge', 'Tea', 'Hot chocolate'}, {'Tea', 'NONE'}, {'Cookies', 'Coffee', 'Juice'}, {'Coffee'}, {'Hearty & Seasonal', 'Coffee', 'Smoothies', 'Pick and Mix Bowls'}, {'Coffee'}, {'Cake'}, {'Mighty Protein', 'Tea', 'Tartine', 'Coffee', 'NONE'}, {'Hearty & Seasonal', 'Frittata', 'Mineral water'}, {'Hearty & Seasonal', 'Mineral water', 'Muffin', 'NONE'}, {'Frittata', 'Tea', 'Scandinavian', 'Chicken sand', 'Coffee'}, {'Victorian Sponge', 'Tea', 'Bread'}, {'Fudge'}, {'Muffin'}, {'Coffee', 'Bread'}, {'Bread'}, {'Coffee', 'Bread'}, {'Frittata', 'Jam', 'NONE'}, {'Coffee'}, {'Scandinavian'}, {'Fudge'}, {'Coffee', 'Tea', 'Muffin', 'Fudge'}, {'Coffee', 'Frittata', 'Bread'}, {'Cake', 'Coffee'}, {'Tartine', 'Bread', 'NONE'}, {'Coffee', 'Bread'}, {'Bread'}, {'Medialuna', 'Coffee', 'Pastry'}, {'Juice'}, {'Bread'}, {'Coffee', 'Jam'}, {'Bread'}, {'Coffee', 'Bread'}, {'Tea', 'NONE'}, {'Coffee'}, {'Coke', 'Bread'}, {'Coffee'}, {'Farm House', 'Tea', 'Pastry'}, {'Coffee', 'Juice', 'Pastry'}, {'Coffee', 'Juice', 'Pastry'}, {'Farm House'}, {'Coffee', 'Pastry', 'Bread'}, {'Bread'}, {'Coffee', 'Pastry'}, {'Farm House'}, {'Bread', 'NONE'}, {'Medialuna', 'Coffee', 'Muffin'}, {'Cake', 'Coffee', 'NONE', 'Tea'}, {'Coffee', 'Pastry'}, {'Coffee', 'Tea'}, {'Farm House', 'Muffin'}, {'Muffin', 'Pastry', 'Bread'}, {'Pastry'}, {'Coffee'}, {'Coffee'}, {'Cake', 'Coffee'}, {'Farm House'}, {'Bread'}, {'Coffee'}, {'Cookies', 'Cake', 'Coffee', 'My-5 Fruit Shoot'}, {'Cookies', 'Tea', 'Pastry'}, {'Coffee', 'Muffin'}, {'Farm House'}, {'Coffee', 'Bread'}, {'Cookies'}, {'Coffee', 'Jam', 'Juice', 'NONE'}, {'Soup', 'Coffee'}, {'Tea'}, {'Coffee', 'Jam'}, {'Farm House'}, {'Tartine', 'Coffee', 'Tea', 'NONE'}, {'Cake', 'Coffee'}, {'Coffee', 'Muffin'}, {'Coffee', 'Bread'}, {'Cookies', 'Pick and Mix Bowls', 'Tea', 'Juice'}, {'Soup', 'Hearty & Seasonal'}, {'Hearty & Seasonal', 'Tea', 'Farm House'}, {'Bread'}, {'Soup', 'Tea'}, {'Farm House'}, {'Soup', 'Hearty & Seasonal', 'Coffee'}, {'Hearty & Seasonal', 'Muffin', 'Bread'}, {'Cookies', 'Coffee'}, {'Bread'}, {'Tea', 'Muffin'}, {'Tea'}, {'Soup', 'Hearty & Seasonal'}, {'Coffee', 'Focaccia', 'Tea'}, {'Sandwich'}, {'Tartine', 'Coffee'}, {'Coffee', 'Fudge'}, {'Coffee'}, {'Bread'}, {'Soup', 'Coke'}, {'Muffin'}, {'Coffee', 'Cookies', 'Tea', 'Muffin'}, {'Coffee', 'Hearty & Seasonal', 'Mighty Protein', 'Coke'}, {'Sandwich', 'Tea', 'Muffin'}, {'Coffee', 'Muffin'}, {'Coffee', 'Bread'}, {'Coffee', 'Muffin'}, {'Cookies', 'Hot chocolate', 'Bread'}, {'Muffin', 'Mineral water'}, {'Tea'}, {'Muffin'}, {'Coffee', 'Juice'}, {'Coffee', 'Muffin'}, {'Tea'}, {'Coffee', 'Muffin'}, {'Hearty & Seasonal', 'Sandwich', 'Mineral water', 'Bread'}, {'Coffee', 'Tea'}, {'Mineral water'}, {'Coffee'}, {'Soup', 'Tea'}, {'Coffee', 'Bread'}, {'Muffin', 'Bread'}, {'Coffee'}, {'Bread'}, {'Cookies', 'Coffee'}, {'Coffee', 'Pastry'}, {'Coffee', 'Pastry'}, {'Tea', 'Jam'}, {'Tea'}, {\"Ella's Kitchen Pouches\", 'Pastry'}, {'Pastry'}, {'Farm House', 'Tea', 'NONE'}, {'Victorian Sponge', 'Tea'}, {'Tea', 'Pastry'}, {'Bread'}, {'Coffee'}, {'Coffee', 'Bread'}, {'Coffee', 'Pastry'}, {'Soup', 'Tea'}, {'Bread', 'NONE'}, {'Coffee'}, {'Bread'}, {'Scandinavian', 'NONE', 'Bread'}, {'Cookies', 'Cake', 'Bread'}, {'Coffee', 'Tea'}, {'Cookies', 'Coffee'}, {'Coffee'}, {'Bread'}, {'Coffee', 'Pastry', 'NONE'}, {'Coffee'}, {'Coffee'}, {'Scandinavian', 'Bread'}, {'Coffee', 'Pastry'}, {'Coffee', 'Scandinavian', 'Pastry'}, {'Hearty & Seasonal', 'Coffee', 'Muffin'}, {'Bread'}, {'Coffee'}, {'Scandinavian'}, {'Soup', 'Coffee'}, {'Cookies', 'Tartine', 'Coffee'}, {'Bread'}, {'Tea', 'Bread'}, {'Coffee', 'Pastry'}, {'Tartine', 'Coffee'}, {'Cookies', 'Bread'}, {'Sandwich'}, {'Tartine'}, {'Pastry', 'Bread'}, {'Scandinavian', 'Bread'}, {'Scandinavian'}, {'Coffee', 'Alfajores'}, {'Coffee'}, {'Soup', 'Coffee', 'Coke'}, {'Cake'}, {'Sandwich', 'Tea', 'Soup'}, {'Coffee'}, {'Hearty & Seasonal', 'Bread'}, {'Alfajores'}, {'Cake'}, {'Tea', 'Bread'}, {'Soup', 'Bread', 'Coffee', 'Tea'}, {'Coffee'}, {'Scandinavian'}, {'Fudge'}, {'Sandwich', 'Coffee'}, {'Cookies', 'Tea', 'Pastry', 'Bread'}, {'Muffin'}, {'Scandinavian'}, {'Tea', 'Jam'}, {'Tea', 'Juice', 'Alfajores'}, {'Soup', 'Cake', 'Coffee', 'Muffin'}, {'Cake', 'Coffee', 'Hot chocolate'}, {'Cookies', 'Cake'}, {'Tea', 'Bread'}, {'Coffee', 'Juice', 'Alfajores'}, {'Soup', 'Coffee', 'Tea'}, {'Hot chocolate'}, {'Cookies'}, {'Medialuna', 'Coffee'}, {'Eggs', 'Bread'}, {'Scandinavian'}, {'Medialuna'}, {'Coffee', 'Pastry'}, {'Coffee', 'Bread'}, {'Coffee', 'NONE', 'Pastry', 'Bread'}, {'Coffee', 'Pastry'}, {'Pastry'}, {'Coffee'}, {'Coffee'}, {'Coffee', 'Hot chocolate', 'Pastry'}, {'Coke'}, {'Coffee', 'Jam'}, {'Tea'}, {'Bread', 'Pastry', 'NONE'}, {'Farm House', 'Coffee', 'Alfajores'}, {'Tea', 'Pastry'}, {'Bread'}, {'Coffee', 'Jam'}, {'Coffee', 'Pastry', 'Tea'}, {'Farm House'}, {'Bread', 'Coffee', 'Pastry', 'NONE'}, {'Farm House'}, {'Coffee', 'Pastry'}, {'Farm House'}, {'Coffee', 'Pastry'}, {'Coffee', 'NONE'}, {'Coffee', 'Pastry'}, {'Bread'}, {'Coffee', 'Pastry', 'Bread'}, {'Coffee', 'Pastry'}, {'Farm House', 'Coffee'}, {'Farm House', 'Pastry'}, {'Alfajores', 'Juice', 'Bread'}, {'Coffee', 'Pastry'}, {'Alfajores', 'Bread'}, {'Bread'}, {'Cookies', 'Coffee'}, {'Coffee'}, {'Cookies'}, {'Hearty & Seasonal'}, {'Coffee'}, {'Tartine', 'Jam', 'Bread'}, {'Farm House', 'Scandinavian'}, {'Hearty & Seasonal', 'Coffee', 'Scandinavian', 'Muffin'}, {'Pick and Mix Bowls', 'Coke', 'Tartine', 'Coffee', 'NONE'}, {'Bread'}, {'Farm House', 'Coffee', 'Scandinavian', 'Alfajores'}, {'Soup', 'Juice', 'Mineral water'}, {'Soup', 'Tea'}, {'Cookies', 'Tea', 'Juice', 'Soup'}, {'Hearty & Seasonal', 'Tea'}, {'Fudge'}, {'Soup', 'Coffee', 'Juice', 'Mineral water'}, {'Hearty & Seasonal'}, {'Hearty & Seasonal', 'Smoothies'}, {'Hearty & Seasonal', 'Tea'}, {'Sandwich', 'Coffee'}, {'Cookies', 'Farm House'}, {'Soup', 'Tea', 'Juice'}, {'Soup'}, {'Coffee'}, {'Bread'}, {'Cookies', 'Tea'}, {'Soup', 'Hearty & Seasonal', 'Bread'}, {'Coffee'}, {'Coffee'}, {'Coffee', 'Tea'}, {'Bread'}, {'Tea'}, {'Coffee', 'Tea'}, {'Coffee'}, {'Fudge'}, {'Tea'}, {'Soup', 'Tea'}, {'Juice'}, {'Alfajores'}, {'Bread'}, {'Coffee', 'Alfajores'}, {'Pick and Mix Bowls', 'Alfajores', 'Juice', 'Mineral water', 'Cookies'}, {'Coffee', 'Alfajores'}, {'Fudge'}, {'Mighty Protein', 'Juice'}, {'Alfajores', 'Coffee', 'Mineral water'}, {'Coffee', 'Mighty Protein'}, {'Alfajores'}, {'Coffee', 'Bread'}, {'Medialuna'}, {'Medialuna', 'Bread'}, {'Farm House'}, {'Coffee', 'Pastry'}, {'Farm House'}, {'Coffee', 'Pastry', 'NONE'}, {'Medialuna'}, {'Sandwich', 'Tea', 'NONE', 'Bread'}, {'Bread'}, {'Farm House', 'Coffee', 'Jam'}, {'Focaccia'}, {'Bread'}, {'Tartine', 'My-5 Fruit Shoot', 'Pastry', 'Bread'}, {'Farm House', 'Pastry'}, {'Pastry', 'Bread'}, {'Pastry', 'Bread'}, {'Coffee', 'Jam'}, {'Farm House'}, {'Pastry', 'Bread'}, {'Bread', 'Coffee', 'Tea'}, {'Jam'}, {'Medialuna', 'Pastry'}, {'Coffee'}, {'Tea'}, {'Bread'}, {'Pastry', 'Bread'}, {'Pastry'}, {'Farm House'}, {'Tea'}, {'Brownie', 'Coffee', 'Fudge', 'Alfajores'}, {'Cookies', 'Fudge', 'Bread'}, {'Coffee'}, {'Bread'}, {'Coffee', 'Jam', 'Pastry'}, {'Soup', 'Coffee'}, {'Soup', 'Hearty & Seasonal', 'Smoothies', 'Pastry'}, {'Pastry', 'Bread'}, {'Medialuna', 'Pastry'}, {'Coffee', 'Tea', 'NONE'}, {'Cookies', 'Bread'}, {'Hearty & Seasonal', 'Pick and Mix Bowls', 'Sandwich', 'Focaccia', 'Bread', 'Coffee'}, {'Coffee'}, {'Sandwich', 'Brownie', 'Coffee'}, {'Cookies', 'Brownie'}, {'Coffee'}, {'Coffee', 'NONE'}, {'Coffee', 'Bread', 'Sandwich', 'NONE'}, {'Coffee', 'Hot chocolate'}, {'Tea', 'NONE'}, {'Coffee', 'Brownie', 'Sandwich'}, {'Farm House', 'Brownie', 'Focaccia', 'Pastry'}, {'Cake', 'Focaccia'}, {'Soup', 'Hearty & Seasonal', 'Mineral water'}, {'Hearty & Seasonal'}, {'Hearty & Seasonal'}, {'Coffee', 'Pastry'}, {'Coffee'}, {'Cake', 'Tea'}, {'Soup', 'Coffee'}, {'Fudge', 'Focaccia', 'Bread'}, {'Coffee', 'Hot chocolate', 'Alfajores'}, {'Cake', 'Brownie', 'Pastry'}, {'Dulce de Leche', 'Medialuna', 'Alfajores'}, {'Alfajores', 'Dulce de Leche'}, {'Cake', 'Bread'}, {'Cake', 'Coffee'}, {'Bread'}, {'Sandwich'}, {'Alfajores', 'Medialuna', 'Coffee', 'Bread'}, {'Coffee'}, {'Alfajores', 'Bread'}, {'Coffee', 'Tea'}, {'Bread'}, {'Dulce de Leche'}, {'Farm House'}, {'Fudge'}, {'Coffee'}, {\"Ella's Kitchen Pouches\", 'Alfajores', 'Brownie', 'Juice', 'Coffee'}, {'Alfajores'}, {'Alfajores', 'Brownie', 'Juice', 'Bread', 'Cookies'}, {'Cookies', 'Cake'}, {'Pick and Mix Bowls'}, {'Coffee'}, {'Farm House'}, {'Tea'}, {'Coffee'}, {'Farm House', 'Focaccia'}, {'Dulce de Leche'}, {'Cookies', \"Ella's Kitchen Pouches\", 'My-5 Fruit Shoot', 'Juice'}, {'Bread'}, {'Hot chocolate'}, {'Coffee'}, {'Coffee'}, {'Coffee'}, {'Medialuna'}, {'Tea', 'Jam', 'Bread'}, {'Farm House'}, {'Bread'}, {'Coffee', 'NONE'}, {'Medialuna', 'Coffee'}, {'Bread'}, {'Medialuna', 'Pastry'}, {'Coffee', 'Jam'}, {'Coffee', 'Bread'}, {'Coffee'}, {'Bread'}, {'Hot chocolate'}, {'Medialuna', 'Bread'}, {'Jam', 'Bread'}, {'Jam', 'Bread'}, {'Coffee', 'Bread'}, {'Farm House', 'Bread'}, {'Coffee', 'Bread'}, {'Tea', 'Pastry'}, {'Coffee'}, {'Bread'}, {'Brownie', 'Pastry'}, {'Farm House'}, {'Coffee'}, {'Coffee', 'Cookies', 'Tea', 'Honey'}, {'Tea'}, {'Bread'}, {'Brownie'}, {'Coffee', 'Bread'}, {'Bread'}, {'Coffee'}, {'Tea'}, {'Tea'}, {'Coffee'}, {'Coffee', 'Bread'}, {'Bread'}, {'The BART', 'Bread'}, {'Brownie', 'Coffee', 'NONE'}, {'Coffee'}, {'Brownie', 'Coffee'}, {'Tartine', 'Coffee', 'NONE', 'Mineral water'}, {'Brownie', 'Coffee'}, {'Brownie', 'Juice'}, {'Medialuna', 'Pastry', 'Tea', 'Alfajores', 'Jam', 'Bread', 'Coffee'}, {'Bread'}, {'Fudge'}, {'Coffee', 'Pick and Mix Bowls'}, {'Pastry', 'Bread'}, {'Soup', 'Coffee', 'Scandinavian', 'Mineral water'}, {'Pick and Mix Bowls', 'Sandwich', 'Juice', 'Mineral water'}, {'NONE', 'Pastry', 'Bread'}, {'Hearty & Seasonal', 'Coffee'}, {'Hearty & Seasonal', 'Coffee', 'Mineral water', 'Bread'}, {'Sandwich', 'Tartine', 'Brownie', 'Coffee'}, {'Brownie', 'Coffee'}, {'Tartine', 'Coffee', 'Alfajores'}, {'Coffee', 'Mighty Protein'}, {'Coffee', 'Hot chocolate'}, {'Soup', 'Coffee', 'Jam'}, {'Brownie', 'Mineral water'}, {'Coffee', 'Scandinavian'}, {'Coffee', 'Scandinavian'}, {'Coffee'}, {'Hearty & Seasonal', 'Brownie', 'Coffee', 'Hot chocolate'}, {'Cake', 'Tea'}, {'Medialuna'}, {'Coffee', 'Tea', 'Alfajores'}, {'Brownie', 'Coffee', 'Juice', 'Alfajores'}, {'Sandwich', 'Coffee'}, {'Soup', 'Bread'}, {'Soup', 'Bread'}, {'Bread'}, {'Cookies', 'Brownie', 'Tea'}, {'Brownie', 'Coffee', 'Bread'}, {'Brownie'}, {'Cookies', 'Jam', 'Bread'}, {'Coffee'}, {'Brownie', 'Tea'}, {'Medialuna', 'Scandinavian', 'Alfajores'}, {'Cookies', 'Coffee', 'Hot chocolate', 'Alfajores'}, {'Brownie'}, {'Fudge'}, {'Brownie', 'Tea'}, {'Fudge', 'Dulce de Leche'}, {'Granola', 'Fudge', 'Pastry', 'Scandinavian', 'Bread', 'Coffee'}, {'Fudge', 'Bread'}, {'Medialuna', 'Coffee', 'Hot chocolate', 'NONE'}, {'Bread'}, {'Medialuna', 'Bread'}, {'Medialuna', 'Coffee', 'Jam', 'Bread'}, {'Brownie', 'Coffee', 'Jam'}, {'Coffee', 'Jam', 'Bread'}, {'Scandinavian'}, {'Cookies', 'Coffee'}, {'Coffee', 'Scandinavian'}, {'Bread'}, {'Bread'}, {'Brownie', 'Coffee', 'Jam', 'NONE'}, {'Coffee'}, {'Brownie', 'Hot chocolate'}, {'Bread'}, {'Medialuna', 'Bread'}, {'Brownie', 'Coffee', 'Hot chocolate'}, {'Scandinavian'}, {'Bread', 'Basket', 'NONE'}, {'Brownie', 'Coffee', 'Bread'}, {'Cake', 'Fudge'}, {'Coffee', 'Hot chocolate', 'Basket'}, {'Scandinavian'}, {'Scandinavian'}, {'Medialuna', 'Cake', 'Coffee', 'Bread'}, {'Medialuna', 'Coffee'}, {'Pastry', 'Bread'}, {'Brownie', 'Bread'}, {'Medialuna', 'Farm House'}, {'Medialuna', 'Bread'}, {'Medialuna', 'Smoothies', 'Brownie', 'Coffee', 'Hot chocolate'}, {'Medialuna', 'Tea', 'Brownie', 'Bread', 'Coffee'}, {'Cookies', 'Medialuna'}, {'Medialuna', 'Coffee'}, {'Fudge', 'Bread'}, {'Coffee', 'Tea'}, {'Cookies', 'Coffee'}, {'Brownie', 'Pastry', 'Bread'}, {'Coffee', 'Bread'}, {'Coffee', 'Tea', 'NONE'}, {'Bread'}, {'Medialuna', 'Coffee'}, {'Brownie', 'Coffee', 'My-5 Fruit Shoot'}, {'Coffee', 'Fudge'}, {'Coffee'}, {'Coffee', 'Basket'}, {'Farm House'}, {'Farm House'}, {'Brownie', 'Coffee'}, {'Brownie', 'Scandinavian', 'My-5 Fruit Shoot'}, {'Brownie', 'Tartine', 'Coffee', 'Hot chocolate', 'NONE'}, {'Brownie', 'Hot chocolate', 'Bread'}, {'Jam', 'Fudge'}, {'Coffee'}, {'Fudge'}, {'Hearty & Seasonal', 'Cake', 'Mighty Protein', 'Tea', 'Coffee'}, {'Coffee'}, {'Scandinavian'}, {'Victorian Sponge', 'Cake', 'Scandinavian'}, {'Cake', 'Tea'}, {'Coffee'}, {'Coffee'}, {'Bread'}, {'Frittata'}, {'Brownie', 'Coffee', 'My-5 Fruit Shoot'}, {'Fairy Doors', 'Focaccia'}, {'Coffee', 'Tea', 'NONE'}, {'Hearty & Seasonal', 'Brownie', 'Hot chocolate', 'Pick and Mix Bowls'}, {'Coffee', 'Frittata'}, {'Brownie', 'Bread'}, {'Frittata'}, {'Scandinavian'}, {'Bread'}, {'Farm House'}, {'Soup', 'Brownie', 'Jam', 'Pick and Mix Bowls'}, {'Hearty & Seasonal', 'Coffee', 'Tea'}, {'Bread'}, {'Frittata', 'Bread'}, {'Scandinavian'}, {'Tartine', 'Coffee', 'Hot chocolate', 'NONE'}, {'Coffee', 'Mighty Protein'}, {'Coffee', 'Frittata'}, {'Scandinavian'}, {'Hearty & Seasonal', 'Coffee', 'Mineral water'}, {'Scandinavian'}, {'Coffee', 'Bread'}, {'Soup', 'Hearty & Seasonal', 'Coffee', 'Bread'}, {'Cake', 'Brownie', 'Tea'}, {'Coffee', 'Mighty Protein'}, {'Soup', 'Brownie', 'Coffee', 'Tea'}, {'Cake'}, {'Cake', 'Coffee', 'Hot chocolate'}, {'Hearty & Seasonal', 'Coffee'}, {'Coffee'}, {'Coffee', 'Brownie', 'Frittata'}, {'Frittata', 'Coke', 'Sandwich', 'Brownie', 'Mineral water'}, {'Scandinavian', 'Granola'}, {'Coffee', 'Coke'}, {'Cake', 'Brownie', 'Tea'}, {'Fudge'}, {'Coffee'}, {'Brownie'}, {'Cake'}, {'Tea'}, {'Soup', 'Cake', 'Coffee', 'Sandwich'}, {'Brownie', 'Coffee', 'Bread'}, {'Brownie', 'Coffee', 'Bread'}, {'Brownie', 'Coffee', 'Bread'}, {'Brownie', 'Coffee'}, {'Soup', 'Brownie', 'Coffee'}, {'Fudge'}, {'Focaccia', 'Bread'}, {'Farm House', 'Jam', 'Bread'}, {'Brownie', 'Hot chocolate'}, {'Hot chocolate'}, {'Brownie', 'Coffee'}, {'Medialuna', 'Pastry'}, {'Bread'}, {'Coffee', 'Pastry', 'Bread'}, {'Mineral water', 'Coffee', 'NONE'}, {'Hot chocolate', 'Pastry', 'Bread'}, {'Bread'}, {'Bread'}, {'Coffee', 'Jam', 'Bread'}, {'Coffee', 'Pastry', 'NONE'}, {'Medialuna', 'Hearty & Seasonal', 'Focaccia', 'Coffee', 'NONE'}, {'Farm House', 'Coffee', 'Jam', 'Bread'}, {'Farm House'}, {'Medialuna', 'Coffee', 'Pastry', 'Tea'}, {'Medialuna', 'Coffee', 'Pastry'}, {'Farm House', 'Coffee', 'Hot chocolate', 'Basket'}, {'Farm House', 'Pastry'}, {'Coffee', 'Hot chocolate', 'My-5 Fruit Shoot'}, {'Medialuna', 'Muffin', 'Pastry'}, {'Farm House'}, {'Focaccia', 'Muffin', 'Pastry'}, {'Coffee', 'Tea'}, {'Bread'}, {'Focaccia'}, {'Coffee', 'Hot chocolate', 'Jam', 'Pastry'}, {'Bread'}, {'Coffee', 'Pastry', 'Bread'}, {'Tea', 'NONE'}, {'Coffee', 'Hot chocolate', 'Mineral water'}, {'Coffee'}, {'Coffee'}, {'Coffee', 'Jam', 'NONE'}, {'Muffin'}, {'Bread'}, {'Bread'}, {'Bread'}, {'Coffee', 'Hot chocolate', 'Muffin', 'NONE'}, {'Fudge', 'Muffin'}, {'Bread'}, {'Bread'}, {'Farm House'}, {'Coffee', 'Muffin'}, {'Focaccia'}, {'Tea', 'Bread'}, {'Coffee', 'Hot chocolate'}, {'Tartine', 'Coffee', 'Jam', 'Pick and Mix Bowls'}, {'Jam'}, {'Tartine'}, {'Coffee', 'Bread'}, {'Pick and Mix Bowls', 'Juice', 'Mineral water', 'Tartine', 'Coffee'}, {'Tea', 'Juice', 'Bread'}, {'Cake', 'Coffee'}, {'Farm House'}, {'Farm House'}, {'Cake', 'Coffee', 'Brownie'}, {'Coffee', 'Focaccia'}, {'Coffee', 'Tea', 'Muffin'}, {'Coffee'}, {'Coffee', 'Tea'}, {'Hearty & Seasonal', 'Cake', 'Coffee'}, {'Cake', 'Tea', 'Bread'}, {'Coffee', 'Mighty Protein'}, {'Hot chocolate', 'Muffin'}, {'Soup', 'Coffee', 'Mighty Protein'}, {'Jam'}, {'Coffee', 'Alfajores'}, {'Cake', 'Hot chocolate', 'Alfajores'}, {'Tea', 'Hot chocolate', 'Muffin'}, {'Brownie'}, {'Cake', 'Coffee'}, {'Victorian Sponge', 'Tea', 'Alfajores'}, {'Bread'}, {'Tartine', 'Tea'}, {'Mighty Protein', 'Tea'}, {'Fudge', 'Bread'}, {'Coffee', 'Medialuna', 'Tartine'}, {'Pastry', 'Bread'}, {'Pastry', 'Bread'}, {'Alfajores', 'Coffee', 'Tea'}, {'Coffee', 'Alfajores'}, {'Coffee', 'Alfajores'}, {'Pastry', 'Alfajores'}, {'Alfajores'}, {'Hearty & Seasonal', 'Tea', 'Pastry', 'Alfajores'}, {'Sandwich', 'Tea'}, {'Empanadas', 'Tea'}, {'Tea', 'Alfajores'}, {'Alfajores'}, {'Pastry', 'Dulce de Leche'}, {'Coffee', 'Pastry'}, {'Farm House', 'Coffee'}, {'Medialuna', 'Scandinavian', 'Bread'}, {'Bread'}, {'Tea', 'Pastry', 'Alfajores'}, {'Coffee', 'Pastry'}, {'Farm House', 'Muffin', 'Pastry', 'Bread'}, {'Medialuna', 'Tea'}, {'Alfajores'}, {'Sandwich', 'Tea'}, {'Tea', 'Bread'}, {'Coffee', 'Pastry', 'Bread'}, {'Empanadas', 'Coffee', 'Muffin', 'Alfajores'}, {'Coffee'}, {'Bread'}, {'Coffee'}, {'Coffee'}, {'Bread'}, {'Medialuna', 'Tea', 'Pastry', 'Bread'}, {'Tea', 'Bread'}, {'Muffin'}, {'Coffee', 'Muffin'}, {'Medialuna', 'Coffee', 'Pastry', 'Bread'}, {'Coffee', 'Muffin'}, {'Scandinavian', 'Hot chocolate', 'Muffin', 'Bread'}, {'Farm House'}, {'Muffin'}, {'Coffee'}, {'Bread'}, {'Cookies', 'Coffee'}, {'Coffee'}, {'Muffin'}, {'Coffee', 'Keeping It Local', 'Tea'}, {'Medialuna', 'Coffee'}, {'Bread'}, {'Tartine', 'Scandinavian'}, {'Coffee', 'Tea'}, {'Bread'}, {'Coffee', 'Coke'}, {'Coffee', 'Muffin'}, {'Medialuna', 'Muffin', 'Scandinavian', 'Bread', 'Coffee'}, {'Bread'}, {'Coke'}, {'Scandinavian', 'Bread'}, {'Coffee'}, {'Bread'}, {'Scandinavian', 'Bread'}, {'Fudge'}, {'Soup', 'Hearty & Seasonal', 'Coffee'}, {'Coke'}, {'Cookies', 'Coffee', 'Tea', 'NONE'}, {'Coffee', 'Tea', 'Pastry'}, {'Bread'}, {'Medialuna', 'Coffee'}, {'Sandwich', 'Coffee', 'Muffin', 'Soup'}, {'Coffee', 'Tea', 'Muffin'}, {'Alfajores'}, {'Bread'}, {'Medialuna', 'Coffee'}, {'Coffee'}, {'Coffee'}, {'Medialuna'}, {'Empanadas', 'Scandinavian', 'Bread'}, {'Tartine', 'Coffee'}, {'Tea'}, {'Scandinavian'}, {'Muffin'}, {'Scandinavian', 'Bread'}, {'Bread'}, {'Coffee'}, {'Bread'}, {'Bread'}, {'Coffee'}, {'Cookies', 'Scandinavian'}, {'Medialuna', 'Empanadas', 'Coffee', 'Bread'}, {'Coffee', 'Pastry'}, {'Bread'}, {'Tea', 'Pastry'}, {'Coffee', 'Pastry'}, {'Coffee', 'Bread'}, {'Coffee', 'Keeping It Local'}, {'Fudge'}, {'Tartine', 'Coffee', 'NONE'}, {'Medialuna', 'Coffee', 'Hot chocolate', 'Pastry'}, {'Coffee', 'Alfajores'}, {'Coffee'}, {'Medialuna', 'Coffee'}, {'Coke'}, {'Coffee', 'Alfajores'}, {'Muffin'}, {'Farm House', 'Brownie', 'Fudge'}, {'Coffee'}, {'Farm House', 'Tea', 'Muffin'}, {'Coffee', 'Pastry'}, {'Brownie', 'Pastry'}, {'Medialuna'}, {'Coffee'}, {'Coffee', 'Juice', 'Pastry'}, {'Coffee', 'Bread'}, {'Coffee', 'Tea'}, {'Tea', 'Alfajores'}, {'Coffee', 'Alfajores'}, {'Scandinavian'}, {'Medialuna', 'Pastry'}, {'Brownie'}, {'Farm House'}, {'Cookies', 'Coffee'}, {'Soup'}, {'Art Tray', 'Brownie', 'Coffee'}, {'Coffee'}, {'Farm House'}, {'Soup', 'Art Tray', 'Frittata', 'Alfajores'}, {'Coffee', 'Sandwich'}, {'Tea'}, {'Farm House'}, {'Scandinavian', 'Muffin'}, {'Farm House'}, {'Scandinavian'}, {'Soup'}, {'Hearty & Seasonal', 'Tea', 'Bread'}, {'Hot chocolate'}, {'Sandwich', 'Hearty & Seasonal', 'Coffee'}, {'Coffee', 'Hearty & Seasonal', 'Brownie', 'Sandwich'}, {'Medialuna', 'Coffee'}, {'Soup', 'Brownie', 'Coffee'}, {'Sandwich', 'Focaccia', 'Alfajores'}, {'Farm House', 'Tartine'}, {'Bread'}, {'Coffee'}, {'Tea', 'Hot chocolate', 'Muffin'}, {'Pastry'}, {'Hearty & Seasonal', 'Brownie', 'Soup', 'Bowl Nic Pitt', 'Coffee'}, {'Coffee'}, {'Medialuna', 'Scandinavian', 'Farm House', 'Alfajores'}, {'Soup', 'Coffee'}, {'Tea'}, {'Cookies', 'Coffee', 'Tea'}, {'Tea', 'Muffin'}, {'Brownie', 'Coffee'}, {'Coffee'}, {'Coffee'}, {'Coffee'}, {'Farm House'}, {'Bread Pudding', 'Coffee'}, {'Medialuna', 'Coffee'}, {'Hot chocolate'}, {'Farm House', 'Coffee', 'Hot chocolate'}, {'Coffee', 'Pastry'}, {'Bread'}, {'Coffee', 'Pastry'}, {'Coffee'}, {'Coffee', 'Pastry'}, {'Farm House'}, {'Bread'}, {'Coffee', 'Hot chocolate'}, {'Bread'}, {'Medialuna', 'Coffee', 'Focaccia', 'Bread'}, {'Coffee'}, {'Keeping It Local', 'Bread'}, {'Coffee', 'Bread'}, {'NONE', 'Bread'}, {'Medialuna', 'Bread'}, {'Coffee'}, {'Medialuna', 'Coffee'}, {'Cookies', 'Tartine', 'Coffee'}, {'Tea', 'Bread'}, {'Coffee', 'Keeping It Local', 'Bread'}, {'Medialuna', 'Coffee'}, {'Medialuna', 'Coffee'}, {'Tea'}, {'Soup', 'Juice', 'Coke'}, {'Bread'}, {'Brownie'}, {'Brownie', 'Coffee', 'Bread'}, {'Hearty & Seasonal', 'Coffee', 'Pastry', 'Bread'}, {'Brownie', 'Coffee', 'Bread'}, {'Coffee'}, {'Cookies', 'Bread'}, {'Eggs', 'Fudge'}, {'Bread'}, {'Muffin', 'Bread'}, {'Soup'}, {'Bread Pudding', 'Coffee'}, {'Tartine', 'Bread'}, {'Fudge', 'Sandwich', 'Bread Pudding', 'Jam', 'Coffee'}, {'Bread Pudding', 'Coffee', 'Soup'}, {'Hearty & Seasonal', 'Bread'}, {'Cookies', 'Coffee'}, {'Coffee'}, {'Bread'}, {'Soup', 'Coffee', 'Bread'}, {'Soup', 'Tea', 'Focaccia'}, {'Cookies', 'Coffee', 'My-5 Fruit Shoot'}, {'Coffee'}, {'Sandwich', 'Coffee', 'Tea'}, {'Scandinavian'}, {'Adjustment'}, {'Coffee'}, {'Medialuna', 'Coffee'}, {'Bread'}, {'Bread'}, {'Coffee', 'Pastry'}, {'Farm House'}, {'Medialuna', 'Brownie'}, {'Brownie', 'Pastry', 'Bread'}, {'Cookies', 'Pastry', 'Bread'}, {'Bread'}, {'Cookies', 'Coffee', 'Juice', 'Pastry'}, {'Cookies', 'Coffee', 'Pastry'}, {'Medialuna', 'Coffee'}, {'Bread'}, {'Tartine', 'Coffee'}, {'Medialuna', 'Coffee'}, {'Bread'}, {'Cookies', 'Alfajores', 'Coffee', 'Bread'}, {'Coffee', 'Bread'}, {'Bread'}, {'Keeping It Local', 'Tea', 'Jam', 'Bread', 'Cookies', 'Coffee'}, {'Coffee', 'Juice', 'Pastry'}, {'Medialuna', 'Focaccia', 'Bread'}, {'Medialuna', 'Coffee', 'Pastry'}, {'Coffee'}, {'Coffee'}, {'Truffles', 'Brownie', 'Bread', 'Cookies', 'Coffee'}, {'Art Tray', 'Tea'}, {'Bread'}, {'Coffee'}, {'Cookies', 'Coffee'}, {'Brownie'}, {'Empanadas', 'Tea', 'Bread'}, {'Hot chocolate', 'Bread'}, {'Cookies', 'Coffee'}, {'Bread'}, {'Tartine', 'Bread', 'Sandwich', 'Tea'}, {'Soup', 'Sandwich', 'Bread'}, {'Soup', 'Bread'}, {'Fudge'}, {'Coffee'}, {'Soup', 'Empanadas', 'Coffee'}, {'Brownie', 'Coffee', 'Bread'}, {'Hearty & Seasonal', 'Smoothies', 'Juice', 'Soup', 'Coffee'}, {'Sandwich', 'Scandinavian', 'Alfajores', 'Cookies', 'Coffee', 'Hot chocolate'}, {'Coffee', 'Tea'}, {'Cookies', 'Bread'}, {'Cookies', 'Bread', 'Alfajores'}, {'Brownie', 'Tea'}, {'Tea', 'Bread'}, {'Coffee', 'Alfajores'}, {'Bread'}, {'Empanadas', 'Coffee'}, {'Bread'}, {'Coffee', 'Hot chocolate'}, {'Coffee'}, {'Brownie', 'Coffee'}, {'Brownie', 'Tea', 'Hot chocolate', 'Truffles'}, {'Coffee', 'Keeping It Local'}, {'Coffee'}, {'Alfajores'}, {'Chimichurri Oil', 'Scandinavian'}, {'Truffles', 'Bread'}, {'Brownie', 'Focaccia'}, {'Coffee', 'Bread'}, {'Cookies', 'Art Tray', 'Coffee', 'Tea'}, {'Coffee'}, {'Bread'}, {'Coke', 'Coffee', 'Alfajores'}, {'Bread'}, {'Bread'}, {'Medialuna', 'Coffee', 'Pastry', 'Bread'}, {'Coffee'}, {'Keeping It Local', 'Bread'}, {'Bread'}, {'Coffee', 'Scandinavian'}, {'Farm House', 'Medialuna', 'Pastry', 'Bread'}, {'Medialuna'}, {'Coffee'}, {'Farm House', 'Bread'}, {'Bread'}, {'Bread', 'Keeping It Local'}, {'Medialuna', 'Bread'}, {'Tea'}, {'Coffee', 'Pastry', 'Keeping It Local'}, {'Coffee'}, {'Tea'}, {'Hot chocolate'}, {'Sandwich', 'Tea'}, {'Bread'}, {'Medialuna', 'Brownie', 'Muffin'}, {'Coffee', 'Muffin'}, {'Bread'}, {'Medialuna', 'Coffee'}, {'Coffee'}, {'Medialuna', 'Coffee'}, {'Coffee'}, {'Brownie', 'Coffee', 'Hot chocolate', 'Bread'}, {'Bread'}, {'Bread', 'NONE'}, {'Brownie', 'Coffee'}, {'Medialuna', 'Pastry', 'Coffee', \"Ella's Kitchen Pouches\"}, {'Jam'}, {'Bread'}, {\"Ella's Kitchen Pouches\"}, {'Coffee', 'Muffin'}, {'Coffee', 'Truffles', 'Tea'}, {'Coffee'}, {'Brownie', 'Pastry'}, {'Brownie', 'Bread'}, {'Coffee', 'Bread'}, {'Pastry', 'Bread'}, {'Bread', 'Alfajores'}, {'Brownie', 'Scandinavian', 'Muffin'}, {'Coffee'}, {'Fudge'}, {'Brownie', 'Tea'}, {'Bread'}, {'Muffin', 'Bread'}, {'Scandinavian'}, {'Bread'}, {'Coffee'}, {'Bread'}, {'Soup', 'Coffee'}, {'Soup'}, {'Alfajores', 'Coffee', 'Bread'}, {'Farm House'}, {'Farm House', 'Chimichurri Oil'}, {'Farm House'}, {'Sandwich'}, {'Soup', 'Bread'}, {'Sandwich', 'Art Tray', 'Coffee', 'Frittata'}, {'Fairy Doors', 'Scandinavian'}, {'Cookies', 'Mineral water'}, {'Brownie', 'Coffee'}, {'Hearty & Seasonal', 'Bread'}, {'Hearty & Seasonal', 'Bread'}, {'Scandinavian', 'Focaccia'}, {'Fudge'}, {'Cake', 'Coffee', 'Tea'}, {'Coffee'}, {'Truffles'}, {'Brownie', 'Coffee'}, {'Scandinavian'}, {'Coffee', 'Muffin'}, {'Soup', 'Hot chocolate', 'Fudge', 'Coke'}, {'Sandwich', 'Juice', 'Alfajores'}, {'Coffee', 'Alfajores'}, {'Brownie', 'Coffee', 'Hot chocolate', 'Juice'}, {'Scandinavian'}, {'Coffee'}, {'Cake', 'Hot chocolate', 'My-5 Fruit Shoot'}, {'Soup', 'Alfajores', 'Sandwich', 'Tea'}, {'Mineral water'}, {'Bread'}, {'Scandinavian'}, {'Tea'}, {'Tea'}, {'Fudge'}, {'Scandinavian'}, {'Coffee'}, {'Coffee'}, {'Medialuna', 'Coffee'}, {'Bread'}, {'Medialuna', 'Coffee', 'Pastry', 'Bread'}, {'Pastry', 'Bread'}, {'Medialuna', 'Pastry', 'Bread', 'Coffee', 'Hot chocolate'}, {'Coffee'}, {'Jam', 'Bread'}, {'Medialuna'}, {'Medialuna', 'Bread'}, {'NONE'}, {'Coffee'}, {'Coffee'}, {'Bread'}, {'Coffee', 'Muffin'}, {'Medialuna', 'Bread'}, {'Bread'}, {'Medialuna', 'Bread'}, {'Brownie', 'Coffee', 'Pastry'}, {'Medialuna', 'Scandinavian'}, {'Bread'}, {'Coffee', 'Muffin'}, {'NONE', 'Bread'}, {'Coffee'}, {'Medialuna', 'Muffin'}, {'Bread'}, {'Coffee'}, {'Bread', 'Scandinavian', 'Alfajores'}, {'Coffee'}, {'Bread'}, {'Medialuna'}, {'Coffee', 'Scandinavian'}, {'Truffles', 'Muffin', 'Tea', 'Brownie', 'Coffee'}, {'Tartine', 'Coffee', 'NONE'}, {'Coffee'}, {'Scandinavian', 'Alfajores'}, {'Medialuna', 'Coffee', 'Hot chocolate', 'NONE'}, {'Coffee', 'Muffin', 'Alfajores'}, {'Farm House', 'Brownie', 'Coffee', 'Muffin'}, {'Medialuna', 'Coffee', 'Farm House', 'Bread'}, {'Farm House', 'Scandinavian'}, {'Truffles', 'Coffee', 'Bread'}, {'Soup', 'Frittata', 'Coffee'}, {'Eggs', 'Scandinavian'}, {'Brownie', 'Coffee', 'Truffles'}, {'Scandinavian'}, {'Coke'}, {'Soup', 'Sandwich', 'Coffee', 'Alfajores'}, {'Hearty & Seasonal', 'Tea', 'Juice'}, {'Truffles'}, {'Brownie', 'Coffee', 'Muffin', 'NONE'}, {'Bread'}, {'Coffee', 'Bowl Nic Pitt', 'Frittata', 'Muffin'}, {'Frittata', 'Tea', 'Brownie', 'Soup', 'Coffee'}, {'Coffee', 'Hot chocolate', 'Muffin', 'Alfajores'}, {'Keeping It Local', 'Tea', 'Scandinavian', 'Alfajores', 'Coffee', 'NONE'}, {'Bread'}, {'Fudge'}, {'Farm House'}, {'Farm House'}, {'Brownie', 'Coffee', 'Muffin'}, {'Soup', 'Coffee', 'Bread'}, {'Frittata', 'Muffin', 'Bread'}, {'Farm House', 'Muffin', 'Bread'}, {'Bread'}, {'Coffee', 'Bread'}, {'Farm House'}, {'Cookies', 'Coffee', 'Muffin', 'Bread'}, {'Coffee', 'Hot chocolate'}, {'Jam', 'Muffin'}, {'Coffee', 'Hot chocolate', 'Tea'}, {'Coffee', 'Alfajores'}, {'Hearty & Seasonal', 'Tea', 'Farm House'}, {'Cookies', 'Alfajores', 'Coffee', 'Bread'}, {'Hearty & Seasonal', 'Muffin', 'Sandwich', 'Brownie', 'Bread'}, {'Truffles', 'Coffee', 'Brownie', 'Alfajores'}, {'Bread', 'Coffee', 'Tea'}, {'Coffee', 'Tea', 'Muffin', 'Keeping It Local'}, {'Coffee', 'Alfajores'}, {'Bread'}, {'Tea', 'Hot chocolate', 'Alfajores'}, {'Bread'}, {'Truffles', 'Alfajores'}, {'Bread'}, {'Brownie', 'Muffin', 'Bread'}, {'Brownie', 'Coffee'}, {'Bread'}, {'Alfajores', 'Muffin', 'Bread'}, {'Truffles', 'Frittata'}, {'Coffee'}, {'Bread'}, {'Coffee', 'Muffin'}, {'Muffin'}, {'Juice'}, {'Coffee'}, {'Muffin'}, {'Bread'}, {'Coffee'}, {'Tartine', 'Coffee', 'Tea'}, {'Coffee'}, {'Coffee', 'NONE', 'Tea'}, {'Medialuna', 'Coffee'}, {'Medialuna', 'Farm House', 'Pastry', 'Bread', 'Coffee', 'NONE'}, {'Pastry', 'Bread'}, {'Medialuna', 'Coffee', 'Bread'}, {'Pastry'}, {'Bread'}, {'Medialuna', 'Pastry', 'Bread'}, {'Coffee', 'Keeping It Local'}, {'Farm House', 'Jam', 'Pastry', 'Bread'}, {'Bread'}, {'Medialuna', 'Coffee'}, {'Coffee'}, {'Bread', 'Tea', 'NONE'}, {'Pastry', 'Bread'}, {'Hearty & Seasonal'}, {'Scandinavian'}, {'Coffee', 'Hot chocolate', 'Pastry'}, {'Muffin', 'Bread'}, {'Coffee', 'Keeping It Local'}, {'Medialuna', 'Coffee', 'Bread'}, {'Coffee', 'Pastry', 'Bread'}, {'Medialuna'}, {'Brownie'}, {'Muffin'}, {'Hearty & Seasonal', 'NONE'}, {'Coffee', 'NONE', 'Bread'}, {'Coffee', 'Alfajores'}, {'Bread', 'Coffee', 'Keeping It Local'}, {'Bread'}, {'Coffee'}, {'Medialuna', 'Coffee', 'Hot chocolate', 'NONE'}, {'Brownie', 'Bread'}, {'Bread'}, {'Coffee', 'Sandwich', 'NONE'}, {'Brownie', 'Bread'}, {'Brownie', 'Coffee', 'Bread'}, {'Coffee', 'Brownie', 'Sandwich', 'Hot chocolate'}, {'Coffee'}, {'Mineral water', 'NONE', 'Bread'}, {'Coffee', 'NONE'}, {'Bread'}, {'Bread'}, {'Coffee'}, {'Bread'}, {'Art Tray', 'Bacon', 'Juice', 'Coffee', 'NONE'}, {'Bread'}, {'Coffee'}, {'Hearty & Seasonal', 'Coffee', 'Tea'}, {'Medialuna', 'Brownie', 'Muffin'}, {'Bread'}, {'Brownie', 'Muffin', 'My-5 Fruit Shoot', 'Bread'}, {'Bread', 'Brownie', 'Coffee', 'Alfajores'}, {'Spread', 'Jam', 'Bread'}, {'Brownie'}, {'Hearty & Seasonal', 'Coffee'}, {'Hearty & Seasonal', 'Keeping It Local', 'Tea', 'Bread', 'NONE'}, {'Bread', 'Coke', 'Brownie', 'Mineral water', 'Coffee'}, {'Coffee', 'Muffin', 'Tea'}, {'Bread'}, {'Bread'}, {'Frittata', 'Keeping It Local', 'Tea', 'Bread', 'Coffee'}, {'Cookies'}, {'Cake', 'Bread'}, {'Coffee', 'Fudge', 'Bread'}, {'Muffin'}, {'Coffee', 'Kids biscuit'}, {'Brownie', 'Muffin', 'Juice'}, {'Kids biscuit'}, {'Kids biscuit'}, {'Art Tray', 'Tartine'}, {'Muffin', 'Fudge', 'My-5 Fruit Shoot', 'Kids biscuit', 'NONE'}, {'Coffee'}, {'Coffee'}, {'Medialuna', 'Tea'}, {'Medialuna', 'Coffee'}, {'Coffee'}, {'Medialuna', 'Coffee'}, {'Coffee', 'Pastry'}, {'Coffee', 'Tea', 'NONE', 'Keeping It Local'}, {'Farm House'}, {'Truffles', 'Tea'}, {'Farm House'}, {'Coffee', 'Keeping It Local'}, {'Medialuna', 'Truffles', 'Tea'}, {'Tea', 'Keeping It Local'}, {'Medialuna', 'Truffles', 'Pastry'}, {'Pastry'}, {'Farm House', 'Focaccia'}, {'Coffee', 'Bread'}, {'Truffles', 'Coffee'}, {'Coffee', 'Kids biscuit'}, {'Coffee', 'Tea', 'NONE'}, {'Coffee'}, {'Bread'}, {'Bread'}, {'Medialuna'}, {'Bread'}, {'Tea', 'Bread'}, {'Coffee', 'Muffin', 'Kids biscuit', 'Mineral water'}, {'Pastry'}, {'Coffee', 'Keeping It Local'}, {'Sandwich', 'Tea', 'Bread'}, {'Truffles', 'Fudge', 'Bread'}, {'Coffee', 'Sandwich'}, {'Truffles', 'Coffee', 'Tea'}, {'Bread'}, {'Coffee', 'Sandwich', 'Tea'}, {'Coffee'}, {'Sandwich', 'Bread'}, {'Hearty & Seasonal', 'Truffles', 'Alfajores'}, {'Coffee', 'Frittata', 'Muffin'}, {'Hearty & Seasonal', 'Sandwich', 'Cookies', 'Coffee', 'Hot chocolate'}, {'Sandwich', 'Bread'}, {'Farm House'}, {'Coffee', 'Muffin'}, {'Scandinavian', 'Bread'}, {'Soup', 'Sandwich', 'Coffee', 'Tea'}, {'Farm House'}, {'Coffee', 'Tea'}, {'Soup', 'Coffee', 'Jam', 'Muffin'}, {'Bread'}, {'Soup', 'Coffee'}, {'Coffee', 'Muffin'}, {'Kids biscuit', 'Muffin', 'Bread'}, {'Coffee', 'Bread'}, {'Coffee'}, {'Muffin'}, {'Muffin', \"Ella's Kitchen Pouches\", 'Bread'}, {'Soup', 'Sandwich', 'Frittata'}, {'Sandwich', 'Bread'}, {'Cookies', 'Coffee', 'Bread'}, {'Art Tray', 'Tea', 'Hot chocolate', 'Bread'}, {'Art Tray', 'Muffin', 'Juice', 'Coffee', 'Hot chocolate'}, {'Coffee', 'Hot chocolate'}, {'Farm House'}, {'Farm House', 'Muffin'}, {'Medialuna', 'Coffee'}, {'Keeping It Local', 'Bread'}, {'Coffee'}, {'Bread'}, {'Coffee', 'Medialuna', 'Tea'}, {'Hot chocolate'}, {'Coffee'}, {'Coke'}, {'Coffee'}, {'Farm House'}, {'Bread', 'Coffee', 'Keeping It Local'}, {'Truffles', 'Coffee'}, {'Coffee'}, {'Coffee', 'Keeping It Local', 'Tea'}, {'Coffee', 'Keeping It Local'}, {'Coffee', 'Tea'}, {'Coffee'}, {'Coffee'}, {'Coffee', 'Bread'}, {'Coffee', 'NONE'}, {'Bread'}, {'Farm House'}, {'Coffee', 'Kids biscuit'}, {'Tea', 'Muffin'}, {'Bread'}, {'Coffee', 'Pastry'}, {'Soup', 'Coffee', 'Scandinavian'}, {'Scandinavian', 'Muffin', 'Pastry'}, {'Coffee', 'Pastry'}, {'Soup', 'Hearty & Seasonal', 'Tea'}, {'Scandinavian', 'Bread'}, {'Truffles', 'Scandinavian', 'Bread'}, {'Soup', 'Coffee'}, {'Medialuna'}, {'Medialuna', 'Coffee', 'Bread'}, {'Bread'}, {'Coffee', 'Bread'}, {'Soup', 'Sandwich'}, {'Coffee', 'Hearty & Seasonal', 'Sandwich'}, {'Soup'}, {'Bread'}, {'Soup', 'Coffee', 'Pastry'}, {'Coffee', 'Pastry'}, {'Soup', 'Coffee', 'Bread'}, {'Bread'}, {'Sandwich', 'Hearty & Seasonal', 'Coffee'}, {'Soup', 'Coffee'}, {'Bread'}, {'Bread'}, {'Bread'}, {'Coffee'}, {'Soup', 'Bread'}, {'Soup', 'Hearty & Seasonal', 'Coffee'}, {'Scandinavian'}, {'Medialuna', 'Coffee'}, {'Bread'}, {'Brownie', 'Bread'}, {'Fudge'}, {'Coke'}, {'Coke'}, {'Brownie', 'Muffin'}, {'Truffles', 'Tea', 'Pastry', 'Bread'}, {'Tea'}, {'Truffles', 'Bread'}, {'Medialuna'}, {'Medialuna', 'Coffee'}, {'Bread'}, {'Coffee', 'Pastry'}, {'Coffee', 'Jam', 'NONE', 'Bread'}, {'Coffee', 'NONE', 'Bread'}, {'Coke'}, {'Bread'}, {'Coffee'}, {'Coffee'}, {'Pastry'}, {'Scandinavian', 'Pastry', 'NONE'}, {'Granola', 'NONE', 'Bread'}, {'Coffee', 'Tea', 'Pastry'}, {'Mineral water', 'Bread'}, {'Medialuna', 'Tea'}, {'Brownie'}, {'Coffee', 'Tea', 'Pastry'}, {'Cake', 'Coffee', 'Hot chocolate'}, {'Bread'}, {'Jam', 'Bread'}, {'Scandinavian'}, {'Cake', 'Coffee', 'Pastry', 'Bread'}, {'Bread'}, {'Coffee'}, {'Bread'}, {'Cake', 'Coffee'}, {'Coffee'}, {'Coffee'}, {'Soup', 'Coffee'}, {'Scandinavian', 'Bread'}, {'Soup', 'Cake', 'Sandwich', 'Bread'}, {'Tartine', 'Coffee', 'Bread'}, {'Soup'}, {'Bread'}, {'Soup', 'Brownie', 'Juice'}, {'Coffee'}, {'Hearty & Seasonal'}, {'Cake', 'Sandwich', 'Tea', 'Soup', 'Coffee'}, {'Soup', 'Tea'}, {'Sandwich', 'Coffee', 'Bread'}, {'Soup', 'Coffee'}, {'Soup', 'Coffee'}, {'Soup', 'Tea'}, {'Cake', 'NONE'}, {'Cake', 'Coffee', 'Muffin', 'Tea'}, {'Bread'}, {'Coffee', 'Bread'}, {'Coffee', 'Tea'}, {'Soup', 'Tea'}, {'Cake', 'Coffee', 'Tea'}, {'Bread'}, {'Hearty & Seasonal'}, {'Mineral water', 'Brownie', 'Bread'}, {'Fudge'}, {'Coffee', 'Hot chocolate', 'Muffin'}, {'Tea', 'Muffin'}, {'Cake', 'Coffee'}, {'Victorian Sponge'}, {'Soup', 'Sandwich', 'Tea'}, {'Scandinavian'}, {'Coffee'}, {'Bread'}, {'Tartine', 'Coffee', 'Bread'}, {'Medialuna'}, {'Bread'}, {'Scandinavian', 'Bread'}, {'Bread'}, {'Medialuna', 'Coffee'}, {'Siblings'}, {'Siblings'}, {'Medialuna', 'Bread'}, {'Medialuna', 'Pastry', 'NONE'}, {'Tea', 'Keeping It Local'}, {'Farm House'}, {'Pastry'}, {'Farm House'}, {'Tea', 'NONE'}, {'Tea', 'Scandinavian', 'NONE'}, {'Coffee', 'Muffin'}, {'Coffee'}, {'Bread'}, {'Farm House', 'Coffee', 'Scandinavian', 'Pastry'}, {'Coffee'}, {'Coffee', 'Keeping It Local'}, {'Bread', 'NONE'}, {'Jam'}, {'Medialuna', 'Bread', 'Coffee', 'Alfajores'}, {'Coffee', 'Keeping It Local'}, {'Coffee'}, {'Bread'}, {'Tea', 'Muffin'}, {'Coffee', 'Hot chocolate', 'Alfajores'}, {'Pastry', 'Bread'}, {'Coffee'}, {'Bread'}, {'Tea'}, {'Sandwich', 'Coffee'}, {'Bread'}, {'Soup'}, {'Coffee'}, {'Tea'}, {'Soup', 'Art Tray', 'Coffee', 'Pastry'}, {'Hearty & Seasonal', 'Alfajores', 'Mineral water'}, {'Bread'}, {'Hearty & Seasonal', 'Cake', 'Alfajores', 'Bread', 'Coffee'}, {'Coffee', 'NONE'}, {'Bread'}, {'Cake'}, {'Bread'}, {'Fudge'}, {'Muffin'}, {'Coffee', 'Bread'}, {'Sandwich', 'Hearty & Seasonal', 'Coffee', 'Bread'}, {'Soup', 'Coffee'}, {'Hearty & Seasonal', 'Coffee', 'Keeping It Local'}, {'Bread'}, {'Coffee'}, {'Scandinavian'}, {'Coffee', 'Alfajores'}, {'Coffee'}, {'Soup', 'Brownie'}, {'Coffee'}, {'Bread'}, {'Bread'}, {'Coffee', 'Scandinavian', 'Bread'}, {'Coffee'}, {'Coffee'}, {'Soup'}, {'Coffee', 'Muffin'}, {'Cake', 'Hot chocolate', 'Bread'}, {'Cake', 'Coffee'}, {'Cake', 'Coffee', 'Tea', 'Alfajores'}, {'Bread'}, {'Coffee'}, {'Tea', 'Alfajores', 'Brownie', 'Bread', 'Coffee', 'Hot chocolate'}, {'Brownie', 'Tea', 'Hot chocolate', 'Alfajores'}, {'Coffee'}, {'Scandinavian'}, {'Cookies', 'Coffee'}, {'Coffee', 'Bread'}, {'Coffee', 'Bread'}, {'Medialuna', 'Coffee'}, {'Coffee', 'NONE'}, {'Coffee'}, {'Medialuna', 'Pastry'}, {'Coffee', 'Muffin', 'Pastry', 'Tea'}, {'Coffee', 'Pastry'}, {'Coffee', 'Keeping It Local', 'Bread'}, {'Bread', 'Pastry', 'NONE'}, {'Medialuna', 'Coffee', 'NONE'}, {'Bread', 'NONE'}, {'Coffee'}, {'Coffee', 'NONE'}, {'Bread'}, {'Tea', 'Pastry', 'Bread'}, {'Cookies', 'Coffee'}, {'NONE', 'Bread'}, {'Coffee'}, {'Coffee', 'NONE'}, {'Bread', 'Tea', 'NONE'}, {'Medialuna', 'Coffee', 'Bread'}, {'NONE', 'Bread'}, {'Coffee', 'Pastry'}, {'Coffee', 'Pastry'}, {'Alfajores', 'Coffee', 'Bread'}, {'Coffee'}, {'Bread'}, {'Bread'}, {'Farm House'}, {'Bread'}, {'Coffee', 'Tea'}, {'Coffee'}, {'Coffee'}, {'Soup', 'Coffee'}, {'Soup'}, {'Farm House', 'Pastry'}, {'Soup'}, {'Coffee'}, {'Brownie', 'Coffee'}, {'Sandwich', 'Coffee', 'Bread'}, {'Coffee'}, {'Soup', 'Sandwich', 'Tea', 'Bread'}, {'Art Tray', 'Muffin', 'My-5 Fruit Shoot', 'Bread', 'Soup'}, {'Sandwich', 'Tea'}, {'Soup', 'Bread'}, {'Soup', 'Tea'}, {'Farm House'}, {'Soup', 'Coffee', 'Sandwich', 'Mineral water'}, {'Coffee', 'Keeping It Local', 'Bread'}, {'Soup', 'Bread'}, {'Art Tray', 'Coffee', 'Hearty & Seasonal', 'Bread'}, {'Bread'}, {'Farm House'}, {'Brownie'}, {'Farm House'}, {'Soup', 'Alfajores', 'Bread'}, {'Medialuna', 'Cake', 'Coffee', 'Coke'}, {'Scandinavian', 'Alfajores'}, {'Scandinavian'}, {'Hot chocolate', 'Pastry'}, {'Brownie', 'Coffee', 'Coke'}, {'Farm House'}, {'Coffee', 'Pastry'}, {'Farm House'}, {'Farm House'}, {'Cookies', 'Brownie', 'Coffee', 'Tea'}, {'Medialuna', 'Farm House', 'Tea', 'Cookies', 'Coffee'}, {'Coffee', 'Bread'}, {'Coffee'}, {'Coffee', 'Tea', 'Alfajores'}, {'Coffee', 'Hot chocolate', 'Bread'}, {'Medialuna', 'Tea'}, {'Coke'}, {'Medialuna'}, {'Fudge'}, {'Tea', 'Muffin'}, {'Coffee', 'Alfajores'}, {'Pastry', 'Bread'}, {'Coffee', 'Pastry'}, {'Coffee'}, {'Bread'}, {'Bread'}, {'Coffee', 'Tea', 'Keeping It Local'}, {'Medialuna', 'Pastry', 'Bread'}, {'Coffee', 'Farm House', 'Medialuna'}, {'Coffee', 'Pastry'}, {'Coffee'}, {'Coffee'}, {'Medialuna', 'Coffee', 'Keeping It Local'}, {'Bread', 'Coffee', 'Pastry', 'NONE'}, {'Farm House'}, {'Bread'}, {'Tea', 'Keeping It Local', 'Bread'}, {'Medialuna', 'Coffee', 'Keeping It Local', 'Bread'}, {'Medialuna', 'Coffee', 'Bread'}, {'Coffee'}, {'Bread'}, {'Medialuna', 'Pastry', 'Bread'}, {'Pastry', 'Bread'}, {'Medialuna', 'Coffee'}, {'Bread'}, {'Bread'}, {'Coffee'}, {'Focaccia'}, {'Coffee'}, {'Hot chocolate', 'Pastry'}, {'Coffee', 'Hot chocolate', 'NONE'}, {'Bread'}, {'Coffee', 'Bread'}, {'Scandinavian', 'Muffin', 'Pastry'}, {'Focaccia', 'Bread'}, {'Bread'}, {'Muffin'}, {'Medialuna', 'Caramel bites', 'Coffee'}, {'Tartine', 'Tea', 'Muffin'}, {'Bread'}, {'Coffee', 'Tea', 'Focaccia', 'Bread'}, {'Jam'}, {'Focaccia'}, {'Medialuna', 'Coffee', 'Muffin'}, {'Coffee', 'Bread'}, {'Coffee', 'Muffin'}, {'Coffee'}, {'Coffee'}, {'Bread', 'NONE'}, {'Coffee'}, {'Coffee'}, {'Coffee'}, {'Coffee'}, {'Tea', 'NONE'}, {'Fudge'}, {'Medialuna', 'Tea', \"Ella's Kitchen Pouches\", 'Bread', 'Coffee'}, {'Jammie Dodgers'}, {'Bread'}, {'Coffee', 'Tea', 'Keeping It Local', 'Soup'}, {'Coffee'}, {'Coffee'}, {'Coffee', 'Muffin'}, {'Soup', 'Coffee', 'Bread'}, {'Medialuna', 'Coffee', 'Tea', 'NONE'}, {'Alfajores'}, {'Bread'}, {'Tartine', 'Medialuna', 'Coffee', 'Pastry'}, {'Tartine', 'Tea'}, {'Coffee', 'Bread'}, {'Medialuna', 'Bread', 'Coffee', 'NONE'}, {'Medialuna', 'Bread', 'NONE'}, {'Focaccia'}, {'Scandinavian'}, {'Coffee', 'Hearty & Seasonal', 'Sandwich', 'Mineral water'}, {'Sandwich', 'Coffee'}, {'Tea', 'Scandinavian'}, {'Coffee'}, {'Coffee'}, {'Soup', 'Kids biscuit'}, {'Coffee'}, {'Bread'}, {'Coffee'}, {'Coffee'}, {'Coffee', 'Bread'}, {'Coffee', 'Cake', 'Tea', 'Muffin'}, {'Hot chocolate'}, {'Cake', 'Coffee', 'Tea'}, {'Coffee', 'Tea', 'Muffin'}, {'Cookies', 'Jammie Dodgers', 'Coffee', 'Hot chocolate'}, {'Jammie Dodgers', 'Caramel bites', 'My-5 Fruit Shoot', 'Bread'}, {'Coffee'}, {'Caramel bites', 'Coffee', 'Kids biscuit', 'Tea'}, {'Coffee', 'Bread'}, {'Alfajores', 'Coffee', 'Bread'}, {'Farm House'}, {'Jammie Dodgers', 'Scandinavian', 'Bread'}, {'Tea'}, {'Coffee', 'Bread', 'Tea', 'Alfajores'}, {'Coffee', 'Tea', 'Mineral water'}, {'Coffee', 'Kids biscuit'}, {'Kids biscuit', 'Bread'}, {'Coffee'}, {'Bread'}, {'Cake', 'Coffee', 'Hot chocolate'}, {'Coffee', 'Bread'}, {'Juice', 'Scandinavian', 'Pastry'}, {'Coffee', 'Bread'}, {'Bread'}, {'Farm House', 'Medialuna', 'Pastry'}, {'Coffee', 'Alfajores'}, {'Bread'}, {'Coffee', 'Keeping It Local'}, {'Pastry', 'Scandinavian', 'Bread', 'Coffee', 'Hot chocolate'}, {'Bread'}, {'Coffee', 'Bread'}, {'Coffee', 'Pastry'}, {'Coffee', 'Smoothies', 'Keeping It Local'}, {'Coffee'}, {'Medialuna', 'Pastry'}, {'Cake', 'Tea'}, {'Cake', 'Mineral water'}, {'Farm House', 'Cake', 'Medialuna', 'Tea', 'Coffee'}, {'Coffee', 'Hot chocolate', 'Bread'}, {'Bread'}, {'Cake', 'My-5 Fruit Shoot', 'Sandwich', 'Alfajores', 'Coffee'}, {'Farm House'}, {'Jam'}, {'Cake', 'Bread', 'Coffee', 'NONE'}, {'Coffee', 'Bread'}, {'Tartine'}, {'Medialuna', 'Farm House', 'NONE', 'Bread'}, {'Cake', 'Brownie', 'Bread'}, {'Cake', 'Alfajores', 'Mineral water', 'Coffee', 'NONE'}, {'Bread', 'NONE'}, {'Coffee'}, {'Jam', 'Bread'}, {'Brownie'}, {'Sandwich', 'Mineral water', 'Coffee', 'NONE'}, {'Coffee'}, {'Bread'}, {'Mineral water', 'Bread'}, {'Farm House'}, {'Medialuna', 'Coffee'}, {'Alfajores', 'Focaccia', 'Juice', 'Cookies', 'Coffee'}, {'Bread'}, {'Brownie', 'Sandwich'}, {'Bread', 'My-5 Fruit Shoot', 'Juice', 'Alfajores'}, {'Bread'}, {'Cake', 'Fudge', 'Dulce de Leche', 'Brownie', 'Coffee'}, {'Cake', 'Coffee', 'Hot chocolate'}, {'Medialuna', 'Coffee', 'Alfajores'}, {'Farm House', 'Coffee', 'Keeping It Local'}, {'Bread'}, {'Medialuna', 'Truffles'}, {'Cake', 'Tea', 'Truffles', 'Bread'}, {'Bread'}, {'Brownie', 'Coffee'}, {'Coffee', 'Bread'}, {'Medialuna', 'Brownie', 'Tea'}, {'Scandinavian', 'Bread'}, {'Medialuna', 'Cake', 'Truffles', 'Alfajores', 'Hot chocolate'}, {'Medialuna', 'Brownie', 'Coffee'}, {'Medialuna', 'Truffles', 'Coffee'}, {'Cake', 'Tea'}, {'Cookies', 'Cake', 'Hot chocolate', 'Mineral water'}, {'Cookies'}, {'Bread'}, {'Cake', 'Hot chocolate'}, {'Farm House', 'Truffles', 'Bread'}, {'Tea'}, {'Farm House'}, {'Coffee'}, {'Coffee'}, {'Bread'}, {'Coffee'}, {'Coffee'}, {'Pastry', 'Bread'}, {'Coffee'}, {'Farm House', 'Coffee'}, {'Coffee', 'Keeping It Local'}, {'Medialuna', 'Coffee'}, {'Coffee'}, {'Coffee', 'Pastry'}, {'Tea'}, {'Coffee', 'Keeping It Local'}, {'Coffee', 'Smoothies', 'Pastry'}, {'Medialuna', 'Coffee', 'Muffin'}, {'Coffee', 'NONE'}, {'Coffee'}, {'Coffee'}, {'Farm House', 'Brownie', 'Coffee', 'Tea'}, {'Coffee'}, {'Coffee', 'Keeping It Local', 'NONE', 'Bread'}, {'Tea', 'NONE'}, {'Coffee', 'Bread'}, {'Farm House'}, {'Coffee'}, {'Sandwich'}, {'Farm House', 'Scandinavian'}, {'Coffee'}, {'Cake', 'Coffee'}, {'Tea', 'NONE', 'Bread'}, {'Truffles'}, {'Medialuna', 'Fudge', 'Pastry', 'Bread'}, {'Bread'}, {'Cake', 'Brownie', 'Tea'}, {'Medialuna', 'Juice'}, {'Cake', 'Tea'}, {'Medialuna', 'Sandwich', 'Tea', 'Bread', 'Coffee'}, {'Alfajores'}, {'Coffee'}, {'Cookies', 'Coffee', 'My-5 Fruit Shoot', 'Keeping It Local'}, {'Alfajores', 'Hot chocolate', 'Bread'}, {'Bread'}, {'Farm House'}, {'Pastry', 'Coffee', 'Juice'}, {'Cookies'}, {'Brownie'}, {'Medialuna', 'Coffee'}, {'Coffee', 'Keeping It Local'}, {'Tea'}, {'Medialuna', 'Tea'}, {'Scandinavian', 'Bread'}, {'Scandinavian', 'Bread'}, {'Coffee', 'Hot chocolate', 'Pastry', 'Keeping It Local'}, {'Bread'}, {'Coffee'}, {'Bread'}, {'Cookies', 'Coffee'}, {'Coffee', 'Pastry'}, {'Tea'}, {'Brownie', 'Coffee', 'Bread'}, {'Sandwich', 'Coke'}, {'Medialuna', 'Cake', 'Tea', 'Bread'}, {'Bread'}, {'Medialuna', 'Brownie', 'Coffee'}, {'Bread'}, {'Coffee'}, {'Medialuna'}, {'Medialuna', 'Coffee', 'Scandinavian'}, {'Brownie', 'Tea', 'NONE'}, {'Coffee', 'Pastry'}, {'Coffee'}, {'Cake', 'Coffee', 'Fudge', 'Tea'}, {'Bread'}, {'Cake', 'Coffee'}, {'Cake', 'Sandwich', 'Tea', 'Brownie', 'Coffee'}, {'Cake', 'Coffee', 'Alfajores'}, {'Coffee'}, {'Mineral water'}, {'Cookies', 'Coffee'}, {'Cake', 'Bread'}, {'Bread'}, {'Coffee'}, {'NONE'}, {'Cake', 'Brownie', 'Tea'}, {'Medialuna', 'Hot chocolate'}, {'Hot chocolate'}, {'Coffee', 'Bread'}, {'Cake', 'Coffee'}, {'Cake', 'Coffee'}, {'Medialuna', 'Coffee', 'Hot chocolate', 'NONE'}, {'Medialuna', 'Coffee', 'Hot chocolate', 'NONE'}, {'Medialuna', 'Coffee', 'Hot chocolate', 'NONE'}, {'Bread', 'Coffee', 'Keeping It Local'}, {'Coffee'}, {'Coffee', 'NONE'}, {'Coffee'}, {'Coffee', 'Bread'}, {'Sandwich', 'Coffee'}, {'Cake', 'Keeping It Local', 'Bread'}, {'Coffee'}, {'Cookies', 'Brownie'}, {'Bread'}, {'Bread', 'Juice', 'NONE'}, {'Cookies', 'Coffee'}, {'Coffee'}, {'Cookies', 'Medialuna', 'Coffee', 'Tea'}, {'Cookies', 'Tea'}, {'Mineral water', 'NONE'}, {'Cake', 'Pastry', 'Tiffin', 'Tea', 'Bread', 'Coffee'}, {'Coffee'}, {'Cookies'}, {'Sandwich'}, {'Coffee'}, {'Sandwich', 'Tea'}, {'Jam'}, {'Brownie', 'Tea', 'NONE'}, {'Bread'}, {'Olum & polenta', 'Bread'}, {'Bread'}, {'Tea', 'Polenta'}, {'Sandwich', 'Coffee'}, {'Coffee'}, {'Cake', 'Coffee'}, {'Coffee', 'Tea', 'Alfajores'}, {'Coke'}, {'Coffee'}, {'Coffee'}, {'Medialuna', 'Coffee'}, {'Cookies', 'Bread'}, {'Coffee'}, {'Coffee', 'NONE'}, {'Bread'}, {'Bread'}, {'Coffee'}, {'Coffee'}, {'Hot chocolate'}, {'Pastry'}, {'Coffee', 'Keeping It Local'}, {'Pastry', 'Bread'}, {'Keeping It Local', 'Bread'}, {'Pastry', 'NONE'}, {'Hot chocolate'}, {'Coffee', 'Pastry'}, {'Medialuna', 'Bread'}, {'Medialuna', 'Pastry', 'Alfajores'}, {'Coffee'}, {'Coffee'}, {'Cake', 'Tea'}, {'Coffee', 'Bread'}, {'Coffee'}, {'Cake', 'Tea', 'Bread'}, {'Coffee', 'Bread'}, {'Coffee', 'Alfajores'}, {'Coffee', 'NONE'}, {'Cookies', 'Bread'}, {'Tea', 'Sandwich', 'NONE', 'Bread'}, {'Bread'}, {'Coffee', 'Cake', 'Tea'}, {'Bread'}, {'Brownie', 'Hot chocolate'}, {'Bread'}, {'Coffee', 'Tea'}, {'Cake', 'Coffee'}, {'The Nomad', 'Tea', 'Bread'}, {'Coffee', 'Smoothies', 'NONE'}, {'Bread'}, {'Bread'}, {'Coffee', 'Bread'}, {'Cake', 'Coffee'}, {'Sandwich', 'Coffee', 'Fudge'}, {'Brownie'}, {'Sandwich', 'Bread'}, {'Coffee'}, {'Brownie', 'Bread'}, {'Sandwich'}, {'Sandwich', 'Hearty & Seasonal', 'Coffee'}, {'Coffee'}, {'Cake', 'Tea'}, {'Bread', 'Coffee', 'NONE'}, {'Sandwich', 'Coffee'}, {'Coffee'}, {'Cake'}, {'Coffee', 'Alfajores'}, {'Cake', 'Coffee'}, {'Tea'}, {'Bread'}, {'Cake', 'Tea'}, {'Brownie', 'Alfajores'}, {'Art Tray', 'Hack the stack', 'Coffee'}, {'Tea'}, {'Cake', 'Coffee'}, {'Coffee', 'Coke'}, {'Art Tray', 'Hack the stack', 'Tea', 'My-5 Fruit Shoot'}, {\"Ella's Kitchen Pouches\"}, {'Medialuna', 'Coffee'}, {'Coffee', 'NONE'}, {'Coffee'}, {'Coffee', 'Bread'}, {'Medialuna', 'Coffee'}, {'Coffee'}, {'Coffee'}, {'Coffee', 'Pastry', 'Bread'}, {'Coffee', 'Bread'}, {'Bread'}, {'Bread', 'Coffee', 'Keeping It Local'}, {'Coffee'}, {'Coffee'}, {'Bread', 'Brownie', 'Tea', 'Keeping It Local'}, {'Coffee', 'Pastry'}, {'Bread'}, {'Cake', 'Coffee'}, {'Coffee', 'Keeping It Local'}, {'Coffee'}, {'Medialuna', 'Bread'}, {'Focaccia', 'Bread'}, {'Medialuna', 'Coffee'}, {'Bread'}, {'Coffee'}, {'Coffee'}, {'Bread'}, {'Farm House'}, {'Coffee', 'Pastry'}, {'Cookies', 'Tea', 'Juice', 'Alfajores'}, {'Coffee', 'Alfajores'}, {'Sandwich', 'Coffee'}, {'Coffee'}, {'Coffee'}, {'Bread'}, {'Coffee', 'NONE', 'Bread'}, {'NONE'}, {'Coffee'}, {'Tea', 'NONE'}, {'Sandwich', 'Bread'}, {'Art Tray', 'Tea', 'NONE'}, {'Bread'}, {'Cake', 'Coffee'}, {'Coffee', 'NONE', 'Mineral water'}, {'Mineral water', 'NONE'}, {'Tartine'}, {'Coffee', 'NONE'}, {'Coffee', 'Bread'}, {'Bread'}, {'Sandwich', 'Hot chocolate', 'NONE', 'Bread'}, {'NONE'}, {'Juice', 'NONE'}, {'NONE', 'Bread'}, {'Mineral water', 'NONE'}, {'Sandwich', 'Jam', 'Bread'}, {'Sandwich', 'Coffee', 'Bread'}, {'Tea', 'NONE'}, {'Tea'}, {'Pastry', 'Bread'}, {'Coffee', 'Tea'}, {'Brownie', 'Bread'}, {'Bread', 'Alfajores'}, {'NONE'}, {'Medialuna', 'Coffee'}, {'Medialuna'}, {'Medialuna', 'Coffee', 'Pastry', 'Bread'}, {'Cake', 'Tea', 'Alfajores'}, {'Pastry', 'Tea', 'Alfajores', 'Brownie', 'Bread'}, {'Medialuna', 'Pastry'}, {'Brownie'}, {'Bread'}, {'Coffee'}, {'Coffee', 'Bread'}, {'Bread'}, {'Medialuna', 'Coffee', 'Bread'}, {'Bread'}, {'Bread'}, {'Pastry'}, {'Bread', 'NONE'}, {'Farm House'}, {'Medialuna', 'Coffee', 'Scandinavian'}, {'Coffee'}, {'Coffee'}, {'Medialuna', 'Bread'}, {'Cake'}, {'Coffee', 'Muffin'}, {'Bread'}, {'Scandinavian'}, {'Muffin'}, {'Scandinavian'}, {'Coffee'}, {'Bread'}, {'Bread'}, {'Medialuna', 'Coffee'}, {'Bread'}, {'Medialuna', 'Tea', 'Bread', 'Coffee', 'NONE'}, {'Bread'}, {'Cake', 'Jam', 'Muffin'}, {'Pastry', 'Bread'}, {'Coffee'}, {'Coffee'}, {'Scandinavian'}, {'Scandinavian'}, {'Medialuna', 'Coffee', 'Pastry'}, {'Medialuna', 'Coffee', 'Pastry', 'Bread'}, {'Medialuna', 'Bread', 'NONE'}, {'Coffee', 'Pastry', 'Tea'}, {'Coffee'}, {'Juice'}, {'Coffee'}, {'Cake', 'Muffin', 'Pastry', 'Tea', 'Coffee'}, {'Hot chocolate'}, {'Muffin'}, {'Juice', 'Bread', 'Tartine', 'Coffee', 'NONE'}, {'Coffee', 'Fudge'}, {'Coffee', 'Bread'}, {'Bread'}, {'Coffee', 'Tea', 'NONE'}, {'Sandwich', 'Coffee', 'NONE'}, {'Sandwich', 'Coffee', 'Coke'}, {'Scandinavian'}, {'Tea', 'Muffin'}, {'Scandinavian', 'Bread'}, {'Coffee'}, {'The Nomad', 'Tartine', 'Coffee'}, {'Sandwich', 'Coffee'}, {'Coffee', 'Alfajores'}, {'Coffee', 'Tea'}, {'Scandinavian'}, {'Bread'}, {'Mineral water', 'NONE'}, {'Cake', 'Muffin', 'Alfajores'}, {'Tea'}, {'Bread'}, {'Bread', 'NONE'}, {'Scandinavian'}, {'Sandwich', 'Coffee', 'NONE', 'Bread'}, {'Tea', 'Hot chocolate'}, {'Muffin'}, {'Coffee', 'Sandwich'}, {'NONE'}, {'Bread'}, {'Coffee', 'Muffin', 'NONE'}, {'Cake', 'Coffee', 'Pastry'}, {'Cookies', 'Cake', 'Tea', 'Hot chocolate'}, {'Cake'}, {'Sandwich', 'Bread'}, {'Coffee', 'Bakewell'}, {'Bread', 'Tea', 'Alfajores'}, {'Coffee', 'Medialuna', 'Sandwich', 'Tea'}, {'Alfajores', 'Medialuna', 'Tea', 'Bread'}, {'Coffee', 'Muffin', 'Bread'}, {'Muffin', 'Pastry', 'Bread', 'Coffee', 'Hot chocolate'}, {'Tea', 'Alfajores'}, {'Cake', 'Bakewell'}, {'Focaccia'}, {'Tea', 'Bakewell', 'Pastry', 'NONE'}, {'Alfajores', 'Coffee', 'NONE'}, {'Coffee', 'Alfajores'}, {'The Nomad', 'Bread', 'Coffee', 'NONE'}, {'Coffee'}, {'Jammie Dodgers', 'Coffee', 'Juice', 'NONE'}, {'Medialuna'}, {'Smoothies', 'Bakewell', 'Muffin', 'Tea', 'Jammie Dodgers', 'Juice', 'Coffee'}, {'Cake', 'Pastry'}, {'Brownie', 'Coffee'}, {'Jammie Dodgers', 'Juice'}, {'Coffee'}, {'Coffee', 'Bakewell'}, {'Tea', 'NONE', 'Pastry', 'Bread'}, {'Coffee', 'Hot chocolate', 'Bread'}, {'Coffee', 'Hot chocolate', 'Pastry', 'NONE'}, {'Coffee', 'Bread'}, {'Pastry', 'Alfajores'}, {'Bread'}, {'Coffee', 'Hot chocolate', 'Muffin'}, {'Coffee', 'Smoothies', 'Pastry', 'Bread'}, {'Brownie', 'Coffee', 'Hot chocolate'}, {'Tartine', 'Hearty & Seasonal'}, {'Fudge'}, {'Bread'}, {'Coffee'}, {'Coffee', 'Keeping It Local'}, {'Medialuna', 'Coffee', 'Tea'}, {'Medialuna', 'Muffin', 'Tea', 'Jammie Dodgers', 'Hot chocolate', 'NONE'}, {'Coffee', 'NONE'}, {'Coffee', 'Keeping It Local'}, {'Medialuna', 'Coffee'}, {'Medialuna', 'Hot chocolate', 'Bread'}, {'Bread'}, {'Bread'}, {'Muffin', 'Alfajores', 'Brownie', 'Coffee', 'Hot chocolate'}, {'Pastry'}, {'Brownie', 'Coffee'}, {'Jammie Dodgers'}, {'Hearty & Seasonal', 'Coffee'}, {'Coffee', 'Art Tray', 'Tea', 'Hearty & Seasonal'}, {'Brownie', 'Coffee', 'Alfajores'}, {'Medialuna', 'Coffee', 'Hearty & Seasonal'}, {'Farm House', 'Coffee', 'Bread'}, {'Farm House'}, {'Cake', 'Coffee', 'Tea'}, {'Hearty & Seasonal', 'Tea'}, {'Coffee', 'Hot chocolate'}, {'Cake', 'Bakewell'}, {'Hearty & Seasonal', 'Coffee'}, {'Coffee', 'Muffin'}, {'Cake', 'Brownie'}, {'Art Tray', 'Bakewell', 'Sandwich', 'Cookies', 'Coffee', 'NONE'}, {'Bakewell'}, {'Coffee'}, {'Cookies', 'Medialuna', 'Coffee'}, {'Cake', 'Coffee', 'Alfajores'}, {'Fudge'}, {'NONE', 'Mineral water'}, {'Brownie', 'Coffee', 'Bakewell', 'Bread'}, {'Coffee', 'Tea'}, {'Coffee'}, {'Coffee', 'Bread'}, {'Pastry'}, {'Bread'}, {'Medialuna', 'Coffee'}, {'Coffee'}, {'Coffee', \"Ella's Kitchen Pouches\"}, {'Coffee', 'Pastry'}, {'Coffee'}, {'Tartine', 'Coffee', 'NONE'}, {'Bread'}, {'Coffee'}, {'Coffee', 'Tea'}, {'Medialuna', 'Coffee', 'Pastry'}, {'Coffee', 'Pastry'}, {'Medialuna', 'Coffee'}, {'Coffee', 'Tea', 'Keeping It Local'}, {'Cookies', 'Coffee', 'Pastry', 'Bread'}, {'Smoothies', 'Sandwich', 'Jam', 'Bread', 'NONE'}, {'Cookies', 'Bread'}, {'Bread'}, {'Cookies', 'Coffee'}, {'Sandwich'}, {'NONE'}, {'Hot chocolate'}, {'Coffee', 'Bakewell', 'Lemon and coconut', 'Bread'}, {'Coffee'}, {'Sandwich', 'Coffee', 'Lemon and coconut'}, {'Tea'}, {'Coffee', 'Bread'}, {'NONE'}, {'Bread'}, {'Bread'}, {'Coffee'}, {'Cake', 'Coffee', 'Hot chocolate', 'Pastry'}, {'Bread'}, {'Bread'}, {'Bread'}, {'Coffee'}, {'Cake', 'Tea', 'Lemon and coconut', 'Bread'}, {'Medialuna', 'Coffee', 'Pastry', 'Tea'}, {'Bread'}, {'Tiffin', 'Tea', \"Ella's Kitchen Pouches\", 'Cookies', 'Coffee'}, {'Coffee'}, {'Pastry'}, {'Coffee', 'Pastry', 'Bread'}, {'Tea', 'Keeping It Local'}, {'Coffee'}, {'Medialuna', 'Coffee'}, {'Bread'}, {'Coffee', 'Keeping It Local', 'NONE'}, {'Hot chocolate', 'Pastry'}, {'Bread'}, {'Coffee', 'NONE', 'Tea'}, {'Bread'}, {'Coke'}, {'Bread'}, {'Bread'}, {'Medialuna', 'Coffee', 'Pastry'}, {'Coffee', 'Muffin'}, {'Coffee', 'Muffin'}, {'Coffee', 'Bread'}, {'Farm House'}, {'Coffee', 'Muffin'}, {'Coffee', 'Bread'}, {'Coffee'}, {'Coffee'}, {'Farm House', 'Scandinavian'}, {'Coffee'}, {'Tea'}, {'Coffee', 'Muffin'}, {'Bread'}, {'Scandinavian', 'Bread'}, {'Tea'}, {'Medialuna', 'Coffee'}, {'NONE'}, {'NONE'}, {'Tea', 'NONE'}, {'Sandwich', 'Tea'}, {'Cake', 'Coffee'}, {'Cake', 'Coffee', 'Muffin', 'NONE'}, {'Cookies'}, {'NONE'}, {'Tea'}, {'Sandwich', 'NONE'}, {'Farm House'}, {'Cake', 'Sandwich', 'NONE'}, {'Cake', 'Coffee', 'Hot chocolate', 'Bread'}, {'Tea', 'Muffin'}, {'Fudge', 'Tea', 'Jam', 'Bread', 'Coffee'}, {'Cookies', 'Tea', 'Juice'}, {'Cake', 'Coffee', 'Bread'}, {'Coke'}, {'Tiffin', 'Pastry'}, {'Alfajores'}, {'Coffee', 'Tiffin'}, {'Bread'}, {'Bread'}, {'Medialuna', 'Bread'}, {'Cake', 'Bread'}, {'Bread'}, {'Farm House'}, {'Medialuna', 'Pastry'}, {'Cookies', 'Coffee', 'Keeping It Local'}, {'Coffee'}, {'Coffee', 'Hot chocolate', 'Tea'}, {'Smoothies'}, {'Coffee', 'Keeping It Local'}, {'Coffee'}, {'Farm House'}, {'Tea'}, {'Medialuna', 'Bread'}, {'Pastry', 'Bread'}, {'Coffee', 'Pastry'}, {'Coffee', 'Keeping It Local'}, {'Coffee'}, {'Bread'}, {'Cookies', 'Bread'}, {'NONE'}, {'Coffee'}, {'Bread'}, {'Fudge', 'Keeping It Local', 'Jam', 'Coffee', 'NONE'}, {'Art Tray', 'Keeping It Local', 'Tea', 'Coffee', 'Hot chocolate', 'NONE'}, {'Coffee'}, {'Cake', 'Coffee'}, {'Jammie Dodgers', 'Bread'}, {'Smoothies', 'Muffin'}, {'NONE'}, {'Cookies', 'Jammie Dodgers', 'Coffee', 'NONE'}, {'Cake', 'Coffee', 'Bread'}, {'Cookies', 'Muffin', 'Bread'}, {'NONE'}, {'Bread'}, {'Tea', 'NONE'}, {'Alfajores', 'Bread', 'Hot chocolate', 'NONE'}, {'Tea'}, {'Muffin'}, {'Bread', 'Sandwich', 'Alfajores', 'Mineral water', 'Coffee', 'NONE'}, {'Alfajores', 'Sandwich', 'NONE'}, {'Coffee'}, {'Coffee', 'Muffin'}, {'Tiffin', 'Coffee'}, {'Coffee', 'Bread'}, {'Cookies', 'Hot chocolate'}, {'Tea', 'NONE'}, {'Hot chocolate', 'Bread'}, {'Hot chocolate', 'Fudge'}, {'Coffee'}, {'Tiffin', 'Coffee'}, {'Tiffin', 'Bread'}, {'Bread'}, {'Jam', 'Pastry', 'Bread'}, {'Hot chocolate'}, {'Coffee', 'Hot chocolate', 'Pastry', 'Bread'}, {'Coffee', 'Pastry'}, {'Tea', 'Muffin', 'Pastry', 'Bread'}, {'Coffee', 'Bread'}, {'Coffee', 'Pastry'}, {'Tea', 'NONE'}, {'Tea', 'NONE'}, {'The Nomad', 'Tea'}, {'Coffee'}, {'Medialuna'}, {'Farm House'}, {'Bread'}, {'Coffee'}, {'Farm House'}, {'Coffee', 'Keeping It Local', 'Pastry', 'Bread'}, {'Coffee', 'Bread'}, {'Hearty & Seasonal'}, {'Bread'}, {'Fudge'}, {'Scandinavian'}, {'Alfajores', 'Bread'}, {'Coffee', 'Sandwich', 'Juice', 'Coke'}, {'Farm House'}, {'NONE'}, {'Bread'}, {'Medialuna', 'Coffee'}, {'Coffee', 'Pastry', 'Bread'}, {'Coffee', 'Sandwich'}, {'Bread'}, {'Muffin', 'Bread'}, {'Coffee'}, {'Coffee', 'Muffin'}, {'Coffee'}, {'Spread', 'Fudge'}, {'Bread'}, {'Coffee', 'Pastry', 'Bread'}, {'Cake', 'Coffee'}, {'Coffee'}, {'Bread'}, {'Tea'}, {'Coffee'}, {'Cake', 'Coffee', 'Hot chocolate'}, {'Tea', 'Bread'}, {'Cake'}, {'Medialuna'}, {'Coffee', 'Pastry'}, {'Coffee'}, {'Coffee'}, {'Bread'}, {'Cake', 'Coffee'}, {'Bread'}, {'Coffee'}, {'Coffee'}, {'Tea'}, {'Coffee', 'Keeping It Local'}, {'Sandwich', 'Tea'}, {'Coffee'}, {'Coffee'}, {'Coffee'}, {'Bread'}, {'Tea', 'Bread'}, {'Coffee', 'Pastry'}, {'Coffee', 'Pastry', 'Bread'}, {'Medialuna', 'Coffee'}, {'Coffee', 'Tea'}, {'Bread'}, {'Coffee'}, {'Cookies', 'Medialuna', 'Coffee', 'Pastry'}, {'Cake', 'Bread'}, {'Coffee', 'Bread'}, {'Bread'}, {'Coffee', 'NONE'}, {'Toast'}, {'Hot chocolate'}, {'Scandinavian', 'Fudge'}, {'Medialuna', 'Coffee'}, {'Coffee', 'Pastry'}, {'Medialuna', 'Cake', 'Coffee'}, {'Farm House', 'Sandwich', 'Fudge'}, {'Sandwich', 'Scone'}, {'Sandwich', 'Bread'}, {'Sandwich'}, {'NONE'}, {'NONE'}, {'Coffee', 'NONE'}, {'Sandwich', 'Bread'}, {'Sandwich', 'Coke'}, {'Sandwich', 'Coke'}, {'Sandwich'}, {'Sandwich', 'Scone'}, {'Hot chocolate', 'NONE'}, {'Coffee', 'Muffin'}, {'Bread'}, {'Bread'}, {'Bread'}, {'Coffee', 'Alfajores'}, {'Sandwich', 'Bread'}, {'Scone', 'Bread'}, {'Medialuna', 'Coffee'}, {'Cake'}, {'Truffles', 'NONE'}, {'Cake', 'Coffee'}, {'Scone'}, {'Cookies', 'Scone', 'Hot chocolate', 'Mineral water'}, {'Coffee', 'Scone', 'Tea'}, {'Bread'}, {'Coffee', 'NONE'}, {'Bread'}, {'Scandinavian', 'Jam', 'Bread'}, {'Scandinavian', 'Bread'}, {'Medialuna', 'Coffee'}, {'Pastry', 'Bread'}, {'Bread'}, {'Farm House'}, {'Coffee', 'Scone', 'Hot chocolate', 'NONE'}, {'Farm House', 'Medialuna', 'Pastry', 'Coffee', 'Hot chocolate', 'NONE'}, {'Bread'}, {'Coffee', 'Bread'}, {'Coffee', 'Scandinavian'}, {'Bread'}, {'Medialuna', 'Coffee', 'Pastry'}, {'Scandinavian', 'Bread'}, {'Coffee', 'Scone'}, {'Coffee'}, {'Bread'}, {'Pastry', 'Bread'}, {'Coffee', 'Bread'}, {'Bread'}, {'Bread'}, {'Coffee'}, {'Coffee', 'Scone'}, {'Cake'}, {'Coffee'}, {'Fudge', 'Bread'}, {'Medialuna', 'Farm House', 'Bread'}, {'Scone', 'Muffin'}, {'Coffee', 'NONE'}, {'Coffee', 'Scone', 'Alfajores'}, {'Coffee'}, {'Tea', 'Scone'}, {'Cake', 'Tea', 'Juice'}, {'Fudge', 'Jam', 'Tartine', 'Coffee', 'NONE'}, {'Bread'}, {'Medialuna', 'Coffee'}, {'Bread', 'Tea', 'NONE'}, {'Coke', 'NONE'}, {'Medialuna', 'Coffee'}, {'Bread'}, {'Truffles', 'Bread'}, {'Cake', 'Pastry', 'Tea', 'Bread', 'Coffee', 'NONE'}, {'Sandwich'}, {'Hot chocolate'}, {'Sandwich', 'Coffee'}, {'NONE'}, {'Coffee', 'Sandwich', 'Tea', 'NONE'}, {'Coffee', 'Scone'}, {'Cake'}, {'Cookies', 'Bread'}, {'Sandwich', 'Coffee'}, {'Cake', 'Coffee', 'Scone'}, {'Bread', 'Mineral water'}, {'Coffee', 'Bread'}, {'Cake', 'Scone', 'Muffin'}, {'Tea', 'Scone'}, {'Muffin', 'Pastry'}, {'Cake', 'Coffee', 'Muffin'}, {'Cake'}, {'Cake', 'Tea', 'Scone', 'Bread'}, {'Medialuna', 'Coffee'}, {'Jam', 'Fudge'}, {'Scone', 'Pastry'}, {'Hot chocolate', 'Fudge'}, {'Coffee', 'Cake', 'Sandwich', 'Juice'}, {'Bread'}, {'Coffee', 'Juice'}, {'Coffee', 'Scone', 'Hot chocolate', 'Bread'}, {'Hot chocolate', 'Coffee', 'Scone', 'Muffin'}, {'Bread'}, {'Medialuna'}, {'Cake', 'Alfajores'}, {'Hot chocolate'}, {'Coffee'}, {'Coffee'}, {'Coffee', 'Tea'}, {'Cake', 'Coffee', 'Jam', 'Bread'}, {'Coffee'}, {'Tea', 'Scone'}, {'Bread'}, {'Bread'}, {'Toast', 'Smoothies', 'Hot chocolate', 'Muffin'}, {'Medialuna', 'Muffin', 'Alfajores'}, {'Coffee', 'Scone', 'Bread'}, {'Tea', 'Juice'}, {'Coffee', 'Bread'}, {'Pastry'}, {'Tea', 'Pastry', 'Bread'}, {'Medialuna', 'Coffee'}, {'Medialuna', 'Coffee'}, {'Bread'}, {'Pastry', 'Bread'}, {'Toast', 'Bread'}, {'Medialuna', 'Toast', 'Bread'}, {'Coffee', 'Scone', 'Pastry', 'NONE'}, {'Coffee', 'Muffin', 'Tea'}, {'Toast', 'Coffee'}, {'Medialuna', 'Coffee', 'Pastry'}, {\"Ella's Kitchen Pouches\", 'Bread'}, {'Toast', 'Coffee'}, {'Medialuna', 'Bread'}, {'Tea', 'Hot chocolate'}, {'Muffin', 'Bread'}, {'Bread', 'Coffee', 'NONE'}, {'Farm House'}, {'Coffee'}, {'Cookies', 'Alfajores', 'Bread', 'NONE'}, {'Medialuna', 'Coffee', 'Pastry', 'Alfajores'}, {'Coffee', 'Bread'}, {'Bread'}, {'Truffles', 'Coffee', 'NONE'}, {'Coffee', 'Fudge', 'Bread'}, {'Bread'}, {'Coffee', 'Bread'}, {'Bread'}, {'Medialuna', 'Coffee', 'Crepes', 'Alfajores'}, {'Cake', 'Coffee', 'NONE'}, {'Cookies', 'Cake', 'Coffee', 'Bread'}, {'Coffee'}, {'Bread'}, {'Farm House'}, {'Bread'}, {'Medialuna', 'Coffee'}, {'Coffee', 'Cake', 'Tea', 'Hot chocolate'}, {'Truffles', 'Tea', 'Hot chocolate'}, {'Hot chocolate'}, {'Sandwich', 'Coffee', 'Crepes', 'NONE'}, {'Crepes', 'Bread'}, {'Medialuna', 'Cake', 'Muffin', 'Bread', 'Coffee'}, {'Coffee'}, {'Cookies', 'Coffee', 'Bread'}, {'Medialuna', 'Crepes'}, {'Muffin'}, {'Medialuna', 'Tea'}, {'Pastry'}, {'Tea'}, {'Coffee', 'Scone'}, {'Coffee', 'Bread'}, {'Truffles', 'Tea'}, {'Cookies'}, {'Coffee'}, {'Bread'}, {'Toast', 'Coffee', 'Pastry', 'Bread'}, {'Coffee', 'NONE'}, {'Muffin'}, {'Bread'}, {'Farm House'}, {'Coffee', 'NONE'}, {'Bread'}, {'Bread'}, {'Coffee', 'Tea', 'Pastry', 'Alfajores'}, {'Medialuna', 'Toast', 'Coffee'}, {'Coffee'}, {'Medialuna', 'Tea', 'Juice', 'Bread'}, {'Medialuna', 'Toast', 'Coffee'}, {'Tea', 'Pastry'}, {'Farm House'}, {'Coffee'}, {'Coffee'}, {'Coffee', 'Muffin'}, {'Coffee'}, {'Coffee', 'Muffin'}, {'Sandwich', 'Coffee'}, {'Bread', 'Coffee', 'Pastry', 'Dulce de Leche'}, {'Jam'}, {'Medialuna', 'Coffee'}, {'Cookies', 'Coffee', 'Pastry'}, {'Farm House'}, {'Coffee'}, {'Coffee'}, {'NONE'}, {'Pastry', 'Bread'}, {'Sandwich', 'Juice'}, {'Coffee', 'Alfajores'}, {'Sandwich', 'Coffee'}, {'Bread'}, {'Bread'}, {'Medialuna', 'Tea', 'Bread'}, {'Coffee', 'Muffin'}, {'Cake', 'Tea'}, {'Cookies', 'Coffee'}, {'Hearty & Seasonal', 'Coke'}, {'Sandwich', 'Coffee', 'Muffin'}, {'Alfajores'}, {'Alfajores'}, {'Coffee', 'Sandwich'}, {'Sandwich', 'Coffee', 'Hot chocolate', 'Muffin'}, {'Muffin'}, {'Bread', 'Coffee', 'Tea'}, {'Coffee'}, {'Cookies', 'Medialuna', 'Tea', 'Bread'}, {'Coffee'}, {'Coffee', 'Bread'}, {'Sandwich', 'Bread', 'Coffee', 'Alfajores'}, {'Cookies', 'Medialuna', 'Coffee', 'Bread'}, {'Cookies', 'Coffee'}, {'Farm House'}, {'Coffee'}, {'Coke'}, {'Coffee', 'Bread'}, {'Pastry', 'Bread'}, {'Coffee'}, {'Bread', 'Hot chocolate', 'Muffin', 'Alfajores'}, {'Coffee'}, {'Bread'}, {'Coffee'}, {'Medialuna', 'Coffee'}, {'Coffee', 'NONE'}, {'Medialuna', 'Pastry', 'Bread'}, {'Coffee', 'Muffin'}, {'Bread'}, {'Bread'}, {'Coffee', 'Bread'}, {'Tea', 'Bread'}, {'Cookies', 'Muffin', 'Bread'}, {'Coffee', 'Tea'}, {'Medialuna', 'Pastry', 'Bread'}, {'Coffee', 'Alfajores'}, {'Toast'}, {'Coffee'}, {'Tea'}, {'Medialuna', 'Hot chocolate'}, {'Coffee', 'Pastry'}, {'Coffee'}, {'Cake', 'Bread'}, {'Cake', 'Coffee'}, {'Coffee', 'Hot chocolate', 'Pastry'}, {'Tea', 'NONE'}, {'Bread'}, {'Tea', 'NONE'}, {'Farm House', 'Bread'}, {'Coffee'}, {'Bread'}, {'NONE', 'Bread'}, {'Cookies', 'Bread'}, {'Coffee', 'Bread'}, {'Cookies', 'Coffee'}, {'Farm House'}, {'Bread'}, {'Coffee'}, {'Sandwich', 'Coffee', 'Muffin', 'Tea'}, {'Cake', 'Coffee', 'Bread'}, {'Bread', 'NONE'}, {'Tea', 'NONE'}, {'Coffee', 'Tea'}, {'Coffee'}, {'Alfajores', 'Sandwich', 'Tea'}, {'Cake', 'Sandwich', 'Alfajores', 'Mineral water', 'Coffee', 'NONE'}, {'Coffee', 'Bread'}, {'Coffee', 'NONE'}, {'Cake', 'Tea'}, {'Bread'}, {'Cookies'}, {'Coffee', 'Juice'}, {'Coffee', 'Muffin', 'Juice', 'Mineral water'}, {'Bread'}, {'Bread'}, {'Bread'}, {'Juice', 'Bread', 'Toast', 'Hot chocolate', 'NONE'}, {'Cake', 'Coffee', 'Bread'}, {'Toast', 'Coffee'}, {'Toast', 'Coffee'}, {'Tea'}, {'Cookies', 'Toast', 'Tea'}, {'Farm House'}, {'Cake', 'Bread'}, {'Bread', 'NONE'}, {'Coffee'}, {'Tea', 'Alfajores'}, {'Bread'}, {'Coffee', 'NONE'}, {'Coffee', 'Juice', 'Tea'}, {'Medialuna', 'Coffee'}, {'Bread'}, {'Medialuna', 'Coffee'}, {'Cake', 'Tea'}, {'Coffee', 'Bread'}, {'Farm House'}, {'Bread'}, {'Farm House', 'Crepes'}, {'Bread'}, {'Hot chocolate'}, {'Sandwich', 'Coffee', 'Hot chocolate'}, {'Sandwich'}, {'Truffles', 'Coffee', 'NONE'}, {'Jam'}, {'Bread'}, {'Bread'}, {'Coffee', 'Mineral water', 'Sandwich', 'NONE'}, {'Bread'}, {'Cookies', 'NONE', 'Coke'}, {'NONE'}, {'Bread'}, {'Sandwich', 'Coffee'}, {'Coffee', 'Bread'}, {'Coffee', 'Tea', 'NONE'}, {'Coffee', 'Tea'}, {'Hot chocolate'}, {'Coffee', 'Alfajores'}, {'Cake', 'Coffee', 'Jam', 'Fudge'}, {'Cake'}, {'Coffee', 'Bread'}, {'Coffee', 'Pastry'}, {'Coffee', 'Pastry'}, {'Coffee', 'Pastry'}, {'Truffles', 'Bread'}, {'Coffee'}, {'Coffee'}, {'Toast', 'Coffee', 'Vegan mincepie', 'Mineral water'}, {'Medialuna', 'Bread'}, {'Cake', 'Coffee'}, {'Coffee', 'Pastry', 'NONE'}, {'Coffee'}, {'Coffee'}, {'Cookies', 'Cake', 'Bread'}, {'Cake', 'Bread', 'Coffee', 'Tea'}, {'Toast', 'Juice'}, {'Bread'}, {'Pastry'}, {'Coffee'}, {'Truffles'}, {'Tea'}, {'Bread'}, {'Farm House'}, {'Cake', 'Coffee', 'NONE'}, {'Sandwich', 'Coffee', 'NONE'}, {'Tea'}, {'Hearty & Seasonal', 'Tea'}, {'Coffee', 'NONE'}, {'Coffee'}, {'Cake', 'Tea', 'NONE'}, {'Farm House'}, {'Coffee'}, {'Coffee', 'NONE'}, {'Bread'}, {'Cake', 'Coffee'}, {'Cake'}, {'Medialuna', 'Brownie', 'Alfajores'}, {'Bread'}, {'Bread'}, {'Jam', 'Bread'}, {'Sandwich', 'Tea'}, {'Medialuna', 'Coffee', 'Juice', 'Coke'}, {'Toast', 'Coffee', 'Bread'}, {'Toast', 'Coffee', 'Bread'}, {'Medialuna', 'Coffee', 'Bread'}, {'Coffee', 'NONE'}, {'Toast', 'Bread'}, {'Bread'}, {'Medialuna', 'Cake', 'Coffee'}, {'Tea'}, {'Tea'}, {'Medialuna', 'Coffee'}, {'Bread'}, {'Coffee', 'Bread'}, {'Bread'}, {'Brownie', 'Bread'}, {'Coffee'}, {'The Nomad', 'Tea'}, {'Fudge'}, {'Coffee', 'Alfajores'}, {'Bread'}, {'Coffee', 'Alfajores'}, {'Brownie', 'Coffee'}, {'Bread'}, {'Jam', 'Fudge'}, {'Tea'}, {'Coffee'}, {'Coffee'}, {'Bread'}, {'Coffee'}, {'Coffee', 'NONE'}, {'Medialuna', 'Cake'}, {'Cake', 'Coffee'}, {'Coffee'}, {'NONE'}, {'Fudge', 'Tea', 'The Nomad', 'Brownie', 'Bread'}, {'Tea', 'Scone'}, {'Bread'}, {'Bread', 'Sandwich', 'Juice', 'Mineral water', 'Coffee', 'NONE'}, {'Scandinavian', 'Bread'}, {'Sandwich', 'NONE'}, {'Brownie', 'Coffee'}, {'Hearty & Seasonal', 'Brownie', 'Bread', 'NONE'}, {'Hearty & Seasonal', 'Tea'}, {'Brownie', 'Coffee'}, {'Farm House', 'Coffee'}, {'Coffee', 'Scone'}, {'Scone', 'Crepes', 'Alfajores'}, {'Scandinavian'}, {'Cake'}, {'Bread'}, {'Bread'}, {'Tea', 'Bread'}, {'Brownie', 'Mineral water'}, {'Farm House'}, {'Coffee'}, {'Coffee', 'Sandwich', 'Scone', 'Bread'}, {'Sandwich', 'Tea', 'Alfajores', 'Coffee', 'Hot chocolate', 'NONE'}, {'Scone', 'Juice', 'Bread'}, {'Coffee'}, {'Bread'}, {'Bread'}, {'Toast', 'Coffee', 'Pastry'}, {'Focaccia', 'Bread'}, {'Scone'}, {'Focaccia'}, {'Scandinavian'}, {'Coffee', 'Tea'}, {'Farm House', 'Coffee', 'NONE'}, {'Focaccia', 'Pastry'}, {'Medialuna', 'Coffee', 'Pastry'}, {'Sandwich', 'Bread'}, {'Medialuna', 'Coffee', 'Jam', 'Bread'}, {'Coffee', 'Sandwich', 'Tea', 'NONE'}, {'Farm House', 'Coffee'}, {'Bread'}, {'Bread', 'Coffee', 'NONE'}, {'Toast', 'Coffee', 'Scandinavian'}, {'Farm House', 'Medialuna', 'Bread'}, {'Bread'}, {'Cake'}, {'Brownie', 'Coffee', 'Pastry'}, {'NONE', 'Bread'}, {'Coffee', 'Scone', 'Tea'}, {'Coffee'}, {'Tea', 'Bread'}, {'Coffee', 'Scone'}, {'Farm House', 'Scandinavian'}, {'Cake', 'Vegan mincepie'}, {'Coffee', 'Tea'}, {'Bread'}, {'Coffee'}, {'Scandinavian'}, {'Bread'}, {'Tea', 'NONE', 'Bread'}, {'Medialuna', 'Coffee', 'Pastry'}, {'Truffles', 'Juice', 'NONE'}, {'Art Tray', 'Jammie Dodgers', 'Coffee', 'NONE'}, {'Frittata'}, {'Bread', 'NONE'}, {'Coffee', 'Sandwich'}, {'Coffee', 'Juice', 'NONE'}, {'Sandwich', 'Tea'}, {'Jam'}, {'Scone'}, {'Sandwich', 'Coffee', 'NONE'}, {'Coffee', 'NONE'}, {'Tea', 'NONE', 'Bread'}, {'Bread', 'Frittata', 'Tea'}, {'Scandinavian'}, {'Art Tray', 'Truffles', 'Sandwich', 'Coffee', 'NONE'}, {'Frittata', 'Scone', 'Juice'}, {'Tea', 'NONE'}, {'Frittata', 'Coffee', 'Mineral water'}, {'Coffee', 'Tea'}, {'Brownie', 'Scone', 'Bread'}, {'Coffee'}, {'Sandwich', 'Frittata', 'Coffee'}, {'Tea', 'NONE'}, {'Coffee', 'Tea'}, {'Coffee', 'Hot chocolate', 'Vegan mincepie'}, {'Juice'}, {'Cake', 'Tea'}, {'Tea'}, {'Farm House', 'Bread'}, {'Bread', 'Scone', 'Tea', 'Mineral water', 'Coffee'}, {'Bread'}, {'Hot chocolate', 'Bread'}, {'Sandwich', 'Coke'}, {'Sandwich', 'Mineral water'}, {'Cake', 'Tea', 'Hot chocolate'}, {'Scandinavian'}, {'Cake', 'Frittata'}, {'Cake'}, {'Coffee', 'Bread'}, {'Bread', 'Coffee', 'Tea'}, {'Coffee', 'Scone'}, {'Bread'}, {'Jam'}, {'NONE', 'Bread'}, {'Medialuna', 'Coffee'}, {'Farm House', 'Bread'}, {'Bread'}, {'Coffee', 'Pastry'}, {'Coffee', 'Bread'}, {'Medialuna', 'Coffee'}, {'Scone', 'Bread'}, {'Coffee', 'Coke'}, {'Coffee'}, {'Truffles'}, {'Bread'}, {'Mineral water'}, {'Medialuna', 'Fudge', 'Alfajores', 'Bread', 'Toast', 'Coffee', 'Hot chocolate'}, {'Jam'}, {'Medialuna', 'Bakewell', 'Bread', 'Toast', 'Coffee'}, {'Coffee'}, {'Bread'}, {'Medialuna', 'Coffee', 'Bakewell'}, {'Coffee', 'Bread'}, {'Farm House'}, {'Bread'}, {'Medialuna', 'Coffee', 'Scone'}, {'Bread'}, {'Farm House', 'Medialuna', 'Coffee', 'Bread'}, {'Smoothies', 'NONE'}, {'Coffee', 'NONE'}, {'NONE'}, {'Medialuna', 'Coffee'}, {'Mineral water'}, {'Mineral water', 'Bread', 'Hot chocolate', 'NONE'}, {'Sandwich', 'Tea'}, {'Cookies', 'Coffee', 'NONE'}, {'Alfajores'}, {'Coffee', 'Vegan mincepie', 'Bread'}, {'Coffee', 'NONE'}, {'Medialuna'}, {'Toast', 'Coffee', 'Frittata'}, {'Coffee', 'Hot chocolate', 'Muffin', 'NONE'}, {'Coffee', 'Scandinavian'}, {'Tea', 'Bakewell', 'NONE'}, {'Coffee', 'NONE'}, {'NONE'}, {'Coffee', 'Frittata'}, {'Scandinavian'}, {'Coffee'}, {'Coffee', 'Tea', 'NONE'}, {'Scandinavian'}, {'Bread'}, {'Tea'}, {'NONE', 'Bread'}, {'Medialuna', 'Bread'}, {'Toast', 'Coffee', 'Pastry'}, {'Coffee', 'Pastry'}, {'Tea'}, {'Toast', 'Coffee'}, {'Coffee'}, {'Toast', 'Coffee', 'Jam', 'Hot chocolate'}, {'Sandwich', 'Coffee'}, {'Alfajores', 'Tea', 'Bakewell', 'Bread'}, {'Cake', 'Coffee', 'Bread'}, {'Bread'}, {'Bread'}, {'Cake', 'Coffee', 'Bakewell'}, {'Bread'}, {'Medialuna', 'Coffee'}, {'Bread'}, {'Vegan mincepie', 'Bread'}, {'Cake', 'Coffee', 'Vegan mincepie', 'Bread'}, {'Bread'}, {'Sandwich'}, {'Pastry', 'Bread'}, {'Cake', 'Coffee', 'Vegan mincepie', 'Mineral water'}, {'Jam'}, {'Bread'}, {'Coffee', 'Frittata'}, {'Coffee'}, {'Bread'}, {'Sandwich'}, {'Coffee', 'Truffles', 'Sandwich', 'Bread'}, {'Toast', 'Tea', 'NONE'}, {'Coffee'}, {'Cake'}, {'NONE'}, {'Coffee', 'Bread'}, {'Fudge'}, {'Jam'}, {'Bread'}, {'Coffee'}, {'Tea', 'Hot chocolate', 'Vegan mincepie', 'Bread'}, {'Jammie Dodgers', 'Cake', 'Juice', 'Bread'}, {'Bread'}, {'Tea', 'Vegan mincepie'}, {'Coffee', 'Pastry'}, {'Scandinavian', 'Vegan mincepie'}, {'Bread'}, {'Coffee', 'Jam', 'Fudge'}, {'Coffee', 'Jam'}, {'Coffee'}, {'Cookies', 'Coffee', 'Pastry'}, {'Medialuna', 'Bread'}, {'Art Tray', 'Coffee'}, {'Toast', 'Tea'}, {'Coke'}, {'Coffee', 'Bread'}, {'Farm House', 'Bakewell'}, {'Tea', 'Alfajores', 'Bread', 'Coffee', 'Hot chocolate'}, {'Farm House'}, {'Coffee', 'Bread'}, {'Toast', 'Coffee', 'Scandinavian'}, {'NONE', 'Vegan mincepie', 'Bread'}, {'Bread'}, {'Coffee'}, {'Alfajores', 'Coffee', 'Bread'}, {'Coffee'}, {'Bread'}, {'Medialuna'}, {'Coffee', 'NONE'}, {'Coffee', 'Frittata', 'Tea'}, {'Tea'}, {'Tea', 'Bakewell'}, {'Farm House'}, {'Medialuna', 'Coffee', 'Pastry'}, {'Sandwich', 'Coffee'}, {'Medialuna', 'Coffee'}, {'Coffee', 'Pastry'}, {'Coffee', 'Muffin', 'Bread'}, {'Coffee', 'Bakewell'}, {'Bread'}, {'Coffee'}, {'Bread'}, {'Coffee', 'Alfajores'}, {'Truffles', 'Coffee', 'Scandinavian', 'Bread'}, {'Cake', 'Tea'}, {'Jam'}, {'Jam', 'Fudge'}, {'Bread'}, {'Coffee'}, {'Coffee', 'Tea'}, {'Toast', 'Coffee', 'Tea'}, {'Coffee'}, {'Bread'}, {'Coffee', 'NONE'}, {'Coffee'}, {'Bread'}, {'Bread'}, {'Fudge'}, {'Coffee'}, {'Coffee', 'Tea'}, {'Farm House', 'Coffee'}, {'Medialuna', 'Coffee', 'Muffin', 'Juice'}, {'Coffee'}, {'Coffee', 'Bread'}, {'Coffee', 'Muffin', 'Bread'}, {'Coffee', 'Vegan mincepie', 'Tea'}, {'Coffee', 'Alfajores'}, {'Medialuna', 'Coffee'}, {'NONE'}, {'Tea', 'Bread'}, {'Coffee'}, {'Coffee'}, {'Pastry', 'Bread'}, {'Bread'}, {'Farm House'}, {'Alfajores', 'Bread'}, {'NONE'}, {'Coffee'}, {'Jam'}, {'Coffee'}, {'Pastry'}, {'Tea', 'NONE'}, {'Coffee'}, {'Toast', 'Coffee'}, {'Coffee', 'NONE'}, {'Truffles', 'NONE', 'Coke'}, {'Coffee', 'Sandwich', 'Tea', 'NONE'}, {'Tea', 'NONE'}, {'Coke'}, {'Sandwich', 'Bread'}, {'Art Tray', 'Toast', 'Juice', 'Bread'}, {'Tea', 'NONE', 'Bread'}, {'Coffee', 'Alfajores'}, {'Toast', 'Hot chocolate', 'Pastry'}, {'Vegan mincepie', 'Sandwich', 'Juice', 'Tea'}, {'Bread'}, {'Muffin', 'Alfajores'}, {'Jammie Dodgers', 'Coffee'}, {'Jammie Dodgers', 'Bread'}, {'Cake', 'Tea', 'Jammie Dodgers', 'Bread', 'Coffee'}, {'Coffee', 'NONE'}, {'Medialuna', 'NONE', 'Pastry', 'Bread'}, {'Pastry', 'Alfajores'}, {'Medialuna', 'Toast', 'Coffee', 'NONE'}, {'Tea', 'Pastry', 'Bread'}, {'Bread'}, {'Coffee'}, {'Hot chocolate', 'Bread'}, {'Bread'}, {'Pastry'}, {'Coffee', 'NONE'}, {'Bread'}, {'Coffee', 'Hot chocolate'}, {'Farm House'}, {'Coffee'}, {'Coffee'}, {'Coffee'}, {'Dulce de Leche'}, {'Farm House', 'Pastry'}, {'Vegan mincepie', 'Bread'}, {'Bread'}, {'Coffee', 'Hot chocolate', 'Pastry'}, {'Pastry', 'Coffee', 'Vegan mincepie'}, {'Bread'}, {'Bread'}, {'Coffee', 'Hot chocolate'}, {'Coffee', 'Sandwich', 'Bread'}, {'Bread'}, {'Coffee', 'Hot chocolate'}, {'Coffee'}, {'Coffee'}, {'Sandwich', 'Coke'}, {'Coffee'}, {'Bread', 'Coffee', 'NONE'}, {'Bread'}, {'Coffee'}, {'Coffee'}, {'Coffee', 'Fudge'}, {'Sandwich', 'Bread', 'Coffee', 'Tea'}, {'Sandwich', 'Coffee', 'NONE'}, {'Bread'}, {'Bread', 'Coffee', 'NONE'}, {'Coffee', 'Hot chocolate'}, {'Fudge'}, {'Coffee'}, {'Coffee', 'Bread'}, {'Bread'}, {'Cookies'}, {'Bread'}, {'Alfajores', 'Coffee', 'Bread'}, {'Tea'}, {'Bare Popcorn', \"Ella's Kitchen Pouches\"}, {'Farm House'}, {'Fudge', 'Pastry', 'Bread'}, {'Hot chocolate'}, {'Medialuna', 'Vegan mincepie', 'Tea', 'Jammie Dodgers', 'Coffee'}, {'Coffee'}, {'Coffee', 'Hot chocolate'}, {'Bread'}, {'Vegan mincepie'}, {'Medialuna', 'Dulce de Leche'}, {'Muesli'}, {'Muesli'}, {'Coffee', 'Jam'}, {'Toast', 'Bread'}, {'Toast', 'Bread'}, {'Coffee'}, {'Jammie Dodgers', 'Vegan mincepie'}, {'Coffee'}, {'Bread'}, {'Coffee', 'Bread'}, {'Tea', 'NONE'}, {'Coffee'}, {'Farm House', 'Coffee', 'Juice', 'NONE'}, {'Coffee', 'Pastry'}, {'Bread'}, {'Coffee'}, {'Coffee'}, {'Coffee'}, {'Tea', 'Pastry'}, {'Cookies', 'Toast', 'Coffee'}, {'Tea', 'Pastry'}, {'Coffee', 'Toast', 'Tea'}, {'Bread'}, {'Bread'}, {'Coffee'}, {'Coffee'}, {'Pastry', 'NONE'}, {'NONE', 'Bread'}, {'Coffee', 'Scandinavian', 'Alfajores'}, {'Bread', 'Truffles', \"Ella's Kitchen Pouches\", 'NONE'}, {'Fudge', 'Tea', \"Ella's Kitchen Pouches\", 'Jam', 'Juice', 'NONE'}, {'Cake'}, {'Cookies', 'Bread'}, {'Cake', 'Coffee'}, {'Toast', 'Coffee', 'Tea'}, {'Truffles', 'NONE'}, {'Bread'}, {'Coffee'}, {'Bread'}, {'Bread'}, {'Truffles', 'NONE'}, {'Tea', 'Bread', 'Cookies', 'Toast', 'NONE'}, {'Coffee', 'Sandwich'}, {'NONE'}, {'Sandwich', 'Bread'}, {'Alfajores', 'NONE'}, {'Scone'}, {'NONE'}, {'Alfajores', 'Coffee', 'Vegan mincepie', 'Bread'}, {'Fudge'}, {'Jam', 'NONE'}, {'Coffee', 'Jam', 'Pastry'}, {'Coffee'}, {'Tea', 'Fudge', 'Bread'}, {'Sandwich', 'NONE', 'Bread'}, {'Farm House'}, {'Coffee', 'NONE'}, {'Jam'}, {'Brownie', 'Coffee'}, {'Sandwich', 'Tea', 'Bread'}, {'Tea', 'NONE'}, {'Sandwich', 'Tea'}, {'Coffee'}, {'Coffee'}, {'Bread'}, {'Brownie', 'Tea'}, {'Jam'}, {'Jam'}, {'Cookies', 'Sandwich', 'Juice'}, {'Tea', 'Pastry'}, {'Farm House'}, {'Coffee', 'Scone'}, {'Coffee'}, {'Coffee', 'Vegan mincepie'}, {'Scone', 'Bread'}, {'Farm House', 'Scone'}, {'Brownie', 'Coffee'}, {'Coffee', 'Tea'}, {'Coffee'}, {'Coffee', 'Tea'}, {'Bread'}, {'Coffee', 'Alfajores'}, {'Farm House', 'Medialuna', 'Pastry'}, {'Bread'}, {'Bread'}, {'Coffee', 'Pastry'}, {'Bread'}, {'Pastry', 'Bread'}, {'Medialuna', 'Fudge'}, {'Bread'}, {'Coffee', 'Scone', 'Juice'}, {'Coffee', 'NONE'}, {'Tea', 'Scone', 'Lemon and coconut'}, {'Cookies', 'Jam', 'Fudge'}, {'Bread'}, {'Scandinavian'}, {'Cookies', 'Coffee', 'Juice'}, {'Coffee', 'Hot chocolate', 'Vegan mincepie', 'Bread'}, {'Jam'}, {'Bread'}, {'Coffee'}, {'Alfajores', 'Scandinavian', 'Dulce de Leche'}, {'Medialuna', 'Farm House', 'Pastry', 'Bread', 'Coffee'}, {'Scone', 'Hot chocolate'}, {'Farm House', 'Jam', 'Fudge', 'Bread'}, {'The Nomad', 'Coffee'}, {'Vegan mincepie'}, {'Bread'}, {'Bread'}, {'Scone', 'Bread'}, {'Cake'}, {'Bread'}, {'Cake', 'Coffee', 'Vegan mincepie', 'NONE'}, {'Medialuna', 'Coffee'}, {'Bread'}, {'Jam'}, {'Medialuna', 'Coffee', 'Pastry'}, {'NONE'}, {'Bread'}, {'Bread'}, {'The Nomad', 'Scone', 'Bread'}, {'Coffee', 'Tea'}, {'Bread'}, {'Frittata', 'Tea', 'NONE'}, {'Coffee', 'Vegan mincepie'}, {'Bread'}, {'Coffee', 'NONE', 'Bread'}, {'Coffee', 'Scone'}, {'Cookies', 'Farm House', 'Frittata'}, {'Farm House'}, {'Farm House'}, {'Jam', 'Fudge'}, {'Coffee', 'NONE'}, {'Medialuna', 'Frittata', 'Fudge', 'Sandwich', 'Alfajores', 'Bread', 'NONE'}, {'Cake'}, {'Cookies', 'Coffee', 'Juice'}, {'Coffee'}, {'Pastry', 'Bread'}, {'Tea', 'Hot chocolate'}, {'Crisps'}, {'Bread'}, {'Cake'}, {'Tea', 'Scone', 'Focaccia'}, {'Coffee', 'Scone'}, {'Cake'}, {'Vegan mincepie'}, {'Coffee'}, {'Tea', 'Vegan mincepie'}, {'Focaccia'}, {'Coke'}, {'Pintxos'}, {'Pintxos'}, {'Juice'}, {'Coke'}, {'Pintxos'}, {'Pintxos'}, {'Pintxos'}, {'Pintxos', 'Coke'}, {'Hot chocolate'}, {'Medialuna', 'NONE'}, {'Coffee'}, {'Coffee', 'Bread'}, {'Coffee'}, {'Bread'}, {'Cookies', 'Toast', 'Coffee', 'Bread'}, {'Medialuna', 'Brownie', 'Coffee'}, {'Brownie', 'Coffee', 'Hot chocolate'}, {'Tea', 'Hot chocolate'}, {'Tea', 'Scone', 'Bread'}, {'Medialuna', 'Coffee'}, {'Scone', 'Pastry', 'Bread', 'Coffee', 'Hot chocolate'}, {'The Nomad', 'Coffee', 'Muesli', 'Bread'}, {'NONE', 'Bread'}, {'Fudge'}, {'Bread'}, {'Coffee'}, {'Bread'}, {'Bread'}, {'Brownie', 'Coffee', 'Vegan mincepie'}, {'Dulce de Leche'}, {'Coffee'}, {'Coffee'}, {'Farm House'}, {'Coffee', 'NONE'}, {'Brownie', 'Coffee'}, {'Coffee'}, {'Coffee', 'Hot chocolate', 'Vegan mincepie'}, {'Bread', 'NONE'}, {'Coffee', 'Frittata'}, {'Medialuna', 'Coffee'}, {'Medialuna', 'Frittata', 'Juice', 'Mineral water', 'Coffee', 'Crisps'}, {'Coffee'}, {'Cookies', 'Coffee', 'NONE'}, {'Bread'}, {'Bread'}, {'Dulce de Leche', 'Cake', 'Coffee', 'Bread'}, {'Coffee', 'Hot chocolate', 'Bread'}, {'Coke'}, {'Fudge'}, {'Fudge'}, {'Tartine', 'Cake', 'Tea', 'Juice'}, {'Medialuna', 'Brownie', 'Coffee', 'Hot chocolate'}, {'Coffee'}, {'Bread'}, {'Coffee', 'Bread'}, {'Cookies', 'Coffee', 'Hot chocolate', 'Vegan mincepie'}, {'Medialuna', 'Coffee'}, {'Cookies', 'Hot chocolate', 'NONE'}, {'Coffee', 'NONE'}, {'Coffee'}, {'Tea'}, {'Coffee', 'Bread'}, {'Hot chocolate'}, {'Coffee'}, {'Medialuna', 'Bread'}, {'Coffee'}, {'Bread'}, {'Coffee', 'Pastry', 'Tea'}, {'Medialuna', 'Coffee'}, {'Coffee', 'Hot chocolate'}, {'Jam', 'Fudge'}, {'Cookies', 'Smoothies', 'Hot chocolate', 'Bread'}, {'Toast', 'Coffee', 'Brownie', 'Tea'}, {'Coffee'}, {'Coffee'}, {'Farm House'}, {'Tea', 'NONE'}, {'Bread'}, {'Coffee', 'Bread'}, {'Tea', 'NONE'}, {'Coffee'}, {'Brownie', 'Coffee', 'Fudge'}, {'Coffee'}, {'Coffee', 'Bread'}, {'Medialuna', 'Coffee'}, {'Farm House'}, {'Sandwich', 'Coffee', 'Fudge', 'NONE'}, {'Cookies', 'Toast'}, {'Coffee', 'Sandwich', 'Bread'}, {'Scandinavian', 'Focaccia'}, {'Hearty & Seasonal', 'Truffles'}, {'Coffee'}, {'Sandwich'}, {'Hearty & Seasonal', 'Coffee', 'Bread'}, {'Cake', 'Bread'}, {'Tea', 'Bread'}, {'Bread'}, {'Cookies', 'Bread'}, {'Coffee'}, {'Coffee', 'NONE'}, {'Sandwich', 'Tea'}, {'Brownie', 'Bread'}, {'Coffee', 'Tea', 'NONE'}, {'Coffee'}, {'Cookies', 'Coffee'}, {'Cake', 'Bread'}, {'Coffee'}, {'Coke', 'Mineral water', 'Sandwich', 'Bread', 'NONE'}, {'Bread', 'Juice', 'NONE'}, {'Coffee'}, {'Cake', 'Truffles', 'Tea', 'NONE'}, {'Brownie', 'Coffee', 'Scone'}, {'Tea'}, {'Sandwich', 'Juice', 'Tea'}, {'Coffee'}, {'Cake', 'Sandwich', 'Bread'}, {'Coffee'}, {'Coffee', 'Sandwich'}, {'Tea', 'Juice', 'Bread'}, {'Brownie'}, {'Fudge'}, {'Tea'}, {'Tea'}, {'Truffles', 'Sandwich'}, {'Medialuna', 'Coffee', 'Hot chocolate', 'Bread'}, {'Medialuna'}, {'Coffee'}, {'Coffee'}, {'Tea'}, {'Bread'}, {'Bread'}, {'Cake', 'Coke', 'Tea', 'Brownie', 'Bread', 'NONE'}, {'Bread'}, {'Cookies', 'Medialuna', 'Tea', 'Bread'}, {'Coffee'}, {'Bread', 'Sandwich', 'Tea', 'NONE'}, {'Medialuna', 'Toast', 'Bread'}, {'Medialuna', 'Pastry'}, {'Coffee'}, {'Coffee', 'NONE'}, {'Coffee', 'Pastry'}, {'Cookies'}, {'Cookies'}, {'Bread'}, {'Coffee'}, {'Coffee', 'Pastry'}, {'Bread'}, {'Cookies', 'Cake', 'Coffee', 'Hot chocolate'}, {'NONE'}, {'Medialuna', 'Pastry', 'The Nomad', 'Toast', 'Coffee', 'Hot chocolate'}, {'Cake', 'Coffee', 'Bread'}, {'Tea', 'NONE'}, {'Cake', 'Coffee'}, {'Coffee', 'NONE'}, {'Cake', 'Coffee'}, {'Toast', 'Coffee'}, {'Coffee'}, {'Cake', 'Hot chocolate'}, {'Hearty & Seasonal', 'Juice'}, {'Coffee'}, {'Hearty & Seasonal', 'Coffee'}, {'Farm House', 'Cake'}, {'Farm House', 'Bread', 'Coffee', 'NONE'}, {'Sandwich'}, {'NONE'}, {'Bread'}, {'Brownie', 'Coffee'}, {'Sandwich', 'Juice', 'NONE'}, {'Coffee'}, {'Coffee'}, {'Tea'}, {'Coffee'}, {'Hot chocolate'}, {'NONE'}, {'Cake', 'Coffee'}, {'Bread'}, {'Bread', 'NONE'}, {'Coffee', 'Hot chocolate'}, {'Coffee'}, {'Coffee', 'Bread'}, {'Cake', 'Coffee'}, {'Coffee'}, {'Farm House'}, {'Coffee'}, {'Bread'}, {'Coffee'}, {'Farm House'}, {'Scandinavian'}, {'Bread'}, {'Pastry', 'Bread'}, {'Coffee'}, {'Coffee'}, {'Coffee', 'Pastry', 'Bread'}, {'Coffee', 'Bread'}, {'Medialuna', 'Coffee'}, {'Medialuna', 'Jam', 'Fudge'}, {'Tea'}, {'Bread'}, {'Bread'}, {'Coffee', 'Pastry'}, {'Coffee'}, {'Bread'}, {'Coffee'}, {'Cookies', 'Coffee'}, {'Coffee'}, {'Coffee'}, {'Coffee', 'Pastry'}, {'Bread'}, {'Coffee', 'Fudge'}, {'Cake', 'Hot chocolate'}, {'Coffee', 'Muffin'}, {'Medialuna', 'Coffee'}, {'Gingerbread syrup'}, {'Coffee', 'NONE'}, {'Coffee', 'Sandwich'}, {'Bread'}, {'Coffee'}, {'Coffee', 'NONE', 'Juice', 'Coke'}, {'Medialuna'}, {'Bread'}, {'Coffee', 'Pastry'}, {'Cake', 'Coffee', 'Bread'}, {'Coffee'}, {'NONE'}, {'Bread'}, {'Bread'}, {'NONE'}, {'Coffee', 'Toast', 'Tea'}, {'Sandwich', 'Smoothies'}, {'Fudge'}, {'Coffee', 'Hot chocolate'}, {'Cake', 'Coffee', 'Hot chocolate'}, {'Sandwich', 'Hot chocolate', 'NONE'}, {'Mineral water', 'Truffles', 'Sandwich', 'NONE'}, {'Cake'}, {'Scandinavian'}, {'Coffee'}, {'Cake', 'Bread'}, {'Cake'}, {'Coffee', 'NONE'}, {'Cake', 'Coffee', 'NONE', 'Bread'}, {'Coffee', 'Bread'}, {'Cookies', 'Coffee', 'Coke'}, {'Bread'}, {'Cake', 'Tea', 'Hot chocolate', 'Brownie'}, {'Coke'}, {'Coffee', 'Tea'}, {'Bread', 'Coffee', 'NONE'}, {'Pastry', 'Bread'}, {'Bread'}, {'Cookies', 'Tea'}, {'Brownie'}, {'Coffee', 'NONE'}, {'Tea'}, {'Sandwich', 'Coffee', 'Bread'}, {'Scandinavian'}, {'Coffee'}, {'Bread'}, {'Coffee', 'Pastry'}, {'Coffee'}, {'Medialuna'}, {'Coffee', 'Muffin'}, {'The Nomad', 'NONE', 'Pastry', 'Bread'}, {'Coffee'}, {'Cake', 'Coffee', 'Hot chocolate'}, {'Coffee', 'Pastry', 'Bread'}, {'Brownie', 'Coffee', 'Pastry', 'Bread'}, {'Coffee'}, {'Tea'}, {'Pastry', 'Bread'}, {'Tea'}, {'Medialuna', 'Coffee'}, {'Coffee'}, {'Tea', 'Hot chocolate', 'Bread'}, {'Toast', 'Tea'}, {'Cake', 'Coffee'}, {'Coffee'}, {'Panatone'}, {'Cake', 'Coffee', 'Bread'}, {'Bread'}, {'Bread'}, {'Truffles'}, {'Coffee'}, {'Tea'}, {'Sandwich', 'Bread'}, {'Cookies'}, {'Bread'}, {'Cake', 'Tea'}, {'Bread'}, {'Coffee'}, {'NONE'}, {'Brownie', 'NONE', 'Bread'}, {'Art Tray', 'Cake', 'Muffin', 'Bare Popcorn', 'Brownie', 'Juice', 'Cookies', 'Coffee', 'Panatone', 'NONE'}, {'Coke', 'NONE'}, {'Tea', 'NONE'}, {'Bread'}, {'Brownie', 'Tea'}, {'Sandwich', 'Medialuna', 'Tea'}, {'Tea', 'Hot chocolate'}, {'Cake', 'Tea', 'Muffin'}, {'Sandwich', 'Mineral water'}, {'Coffee', 'Tea', 'Pastry'}, {'Coffee', 'Hot chocolate'}, {'Medialuna'}, {'Tea', 'Muffin', 'Bread'}, {'Jam'}, {'Tea', 'NONE', 'Bread'}, {'Farm House'}, {'Cake', 'Brownie', 'Juice', 'Bread'}, {'Cake', 'Coffee', 'Hot chocolate'}, {'Fudge'}, {'Cake', 'Juice'}, {'Jam', 'Fudge', 'Bread'}, {'Bread'}, {'Bread'}, {'Coffee', 'Pastry'}, {'Bread'}, {'Medialuna', 'Coffee'}, {'Pastry'}, {'Medialuna', 'Coffee'}, {'Farm House', 'Bread'}, {'Fudge'}, {'Bread'}, {'Farm House'}, {'Medialuna', 'Pastry'}, {'Coffee'}, {'Cake', 'Muffin'}, {'The Nomad', 'Pastry', 'Bread'}, {'Scone', 'Pastry'}, {'Coffee'}, {'Coffee'}, {'Medialuna', 'Scandinavian', 'Bread', 'Coffee', 'Hot chocolate', 'NONE'}, {'Cake', 'Brownie', 'Hot chocolate'}, {'Cake', 'Coffee', 'Brownie'}, {'Coffee', 'Hot chocolate'}, {'Coffee', 'Bread'}, {'Bread'}, {'Sandwich', 'Fudge', 'Bread'}, {'Gingerbread syrup', 'Tea', 'Muffin', 'Juice'}, {'Coffee', 'Tea'}, {'Coffee'}, {'Brownie', 'Coffee'}, {'Bread'}, {'Smoothies', 'Hot chocolate', 'Muffin', 'Bread'}, {'Coffee', 'Hot chocolate'}, {'Cake', 'Scone', 'Brownie', 'Juice', 'Coffee'}, {'Bread'}, {'Cake', 'Coffee'}, {'Gingerbread syrup', 'Jam', 'Fudge'}, {'Fudge'}, {'Bread'}, {'Coffee'}, {'Cake', 'Scone', 'Brioche and salami', 'Tea', 'Coffee'}, {'Bread', 'Truffles', 'NONE'}, {'Coffee', 'Bread'}, {'Bread'}, {'Coffee', 'Frittata'}, {'Cake', 'Muffin'}, {'Hot chocolate', 'NONE'}, {'Coffee', 'Scone'}, {'Bread'}, {'Bread'}, {'Tea', 'NONE'}, {'Scone', 'Bread'}, {'Panatone'}, {'Coke', 'Sandwich', 'Bread', 'Coffee', 'NONE'}, {'Gingerbread syrup'}, {'Brownie', 'Bread'}, {'Frittata'}, {'Cookies', 'Farm House'}, {'Tea', 'Scone'}, {'Bread'}, {'Jam'}, {'Tea'}, {'Tea', 'Bread'}, {'Coffee', 'Sandwich'}, {'Coffee', 'Scone'}, {'Cake'}, {'Cake', 'Scone', 'Juice', 'Cookies', 'Coffee'}, {'Coffee'}, {'Coffee', 'Hot chocolate'}, {'Cookies', 'Toast', 'Sandwich', 'Hot chocolate'}, {'Coffee', 'Tea', 'Bread'}, {'Cake', 'Hot chocolate'}, {'Panatone', 'Bread'}, {'Bread'}, {'Gingerbread syrup', 'Coffee'}, {'Bread'}, {'Medialuna', 'Coffee', 'NONE'}, {'Bread'}, {'Bread'}, {'Toast', 'Coffee'}, {'Cake', 'Pastry', 'Bread'}, {'Cookies', 'Coffee', 'Juice', 'NONE'}, {'Medialuna', 'Coffee', 'Pastry'}, {'NONE', 'Bread'}, {'Bread'}, {'Farm House', 'Focaccia', 'Bread'}, {'Bread'}, {'Medialuna', 'Pastry', 'Bread'}, {'Coffee', 'Scone'}, {'Scone', 'Tea', 'Hot chocolate', 'Pastry'}, {'Cake'}, {'Coffee', 'Hot chocolate', 'Crisps'}, {'Coffee', 'Hot chocolate'}, {'Hot chocolate', 'Pastry', 'Bread'}, {'Frittata', 'Scone'}, {'Bread'}, {'Pastry'}, {'Hot chocolate'}, {'Bread'}, {'Coffee'}, {'Bread'}, {'Toast', 'NONE', 'Bread'}, {'Tea', 'Juice', 'Coke'}, {'Sandwich', 'Coffee', 'Hot chocolate', 'NONE'}, {'Farm House'}, {'Medialuna', 'Cake', 'Farm House', 'Pastry', 'Tea', 'Coffee', 'Hot chocolate'}, {'Coffee'}, {'Jam', 'Fudge', 'Pastry'}, {'Coke', 'Farm House', 'Bread'}, {'Coffee', 'Hot chocolate', 'Pastry'}, {'Medialuna', 'Focaccia'}, {'Coffee'}, {'Cake', 'Coffee'}, {'Art Tray', 'Sandwich', 'Juice', 'Toast', 'Hot chocolate', 'NONE'}, {'Scone'}, {'Bread'}, {'Scandinavian'}, {'Bread'}, {'Scone'}, {'Coffee', 'Medialuna', 'Tea'}, {'Cookies', 'Medialuna', 'Coffee', 'Hot chocolate'}, {'Cookies'}, {'Frittata', 'Tea', 'Sandwich', 'Coke'}, {'Coffee'}, {'Cookies'}, {'Medialuna'}, {'Bread'}, {'Sandwich', 'Coffee'}, {'Sandwich', 'Coffee', 'Bread'}, {'Cake'}, {'Coffee', 'NONE'}, {'Coffee'}, {'Sandwich', 'Coffee'}, {'Focaccia', 'Jam', 'Fudge'}, {'Medialuna', 'Bread'}, {'Coffee', 'Tea'}, {'Coffee'}, {'Fudge', 'Panatone', 'Focaccia'}, {'Coffee', 'NONE', 'Coke'}, {'Farm House', 'Scandinavian'}, {'Cookies'}, {'Cake', 'Bread'}, {'Coffee', 'Scone', 'Tea'}, {'Sandwich'}, {'Bread'}, {'Coffee', 'NONE'}, {'Tea', 'NONE'}, {'Bread'}, {'Coffee'}, {'Cake', 'Tea', 'Scone'}, {'Hot chocolate'}, {'Hot chocolate'}, {'Scandinavian', 'Focaccia', 'Bread'}, {'Hot chocolate'}, {'Coffee'}, {'Bread'}, {'Medialuna', 'Coffee', 'Pastry'}, {'Coffee'}, {'Coffee', 'Pastry', 'NONE'}, {'Medialuna', 'Coffee'}, {'Coffee'}, {'Coffee', 'Hot chocolate'}, {'Coffee', 'Tea'}, {'Coffee'}, {'Coffee'}, {'Cake', 'Coffee'}, {'Toast', 'Coffee'}, {'Tea', 'Hot chocolate'}, {'NONE'}, {'NONE'}, {'Medialuna', 'Gingerbread syrup', 'Pastry'}, {'Sandwich', 'Coffee', 'NONE'}, {'Coffee', 'Sandwich', 'Hot chocolate', 'NONE'}, {'Coffee'}, {'Cake', 'Coffee'}, {'Cookies', 'Coffee'}, {'Farm House', 'Bread'}, {'Coffee'}, {'Coffee'}, {'Medialuna', 'Pastry'}, {'Coffee'}, {'Coffee'}, {'Medialuna', 'Coffee', 'Pastry'}, {'Coffee', 'Toast', 'Tea'}, {'Bread'}, {'Farm House'}, {'Bread'}, {'Bread'}, {'Medialuna', 'Toast', 'Bread'}, {'Bread', 'Coffee', 'Tea'}, {'Farm House', 'Truffles', 'Sandwich', 'Bread', 'Coffee'}, {'Coffee'}, {'Coffee'}, {'Cake', 'Coffee'}, {'Coffee'}, {'Cookies', 'Coffee', 'Hot chocolate', 'Bread'}, {'Hot chocolate', 'NONE'}, {'Medialuna', 'Bread'}, {'Bread'}, {'Bread'}, {'Coffee'}, {'Cake', 'Coffee', 'Bread'}, {'Bread'}, {'Bread', 'Muesli', 'NONE'}, {'Coffee', 'Bread'}, {'Coffee', 'NONE'}, {'Coffee'}, {'Coffee', 'Bread'}, {'Coffee'}, {'Tea', 'NONE'}, {'Tea', 'NONE'}, {'Truffles', 'NONE', 'Juice', 'Bread', 'Coffee', 'Hot chocolate', 'Crisps'}, {'Cake'}, {'Fudge'}, {'Coffee', 'Tea'}, {'Coke', 'Sandwich', 'Juice', 'Coffee', 'NONE'}, {'Sandwich'}, {'Bread'}, {'Coffee', 'Bread'}, {'Coffee', 'Bread'}, {'Bread'}, {'Coffee'}, {'Cake', 'Coffee', 'Hot chocolate'}, {'Bare Popcorn', 'Sandwich', 'Crisps', 'Cookies', 'Coffee', 'Hot chocolate', 'NONE'}, {'Coffee'}, {'Hot chocolate'}, {'Coffee'}, {'Bread'}, {'Coffee'}, {'Coffee'}, {'Tea', 'Bread'}, {'Bread'}, {'Bread', 'Coffee', 'Hot chocolate', 'NONE'}, {'Bread'}, {'NONE', 'Bread'}, {'Medialuna', 'Tea', 'Bread'}, {'Medialuna', 'Toast', 'Coffee', 'Pastry'}, {'Medialuna'}, {'Bread'}, {'Farm House'}, {'Toast', 'Coffee', 'Pastry'}, {'Cookies', 'Coffee', 'Bread'}, {'Cake', 'Tea', 'Jammie Dodgers', 'Bread', 'Coffee'}, {'Toast', 'Coffee', 'Smoothies'}, {'Toast', 'Coffee', 'Smoothies'}, {'Toast', 'Coffee', 'Smoothies'}, {'Bread'}, {'Bread'}, {'Coffee', 'Bread'}, {'Cake', 'Coffee', 'Fudge', 'Bread'}, {'Pastry', 'Bread'}, {'Tea', 'Frittata'}, {'Coffee', 'Sandwich', 'Bread'}, {'Bread'}, {'Coffee', 'Hot chocolate', 'Bread'}, {'Bread', 'Juice', 'NONE'}, {'Coffee'}, {'Hot chocolate', 'Bread'}, {'Cake', 'Sandwich', 'Lemon and coconut', 'Juice', 'Bread', 'Coffee'}, {'Bread'}, {'Hearty & Seasonal', 'Coffee'}, {'Medialuna'}, {'Coffee'}, {'Pastry', 'Bread'}, {'Cake', 'Pastry', 'Bread'}, {'Scandinavian'}, {'Medialuna', 'Tea', 'Hot chocolate', 'Coke'}, {'Coffee'}, {'Jammie Dodgers', 'Bread'}, {'Medialuna', 'Coffee'}, {'Coffee', 'Bread'}, {'Coffee', 'Hot chocolate'}, {'Truffles', 'Frittata', 'Juice', 'Bread', 'Cookies', 'Coffee', 'Crisps'}, {'Bread'}, {'Cake', 'Coffee', 'NONE', 'Frittata'}, {'Jammie Dodgers'}, {'Cake', 'Coffee', 'Bread'}, {'Cake', 'Coffee', 'Bread'}, {'Jam'}, {'Coffee', 'Bread'}, {'Toast', 'Coffee', 'Hot chocolate'}, {'Coffee'}, {'Coffee'}, {'Hot chocolate', 'Bread'}, {'Coffee', 'Bread'}, {'Cake', 'Hot chocolate', 'Bread'}, {'Cookies', 'Medialuna', 'Coffee', 'Hot chocolate'}, {'Medialuna', 'Hot chocolate', 'Pastry'}, {'Bread'}, {'Vegan mincepie', 'Cake', 'Coffee', 'Juice'}, {'Medialuna', 'Coffee'}, {'Muesli'}, {'Frittata', 'Farm House', 'Coffee', 'Bread'}, {'Bread'}, {'Coffee', 'Muesli'}, {'Tea', 'NONE'}, {'Sandwich', 'Pastry', 'Bread'}, {'Sandwich', 'Hot chocolate'}, {'Toast', 'Coffee', 'Tea'}, {'Coffee', 'Sandwich', 'Tea'}, {'Coffee', 'Hot chocolate', 'Lemon and coconut'}, {'Coffee', 'Bread'}, {'Cake', 'Coffee'}, {'The Nomad', 'Medialuna', 'Bread', 'NONE'}, {'Coffee'}, {'Coffee'}, {'Hot chocolate'}, {'Farm House'}, {'Sandwich', 'Tea'}, {'Bread'}, {'Coffee', 'Smoothies', 'Frittata'}, {'Coffee'}, {'Pastry', 'Bread'}, {'Toast', 'Coffee', 'Bread'}, {'Coffee'}, {'Jammie Dodgers', 'Coffee', 'Bread'}, {'Sandwich', 'Coke'}, {'Medialuna'}, {'Coffee'}, {'Medialuna'}, {'Cake', 'Sandwich', 'Tea', 'Bread', 'NONE'}, {'Hot chocolate'}, {'Coffee', 'Frittata'}, {'Tea'}, {'Tea', 'Bread'}, {'Jammie Dodgers', 'Coffee'}, {'Coffee', 'Bread'}, {'Jammie Dodgers', 'Coffee', 'Bread'}, {'Coffee', 'Bread'}, {'Cake', 'Vegan mincepie', 'Jammie Dodgers', 'Coffee', 'Hot chocolate'}, {'Cookies', 'Coffee'}, {'Bread', 'Coffee', 'Tea'}, {'Coffee'}, {'Bread'}, {'Bread'}, {'Tea'}, {'Bread'}, {'Coffee', 'Bread'}, {'Jammie Dodgers', 'Hot chocolate', 'Bread'}, {'Bread'}, {'Coffee'}, {'Pastry'}, {'Tea'}, {'Cookies', 'Coffee', 'Bread'}, {'Bread'}, {'Coffee', 'Vegan mincepie'}, {'Tea'}, {'Coffee'}, {'Medialuna', 'Bread'}, {'Farm House'}, {'Jammie Dodgers', 'Coffee', 'Hot chocolate', 'Vegan mincepie'}, {'Coffee'}, {'Coffee'}, {'Medialuna', 'Bread'}, {'Bread'}, {'Bread'}, {'Coffee', 'Bread'}, {'Farm House', 'Bread'}, {'Coffee'}, {'Coffee', 'NONE'}, {'Frittata', 'Tea', 'Bread'}, {'Farm House'}, {'Farm House', 'Pastry'}, {'Coffee'}, {'Bread'}, {'Cake', 'Coffee', 'Hot chocolate'}, {'Scandinavian'}, {'Cake', 'Pastry', 'Jammie Dodgers', 'Bread', 'Coffee', 'Hot chocolate'}, {'Coffee', 'NONE', 'Bread'}, {'Scandinavian'}, {'Sandwich', 'Coffee', 'NONE'}, {'Sandwich', 'Toast', 'Tea', 'Hot chocolate'}, {'Sandwich', 'Tea', 'NONE'}, {'Farm House'}, {'Bread'}, {'Jammie Dodgers', 'Coffee'}, {'Coffee'}, {'Bread'}, {'Farm House', 'Medialuna'}, {'Coffee'}, {'Sandwich', 'Tea'}, {'Cookies', 'Tea', 'Bread'}, {'Coffee'}, {'Bread'}, {'Coffee', 'Bread'}, {'Sandwich', 'Tea', 'Hot chocolate', 'NONE'}, {'Tea'}, {'NONE'}, {'Sandwich', 'NONE'}, {'Coffee', 'Bread'}, {'Bread'}, {'Tea', 'Coke'}, {'Cake', 'Tea'}, {'Bread'}, {'Coffee'}, {'Toast', 'Coffee'}, {'Farm House'}, {'Bread'}, {'Coffee'}, {'Coffee'}, {'Toast', 'Coffee'}, {'Coffee'}, {'Toast', 'Bread'}, {'Bread'}, {'Coffee', 'NONE'}, {'Coffee', 'Vegan mincepie'}, {'Bread'}, {'Coffee', 'NONE'}, {'Toast', 'Coffee'}, {'Coffee'}, {'Cookies', 'Cake', 'Coffee', 'Bread'}, {'Cake', 'Tea'}, {'Bread'}, {'Cookies', 'Coffee', 'Hot chocolate', 'NONE'}, {'Coffee'}, {'Cake'}, {'Bread'}, {'Sandwich', 'Coffee', 'Juice'}, {'Coffee'}, {'Bread', 'Frittata', 'Mineral water', 'Cookies', 'Coffee'}, {'Coffee', 'Muffin', 'NONE'}, {'Coffee', 'Cake', 'Sandwich'}, {'NONE'}, {'Coffee', 'NONE'}, {'Cake', 'Coffee', 'Vegan mincepie'}, {'Cake', 'Coffee'}, {'Coffee'}, {'Coffee', 'Frittata'}, {'Cookies', 'Sandwich'}, {'Tea'}, {'Tea'}, {'Tea', 'NONE'}, {'Vegan mincepie', 'Bread'}, {'Coffee', 'Hot chocolate', 'Muffin'}, {'Bread'}, {'Cake', 'Coffee', 'Hot chocolate'}, {'Coffee'}, {'Sandwich', 'Hot chocolate'}, {'Cake', 'Coffee', 'Muffin'}, {'Coffee'}, {'Medialuna', 'Coffee', 'Hot chocolate'}, {'Medialuna', 'Cake', 'Coffee'}, {'Bread'}, {'Toast', 'Coffee'}, {'Bread'}, {'Coffee', 'NONE'}, {'Bread'}, {'Coffee'}, {'Coffee', 'Bread'}, {'Coffee'}, {'Coffee', 'NONE'}, {'Cake', 'Coffee'}, {'Coffee', 'Bread'}, {'Cake', 'Bread'}, {'Cookies', 'Tea', 'Muesli', 'Coffee'}, {'Coke', 'Cake', 'Pastry', 'NONE'}, {'Coffee', 'Sandwich', 'NONE'}, {'Juice', 'NONE'}, {'Muffin', 'Tea', 'Sandwich', 'Juice', 'Coffee', 'NONE'}, {'Medialuna'}, {'Coffee', 'Hot chocolate', 'Pastry', 'Bread'}, {'Farm House', 'Tea', 'NONE'}, {'Brownie', 'Bread'}, {'Brownie', 'Coffee'}, {'Cookies', 'Coffee'}, {'Brownie', 'Coffee'}, {'Cookies', 'Bread'}, {'Hot chocolate'}, {'Coffee', 'Hot chocolate', 'Pastry'}, {'Brownie', 'Bread'}, {'Cake', 'Coffee'}, {'Coffee', 'Brownie', 'Tea'}, {'Coffee'}, {'Farm House'}, {'Bread'}, {'Bread'}, {'Coffee'}, {'Coffee'}, {'Coffee'}, {'Toast', 'Tea'}, {'Medialuna', 'Bread'}, {'Toast', 'Bread'}, {'Medialuna', 'Coffee', 'Bread'}, {'Coffee', 'Bread'}, {'Hot chocolate', 'Muffin'}, {'Coffee', 'Juice', 'Bread'}, {'Hot chocolate'}, {'Coffee', 'Bread'}, {'Truffles', 'Coffee', 'Bread'}, {'Brownie'}, {'Muffin', 'Juice', 'Bread'}, {'Farm House', 'Brownie'}, {'Coffee', 'Bread'}, {'Coffee', 'NONE'}, {'Farm House'}, {'Sandwich', \"Ella's Kitchen Pouches\", 'Coffee', 'Juice'}, {'Cake', 'Coffee'}, {'Tea', 'Bread'}, {'Coffee'}, {'Coffee'}, {'Cookies'}, {'Cookies', 'Toast', 'Sandwich', 'Vegan mincepie'}, {'Bread'}, {'Sandwich'}, {'Bread'}, {'Cookies', 'Frittata', 'Bread'}, {'NONE'}, {'Sandwich'}, {'Coffee', 'NONE'}, {'Truffles', 'Frittata', 'Tea'}, {'Truffles', 'Frittata', 'Fudge', 'Pastry', 'Coffee'}, {'Sandwich', 'Juice'}, {'Pastry'}, {'Medialuna', 'Sandwich'}, {'Coffee', 'Juice', 'NONE'}, {'Bread'}, {'Bread'}, {'Brownie'}, {'Bread'}, {'Coffee'}, {'Eggs', 'NONE'}, {'Bread'}, {'Coffee', 'NONE', 'Bread'}, {'Truffles', 'Bread'}, {'Toast', 'Coffee', 'Juice'}, {'Coffee', 'Bread'}, {'Bread'}, {'Coffee'}, {'Bread'}, {'Toast', 'Tea'}, {'Toast', 'Coffee'}, {'Bread'}, {'Coffee', 'Toast', 'Tea'}, {'Cookies', 'Toast', 'Coffee'}, {'Bread'}, {'Toast', 'Coffee', 'NONE'}, {'Cookies', 'Coffee', 'NONE'}, {'Medialuna', 'Coffee'}, {'Cookies', 'Bread'}, {'Toast', 'Coffee'}, {'Coffee', 'Muffin'}, {'Cookies', 'Medialuna', 'Cake', 'Tea'}, {'Medialuna', 'Coffee', 'Scandinavian', 'Bread'}, {'Medialuna', 'Coffee'}, {'Medialuna', 'Frittata', 'Muffin', 'Bread', 'Coffee'}, {'Medialuna', 'Coffee'}, {'Coffee'}, {'Bread'}, {'Bread'}, {'Coke'}, {'Coffee', 'Bread'}, {'Coffee'}, {'Sandwich'}, {'Bread'}, {'NONE'}, {'Coffee', 'NONE'}, {'Sandwich', 'Coffee', 'NONE'}, {'Coffee', 'Pastry'}, {'Cake', 'Bread'}, {'Bread'}, {'Bread'}, {'Sandwich', 'NONE'}, {'Afternoon with the baker'}, {'Juice', 'NONE'}, {'Coffee'}, {'Farm House', 'Scone'}, {'Coffee'}, {'Farm House'}, {'Coffee', 'Pastry', 'Bread'}, {'Bread', 'Coffee', 'Tea', 'Frittata'}, {'Pastry'}, {'Medialuna', 'Bread'}, {'Coffee'}, {'Bread'}, {'Coffee', 'Hot chocolate'}, {'Bread'}, {'Medialuna'}, {'Coffee'}, {'Bread'}, {'Pastry', 'Bread'}, {'Medialuna', 'Coffee'}, {'Cake', 'Tea'}, {'Coffee', 'Bread'}, {'Medialuna', 'Coffee', 'Bread'}, {'Coffee'}, {'Bread'}, {'Coffee', 'Scone'}, {'Pastry'}, {'Coffee', 'Pastry', 'NONE'}, {'Toast', 'Coffee', 'Scone'}, {'Coffee'}, {'Scandinavian'}, {'Coffee'}, {'Coffee', 'Pastry', 'Bread'}, {'Bread'}, {'Coffee'}, {'Bread', 'Sandwich', 'Hot chocolate', 'NONE'}, {'Coffee', 'Pastry'}, {'Bread'}, {'NONE'}, {'Bread', 'NONE'}, {'Coffee'}, {'Scandinavian'}, {'Cake'}, {'Scandinavian', 'Bread'}, {'Coffee', 'Bread'}, {'Medialuna', 'Coffee'}, {'Frittata', 'Tea'}, {'Jammie Dodgers', 'Coffee', 'Scone'}, {'Coffee'}, {'Coffee', 'Jammie Dodgers', 'Tea', 'Bread'}, {'Coffee'}, {'Truffles', 'Smoothies', 'Sandwich', 'Mineral water', 'NONE'}, {'Coffee', 'Bread'}, {'Coffee', 'Sandwich'}, {'Tea', 'Hot chocolate'}, {'Sandwich', 'Coke'}, {'Farm House'}, {'Jammie Dodgers', 'Coffee'}, {'Afternoon with the baker'}, {'Scandinavian', 'Bread'}, {'Medialuna', 'Scone', 'Focaccia'}, {'Bread'}, {'Coffee', 'Sandwich', 'NONE'}, {'Medialuna', 'Bread'}, {'Bread'}, {'Bread'}, {'Truffles', 'Sandwich'}, {'Scandinavian'}, {'Muffin'}, {'Coffee', 'Scone', 'Bread'}, {'Scone', 'Tea', 'Sandwich', 'Coffee', 'Hot chocolate', 'NONE'}, {'Coffee', 'Tea'}, {'Scandinavian'}, {'Coffee', 'Tea', 'Frittata', 'NONE'}, {'Coffee', 'Scandinavian', 'Muffin', 'Frittata'}, {'Coffee'}, {'Tea', 'Bread'}, {'Fudge', 'Muffin', 'Sandwich', 'Jammie Dodgers', 'Bread', 'Coffee'}, {'Coffee'}, {'Focaccia'}, {'Truffles', 'Muffin', 'NONE', 'Bread'}, {'Coffee'}, {'Bread', 'Frittata', 'Scone', 'Tea'}, {'Sandwich', 'Truffles', 'Tea', 'NONE'}, {'Tea', 'Bread'}, {'Tea', 'Bread'}, {'Cake', 'Sandwich', 'Bread', 'Coffee', 'Hot chocolate'}, {'Coffee'}, {'Coffee', 'Bread'}, {'Sandwich'}, {'Coffee', 'Tiffin', 'Tea', 'Scone'}, {'Scone'}, {'Farm House', 'Scone'}, {'Cake', 'Coffee'}, {'Tea', 'Bread'}, {'Cake'}, {'Coffee', 'Bread'}, {'Truffles', 'Frittata', 'Toast'}, {'Pastry', 'Bread'}, {'Medialuna', 'Coffee'}, {'Medialuna', 'Pastry'}, {'Bread'}, {'Medialuna', 'Coffee', 'Bread'}, {'Bread'}, {'Tiffin', 'Coffee'}, {'Bread'}, {'Bread'}, {'Medialuna', 'Coffee', 'NONE', 'Bread'}, {'Bread', 'Tea', 'Muesli', 'NONE'}, {'Scandinavian'}, {'Tiffin', 'Coffee', 'Hot chocolate', 'Bread'}, {'Coffee'}, {'Sandwich', 'Tea', 'Smoothies', 'NONE'}, {'Smoothies', 'Tiffin', 'Sandwich', 'Jammie Dodgers', 'Bread', 'Coffee'}, {'Coffee', 'Bread'}, {'Sandwich', 'Coffee'}, {'Bread'}, {'Bread'}, {'Coffee', 'NONE'}, {'Bread'}, {'Coffee'}, {'Cake', 'Jammie Dodgers', 'Tiffin', 'Vegan mincepie'}, {'Farm House'}, {'The Nomad', 'Tea'}, {'Bread'}, {'Cookies', 'Coffee', 'Hot chocolate', 'Sandwich'}, {'Coffee'}, {'Cake', 'Coffee'}, {'The Nomad', 'Truffles', 'Coffee', 'Muffin'}, {'Frittata', 'Sandwich', 'The Nomad', 'Bread', 'Coffee', 'NONE'}, {'Coffee'}, {'Coffee'}, {'Sandwich', 'Bread'}, {'Coffee'}, {'Tiffin', 'Cake', 'Coffee', 'Bread'}, {'Truffles', 'Muffin', 'Tiffin', 'The Nomad', 'Bread'}, {'Tea'}, {'Juice'}, {'Vegan mincepie', 'Bread'}, {'Medialuna', 'Coffee', 'Hearty & Seasonal', 'Bread'}, {'Tea', 'Hot chocolate'}, {'Afternoon with the baker'}, {'Bread'}, {'Coffee'}, {'Bread'}, {'Bread'}, {'Tea'}, {'Pastry', 'Juice', 'NONE'}, {'Coffee'}, {'Coffee'}, {'Bread', 'NONE'}, {'Cookies', 'Toast', 'Coffee'}, {'Bread'}, {'Medialuna', 'Coffee', 'Pastry'}, {'Coffee', 'Muffin'}, {'Coffee'}, {'Scone', 'Bread'}, {'Coffee', 'Muffin'}, {'Bread'}, {'Coffee', 'Tea'}, {'Medialuna', 'Pastry', 'Juice'}, {'Coffee', 'Pastry'}, {'Cookies', 'Coffee', 'Scone'}, {'Coffee', 'Tea', 'NONE'}, {'Coffee'}, {'Farm House'}, {'Medialuna', 'Juice', 'Coke'}, {'Coffee'}, {'Coffee'}, {'Cake', 'Coffee', 'NONE', 'Tea'}, {'Coffee'}, {'Coffee', 'Sandwich', 'Scone'}, {'Toast', 'Tea'}, {'Coffee', 'NONE'}, {'Bread'}, {'Farm House'}, {'Jammie Dodgers', 'Tea', 'Scone'}, {'Coffee', 'Scone'}, {'The Nomad', 'Cake'}, {'Medialuna', 'Cake', 'Coffee'}, {'Farm House', 'Jammie Dodgers'}, {'Coffee', 'Tea', 'Bread'}, {'Tea', 'Bread'}, {'Cookies', 'Tea'}, {'Bread'}, {'Coffee'}, {'Bread'}, {'Farm House', 'Coffee'}, {'Farm House'}, {'Cookies', 'Tea'}, {'Coffee'}, {'Bread'}, {'Hot chocolate', 'Pastry', 'Bread'}, {'Cake', 'Coffee'}, {'Tea'}, {'Bread'}, {'Bread'}, {'Coffee', 'Scone'}, {'Coffee', 'Scone'}, {'Coffee'}, {'Farm House', 'Cake', 'Scandinavian', 'Toast', 'Coffee'}, {'Bread', 'Coffee', 'NONE'}, {'NONE'}, {'NONE'}, {'Farm House', 'Coffee'}, {'NONE'}, {'NONE'}, {'Sandwich', 'Tea'}, {'Muffin', 'NONE'}, {'NONE'}, {'NONE'}, {'Coffee', 'Sandwich', 'Scone'}, {'Farm House'}, {'Sandwich'}, {'Coffee', 'Bread'}, {'Tea', 'NONE'}, {'Sandwich'}, {'NONE'}, {'NONE', 'Coke'}, {'Jammie Dodgers'}, {'Frittata', 'Scone', 'Muffin', 'Pastry'}, {'Cake'}, {'Coffee', 'Pastry'}, {'Cake'}, {'NONE'}, {'Hearty & Seasonal', 'Coffee', 'Tea', 'NONE'}, {'Fudge', 'Bread'}, {'Coffee'}, {'Bread'}, {'Cake', 'Coffee'}, {'Coffee'}, {'Coffee'}, {'Tea', 'NONE'}, {'Bread'}, {'Bread'}, {'Bread'}, {'Toast', 'Coffee', 'Muffin'}, {'Medialuna', 'Coffee', 'Hot chocolate'}, {'Bread'}, {'Pastry', 'Bread'}, {'NONE', 'Bread'}, {'Coffee'}, {'Sandwich', 'Tea'}, {'Coffee'}, {'Medialuna', 'Coffee', 'Farm House', 'NONE'}, {'Coffee', 'Muffin'}, {'Coffee', 'Hot chocolate'}, {'Coffee'}, {'Tiffin', 'Toast', 'Tea', 'Muffin'}, {'Cookies', 'Farm House', 'Bread'}, {'Bread'}, {'Granola'}, {'Coffee', 'Scone'}, {'NONE', 'Bread'}, {'Medialuna', 'Coffee'}, {'Coffee', 'Muffin', 'Pastry'}, {'Coffee', 'Hot chocolate'}, {'Bread'}, {'Bread'}, {'NONE'}, {'Coffee', 'Bread'}, {'Bread'}, {'NONE'}, {'Hearty & Seasonal', 'Coffee'}, {'Bread'}, {'Art Tray', 'Sandwich', 'Bread', 'Coffee', 'NONE'}, {'Cake', 'NONE', 'Bread'}, {'Tea', 'Tiffin', 'Muffin', 'Alfajores'}, {'Coffee', 'NONE'}, {'Scandinavian'}, {'Afternoon with the baker', 'Cake'}, {'Bread'}, {'Cake', 'Tea', 'Scandinavian', 'Bread', 'Coffee'}, {'Scandinavian'}, {'NONE'}, {'Coffee', 'NONE'}, {'Sandwich', 'Bread'}, {'Afternoon with the baker'}, {'Cake'}, {'Tea', 'NONE'}, {'NONE'}, {'Cake', 'Coffee'}, {'Coffee', 'NONE'}, {'Cake', 'Coffee', 'Bread'}, {'Coffee', 'Scone'}, {'Hot chocolate'}, {'Cookies', 'Cake', 'Tea'}, {'Coffee'}, {'Tea', 'Pastry', 'Bread'}, {'Toast', 'Coffee'}, {'Coffee', 'Bread'}, {'Coffee'}, {'Farm House'}, {'Coffee', 'Tea'}, {'Cookies'}, {'Coffee'}, {'Bread'}, {'Jammie Dodgers', 'Juice'}, {'Bread'}, {'Cake', 'Coffee', 'Tea'}, {'Hot chocolate'}, {'Bread', 'Coffee', 'Alfajores'}, {'Cookies', 'Tiffin', 'Coffee'}, {'Jammie Dodgers'}, {'Cake', 'Coffee', 'Toast', 'Tea'}, {'Coffee'}, {'Coffee', 'Vegan mincepie'}, {'Tea', 'Bread'}, {'Toast', 'Coffee', 'NONE'}, {'Tea', 'NONE'}, {'Coffee'}, {'Cake'}, {'Coffee'}, {'NONE', 'Bread'}, {'Toast', 'Coffee'}, {'Cookies'}, {'Toast', 'Tea'}, {'Farm House'}, {'Coke', 'NONE'}, {'Coke'}, {'Bread'}, {'Toast'}, {'Coffee', 'Tiffin', 'Bread'}, {'Jammie Dodgers', 'Coffee', 'Frittata'}, {'Coffee', 'Frittata'}, {'Tea', 'Bread'}, {'Coffee'}, {'Bread'}, {'Tea'}, {'Scandinavian'}, {'Farm House', 'Coffee', 'Hot chocolate'}, {'Scandinavian', 'Pastry'}, {'Toast', 'Coffee'}, {'Bread'}, {'Cookies', 'Cake', 'Coffee'}, {'Toast', 'Bread'}, {'Sandwich', 'Coffee', 'Bread'}, {'Coffee'}, {'Scandinavian', 'Bread'}, {'Medialuna', 'Coffee', 'Alfajores'}, {'Coffee'}, {'Coffee', 'Pastry'}, {'Coffee', 'Juice', 'NONE'}, {'Coffee'}, {'Pastry', 'NONE', 'Bread', 'Coffee', 'Salad'}, {'Coffee'}, {'Bread'}, {'Bread'}, {'Hot chocolate'}, {'Toast', 'Coffee'}, {'Sandwich'}, {'Truffles', 'NONE'}, {'Medialuna', 'Cake', 'Coffee', 'Toast'}, {'Coffee'}, {'Cake', 'Coffee', 'Vegan mincepie'}, {'Bread'}, {'NONE'}, {'Farm House'}, {'Coffee'}, {'Sandwich', 'Tea', 'Scone'}, {'Bread', 'Coffee', 'NONE'}, {'Jammie Dodgers', 'Coffee'}, {'Coffee', 'Toast', 'Tea', 'NONE'}, {'Tea', 'Tiffin', 'NONE', 'Bread', 'Coffee', 'Salad'}, {'Cake', 'Pastry', 'Alfajores', 'Bread', 'Coffee'}, {'Coffee', 'Scone'}, {'Tea'}, {'Brownie', 'Coffee', 'Pastry'}, {'NONE'}, {'Bread', 'NONE'}, {'Tea'}, {'Scone'}, {'Bread'}, {'Tea', 'Scone'}, {'Cake', 'Coffee', 'Scone', 'Tea'}, {'Cake', 'Truffles', 'Coffee', 'Vegan mincepie'}, {'Bread'}, {'Medialuna', 'Hot chocolate'}, {'Tea', 'Jammie Dodgers', 'Bread', 'Cookies', 'Hot chocolate'}, {'Bread'}, {'Toast', 'Coffee'}, {'Coffee'}, {'Scandinavian', 'Bread'}, {'Tiffin', 'Tea', 'Brownie', 'Cookies', 'Coffee'}, {'Tiffin'}, {'Coffee'}, {'Tiffin', 'Toast', 'Coffee', 'Farm House'}, {'Medialuna', 'Toast', 'Hot chocolate', 'Bread'}, {'Medialuna', 'Toast', 'Hot chocolate', 'Bread'}, {'Medialuna', 'Toast', 'Hot chocolate', 'Bread'}, {'Scone', 'Alfajores'}, {'Cookies', 'Coffee'}, {'Coffee'}, {'Brownie', 'Pastry', 'Bread'}, {'Bread'}, {'Pastry', 'Bread'}, {'Coffee'}, {'Hearty & Seasonal', 'Coffee', 'Hot chocolate', 'Bread'}, {'Coffee'}, {'Bread'}, {'Cake'}, {'Cookies', 'Coffee', 'Scone'}, {'Medialuna', 'Cake', 'Coffee', 'Tiffin'}, {'Medialuna', 'Coffee'}, {'Medialuna', 'Truffles', 'Tea'}, {'Coffee', 'Pastry'}, {'Coffee', 'Hot chocolate', 'NONE'}, {'Scandinavian'}, {'Coffee', 'Scone', 'Tea'}, {'Coffee'}, {'Hearty & Seasonal', 'Scone', 'Bread', 'Cookies', 'Coffee', 'Hot chocolate', 'NONE'}, {'Bread'}, {'Bread'}, {'Coffee', 'Pastry', 'Alfajores'}, {'Cake', 'Tiffin', 'Bread', 'Coffee', 'Hot chocolate'}, {'Farm House', 'Cake'}, {'Coffee', 'Pastry'}, {'Coffee', 'Alfajores'}, {'Tea', 'NONE'}, {'Hearty & Seasonal', 'Coffee'}, {'Coffee'}, {'Tiffin', 'Tea', 'NONE', 'Bread'}, {'Tea'}, {'Bread'}, {'Coffee', 'NONE', 'Tea'}, {'Bread'}, {'Hearty & Seasonal', 'Cake', 'Tiffin', 'Tea', 'Bread', 'Coffee'}, {'Bread'}, {'Bread'}, {'Hot chocolate'}, {'Brownie', 'Coffee', 'Pastry', 'Bread'}, {'Scone'}, {'Alfajores', 'Brownie', 'Juice', 'Toast', 'Coffee'}, {'Cake', 'Tea', 'Alfajores', 'Bread', 'Toast', 'Coffee'}, {'NONE'}, {'Coffee', 'Hearty & Seasonal', 'Sandwich'}, {'Hearty & Seasonal', 'Juice', 'Coffee', 'Hot chocolate', 'NONE'}, {'Brownie', 'Bread'}, {'Sandwich', 'Hearty & Seasonal', 'Cake', 'Coffee'}, {'Coffee'}, {'Fudge'}, {'Tiffin', 'Scone', 'Tea'}, {'Sandwich', 'Coffee'}, {'Bread', 'Frittata', 'Tea'}, {'Coffee'}, {'Farm House'}, {'Alfajores', 'Cake', 'Bread'}, {'Cake', 'Coffee', 'Bread'}, {'Mineral water'}, {'Bread'}, {'Focaccia'}, {'Tea', 'Bread'}, {'Scandinavian'}, {'Cake'}, {'Tiffin'}, {'Cookies', 'Muffin'}, {'Cake', 'Coffee'}, {'Afternoon with the baker'}, {'Afternoon with the baker'}, {'Afternoon with the baker'}, {'Cake', 'Coffee'}, {'Medialuna'}, {'Jammie Dodgers', 'Cake', 'Bread'}, {'Bread'}, {'The Nomad', 'Coffee'}, {'The Nomad', 'Tiffin', 'Tea', 'Bread'}, {'Coffee', 'Bread'}, {'Coffee'}, {'Coffee', 'Brioche and salami', 'Bread'}, {'Coffee', 'Granola', 'Bread'}, {'Cake', 'Coffee', 'Scone', 'Juice'}, {'Coffee', 'Bread'}, {'Bread'}, {'Bread'}, {'Farm House', 'Bread'}, {'Medialuna', 'Coffee', 'Pastry', 'Bread'}, {'Farm House', 'Coffee', 'Bread'}, {'Coffee', 'Pastry'}, {'Pastry', 'Bread'}, {'Bread'}, {'Coffee', 'Bread'}, {'Coffee'}, {'Jammie Dodgers', 'Brownie', 'Juice', 'Bread'}, {'Granola', 'Pastry', 'Bread', 'Toast', 'Coffee'}, {'Tiffin', 'Cake', 'Coffee', 'Granola'}, {'Coffee', 'Gingerbread syrup'}, {'Hearty & Seasonal', 'Cake', 'Coffee'}, {'Pastry', 'Tea', 'Bread', 'Coffee', 'NONE'}, {'Coffee', 'Alfajores'}, {'NONE'}, {'Medialuna', 'Jammie Dodgers', 'Sandwich', 'Muffin'}, {'Bread'}, {'Coffee', 'Juice', 'Tea'}, {'Alfajores'}, {'Hearty & Seasonal', 'Truffles', 'Scone', 'Mineral water', 'Bread'}, {'Cookies', 'Jammie Dodgers', 'Coffee'}, {'Toast', 'Bread'}, {'Coffee', 'Bread'}, {'Truffles', 'Coffee'}, {'Scone', 'Bread'}, {'Jammie Dodgers', 'Cake', 'Coffee', 'Tea'}, {'Jammie Dodgers', 'Coffee'}, {'Bread'}, {'Medialuna', 'Coffee', 'Tea', 'Alfajores'}, {'Tea', 'Alfajores', 'Brownie', 'Bread', 'Hot chocolate'}, {'Coffee', 'Scone'}, {'NONE', 'Bread'}, {'Afternoon with the baker'}, {'Bread'}, {'Coffee'}, {'Bread'}, {'Bread'}, {'Bread'}, {'Cookies', 'Scandinavian', 'Bread'}, {'Coffee'}, {'Coffee'}, {'Cookies', 'Medialuna', 'Coffee'}, {'Cookies', 'Coffee', 'Juice', 'Bread'}, {'Cookies', 'Hot chocolate'}, {'Bread'}, {'Coffee'}, {'Cake', 'Tea'}, {'Cookies', 'Tea'}, {'Coffee'}, {'Medialuna', 'Bread'}, {'Coffee', 'Scone', 'Tea'}, {'Brownie', 'Bread'}, {'Sandwich'}, {'Coffee'}, {'Toast'}, {'Bread'}, {'Bread'}, {'Coffee'}, {'Coffee'}, {'Tea', 'Bread'}, {'Coffee'}, {'Coke', 'NONE'}, {'Jammie Dodgers', 'Bread'}, {'Medialuna', 'Alfajores', 'Bread'}, {'Medialuna'}, {'Coffee'}, {'Coffee', 'Bread'}, {'Tea', 'Coke'}, {'NONE'}, {'Truffles'}, {'Muffin'}, {'Bread', 'Alfajores'}, {'Bread'}, {'Coffee', 'Pastry'}, {'Coffee', 'Tea'}, {'Toast', 'Coffee'}, {'Coffee'}, {'Coffee', 'Pastry'}, {'Sandwich', 'Bread'}, {'Coffee', 'Alfajores'}, {'Medialuna', 'Bread'}, {'Bread'}, {'Tea'}, {'Coffee'}, {'Alfajores'}, {'Bread', 'Alfajores'}, {'Coffee'}, {'Coffee'}, {'Cake', 'Coffee'}, {'Jammie Dodgers', 'Bread'}, {'Sandwich', 'Toast', 'Coffee'}, {'Hearty & Seasonal', 'Cake', 'Smoothies', 'Sandwich', 'Coffee'}, {'Bread'}, {'Truffles', 'Sandwich'}, {'Coffee', 'Sandwich', 'Salad'}, {'Hearty & Seasonal', 'Muffin', 'Bread', 'Cookies', 'Hot chocolate', 'NONE'}, {'Farm House'}, {'Cake', 'Truffles', 'Coffee', 'Scandinavian'}, {'Tea', 'NONE'}, {'Sandwich', 'Alfajores', 'Bread', 'Coffee', 'Salad'}, {'Toast', 'Coffee', 'Bread'}, {'Cake', 'Coffee'}, {'Alfajores', 'Truffles', 'Coffee', 'NONE'}, {'Chicken Stew', 'Coffee', 'Tea'}, {'Coffee', 'Pastry'}, {'Coffee'}, {'Coffee'}, {'Coffee'}, {'Soup', 'Cake', 'Coffee'}, {'Tea'}, {'Coffee'}, {'Tea'}, {'Coffee'}, {'Cake', 'Tea', 'Bread'}, {'Bread'}, {'Tea'}, {'Bread'}, {'Coffee'}, {'Bread'}, {'Coffee', 'Cake', 'Tea', 'Muffin'}, {'Scandinavian'}, {'Bread'}, {'Farm House'}, {'Tea'}, {'Coffee', 'Tea', 'NONE'}, {'Medialuna', 'Coffee', 'Tea'}, {'Bread'}, {'Coffee', 'Muffin', 'Pastry', 'Tea'}, {'Coffee', 'Tea'}, {'Cake', 'Hot chocolate', 'Coke'}, {'Soup', 'Tea', 'Pastry'}, {'Sandwich', 'Alfajores'}, {'Sandwich'}, {'Focaccia', 'Bread'}, {'Sandwich', 'Coffee', 'Juice', 'Crisps'}, {'Coffee', 'Tea', 'Salad', 'Soup'}, {'Cookies', 'Coffee'}, {'Cookies', 'Tea'}, {'Cake'}, {'Cake', 'Coffee', 'Tea', 'Coke'}, {'Jammie Dodgers', 'Coffee'}, {'Sandwich', 'Coke'}, {'Medialuna', 'Tea', \"Ella's Kitchen Pouches\", 'Juice', 'Cookies'}, {'Cake', 'Muffin', 'Jammie Dodgers', 'Bread', 'Hot chocolate'}, {'Cake', 'Coffee'}, {'Cake'}, {'Cake', 'Tea'}, {'Cookies', 'Cake', 'Coffee', 'Tea'}, {'Cookies', 'Tea'}, {'Fudge', 'Focaccia'}, {'Toast', 'Coffee', 'Pastry'}, {'Sandwich', 'Tea'}, {'Spanish Brunch', 'Granola', 'Tea', 'Sandwich', 'Hot chocolate'}, {'Medialuna', 'Coffee'}, {'Bread'}, {'Coffee'}, {'Toast', 'Coffee'}, {'Coffee', 'Pastry'}, {'Bread'}, {'Farm House'}, {'Cookies', 'Bread'}, {'Bread'}, {'Cake', 'Hot chocolate'}, {'Cake', 'Pastry', 'Mineral water'}, {'Tea'}, {'Cake', 'Jammie Dodgers', 'Tea', 'Juice'}, {'Tiffin'}, {'Cake', 'Muffin'}, {'Medialuna', 'Truffles', 'Coke', 'Juice', 'Coffee'}, {'Coffee'}, {'Coffee'}, {'Coffee'}, {'Coffee'}, {'Coffee', 'Pastry'}, {'Cake', 'Coffee'}, {'Tiffin', 'Bread'}, {'Scandinavian', 'Bread'}, {'Alfajores', 'Coffee', 'Tea'}, {'Chicken Stew'}, {'Coffee'}, {'Medialuna', 'Coffee', 'Juice', 'Crisps'}, {'Coffee'}, {'Farm House'}, {'Coffee', 'Salad'}, {'Bread'}, {'Medialuna', 'Bread'}, {'Sandwich', 'Coffee'}, {'Chicken Stew', 'Hot chocolate', 'NONE'}, {'Sandwich', 'Medialuna', 'Coffee', 'Tea'}, {'Cake', 'Pastry', 'Chicken Stew', 'Tea', 'Alfajores', 'Focaccia', 'Bread', 'Soup'}, {'Soup', 'Coffee', 'Muffin', 'Bread'}, {'Bread'}, {'Cake', 'Coffee', 'Tea'}, {'Coffee', 'Sandwich', 'Tea'}, {'Coffee'}, {'Bread'}, {'Coffee'}, {'Bread'}, {'Hot chocolate'}, {'Tiffin', 'Coffee', 'Bread'}, {'Hot chocolate'}, {'Tiffin', 'Coffee', 'Hot chocolate'}, {'Cookies', 'Coffee', 'Bread'}, {'Farm House'}, {'Afternoon with the baker', 'Coffee', 'Scandinavian'}, {'Coffee', 'Bread'}, {'Toast', 'Coffee', 'Tea'}, {'Toast', 'Coffee'}, {'Coffee'}, {'Toast', 'Coffee'}, {'Medialuna', 'Coffee'}, {'Coffee'}, {'Cake'}, {'Pastry', 'Bread'}, {'Coffee'}, {'Bread'}, {'Farm House'}, {'Cookies', 'Toast', 'Coffee'}, {'Coffee', 'Pastry'}, {'Coffee'}, {'NONE', 'Bread'}, {'Tea', 'Granola', 'Bread'}, {'Scone', 'Sandwich', 'Tea', 'Bread', 'NONE'}, {'Coffee', 'Pastry'}, {'Coffee', 'Pastry', 'Bread'}, {'Bread'}, {'Bread'}, {'Muffin'}, {'Farm House'}, {'Coffee', 'Scone', 'Tea'}, {'Coffee'}, {'Bread'}, {'Bread'}, {'Coffee', 'Scone'}, {'Bread'}, {'Chicken Stew'}, {'Coffee', 'Tea'}, {'Coffee', 'Scone', 'Tea'}, {'Farm House', 'Cake', 'Scandinavian', 'Pastry'}, {'Smoothies', 'Muffin'}, {'Sandwich', 'Coffee', 'Salad', 'Tea'}, {'Truffles', 'Sandwich'}, {'Sandwich', 'Coffee'}, {'Coffee', 'Bread'}, {'Chicken Stew'}, {'Coffee', 'Bread'}, {'Coffee'}, {'Sandwich', 'Coffee'}, {'Hot chocolate'}, {'Medialuna'}, {'Hot chocolate'}, {'Coffee'}, {'Cake'}, {'Coffee', 'Alfajores'}, {'Coffee', 'Bread'}, {'Bread'}, {'Muffin', 'Bread'}, {'Coffee', 'Bread'}, {'Cake', 'Coffee'}, {'Muffin', 'Bread'}, {'Tiffin', 'Tea'}, {'Coffee'}, {'Sandwich', 'Tea', 'Bread'}, {'Coffee', 'Pastry'}, {'Scandinavian'}, {'Medialuna', 'Tea', 'Juice', 'Vegan mincepie'}, {'Coffee', 'Scone'}, {'Brownie', 'Tea', 'Raspberry shortbread sandwich'}, {'Sandwich', 'Tea'}, {'Cookies', 'Coffee'}, {'Cookies'}, {'Farm House'}, {'Bread'}, {'Bread'}, {'Medialuna', 'Coffee'}, {'Coffee', 'Pastry'}, {'Medialuna', 'Coffee', 'Pastry'}, {'Coffee', 'NONE'}, {'Cake'}, {'Medialuna'}, {'Coffee'}, {'Farm House'}, {'Brownie', 'Bread'}, {'Brownie', 'Coffee'}, {'Alfajores', 'Scandinavian', 'Bread'}, {'Bread'}, {'Medialuna', 'Bread'}, {'Pastry', 'Bread'}, {'Coffee'}, {'Medialuna', 'Tea', 'Scone', 'Juice'}, {'Coffee', 'Tiffin'}, {'Cake', 'Coffee'}, {'Scone', 'Bread'}, {'Medialuna', 'Coffee'}, {'Coffee'}, {'Spanish Brunch', 'Tea', 'Alfajores'}, {'Cake'}, {'Tiffin', 'Toast', 'Coffee'}, {'Brownie'}, {'Pastry'}, {'Afternoon with the baker'}, {'Farm House'}, {'Cake', 'Coffee', 'Juice', 'Coke'}, {'Cookies', 'Bread', 'Tiffin', 'NONE'}, {'Cake', 'Coffee', 'Scone'}, {'Coffee'}, {'Tiffin', 'Alfajores', 'Brownie', 'Bread', 'Coffee'}, {'Medialuna', 'Cake', 'Coffee'}, {'Coffee', 'Granola'}, {'Cake', 'Hot chocolate'}, {'Tiffin', 'Tea', 'Scone'}, {'Bread'}, {'Tea', 'NONE'}, {'Coffee', 'Bread'}, {'Cake', 'Scone', 'Juice', 'Toast', 'Coffee', 'NONE'}, {'Scone', 'Tiffin', 'Tea', 'Jammie Dodgers', 'Bread', 'Coffee', 'Hot chocolate', 'NONE'}, {'Scandinavian'}, {'Afternoon with the baker'}, {'Bread'}, {'Cookies'}, {'Bread'}, {'Bread'}, {'Spanish Brunch', 'Coffee', 'NONE'}, {'Scandinavian'}, {'Scandinavian'}, {'Brownie', 'Scone'}, {'Cake', 'Jammie Dodgers'}, {'NONE'}, {'Sandwich'}, {'Hot chocolate'}, {'Coffee'}, {'Coffee', 'Tea'}, {'Cake', 'Smoothies', 'Sandwich', 'Bread', 'NONE'}, {'Coffee', 'Spanish Brunch', 'Sandwich', 'Truffles'}, {'Cookies'}, {'Toast', 'Sandwich', 'Fudge', 'Tea'}, {'Jammie Dodgers', 'Coffee'}, {'Jammie Dodgers', 'Cake'}, {'NONE'}, {'Frittata', 'Bread'}, {'Coffee'}, {'Afternoon with the baker'}, {'Coffee', 'Raspberry shortbread sandwich', 'Bread'}, {'Cake', 'Sandwich', 'Extra Salami or Feta', 'Tea', 'Bread', 'NONE'}, {'Tea', 'Duck egg', 'NONE'}, {'Scandinavian'}, {'Brownie', 'Coffee', 'Hot chocolate'}, {'Spanish Brunch', 'Bread'}, {'Coffee', 'Bread'}, {'Jam'}, {'Coffee', 'Scone', 'Frittata'}, {'Cake', 'Coffee', 'Bread'}, {'Cake', 'Extra Salami or Feta', 'Brownie', 'Coffee', 'Hot chocolate', 'NONE'}, {'Fudge'}, {'Coffee'}, {'Scone', 'Hot chocolate', 'Bread'}, {'Cake'}, {'Frittata', 'Bread'}, {'Coffee', 'Bread'}, {'Brownie'}, {'Cake', 'Muffin'}, {'Cake'}, {'Coffee', 'Hot chocolate'}, {'Tea', 'Frittata'}, {'Coffee'}, {'Cookies', 'Tea', 'Hot chocolate', 'Juice'}, {'Cake', 'Hot chocolate', 'Bread'}, {'Bread'}, {'Cookies', 'Coffee', 'Scone', 'Juice'}, {'Brownie', 'Coffee', 'Scone'}, {'Coffee'}, {'Tea', 'Raspberry shortbread sandwich'}, {'Afternoon with the baker'}, {'Pastry', 'Tea', 'Tiffin', 'Alfajores', 'Coffee', 'Hot chocolate'}, {'Medialuna', 'Coffee'}, {'Toast', 'Coffee'}, {'Coffee'}, {'Toast', 'Coffee'}, {'Coffee'}, {'Coffee', 'Bread'}, {'Eggs', 'Bread'}, {'Bread'}, {'Frittata', 'Coffee', 'Scone', 'Bread'}, {'Medialuna'}, {'Bread'}, {'Coffee', 'Bread'}, {'Toast', 'Coffee', 'NONE'}, {'Medialuna'}, {'Scone'}, {'Coffee', 'Toast', 'Tea', 'Bread'}, {'Alfajores', 'Bread'}, {'Cake', 'Coffee', 'NONE'}, {'Cake', 'Coffee', 'Bread'}, {'Coffee', 'Tea', 'Bread'}, {'Cake', 'Hot chocolate', 'Bread'}, {'Tea'}, {'Coffee', 'Alfajores'}, {'Coffee', 'Hot chocolate'}, {'Smoothies', 'The Nomad', 'Bread', 'Afternoon with the baker', 'Hot chocolate'}, {'Tea'}, {'Bread'}, {'Jammie Dodgers'}, {'The Nomad', 'Coffee', 'Juice'}, {'Cake', 'Scone', 'Pastry', 'Bread'}, {'Sandwich', 'Coffee', 'Scone'}, {'Cake', 'Coffee', 'Pastry'}, {'Cookies', 'Tea', 'Soup'}, {'Jammie Dodgers', 'Cake', 'Hot chocolate', 'Bread'}, {'Soup'}, {'Salad'}, {'Frittata', 'Pastry'}, {'Bread'}, {'Cake', 'Jammie Dodgers', 'Tiffin', 'Alfajores'}, {'Sandwich', 'Extra Salami or Feta', 'Soup', 'Coffee', 'Salad'}, {'Coffee', 'Alfajores'}, {'Cake'}, {'Tea'}, {'Jammie Dodgers', 'Smoothies', 'Hot chocolate', 'Tea'}, {'Coffee', 'Bread'}, {'Soup', 'Toast', 'Coffee', 'Juice'}, {'Bread', 'Coffee', 'Alfajores'}, {'Spanish Brunch', 'Coffee', 'Duck egg'}, {'Soup', 'Cake', 'Coffee'}, {'Coffee'}, {'Sandwich'}, {'Sandwich', 'Coffee'}, {'Toast', 'Tea'}, {'Coffee'}, {'Medialuna', 'Cake', 'Truffles', 'Jammie Dodgers', 'Juice', 'Bread'}, {'Jammie Dodgers', 'Coffee'}, {'Bread'}, {'Bread', 'Smoothies', 'Fudge', 'Tea'}, {'Bread'}, {'Bread'}, {'Coffee'}, {'Coffee'}, {'Toast', 'Hot chocolate'}, {'Sandwich', 'Tea', 'Hot chocolate'}, {'Coffee', 'Tea', 'Hot chocolate'}, {'Cake'}, {'Cake', 'Extra Salami or Feta', 'Toast', 'Coffee', 'NONE'}, {'Coffee', 'Pastry', 'Bread'}, {'Toast', 'Coffee'}, {'Sandwich', 'Bread'}, {'Coffee'}, {'Cake', 'Sandwich', 'Hot chocolate'}, {'Farm House', 'Pastry'}, {'Soup', 'Coffee'}, {'Soup', 'Bread'}, {'Tea'}, {'Cake', 'Frittata'}, {'Coffee', 'Cake', 'Tea'}, {'Cookies', 'Cake'}, {'Cake', 'Tea', 'NONE'}, {'Cake'}, {'Cookies'}, {'Cake', 'Soup', 'Sandwich', 'Tea', 'Cookies', 'Coffee'}, {'Cookies', 'Tea'}, {'Bread'}, {'Crisps', 'Cake', 'Sandwich', 'Coke'}, {'Soup', 'Coffee'}, {'Cake', 'Spanish Brunch', 'Tea', 'Bread'}, {'Coffee'}, {'Bread'}, {'Coffee'}, {'Coffee'}, {'Coffee', 'Bread'}, {'Cake', 'Coffee', 'Bread'}, {'Medialuna', 'Coffee'}, {'Cake'}, {'Soup', 'Cake', 'Coffee'}, {'Coffee', 'Alfajores'}, {'Chicken Stew', 'Coffee', 'Juice'}, {'Cake', 'Coffee', 'Hot chocolate'}, {'Cookies', 'Toast', 'Tea', 'Hot chocolate'}, {'Coffee'}, {'Cookies', 'Cake', 'Coffee', 'Hot chocolate'}, {'Cake', 'Hot chocolate'}, {'Bread'}, {'Bread'}, {'Bread'}, {'Coffee', 'Pastry'}, {'Coffee'}, {'Coffee', 'Scandinavian', 'Focaccia'}, {'Bread'}, {'Coffee'}, {'Coffee'}, {'Coffee'}, {'Coffee'}, {'Cookies', 'Bread'}, {'Scandinavian'}, {'Scandinavian'}, {'Scandinavian'}, {'Farm House'}, {'Coffee'}, {'Bread'}, {'Farm House'}, {'Coffee', 'Vegan mincepie'}, {'Coffee'}, {'Medialuna', 'Coffee', 'Bread'}, {'Coffee', 'Muffin', 'Pastry', 'Tea'}, {'Cake'}, {'Chicken Stew'}, {'Tea'}, {'Soup'}, {'Salad', 'Spanish Brunch', 'Coffee', 'Bread'}, {'Coke', 'NONE'}, {'Tea', 'NONE'}, {'Chicken Stew'}, {'Bread'}, {'Coffee', 'Art Tray', 'Tea', 'Soup'}, {'Medialuna', 'Focaccia', 'Bread', 'Cookies', 'Coffee'}, {'Bread'}, {'Soup'}, {'Art Tray', 'Truffles', 'Pastry', 'Coke', 'Chicken Stew', 'Bread', 'Coffee'}, {'Focaccia', 'Bread'}, {'Frittata', 'Tea'}, {'Art Tray', 'Chicken Stew', 'Coffee'}, {'Scandinavian', 'Bread'}, {'Spanish Brunch', 'Tea', 'Salad'}, {'Cake'}, {'Coffee', 'Hot chocolate'}, {'Spanish Brunch', 'Juice', 'Truffles'}, {'Coffee', 'Pastry'}, {'Cake'}, {'Sandwich', 'Fudge'}, {'Cookies', 'Muffin'}, {'Bread'}, {'Coffee'}, {'Cake', 'Coffee'}, {'Chicken Stew', 'Tea'}, {'Cake', 'Coffee', 'Bread'}, {'Cake', 'Bread'}, {'Bread'}, {'Coffee', 'Bread'}, {'Coffee', 'Pastry'}, {'Cake', 'Tea'}, {'Bread'}, {'Bread'}, {'Toast', 'Coffee'}, {'Coffee'}, {'Medialuna', 'Bread'}, {'Eggs', 'Coffee', 'Pastry'}, {'Coffee'}, {'Cookies', 'Scandinavian'}, {'Bread'}, {'Bread'}, {'Bread'}, {'Medialuna'}, {'Farm House'}, {'Bread', 'Baguette'}, {'Bread'}, {'Baguette'}, {'Soup'}, {'Tea'}, {'Cookies', 'Coffee', 'Pastry', 'Tea'}, {'Bread'}, {'Bread'}, {'Sandwich', 'Chicken Stew', 'Coffee', 'Tea'}, {'Coffee', 'Sandwich', 'Coke'}, {'Sandwich'}, {'Sandwich'}, {'Coffee'}, {'Bread'}, {'Coffee', 'Sandwich', 'Tea'}, {'Hot chocolate', 'Bread'}, {'The Nomad', 'Cake', 'Tea'}, {'Soup', 'Tea', 'Bread'}, {'Soup', 'Medialuna', 'Tea', 'Sandwich'}, {'Cake', 'Coffee', 'Tea'}, {'Sandwich'}, {'Tea'}, {'Coke'}, {'Bread'}, {'Tea'}, {'Cake', 'Juice'}, {'Cake', 'Coffee'}, {'Muffin'}, {'Bread'}, {'Medialuna', 'Bread'}, {'Tea'}, {'Coffee', 'Bread'}, {'Bread'}, {'Farm House'}, {'Tea', 'Bread', 'Cookies', 'Coffee', 'Hot chocolate'}, {'Coffee'}, {'Coffee'}, {'Coffee', 'Muffin', 'Bread'}, {'Muffin'}, {'Cookies', 'Juice'}, {'Cookies', 'Coffee', 'Hot chocolate'}, {'Cake', 'Muffin', 'Tea', 'Juice', 'Coffee'}, {'Cake', 'Muffin', 'Tea', 'Juice', 'Coffee'}, {'Coffee'}, {'Toast', 'Coffee', 'Bread'}, {'Sandwich', 'Art Tray', 'Coffee', 'Hot chocolate'}, {'Tea', 'Muffin', 'Juice'}, {'Coffee'}, {'Coffee'}, {'Cookies', 'Coffee'}, {'Baguette', 'Bread'}, {'Coffee', 'Bread'}, {'Coffee'}, {'Spanish Brunch', 'Bread'}, {'Coffee', 'Muffin'}, {'Hot chocolate', 'Baguette'}, {'Sandwich', 'Medialuna', 'Coffee'}, {'Bread'}, {'Soup', 'Coffee', 'Tea'}, {'Medialuna', 'Bread'}, {'Chicken Stew'}, {'Coffee', 'Spanish Brunch', 'Tea'}, {'Soup', 'Coffee', 'Muffin'}, {'Soup', 'Cake', 'Tea'}, {'Sandwich', 'Muffin', 'Bread'}, {'Coffee', 'Sandwich', 'Bread'}, {'Baguette', 'Bread'}, {'Jam', 'Pastry', 'Bread'}, {'Bread'}, {'Pastry'}, {'Cake'}, {'Spanish Brunch', 'Chicken Stew'}, {'Farm House', 'Bread'}, {'Cake', 'Tea'}, {'Medialuna', 'Tea'}, {'Coffee', 'Cookies', 'Tea'}, {'Coffee', 'Muffin'}, {'Bread'}, {'Hot chocolate', 'Pastry'}, {'Bread'}, {'Bread'}, {'Cookies', 'Bread'}, {'Toast', 'Coffee'}, {'Bread'}, {'Coffee'}, {'Pastry', 'Coffee', 'Juice'}, {'Cookies', 'Coffee', 'Muffin'}, {'Pastry', 'Bread'}, {'Medialuna'}, {'Farm House'}, {'The Nomad', 'Spanish Brunch', 'Tea', 'Bread'}, {'Medialuna', 'Coffee'}, {'Farm House', 'Scandinavian'}, {'Bread'}, {'Coffee'}, {'Coffee'}, {'Cookies', 'Coffee', 'Bread'}, {'Coffee', 'Juice'}, {'Medialuna', 'Coffee', 'Bread'}, {'Toast', 'Coffee'}, {'Coffee', 'Pastry'}, {'Farm House'}, {'Cake', 'Coffee', 'Muffin', 'Bread'}, {'Coffee'}, {'Bread'}, {'Coffee', 'Muffin'}, {'Sandwich'}, {'Cake', 'Coffee', 'Hot chocolate', 'Pastry'}, {'Coffee', 'Scone', 'Bread'}, {'Medialuna', 'Cake', 'Coffee', 'Tea'}, {'Bread'}, {'Bread'}, {'Soup', 'Tea'}, {'Coffee'}, {'Sandwich', 'Coffee'}, {'Bread'}, {'Soup', 'Truffles'}, {'Soup', 'Truffles'}, {'Chicken Stew', 'Coffee'}, {'Soup'}, {'Soup'}, {'Spanish Brunch', 'Sandwich', 'Juice', 'Truffles'}, {'Cookies'}, {'Muffin', 'Bread'}, {'Brownie', 'Coffee', 'Tea'}, {'Tea'}, {'Soup', 'Coffee', 'Extra Salami or Feta', 'Tea'}, {'Baguette'}, {'Soup', 'Tea', 'Muffin', 'Bread'}, {'Soup', 'Coffee', 'Sandwich'}, {'Coffee'}, {'Tea'}, {'Tea'}, {'Tea'}, {'Coffee', 'Scone'}, {'Cookies', 'Coffee', 'Muffin'}, {'Cookies', 'Bread'}, {'Coffee'}, {'Soup', 'Scone', 'Hot chocolate'}, {'Coffee', 'Scone'}, {'Bread'}, {'Cookies', 'Bread'}, {'Cake', 'Scone', 'Juice', 'Bread', 'Toast'}, {'Cake', 'Tea', 'Hot chocolate'}, {'Soup', 'Tea', 'Bakewell'}, {'Cake', 'Bakewell', 'Brownie', 'Bread', 'Cookies', 'Coffee'}, {'Cake', 'Coffee'}, {'Cookies', 'Cake', 'Coffee'}, {'Cookies', 'Tea', 'Coffee'}, {'Coffee'}, {'Medialuna', 'Farm House', 'Pastry', 'Brownie', 'Juice', 'Coffee'}, {'Bread'}, {'Alfajores', 'Coffee', 'Pastry', 'Bread'}, {'Scone'}, {'Scone', 'Pastry'}, {'Coffee', 'Pastry', 'NONE'}, {'Eggs', 'Bread'}, {'Toast', 'Coffee'}, {'Tea', 'NONE'}, {'Baguette', 'Bread'}, {'Farm House'}, {'Medialuna', 'Bread'}, {'Farm House', 'Baguette'}, {'The Nomad', 'Tea', 'Coffee'}, {'Bakewell', 'Pastry', 'Juice', 'Coffee', 'Hot chocolate'}, {'Coffee', 'Bakewell', 'Baguette'}, {'Bread'}, {'Coffee'}, {'Coffee', 'Pastry', 'NONE'}, {'Coffee', 'Hot chocolate', 'Muffin'}, {'Scandinavian'}, {'Coffee', 'Toast', 'Tea', 'NONE'}, {'Bread'}, {'Bread'}, {'Medialuna', 'Bread'}, {'Coffee', 'Tea'}, {'Cookies', 'Coffee'}, {'Vegan mincepie', 'Frittata', 'Pastry'}, {'Bread'}, {'Coffee', 'Muffin'}, {'Medialuna'}, {'Cake'}, {'Frittata', 'Smoothies', 'Scone', 'Brownie', 'Juice', 'Bread', 'Coffee'}, {'Coffee', 'Bakewell', 'Bread'}, {'Coffee'}, {'Focaccia', 'Bread'}, {'The Nomad', 'Tea', 'Coffee', 'NONE'}, {'Bread'}, {'Baguette', 'Bread'}, {'Bread'}, {'Tea'}, {'Medialuna', 'Coffee'}, {'Juice'}, {'Brownie', 'Coffee', 'Hot chocolate'}, {'Medialuna', 'Coffee'}, {'Coffee'}, {'Brownie', 'Bread'}, {'Coffee', 'Scone'}, {'Scone', 'Tea', 'Hot chocolate'}, {'Coffee', 'Sandwich', 'Extra Salami or Feta', 'Salad'}, {'Cake', 'Jam'}, {'Scone', 'Brownie', 'Hot chocolate', 'Bread'}, {'Cake', 'Bakewell', 'Bread'}, {'Cake', 'Coffee', 'Muffin', 'Bread'}, {'Scone', 'Hot chocolate'}, {'Scone', 'Jam', 'Bread'}, {'Scone', 'Hot chocolate'}, {'Scandinavian'}, {'Coffee'}, {'Coffee', 'Bread'}, {'Frittata', 'Coffee', 'Bread'}, {'Focaccia', 'Bread'}, {'Gingerbread syrup', 'Bread'}, {'Coffee', 'Bread'}, {'Bread'}, {'Tea', 'Bread'}, {'Bread'}, {'Spanish Brunch', 'Coffee', 'Juice', 'Toast'}, {'Focaccia', 'Bread'}, {'Frittata', 'Sandwich', 'Bread', 'Coffee', 'Salad'}, {'Coffee'}, {'Brownie', 'Tea'}, {'Sandwich'}, {'Bread'}, {'Bread', 'Chicken Stew', 'Sandwich', 'Tea'}, {'Soup', 'Sandwich', 'Coffee'}, {'Tea', 'Bread'}, {'Bread'}, {'Bread'}, {\"Valentine's card\"}, {'Coffee'}, {'Cake', 'Scandinavian'}, {'Focaccia'}, {'Frittata', 'Mineral water', 'Extra Salami or Feta', 'Scandinavian', 'Jam', 'Bread', 'Salad'}, {'Hot chocolate', 'NONE'}, {'Cake', 'Coke'}, {'Tea', 'Scone'}, {'Tea'}, {'Cake', 'Brownie'}, {'Brownie'}, {'Coffee'}, {'Bread'}, {'Coffee', 'Bread'}, {'Coffee', 'Scone', 'Tea'}, {'Coffee'}, {'Coffee'}, {'Tea', 'Muffin'}, {'Medialuna', 'Tea', 'Hot chocolate'}, {'Coffee', 'Hot chocolate', 'Bread'}, {'Bread'}, {'Bread', 'Coffee', 'Tea'}, {'Coffee', 'Tea'}, {'Cake', 'Bakewell', 'Tea', 'Sandwich', 'Juice', 'Cookies', 'Coffee'}, {'Coffee'}, {'Coffee'}, {'Pastry', 'Bread'}, {'Brownie', 'Baguette'}, {'Bread'}, {'Cookies', 'Coffee', 'Pastry'}, {'Coffee'}, {'Coffee', 'Hot chocolate', 'Bread'}, {'Coffee'}, {'Coffee', 'Pastry'}, {'Tea'}, {'Coffee'}, {'Muffin', 'Pastry'}, {'Soup', 'Coffee', 'NONE', 'Tea'}, {'Cookies', 'Brownie'}, {'Baguette'}, {'Baguette'}, {'Farm House'}, {'Coffee'}, {'Cookies', 'Medialuna', 'Coffee'}, {'Farm House'}, {'Coffee', 'Granola', 'Bread'}, {'Spanish Brunch', 'Coffee', 'NONE'}, {'Cake', 'Baguette', 'Bread'}, {'The Nomad', 'Farm House', 'Coffee', 'NONE'}, {'Bread'}, {'Juice', 'NONE'}, {'Spanish Brunch', 'Coffee', 'Extra Salami or Feta', 'NONE'}, {'Granola', 'Pastry', 'Bread'}, {'Bread', 'Coffee', 'Pastry', 'NONE'}, {'Bread'}, {'Brownie'}, {'Spanish Brunch', 'Coffee', 'Smoothies', 'NONE'}, {'Coffee', 'Scone', 'Pastry', 'Bread'}, {'Cake', 'Sandwich', 'Toast', 'Coffee', 'Hot chocolate'}, {'Bread'}, {'Coffee', 'Pastry', 'Bread'}, {'Medialuna', 'Tea', 'Hot chocolate', 'Alfajores'}, {'Tea', 'Bread'}, {'Medialuna', 'Truffles', 'Scone', 'Sandwich', 'Juice', 'Coffee', 'NONE'}, {'Medialuna', 'Sandwich', 'Bread', 'Coffee', 'NONE'}, {'Frittata', 'Coffee', 'Pastry', 'Bread'}, {'Frittata', 'Bread'}, {'Soup', 'Coffee', 'Sandwich'}, {'Sandwich', 'Coffee', 'Salad'}, {'Salad'}, {'Bread'}, {'Jam', 'Fudge'}, {'Medialuna', 'Cake', 'Tea', 'Hot chocolate'}, {'Chicken Stew', 'Toast', 'Bakewell', 'Hot chocolate'}, {'Coffee', 'Pastry', 'Tea'}, {'Cookies', 'Cake', 'Baguette'}, {'Chicken Stew', 'Cake', 'Tea', 'Bread'}, {'Spanish Brunch', 'Bakewell', 'Bread', 'Coffee', 'Hot chocolate', 'NONE'}, {'Medialuna'}, {'Medialuna', 'Cake', 'Scone', 'Tea', 'Coffee'}, {'Medialuna', 'Coffee'}, {'Bread'}, {'Pastry'}, {'Coffee'}, {'Pastry', 'Bread'}, {'Bread'}, {'Bread'}, {'Bread'}, {'Bread'}, {'Pastry'}, {'Coffee', 'Pastry'}, {'Bread'}, {'Farm House', 'Scandinavian', 'Jam'}, {'Cookies', 'Coffee'}, {'Coffee', 'Pastry'}, {'Sandwich'}, {'Cookies', 'Coffee'}, {'Coffee', 'Pastry'}, {'Coffee', 'Bread'}, {'Soup', 'Coffee', 'Bread'}, {'Jam', 'Fudge', 'Juice', 'Bread'}, {'Baguette'}, {'Soup'}, {'Soup'}, {'Chicken Stew'}, {'Coffee', 'Tea'}, {'Soup', 'Bread', 'Sandwich', 'Coke'}, {'Soup'}, {'Cake', 'Coffee', 'Hot chocolate'}, {'Coffee'}, {'Pastry'}, {'Bread'}, {'Farm House'}, {'Toast', 'Coffee'}, {'Cake', 'Coffee'}, {'Coffee', 'Bread'}, {'Cake', 'Hot chocolate'}, {'Coffee'}, {'Cookies', 'Tea', 'Hot chocolate'}, {'Hot chocolate'}, {'Coffee'}, {'Scandinavian'}, {'Bread'}, {'Bread'}, {'Toast', 'Bread'}, {'Brownie', 'Bread'}, {'Pastry', 'Bread'}, {'Sandwich', 'Tea'}, {'Coffee'}, {'Coffee', 'Bread'}, {'Coffee', 'Juice'}, {'Spanish Brunch', 'Cake', 'Coffee'}, {'Coffee'}, {'Brownie', 'Coffee', 'Baguette'}, {'Cake', 'Coffee', 'Pastry'}, {'Coffee', 'Hot chocolate'}, {'Farm House'}, {'Toast', 'Tea'}, {'Coffee', 'Tea', 'Pastry'}, {'Pastry', 'Bread'}, {'Coffee'}, {'Sandwich', 'Tea', 'Bread'}, {'Cookies', 'Farm House'}, {'Cake', 'Tea', 'Bakewell'}, {'Coffee'}, {'Bread'}, {'Coffee'}, {'Bread'}, {'Coffee'}, {'Coffee'}, {'Cookies', 'Baguette'}, {'Spanish Brunch', 'Cake', 'Cookies', 'Coffee', 'NONE'}, {'Coffee', 'Cake', 'Tea', 'Sandwich'}, {'Cake', 'Coffee'}, {'Bread'}, {'Baguette'}, {'Bread'}, {'Salad', 'Coke'}, {'Bread'}, {'Soup'}, {'Sandwich', 'Coffee'}, {'Brownie'}, {'Bread'}, {'Chicken Stew', 'Juice', 'Coke'}, {'Baguette'}, {'Soup', 'Tea', 'Coffee', 'NONE'}, {'Cookies', 'Sandwich', 'Coffee', 'Tea'}, {'Coke'}, {'Cake', 'Toast', 'Coffee'}, {'The Nomad', 'Cake'}, {'Coffee', 'Bread'}, {'Cake', 'Pastry', 'Tea', 'Cookies', 'Hot chocolate'}, {'Coffee', 'Cake', 'Tea'}, {'Tea', 'Bread'}, {'Brownie'}, {'Cookies', 'Cake', 'Coffee'}, {'Bread'}, {'Bread'}, {'Coffee', 'Bread'}, {'Pastry', 'Bread'}, {'Bread'}, {'Toast', 'Coffee', 'Bread'}, {'Farm House'}, {'Cake', 'Coffee', 'Bread'}, {'Hot chocolate', 'Bread'}, {'Coffee'}, {'Coffee', 'NONE', 'Bread'}, {'Cake', 'Coffee'}, {'Cake', 'Coffee'}, {'Toast', 'Sandwich', 'Bread'}, {'Medialuna', 'Coffee'}, {'Bakewell', 'Tea', 'Alfajores', 'Bread', 'Coffee'}, {'Coffee', 'Bread'}, {'Bread'}, {'Coffee', 'Bread'}, {'Coffee', 'Bread'}, {'Bread'}, {'Baguette'}, {'Pastry'}, {'Pastry', 'Bread'}, {'Bread', 'Baguette'}, {'Coffee', 'Tea', 'Pastry', 'Bread'}, {'Cake', 'Bread'}, {'Sandwich', 'Coke'}, {'Cake', 'Coke'}, {'Coffee', 'Hot chocolate', 'Pastry', 'Bread'}, {'Cookies', 'Chicken Stew', 'Spanish Brunch', 'Tea'}, {'Cake'}, {'Coffee'}, {'Coffee'}, {'Bread'}, {'Sandwich', 'Bread'}, {'Sandwich', 'Coffee', 'Bread'}, {'Cake', 'Coffee'}, {'Coffee', 'Extra Salami or Feta', 'Granola', 'NONE'}, {'Soup', 'Coffee', 'Juice'}, {'Sandwich'}, {'Baguette'}, {'Coffee'}, {'Coffee'}, {'Coffee', 'Hot chocolate', 'Alfajores'}, {'Coffee', 'Tea', 'Bread'}, {'Cookies', 'Cake', 'Coffee'}, {'Bread'}, {'Bread'}, {'Cookies', 'Tea', 'Bread'}, {'Cake', 'Coffee', 'Vegan mincepie'}, {'Coffee', 'Hot chocolate', 'Bread'}, {'Bread'}, {'Alfajores', 'Brownie', 'Juice', 'Cookies', 'Coffee'}, {'Cookies', 'Truffles', 'Tea'}, {'Coffee', 'Coke'}, {'Bread'}, {'Toast', 'Coffee', 'NONE', 'Bread'}, {'Coffee', 'Bread'}, {'Cookies'}, {'Coffee', 'Bread'}, {'Farm House'}, {'Bread'}, {'Cookies', 'Coffee'}, {'Baguette'}, {'Bread'}, {'Alfajores'}, {'Pastry', 'Tea', 'Brownie', 'Juice', 'Coffee', 'Hot chocolate'}, {'Coffee', 'Bread'}, {'Cake', 'Coffee'}, {'Cake', 'Coffee'}, {'Bread'}, {'Bread'}, {'Cake', 'Tea', 'Juice', 'Bread'}, {'Tea', 'Sandwich', 'Juice', 'Bread', 'Cookies'}, {'Cake', 'Bread'}, {'Alfajores', 'Hot chocolate', 'Coke'}, {'Cake'}, {'Sandwich'}, {'Cake', 'Tea', 'Pastry'}, {'Soup', 'Farm House', 'Coffee', 'Bread'}, {'Sandwich', 'Bread'}, {'Soup', 'Cake', 'Tea', 'Mineral water'}, {'Coffee', 'Chicken Stew', 'Sandwich', 'Bread'}, {'Medialuna'}, {'Scandinavian', 'Jam'}, {'Cake'}, {'Farm House', 'Spanish Brunch', 'Bare Popcorn', 'Extra Salami or Feta', 'Juice', 'Coffee', 'Salad'}, {'Bare Popcorn'}, {\"Valentine's card\"}, {'Sandwich', 'Cake', 'Tea', 'Bread'}, {'Spanish Brunch', 'Fudge', 'Chicken Stew', 'Tea', 'Alfajores'}, {'Coffee'}, {'Coffee', 'Pastry', 'Bread'}, {'Alfajores', 'Bread'}, {'Cookies', 'Coffee'}, {'Bread'}, {'Coffee'}, {'Cake', 'Coffee', 'Juice', 'Alfajores'}, {'Hot chocolate'}, {'Sandwich', 'Coke'}, {'Bread'}, {'Baguette'}, {'Cookies', 'Coffee', 'Juice', 'Bread'}, {'Cake', 'Coffee'}, {'Bread'}, {'Bread'}, {'Toast', 'Bread'}, {'Cake', 'Toast', 'Tea', 'Bread'}, {'Toast', 'Bread'}, {'Cookies'}, {'Toast', 'Coffee'}, {'Pastry', 'Bread'}, {'Medialuna', 'Hot chocolate', 'Bread'}, {'Farm House'}, {'Coffee', 'NONE'}, {'Farm House', 'Gingerbread syrup'}, {'Alfajores', 'Coffee', 'Pastry', 'Bread'}, {'Sandwich', 'Coffee', 'Baguette'}, {'Medialuna', 'Coffee'}, {'Bread'}, {'Scandinavian'}, {'Cookies', 'Bread'}, {'Coke'}, {'Medialuna', 'Pastry'}, {'Toast', 'Coffee', 'Tea'}, {'Alfajores'}, {'Bread'}, {'Coffee', 'Bread'}, {'Sandwich', 'Coffee', 'Bread'}, {'Coffee', 'Alfajores'}, {'Truffles', 'Scone', 'Pastry', 'Juice', 'Bread', 'Coffee'}, {'Scandinavian', 'Bread'}, {'Bread'}, {'Soup', 'Tea'}, {'Soup', 'Truffles'}, {'Soup', 'Tea', 'Scone'}, {'Truffles', 'Sandwich'}, {'Soup', 'Coffee'}, {'Cake', 'NONE'}, {'Soup'}, {'Toast', 'Coffee'}, {'Bread'}, {'Bread'}, {'Tea', 'Bread'}, {'Chicken Stew', 'Coffee', 'Toast'}, {'NONE', 'Bread'}, {'Coffee', 'Cake', 'Sandwich'}, {'Cake'}, {'Cookies', 'Bread'}, {'Truffles', 'Sandwich', 'Juice', 'Mineral water', 'Coffee', 'Hot chocolate'}, {'Sandwich', 'Coffee'}, {'Coffee', 'Bread'}, {'Coffee', 'Tea', 'Bread'}, {'Afternoon with the baker'}, {'Cookies', 'Tea'}, {'Soup', 'Coffee'}, {'Soup', 'Coffee'}, {'Farm House'}, {'Cake', 'Coffee'}, {'Coffee'}, {'Coffee'}, {'Coffee', 'Tea'}, {'Eggs', 'Bread'}, {'Scandinavian', 'Baguette'}, {'Coffee', 'Bread'}, {'Coffee', 'Scone'}, {'Eggs', 'Coffee', 'Hot chocolate', 'Alfajores'}, {'Tea', 'Bread'}, {'Coffee'}, {'Coffee'}, {'Cake'}, {'Pastry', 'Baguette'}, {'Toast', 'Coffee', 'NONE'}, {'Coffee', 'Extra Salami or Feta', 'NONE'}, {'Pastry', 'Bread'}, {'Scandinavian'}, {'Coffee', 'Pastry'}, {'Cookies', 'Coffee', 'NONE'}, {'Coffee'}, {'Farm House'}, {'Farm House', 'Cake'}, {'Coffee'}, {'Coffee'}, {'Coffee', 'Pastry', 'Bread'}, {'Bread'}, {'Bread', 'Toast', 'Truffles', 'NONE'}, {'Bread', 'NONE'}, {'Jam'}, {'Coffee', 'NONE'}, {'Coffee'}, {'Bread'}, {'Coffee'}, {'Coffee', 'Cake', 'Tea'}, {'Brownie', 'Coffee'}, {'Farm House'}, {'Coffee'}, {'Coffee', 'Sandwich'}, {'Farm House', 'Pastry'}, {'Truffles', 'Tea'}, {'Bread'}, {'Bread'}, {'Hot chocolate'}, {'Baguette', 'Bread'}, {'Bread'}, {'Bread'}, {'Farm House', 'Scandinavian'}, {'Pastry', 'Bread'}, {'Sandwich'}, {'Baguette', 'Bread'}, {'Cake', 'Coffee', 'Hot chocolate'}, {'Coffee', 'Pastry'}, {'Coffee'}, {'Cake', 'Coffee', 'Brownie', 'NONE'}, {'Granola', 'Scone', 'Pastry', 'Tea', 'The Nomad', 'Cookies', 'Coffee'}, {'Coffee'}, {'Cookies', 'Fudge', 'Bread'}, {'Scandinavian', 'Alfajores'}, {'Coffee', 'Scone'}, {'Coffee', 'Pastry', 'Bread'}, {'Tea', 'Pastry', 'Alfajores'}, {'Coffee', 'Pastry'}, {'Sandwich'}, {'Cake'}, {'Medialuna', 'Bread'}, {'Cake', 'Brownie', 'Coffee'}, {'Cake', 'Smoothies', 'Tea', 'Cookies', 'Coffee', 'NONE'}, {'Coffee', 'Truffles', 'Tea'}, {'Brownie', 'Bread'}, {'Spanish Brunch', 'Coffee'}, {'Scandinavian'}, {'Cookies'}, {'Bread', 'Coffee', 'Mineral water'}, {'Spanish Brunch', 'Juice', 'Toast', 'Coffee', 'NONE'}, {'Scone'}, {'Sandwich', 'Tea'}, {'Brownie', 'Coffee', 'NONE'}, {'Coffee', 'Sandwich', 'Bread'}, {'Bread'}, {'Soup', 'Chicken Stew', 'Coffee', 'Sandwich'}, {'Coffee', 'Cake', 'Sandwich', 'Salad'}, {'Cake'}, {'Coffee'}, {'Cake', 'Scone'}, {'Cake', 'Coffee', 'Scone'}, {'Cake', 'Brownie'}, {'Scone', 'Sandwich', 'Tea', 'Cookies', 'Salad'}, {'Chicken Stew', 'Juice', 'Truffles'}, {'Spanish Brunch', 'Coffee', 'Alfajores'}, {'Coffee'}, {'Cake', 'Coffee', 'Hot chocolate'}, {'Cake', 'Coffee'}, {'Cake', 'Coffee', 'Hot chocolate'}, {'Sandwich'}, {'Cookies'}, {'Brownie', 'Coffee'}, {'Bread'}, {'Cake', 'Coffee'}, {'Coffee', 'Salad'}, {'Cake', 'Coffee'}, {'Cake', \"Valentine's card\", 'Salad'}, {'Scandinavian'}, {'Coffee', 'Bread'}, {'Brownie'}, {'Cake', 'Tea', 'Juice', 'Bread', 'Soup'}, {'Soup', 'Cake', 'Bread'}, {'Bread'}, {'Alfajores', 'Cake', 'Coffee', 'Bread'}, {'Truffles', 'Coffee', 'Tshirt'}, {'Coffee'}, {'Hot chocolate'}, {'Coffee'}, {'Juice'}, {'Truffles', 'Juice', 'Mineral water'}, {'Tshirt'}, {'Tshirt'}, {'Tea', 'Hot chocolate'}, {'Tshirt'}, {'Tshirt', 'Hot chocolate', 'Bread'}, {'Tea', 'Vegan Feast'}, {'Coffee', 'Postcard'}, {'Tshirt', 'Coke'}, {'Coke'}, {'Tshirt'}, {'Coke'}, {'Truffles'}, {'Tshirt'}, {'Tshirt'}, {'Tea'}, {'Coke'}, {'Tshirt', 'Fudge'}, {'Coffee', 'Hot chocolate'}, {'Tshirt'}, {'Tshirt', \"Valentine's card\"}, {'Tshirt'}, {'Tshirt', 'Postcard'}, {'Tshirt'}, {'Tshirt', 'Postcard', \"Valentine's card\"}, {\"Valentine's card\"}, {\"Valentine's card\"}, {'Postcard'}, {'Tshirt', 'Nomad bag', 'Postcard'}, {'Tshirt', 'Postcard'}, {'Tshirt', 'Postcard'}, {'Postcard'}, {'Postcard'}, {'Tshirt'}, {'Tshirt', 'Postcard'}, {'Farm House', 'Coffee', 'Pastry'}, {'Coffee', 'Tea', 'Scone', 'Pastry'}, {'Medialuna', 'Coffee'}, {'Coffee', 'Bread'}, {'Hot chocolate'}, {'Bread'}, {'Tea', 'Pastry'}, {'Bread'}, {'Coffee', 'Tea'}, {'Medialuna', 'Spanish Brunch', 'Scone', 'Alfajores', 'Coffee', 'Hot chocolate', 'NONE'}, {'Bread'}, {'Cookies', 'Alfajores', 'Coffee', 'NONE'}, {'Coffee', 'Sandwich', 'Scone'}, {'Coffee', 'Scone'}, {'Farm House', 'Coffee', 'Hot chocolate'}, {'Coffee', 'Bread'}, {'Pastry', 'Brownie', 'Baguette', 'Cookies', 'Coffee', 'Hot chocolate'}, {'Cake', 'Coffee'}, {'Coffee', 'NONE'}, {'Cookies', 'Medialuna', 'Coffee', 'Tea'}, {'Alfajores', 'Fudge', 'Bread'}, {'Sandwich', 'Coffee', 'Tea'}, {'Spanish Brunch', 'Bread'}, {'Cake', 'Alfajores'}, {'Bread'}, {'Coffee', 'Pastry', 'Bread'}, {'Coffee', 'Salad'}, {'Sandwich', 'Alfajores', 'Bread', 'Cookies', 'Coffee'}, {'Coffee', 'Pastry', 'Bread'}, {'Coffee', 'Pastry'}, {'Coffee', 'Sandwich', 'Coke'}, {'Alfajores', 'Scone', 'Bread'}, {'Brownie', 'Scandinavian', 'Bread'}, {'Cake', 'Coffee', 'Bread'}, {'Cake', 'Pastry', 'Bread'}, {'Cookies', 'Cake'}, {'Tea', 'Hot chocolate', 'Alfajores'}, {'Cookies', 'Cake', 'Coffee', 'Bread'}, {'Scandinavian'}, {'Cake', 'Coffee', 'Alfajores'}, {'Sandwich', 'Chicken Stew', 'Coffee', 'Fudge'}, {'Sandwich', 'Coffee', 'Fudge'}, {'Cake', 'Coffee', 'Tea', 'Baguette'}, {'Coffee', 'Tea'}, {'Tea', 'Bread'}, {'Bread'}, {'Coffee'}, {'Coffee', 'Tea', 'Sandwich', 'Bread'}, {'Bread'}, {'Chicken Stew', 'Spanish Brunch', 'Coffee'}, {'Cookies', 'Cake', 'Coffee'}, {'Coffee', 'Hot chocolate', 'Bread'}, {'Coffee'}, {'Bread'}, {'Medialuna', 'Tea'}, {'Coffee'}, {'Bread'}, {'Coffee', 'Bread'}, {'Coffee'}, {'Tea'}, {'Bread'}, {'Coffee', 'Pastry'}, {'Coffee'}, {'Bread', 'Pastry', 'Baguette'}, {'Pastry'}, {'Cookies', 'Coffee'}, {'Sandwich', 'Coffee'}, {'Jam', 'Pastry', 'Bread'}, {'Coffee'}, {'Coffee'}, {'Medialuna', 'Coffee'}, {'Cookies', 'Farm House', 'Bread'}, {'Cake', 'Bread'}, {'Coffee'}, {'Bread'}, {'Coffee', 'Pastry'}, {'Coffee'}, {'Toast', 'Coffee'}, {'Bread'}, {'Coffee'}, {'Toast', 'Coffee', 'Hot chocolate'}, {'Bread'}, {'Cake', 'Coffee', 'Scone', 'Tea'}, {'Pastry'}, {'Sandwich', 'Bread'}, {'Baguette'}, {'Bread'}, {'Bread'}, {'Sandwich'}, {'Coffee'}, {'Soup', 'Coffee'}, {'Coffee', 'NONE'}, {'Truffles', 'Scone'}, {'Spanish Brunch', 'Truffles', 'Sandwich', 'Tea', 'Alfajores', 'Mineral water', 'Coffee'}, {'Coffee', 'NONE', 'Bread'}, {'Fudge', 'Bread'}, {'Fudge'}, {'Truffles'}, {'Cake'}, {'Cake', 'Coffee', 'Juice'}, {'Spanish Brunch', 'Truffles', 'Sandwich', 'Brownie', 'Coffee'}, {'Soup', 'Medialuna', 'Brownie', 'Tea'}, {'Chicken Stew', 'Cake', 'Coffee'}, {'Cake', 'Tea'}, {'Bread'}, {'Cookies', 'Tea'}, {'Coffee', 'Juice', 'Alfajores'}, {'Bread'}, {'Farm House', 'Brownie', 'Coffee', 'Juice'}, {'Cookies', 'Brownie', 'Tea', 'Juice'}, {'Cake', 'Coffee', 'Brownie'}, {'Coffee'}, {'Coffee', 'Scone'}, {'Brownie', 'Tea', 'Toast'}, {'Bread'}, {'Medialuna', 'Coffee', 'Hot chocolate', 'Pastry'}, {'Bread'}, {'Coffee', 'Sandwich'}, {'Farm House', 'Bread'}, {'Hot chocolate'}, {'Hot chocolate'}, {'Hot chocolate'}, {'Toast', 'Tea', 'Baguette'}, {'Coffee'}, {'Nomad bag', 'Scandinavian', 'Bread'}, {'Bread'}, {'Pastry', 'Bread'}, {'Bread'}, {'Coffee'}, {'Cake', 'Coffee', 'Bread'}, {'Coffee'}, {'Brownie', 'Coffee', 'Pastry'}, {'Coffee', 'Pastry'}, {'Bread'}, {'Salad'}, {'Coffee'}, {'Coffee', 'Bread'}, {'Cake', 'Coffee', 'Alfajores'}, {'Coffee'}, {'Eggs', 'Coffee', 'Bread'}, {'Tea'}, {'Bread'}, {'Farm House'}, {'Coffee', 'Alfajores'}, {'Coffee', 'Pastry'}, {'Chicken Stew', 'Juice'}, {'Chicken Stew', 'Chocolates'}, {'Soup', 'Coffee'}, {'Cake', 'Chicken Stew', 'Juice', 'Bread', 'Eggs'}, {'Cake', 'Coffee', 'Hot chocolate'}, {'Cake', 'Coffee'}, {'Farm House'}, {'Bread'}, {'Baguette'}, {'Soup'}, {'Spanish Brunch', 'Tea'}, {'Cake', 'Coffee'}, {'Spanish Brunch', 'Tea'}, {'Brownie', 'Coffee', 'Truffles'}, {'Cake', 'Hot chocolate'}, {'Alfajores', 'Bread'}, {'Tea'}, {'Bread'}, {'Coffee', 'Alfajores'}, {'Bread', 'Smoothies', 'Cake', 'Alfajores', 'Brownie', 'Mineral water'}, {'Cake', 'Coffee', 'Tea'}, {'Baguette'}, {'Sandwich', 'Tea'}, {'Coffee'}, {'Alfajores'}, {'Bread'}, {'Pastry', 'Bread'}, {'Eggs', 'Nomad bag', 'Pastry', 'Bread'}, {'Coffee', 'Alfajores'}, {'Coffee', 'Bread'}, {'Coffee'}, {'Bread'}, {'Coffee'}, {'Spanish Brunch', 'Bread'}, {'Coffee'}, {'Medialuna', 'Coffee', 'Pastry'}, {'Sandwich', 'Crisps', 'Mineral water'}, {'Alfajores', 'Coffee', 'Pastry', 'Bread'}, {'Medialuna', 'Tea', 'Bread'}, {'Coffee'}, {'Farm House', 'Baguette'}, {'Farm House'}, {'Chicken Stew', 'Bread'}, {'Coffee', 'Chocolates', 'Tea'}, {'Sandwich', 'Brownie', 'Tea'}, {'Sandwich', 'Art Tray', 'Brownie', 'Tea'}, {'Soup', 'Sandwich', 'Tea', 'NONE'}, {'Soup', 'Brownie', 'Coffee', 'Hot chocolate'}, {'Soup', 'Cake'}, {'Cake', 'Coffee', 'Bread'}, {'Coffee', 'NONE'}, {'Soup', 'Chicken Stew', 'Mineral water'}, {'Coffee', 'Bread'}, {'Coffee', 'Bread'}, {'Coffee', 'Pastry'}, {'Coffee', 'Tea', 'Bread'}, {'Sandwich', 'Coffee'}, {'Bread'}, {'Coffee'}, {'Mineral water', 'Sandwich', 'Tea', 'Bread'}, {'Cake', 'Bread'}, {'Brownie', 'Coffee', 'Tea'}, {'Bread'}, {'Hot chocolate'}, {'Cake', 'Coffee'}, {'Coffee', 'Tea'}, {'Bread'}, {'Cookies', 'Coffee'}, {'Toast', 'Bread'}, {'Coffee', 'Pastry', 'Bread'}, {'Farm House'}, {'Scandinavian'}, {'Brownie', 'Coffee'}, {'Hot chocolate', 'Bread'}, {'Toast', 'Coffee'}, {'Coffee'}, {'Farm House', 'Brownie', 'Coffee', 'Tea'}, {'Cookies', 'Toast', 'Coffee', 'Juice'}, {\"Valentine's card\"}, {'Bread', 'Coffee', 'Extra Salami or Feta', 'NONE'}, {\"Valentine's card\"}, {'Cookies', 'Coffee', 'Hot chocolate'}, {'Sandwich', 'Medialuna', 'Coffee'}, {'Bread'}, {'Bread'}, {'Bread'}, {'Soup', 'Coffee', 'Bread'}, {'Soup', 'Coffee', 'Jam', 'Pastry'}, {'Eggs', 'Coffee'}, {'Baguette'}, {'Coffee'}, {'Bread'}, {'Pastry'}, {'Cookies', 'Scandinavian'}, {'Soup', 'Coke'}, {'Coffee', 'Sandwich'}, {'Sandwich', 'Coke'}, {'Chicken Stew', 'Coffee'}, {'Chicken Stew', 'Coffee'}, {'Sandwich', 'Tea', 'Alfajores', 'Juice', 'Cookies', 'Toast', 'Coffee', 'Hot chocolate'}, {'Cookies'}, {'Cake', 'Sandwich', 'Juice'}, {'Soup', 'Bread'}, {'Coffee'}, {'Sandwich', 'Fudge'}, {'Baguette'}, {'Coffee', 'Pastry'}, {'Medialuna', 'Cake', 'Tea'}, {'Bread'}, {'Brownie', 'Coffee'}, {'Soup', 'Cake', 'Tea', 'Bread'}, {'Cake', 'Coffee', 'Hot chocolate', 'Juice'}, {'Bread', 'Coffee', 'Alfajores'}, {'Cookies', 'Bread'}, {'Bread'}, {'Bread'}, {'Cake', 'Bread'}, {'Coffee', 'Bread'}, {'Coffee', 'Tea'}, {'Bread'}, {'Cookies', 'Pastry', 'Coffee', 'Juice'}, {'Pastry', 'Bread'}, {'Bread'}, {'Cookies', 'Coffee'}, {'Hot chocolate'}, {'Coffee', 'Hot chocolate'}, {'Cookies', 'Coffee'}, {'Coffee'}, {'Toast', 'Coffee'}, {\"Valentine's card\"}, {'Tea'}, {'Bread'}, {'Bread'}, {'Coffee'}, {'Sandwich', 'Alfajores', 'Juice', 'Bread', 'Cookies'}, {'Soup'}, {'Soup'}, {'Coffee', 'Scone'}, {'Soup', 'Truffles'}, {'Cake', 'Chicken Stew', 'Juice'}, {'Scandinavian', 'Bread'}, {'Coffee'}, {'Coffee', 'Truffles', 'Sandwich'}, {'Cake'}, {'Bread'}, {'Pastry', 'Bread'}, {'Toast'}, {'Bread'}, {'Bread'}, {'Chicken Stew'}, {'Sandwich', 'Coke'}, {'Cake', 'Extra Salami or Feta', 'Scandinavian', 'Bread', 'Coffee', 'Salad'}, {'Scandinavian'}, {'Coffee', 'Salad'}, {'Spanish Brunch', 'Truffles', 'Duck egg', 'Extra Salami or Feta', 'Afternoon with the baker', 'NONE'}, {'Medialuna'}, {'Cake', 'Scone', 'Tea', 'Bread', 'Soup'}, {'Soup', 'Coffee'}, {'Medialuna', 'Cake', 'Spanish Brunch', 'The Nomad', 'Cookies'}, {'Coffee', 'Bread'}, {'Coffee'}, {'Chicken Stew', 'Coffee'}, {'Coffee'}, {'Coffee', 'Pastry', 'Alfajores'}, {'Coffee'}, {'Coffee'}, {'Brownie', 'Coffee'}, {'Soup'}, {'Cookies', 'Coffee', 'Tea'}, {'Bread', 'NONE'}, {'Bread'}, {'Coffee', 'Baguette'}, {'Tea'}, {'Spanish Brunch'}, {'Coffee', 'NONE'}, {'Cookies', 'Cake'}, {'Tea', 'Alfajores', 'Juice', 'Cookies', 'Coffee'}, {'Cookies', 'Cake', 'Coffee', 'Hot chocolate'}, {'Coffee', 'Bread'}, {'Coffee', 'Scone'}, {'Brownie', 'Coffee', 'Baguette'}, {'Coffee', 'Scone', 'Bread'}, {'Coffee', 'NONE'}, {'Medialuna'}, {'Bread'}, {'Farm House', 'Nomad bag', 'Bread'}, {'Pastry', 'Bread'}, {'Coffee', 'Toast', 'Tea', 'Pastry'}, {'Scone', 'Pastry'}, {'Cake', 'Tea', 'Toast'}, {'Baguette'}, {'Bread'}, {'Toast', 'Tea'}, {'Coffee'}, {'Hot chocolate', 'Pastry', 'Bread'}, {'Tea'}, {'Scandinavian', 'Pastry', 'Alfajores'}, {'Fudge'}, {'Cake', 'Pastry', 'Tea', 'Brownie', 'Bread', 'Toast'}, {'The Nomad', 'Coffee'}, {'Cookies', 'Cake'}, {'Bread'}, {'Bread', 'Coffee', 'NONE'}, {'Coffee', 'Pastry'}, {'Cookies', 'Cake'}, {'Bread'}, {'Bread'}, {'Coffee', 'Pastry'}, {'Spanish Brunch', 'Coffee', 'Juice', 'NONE'}, {'Toast', 'Coffee', 'Bread'}, {'Coffee'}, {'Bread'}, {'Coffee', 'Bread'}, {'Coffee'}, {'Baguette'}, {'Tea', 'Scone'}, {'Coffee', 'Hot chocolate', 'Bread'}, {'Bread'}, {'Cookies', 'Chicken Stew', 'Bread'}, {'Sandwich', 'Hot chocolate', 'Bread'}, {'Soup', 'Truffles', 'The Nomad'}, {'Baguette'}, {'Pastry'}, {'Cake', 'Bread'}, {'Soup', 'Coffee'}, {'Bread'}, {'Bread'}, {'Cake', 'Coffee', 'Bread'}, {'Soup', 'Chicken Stew', 'Coffee', 'Tea'}, {'Hot chocolate'}, {'Coffee', 'Cake', 'Nomad bag', 'Bread'}, {'Bread'}, {'Art Tray', 'Spanish Brunch', 'Cake', 'Tea', 'Alfajores', 'The Nomad', 'Juice', 'Hot chocolate'}, {'Brownie', 'Alfajores'}, {'Cake', 'Coffee', 'Hot chocolate', 'Bread'}, {'Chicken Stew', 'Cake', 'Bread'}, {'Brownie', 'Coffee'}, {\"Valentine's card\"}, {'Bread'}, {'Bread'}, {'Chicken Stew', 'Coffee', 'Pastry'}, {'Tea', 'Bread'}, {'Spanish Brunch', 'Sandwich', 'Tea', 'Soup', 'Coffee'}, {'Coffee', 'Tea'}, {'Coffee', 'Juice'}, {'Cake', 'Coffee', 'Pastry'}, {'Sandwich', 'Hot chocolate', 'Bread'}, {'Bread'}, {'Cake', 'Tea', 'Bread'}, {'Afternoon with the baker'}, {'Bread'}, {'Scandinavian', 'Bread'}, {'Medialuna', 'Cake', 'Tea', 'Scandinavian', 'Coffee'}, {'Scandinavian'}, {'Soup', 'Bread'}, {'Cake', 'Eggs', 'Juice', 'Bread', 'Cookies'}, {'Coffee'}, {'Coffee', 'NONE', 'Pastry', 'Tea'}, {'Medialuna', 'Coffee'}, {'Toast', 'Coffee'}, {'Pastry', 'Bread'}, {'Cookies', 'Coffee', 'Pastry', 'Bread'}, {'Bread'}, {'Medialuna', 'Pastry', 'Baguette'}, {'Coffee', 'Scone'}, {'Bread'}, {'Coffee'}, {'Bread'}, {'Coffee', 'Scone', 'NONE', 'Bread'}, {'Bread', 'Baguette', 'Toast', 'Coffee', 'Hot chocolate', 'NONE'}, {'Coffee'}, {'Cake', 'Coffee', 'Bread'}, {'Coffee'}, {'Cake', 'Coffee', 'Scone'}, {'Baguette', 'Scone', 'Bread'}, {'Cake'}, {'Spanish Brunch', 'Coffee', 'Bread'}, {'Brownie', 'Pastry'}, {'Toast'}, {'Bread'}, {'Bread'}, {'Farm House'}, {'Cake', 'Spanish Brunch'}, {'Bread'}, {'Coffee'}, {'Cake', 'Coffee', 'NONE'}, {'Bread'}, {'Coffee'}, {'Cake', 'Tea'}, {'Soup', 'Hot chocolate'}, {'Tea', 'NONE'}, {'Bread', 'Alfajores'}, {'Cake', 'Bread'}, {'Coffee'}, {'Duck egg', 'Chicken Stew', 'Tea', 'Extra Salami or Feta', 'Brownie', 'Bread', 'Cookies', 'Toast', 'Coffee', 'NONE'}, {'Bread'}, {'Sandwich', 'Coffee'}, {'Cake', 'Coffee'}, {'Brownie', 'Bread'}, {'Cake', 'Coffee', 'Brownie', 'Alfajores'}, {'Brownie', 'Coffee'}, {'Afternoon with the baker'}, {'Afternoon with the baker'}, {'Bread'}, {'Medialuna', 'Coffee', 'Baguette'}, {'Coffee'}, {'Toast', 'Hot chocolate'}, {'Medialuna', 'Coffee', 'Alfajores', 'Bread'}, {'Medialuna', 'Bread', 'Coffee', 'Alfajores'}, {'Focaccia', 'Bread'}, {'Coffee'}, {'Coffee'}, {'Coffee'}, {'Hot chocolate'}, {'Coffee', 'Juice'}, {'Coffee', 'Pastry'}, {'Coffee', 'Pastry'}, {'Scandinavian'}, {'Chocolates', 'Juice', 'Bread', 'Cookies', 'Coffee', 'Hot chocolate'}, {'Coffee', 'Tea'}, {'Bread'}, {'Farm House', 'Brownie', 'Coffee'}, {'Cookies', 'Coffee', 'Bread'}, {'Coffee'}, {'Coffee'}, {'Farm House', 'Cake', 'Scone', 'Juice', 'Coffee'}, {'Cookies', 'Coffee'}, {'Coffee', 'Scone'}, {'Bread'}, {'Cookies', 'Bread'}, {'Coffee'}, {'Cookies', 'Cake', 'Truffles'}, {'Baguette'}, {'Tea', 'Bread'}, {'Farm House'}, {'Coffee'}, {'Soup'}, {'Sandwich', 'Coffee', 'Tea'}, {'Soup', 'Tea'}, {'Coke', 'Chicken Stew', 'Sandwich', 'Juice', 'Cookies', 'Coffee'}, {'Cake'}, {'Soup', 'Truffles', 'Sandwich', 'Bread'}, {'Cookies', 'Cake', 'Coffee', 'Coke'}, {'Salad', 'Medialuna', 'Truffles', 'Chicken Stew', 'Brownie', 'NONE'}, {'Cookies', 'Coffee', 'Alfajores'}, {'Soup', 'Coffee', 'Sandwich', 'Bread'}, {'Alfajores', 'Bread'}, {'Bread'}, {'Sandwich', 'Tea'}, {'Bread', 'Coffee', 'Alfajores'}, {'Truffles', 'Sandwich', 'Tea'}, {'Cake'}, {'Farm House', 'Coffee'}, {'Coffee', 'Cake', 'Tea', 'Soup'}, {'Coffee', 'Bread'}, {'Chicken Stew', 'Coffee', 'NONE'}, {'Coffee'}, {'Coffee', 'Bread'}, {'Toast', 'Tea'}, {'Coffee'}, {'Cake', 'Fudge', 'Tea', 'Bread', 'Eggs', 'Hot chocolate'}, {'Bread'}, {'Cake', 'Coffee', 'Bread'}, {'Coffee', 'Alfajores'}, {'Bread'}, {'Afternoon with the baker'}, {'Medialuna', 'Alfajores'}, {'Coffee'}, {'Mineral water', 'Toast', 'Coffee', 'Bread'}, {'Pastry', 'Bread'}, {'Tea'}, {'Cake', 'Coffee', 'Tea'}, {'Cake', 'Coffee', 'Toast'}, {'Farm House', 'Coffee', 'Pastry', 'Alfajores'}, {'Cake', 'Hot chocolate', 'NONE'}, {'Cake', 'Hot chocolate'}, {'Bread'}, {'Alfajores', 'Cake', 'Coffee', 'Tea'}, {'Cookies', 'Coffee', 'Scone', 'Hot chocolate'}, {'Medialuna', 'Cake', 'Coffee', 'Hot chocolate'}, {'Cookies', 'Medialuna', 'Coffee'}, {'Cake', 'Coffee'}, {'Bread'}, {'Coffee', 'Sandwich'}, {'Bread'}, {'Cake', 'Coffee'}, {'Coffee', 'Pastry', 'Coke'}, {'Salad'}, {'Bread'}, {'Cake', 'Bread'}, {'Farm House', 'Cake'}, {'Coke'}, {'Bread'}, {'Spanish Brunch', 'Bread', 'Cookies', 'Toast', 'Coffee'}, {'Tea'}, {'Coffee'}, {'Cookies', 'Smoothies', 'Hot chocolate'}, {'Afternoon with the baker', 'Coffee', 'Juice', 'Bread'}, {'Coffee'}, {'Bread', 'Alfajores'}, {'Soup', 'Tea'}, {'Tea', 'Alfajores'}, {'Vegan mincepie', 'Bread'}, {'Alfajores', 'Baguette'}, {'Baguette'}, {'Bread'}, {'Coffee'}, {\"Valentine's card\"}, {\"Valentine's card\"}, {'Coffee'}, {'Toast'}, {'Bread'}, {'Coffee'}, {'Pastry'}, {'Bread'}, {'Coffee', 'Pastry'}, {'Baguette'}, {'Coffee'}, {'The Nomad', 'Tea', 'Pastry'}, {'Bread'}, {'Coffee', 'Bread'}, {'Medialuna', 'Baguette'}, {'Medialuna', 'Cake', 'Soup', 'Coffee', 'Hot chocolate'}, {'Coffee', 'Bread'}, {'Medialuna', 'Bread'}, {'Vegan Feast'}, {'Truffles', 'Sandwich'}, {'Toast', 'Coffee'}, {'Soup'}, {'The Nomad', 'Coffee'}, {'Sandwich', 'Juice'}, {'Soup', 'Cake', 'Tea'}, {'Bread'}, {'Art Tray', 'Alfajores', 'NONE', 'Baguette', 'Coffee', 'Salad'}, {'Coffee', 'Bread'}, {'Bread'}, {'Cake'}, {'Baguette'}, {'Hot chocolate', 'Alfajores'}, {'Medialuna', 'Jammie Dodgers', 'Coffee', 'Hot chocolate'}, {'Pastry', 'Coffee', 'Vegan mincepie'}, {'Cake', 'Coffee', 'Hot chocolate', 'Alfajores'}, {'Brownie'}, {'Bread'}, {'Coffee', 'Bread'}, {'Cake', 'Bread'}, {'Cake', 'Coffee'}, {'Coffee'}, {'Farm House'}, {'Cookies'}, {'Brownie'}, {'Coffee'}, {'Baguette'}, {'Coffee'}, {'Medialuna', 'Bread', 'Hot chocolate', 'Alfajores'}, {'Medialuna', 'Cake', 'Pastry', 'Alfajores'}, {'Coffee'}, {'Cake', 'Spanish Brunch', 'Duck egg', 'Cookies', 'Coffee', 'Hot chocolate', 'NONE'}, {'Coffee', 'Pastry'}, {'Sandwich', 'Smoothies', 'Soup'}, {'Chicken Stew', 'Tea', 'Jammie Dodgers', 'Juice', 'Coffee'}, {'Chicken Stew', 'Tea', 'Juice', 'Toast', 'Hot chocolate'}, {'Coffee'}, {'Coffee', 'Pastry'}, {'Cookies', 'Cake', 'Coffee'}, {'Coffee'}, {'Fudge'}, {'Cake', 'Coffee', 'Brownie', 'Alfajores'}, {'Cake'}, {'Soup', 'Tea', 'NONE'}, {'Sandwich', 'Hot chocolate'}, {'Afternoon with the baker'}, {'Soup', 'Truffles', 'Tea'}, {'Sandwich', 'Cake', 'Brownie', 'Coffee'}, {'Cookies'}, {'Coffee'}, {'Extra Salami or Feta', 'Juice', 'Toast', 'Coffee', 'Salad'}, {'Coffee', 'Muffin', 'Pastry', 'Alfajores'}, {'Bread'}, {'Baguette'}, {'Cookies', 'Afternoon with the baker', 'Brownie'}, {'Cookies', 'Farm House'}, {'Cake', 'Baguette'}, {'Cake'}, {'Bread'}, {'Coffee'}, {'Medialuna', 'Tea'}, {'Bread'}, {'Coffee'}, {'Bread'}, {'Medialuna', 'Coffee', 'Pastry'}, {'Jammie Dodgers', 'Coffee', 'Bread'}, {'Coffee'}, {'Spanish Brunch', 'Tea'}, {'Spanish Brunch', 'Coffee', 'Bread'}, {'Coffee', 'Cookies', 'Tea'}, {'Bread'}, {'Scandinavian', 'Baguette'}, {'Farm House'}, {'Bread'}, {'Cookies', 'Cake', 'Coffee'}, {'Bread', 'Coffee', 'Scone', 'Tea'}, {'Coffee'}, {'Cake', 'Tea'}, {'Coffee', 'Pastry'}, {'Farm House'}, {'Coke', 'Sandwich', 'Juice', 'Bread'}, {'Tiffin', 'Jammie Dodgers', 'Tea', 'Bread'}, {'Tea', 'Bread'}, {'Chocolates', 'Jammie Dodgers', 'Juice', 'Coffee', 'Hot chocolate'}, {'Scone', 'Pastry', 'Brownie', 'Juice', 'Bread'}, {'Cake', 'Muffin'}, {'Brownie', 'Sandwich', 'Baguette'}, {'Coffee'}, {'Sandwich', 'Coffee'}, {'Toast', 'Coffee'}, {'Pastry'}, {'Sandwich', 'Tiffin'}, {'Muffin'}, {'Bread'}, {'Bread'}, {'Medialuna', 'Chicken Stew', 'Scone', 'Brownie'}, {'Scone'}, {'Soup', 'Sandwich', 'Coffee'}, {'Scandinavian', 'Bread'}, {'Chicken Stew', 'Tea'}, {'Sandwich', 'Cake', 'Coffee'}, {'Bread'}, {'Scone', 'Bread'}, {'Sandwich', 'Tea'}, {'Cake', 'Tiffin'}, {'Scandinavian', 'Baguette'}, {'Medialuna', 'Coke', 'Chicken Stew', 'Tiffin', 'Tea', 'Sandwich', 'Bread', 'Soup', 'Coffee'}, {'Coffee', 'Bread'}, {'Hot chocolate', 'Muffin', 'Bread'}, {'Coffee', 'Scone'}, {'Coffee', 'Hot chocolate'}, {'Coffee', 'Tea'}, {'Muffin'}, {'Coffee', 'Truffles', 'Sandwich', 'Coke'}, {'Baguette'}, {'Medialuna', 'Brownie', 'Truffles', 'Bread'}, {'Alfajores', 'Coffee', 'Hot chocolate', 'Mineral water'}, {'Sandwich', 'Cake', 'Coffee', 'Mineral water'}, {'Jammie Dodgers', 'Coffee'}, {'Coffee'}, {'Tea', 'Alfajores', 'Brownie', 'Bread', 'Coffee'}, {'Coffee', 'Tea', 'Scone', 'Bread'}, {'Cake'}, {'Cake', 'Bread'}, {'Cake', 'Tea', 'Scone', 'Muffin'}, {'Baguette'}, {'Bread'}, {'Pastry', 'Bread'}, {'Medialuna', 'Tea'}, {'Coffee', 'Tea'}, {'Bread'}, {'Scone', 'Fudge'}, {'Cake', 'Chocolates'}, {'Coffee'}, {'Pastry', 'Bread'}, {'Baguette'}, {'Sandwich', 'Bread'}, {'Coffee', 'Sandwich', 'Tea'}, {'Baguette', 'Bread'}, {'Medialuna'}, {'Nomad bag', 'Scone', 'Bread', 'Coffee', 'NONE'}, {'Coffee'}, {'Bread'}, {'Coffee', 'Pastry', 'NONE'}, {'Bread'}, {'Cake', 'Scandinavian', 'Bread'}, {'Bread'}, {'Bread'}, {'Coffee'}, {'Tea', 'Bread'}, {'Tea', 'NONE', 'Bread'}, {'Tea', 'NONE'}, {'Tea', 'NONE'}, {'Scandinavian'}, {'Coffee'}, {'Bread'}, {'Coffee'}, {'Spanish Brunch', 'Alfajores', 'Juice', 'Coffee', 'NONE'}, {'Sandwich'}, {'Jammie Dodgers', 'Juice', 'Eggs', 'Coffee', 'NONE'}, {'Bread'}, {'Pastry', 'Bread'}, {'Coffee'}, {'Eggs', 'Medialuna', 'Coffee', 'Bread'}, {'Pastry', 'Bread'}, {'Jam'}, {'Spanish Brunch', 'Cake', 'Tea', 'Jammie Dodgers', 'Brownie', 'Bread', 'Toast', 'NONE'}, {'Brownie', 'Pastry', 'Bread'}, {'Bread'}, {'Coffee', 'NONE'}, {'Coffee'}, {'Scandinavian', 'NONE', 'Bread'}, {'Coffee', 'Bread'}, {'Farm House', 'Toast', 'Coffee', 'Bread'}, {'Afternoon with the baker'}, {'Jammie Dodgers', 'Coffee', 'Juice', 'Alfajores'}, {'Hot chocolate', 'Bread'}, {'Spanish Brunch', 'Sandwich', 'Bread', 'Toast', 'Coffee'}, {'Coffee'}, {'Alfajores', 'Jammie Dodgers', 'Coffee', 'Bread'}, {'Scone', 'Bread'}, {'Sandwich'}, {'Sandwich', 'Brownie', 'Coffee'}, {'Hot chocolate'}, {'Farm House', 'Spanish Brunch', 'Smoothies', 'Cake', 'Chicken Stew', 'Tea'}, {'Coffee'}, {'Bread', 'Chicken Stew', 'Coffee', 'NONE'}, {'Chicken Stew', 'Coffee', 'Granola', 'Juice'}, {'Jam'}, {'Chicken Stew'}, {'Spanish Brunch', 'Coffee'}, {'Sandwich', 'Coffee'}, {'Toast', 'Coffee', 'Juice'}, {'Coffee', 'Sandwich', 'Scandinavian', 'Pastry'}, {'Eggs'}, {'Cake', 'Coffee'}, {'Coffee'}, {'Soup', 'Chicken Stew', 'Cake', 'Scone'}, {'Spanish Brunch', 'Truffles', 'Coke', 'Extra Salami or Feta', 'Brownie', 'NONE'}, {'Farm House', 'NONE'}, {'Scone', 'Scandinavian'}, {'Sandwich', 'Muffin', 'Bread'}, {'Bread'}, {'Brownie', 'Bread'}, {'Soup', 'Coffee'}, {'Cake', 'Chicken Stew', 'Sandwich', 'Tea'}, {'Spanish Brunch', 'Chicken Stew', 'Sandwich', 'Juice', 'Coffee'}, {'Coffee'}, {'Scandinavian'}, {'Scone'}, {'Cake', 'Tiffin', 'Mineral water', 'Coffee', 'Hot chocolate'}, {'Muffin', 'Alfajores'}, {'Bread'}, {'Alfajores', 'Jammie Dodgers', 'Bread'}, {'Cake', 'Coffee', 'Tea'}, {'Cake', 'Muffin', 'Coke', 'Brownie', 'Coffee'}, {'Cookies', 'Toast', 'Tiffin', 'Bread'}, {'Coffee'}, {'Cake'}, {'Coffee', 'NONE', 'Bread'}, {'Vegan mincepie', 'Alfajores', 'Brownie', 'Juice', 'Hot chocolate'}, {'Medialuna', 'Pastry'}, {'Cookies', 'Toast', 'Tiffin', 'Bread'}, {'Coffee'}, {'Spanish Brunch', 'Smoothies', 'Bread', 'Coffee', 'NONE'}, {'Cake'}, {'Smoothies', 'Granola', 'Juice', 'Coffee', 'NONE'}, {'Cake', 'Coffee', 'Pastry'}, {'Coffee', 'Hot chocolate', 'Bread'}, {'Bread'}, {'Brownie', 'Hot chocolate'}, {'Cake', 'Coffee'}, {'Coffee', 'Smoothies', 'Alfajores'}, {'Coffee', 'Juice', 'NONE'}, {'Spanish Brunch', 'Coffee', 'Juice', 'Tea'}, {'Medialuna', 'Tiffin', 'Brownie', 'Mineral water', 'Coffee'}, {'Toast', 'Coffee'}, {'Medialuna', 'Spanish Brunch', 'Coffee', 'Bread'}, {'Cake', 'Tea', 'Bread'}, {'Coffee', 'Scone'}, {'Medialuna', 'Farm House', 'Tea', 'Toast', 'Coffee'}, {'Spanish Brunch', 'Cake', 'Duck egg', 'Tea', 'Jam', 'NONE'}, {'Bread'}, {'Coffee', 'Pastry'}, {'Spanish Brunch', 'Cake', 'Tea', 'Alfajores', 'Coffee'}, {'Toast', 'Coffee', 'Tea', 'Bread'}, {'Farm House', 'Cake'}, {'Tiffin', 'Tea', 'Scone', 'Pastry'}, {'Tiffin', 'Bread'}, {'Alfajores', 'Cake', 'Coffee', 'Bread'}, {'Farm House', 'Tiffin'}, {'Spanish Brunch', 'Coffee', 'NONE'}, {'Alfajores'}, {'Coffee', 'Bread'}, {'Coffee'}, {'Sandwich', 'Coffee', 'Alfajores'}, {'Coffee', 'Scone'}, {'Alfajores', 'Sandwich', 'Scone', 'Bread'}, {'Coffee'}, {'Spanish Brunch', 'Coffee', 'Baguette'}, {'Coffee', 'NONE'}, {'Cake'}, {'Cake', 'Coffee'}, {'Bread'}, {'Cake', 'Bread', 'Sandwich', 'Coke'}, {'Cookies', 'Cake', 'Coffee', 'Bread'}, {'The Nomad'}, {'Alfajores', 'Tea', 'Bread'}, {'Cake', 'Coffee granules'}, {'Cake', 'Tea', 'Extra Salami or Feta', 'Coffee', 'Salad'}, {'Coffee'}, {'Medialuna', 'Tea', 'Brownie', 'Juice', 'Coffee'}, {'Baguette'}, {'Cake', 'Coffee'}, {'Afternoon with the baker'}, {'Afternoon with the baker'}, {'Brownie', 'Bread'}, {'Coffee'}, {'The Nomad', 'Coffee'}, {'Coffee'}, {'Coffee', 'Scone'}, {'Medialuna', 'Coffee'}, {'Bread'}, {'Fudge'}, {'Coffee', 'Bread'}, {'Coffee', 'Juice', 'Bread'}, {'Bread', 'Coffee', 'Alfajores'}, {'Coffee'}, {'Coffee'}, {'Medialuna', 'Coffee'}, {'Pastry'}, {'Cookies', 'Coffee', 'Scone', 'Hot chocolate'}, {'Bread'}, {'Salad'}, {'Coffee', 'NONE', 'Pastry', 'Tea'}, {'Bread'}, {'Bread'}, {'Bread'}, {'Scone'}, {'Coffee', 'Sandwich'}, {'Bread'}, {'Coffee'}, {'Spanish Brunch', 'Scone', 'Sandwich', 'Tea', 'Alfajores', 'Juice', 'NONE'}, {'Bread'}, {'Hot chocolate'}, {'Sandwich'}, {'Cake', 'Coffee'}, {'Bread', 'Brownie', 'Alfajores'}, {'Coffee', 'Bread'}, {'Coffee', 'Cookies', 'Smoothies', 'Bread'}, {'Spanish Brunch', 'Coke', 'Tea', 'Toast', 'Coffee'}, {'The Nomad', 'Sandwich', 'Scone', 'Bread'}, {'Coffee', 'Bread'}, {'Cookies', 'Coffee'}, {'Jammie Dodgers', 'Pastry'}, {'Medialuna', 'Coffee', 'Hot chocolate'}, {'Tea', 'Bread'}, {'Truffles'}, {'Cake', 'Tea', 'Juice'}, {'Tea', 'Bread'}, {'Cake', 'Coffee'}, {'Juice'}, {'Coffee', 'Bread'}, {'Medialuna', 'Coffee'}, {'Coffee', 'Bread'}, {'Bread', 'Alfajores'}, {'Cookies', 'Medialuna', 'Pastry', 'Alfajores'}, {'Eggs'}, {'Toast', 'Coffee'}, {'Coffee'}, {'Bread'}, {'Coffee', 'Pastry', 'Bread'}, {'Farm House'}, {'Tea'}, {'Coffee'}, {'Coffee', 'Pastry', 'Bread'}, {'Scone', 'Coffee', 'Jam', 'Bread'}, {'Tea', 'Scone'}, {'Coffee'}, {'Tea'}, {'Coffee', 'Bread'}, {'Baguette'}, {'Coffee'}, {'Coffee', 'Pastry', 'Bread'}, {'Bread'}, {'Coffee', 'Bread'}, {'Tea', 'Scone'}, {'Coffee'}, {'Sandwich', 'Tea'}, {'Bread'}, {'Medialuna', 'Coffee', 'Tea'}, {'Coffee', 'Tea', 'Sandwich'}, {'Bread'}, {'Coffee', 'Pastry'}, {'Cake'}, {'Coffee', 'Salad'}, {'Bread'}, {'Bread'}, {'Jam'}, {'Cake', 'Coffee', 'Toast'}, {'Toast', 'Coffee'}, {'Cake', 'Tea'}, {'Soup', 'Truffles', 'Alfajores'}, {'Cake', 'Alfajores'}, {'Tea', 'Alfajores', 'Mineral water', 'Cookies', 'Coffee'}, {'Cookies', 'Toast', 'Coffee'}, {'Coffee', 'Scone', 'Tea'}, {'Cookies'}, {'Farm House'}, {'Chicken Stew', 'Tea'}, {'Cookies', 'Coffee'}, {'Bread'}, {'Bread'}, {'Cake', 'Coffee', 'Pastry'}, {'Bread'}, {'Coffee'}, {'Alfajores'}, {'Alfajores'}, {'Coffee', 'Pastry'}, {'Cake', 'Coffee'}, {'Coffee'}, {'Medialuna', 'Bread'}, {'Coffee', 'Hot chocolate', 'Bread'}, {'Coffee', 'Pastry', 'Bread'}, {'Toast'}, {'Coffee'}, {'Spanish Brunch', 'Tea', 'NONE', 'Bread'}, {'Coffee', 'Pastry'}, {'Coffee'}, {'Farm House'}, {'Toast', 'Tea'}, {'Bread'}, {'Baguette', 'Scone', 'Bread'}, {'Alfajores', 'Sandwich', 'Fudge', 'Bread'}, {'Sandwich', 'Coffee'}, {'Tea', 'NONE'}, {'Coffee', 'Pastry', 'Bread'}, {'Sandwich', 'Truffles', 'Coffee', 'Salad'}, {'Coffee'}, {'Scone', 'Pastry', 'Coke', 'Tea', 'Alfajores', 'Brownie'}, {'Tea', 'Bread'}, {'Tea', 'Bread'}, {'Bread'}, {'Brownie', 'Tea', 'Bread'}, {'Chicken Stew', 'Sandwich', 'Bread'}, {'Coffee'}, {'Sandwich', 'Coffee'}, {'Scone', 'Bread'}, {'Cake', 'Sandwich', 'Tea', 'Soup', 'Coffee'}, {'Farm House'}, {'Scandinavian'}, {'Coffee', 'Tea', 'Scone'}, {'Coffee', 'Cake', 'Smoothies'}, {'Sandwich', 'Coffee'}, {'Farm House', 'Brownie'}, {'Cake', 'Coffee'}, {'Cookies', 'Bread', 'Cake', 'Alfajores'}, {'Coffee', 'Juice'}, {'Bread'}, {'Brownie', 'Coffee', 'Bread'}, {'Cake'}, {'Brownie', 'Coffee', 'Bread'}, {'Brownie', 'Coffee'}, {'Coffee', 'Bread'}, {'Hot chocolate'}, {'Coffee'}, {'Coffee'}, {'Medialuna', 'Bread'}, {'Toast', 'Coffee', 'Hot chocolate', 'Bread'}, {'Coffee'}, {'Tiffin', 'Coffee'}, {'Cookies', 'Hot chocolate', 'Muffin', 'Juice'}, {'Cookies', 'Coffee', 'Juice', 'Bread'}, {'Sandwich', 'Toast', 'Coffee'}, {'Baguette'}, {'Juice', 'Baguette'}, {'Chicken Stew', 'Coffee'}, {'Bread'}, {'Coffee'}, {'Sandwich'}, {'Soup', 'Cake', 'Tea', 'Brownie'}, {'Tea', 'Scone'}, {'Tea', 'Scone'}, {'Cake', 'Coffee', 'Tea'}, {'Chicken Stew'}, {'Coffee', 'Alfajores'}, {'Bread'}, {'Spanish Brunch', 'Coffee'}, {'Soup', 'Mineral water'}, {'Tiffin', 'Muffin'}, {'Coffee'}, {'Bread'}, {'Cookies', 'Cake'}, {'Spanish Brunch', 'Tea'}, {'Coffee', 'Hot chocolate'}, {'Cake', 'Muffin', 'Jammie Dodgers', 'Juice', 'Bread', 'Coffee'}, {'Tiffin', 'Coffee'}, {'Muffin', 'Tiffin', 'Alfajores', 'Coffee', 'Hot chocolate'}, {'Bread'}, {'Tea'}, {'Sandwich', 'Tiffin', 'Coffee', 'Muffin'}, {'Jam'}, {'Toast'}, {'Afternoon with the baker', 'Brownie'}, {'Coffee', 'Pastry'}, {'Bread'}, {'Bread'}, {'Baguette'}, {'Coffee'}, {'Cookies', 'Coffee', 'Scone', 'Juice'}, {'Toast', 'Coffee'}, {'Coffee'}, {'Tea'}, {'Tiffin'}, {'Tea'}, {'Coffee'}, {'Cake', 'Brownie', 'Tea', 'NONE'}, {'Cookies', 'Coffee', 'Bread'}, {'Pastry'}, {'Toast', 'Sandwich', 'Tea'}, {'Toast', 'Bread'}, {'Farm House'}, {'Toast', 'Coffee'}, {'Medialuna', 'Bread'}, {'Coffee', 'Muffin', 'Alfajores'}, {'Coffee', 'Bread'}, {'Sandwich', 'Bread'}, {'Tea', 'NONE'}, {'Bread'}, {'Bread'}, {'Medialuna', 'Sandwich', 'Tiffin', 'Bread', 'Coffee'}, {'Soup', 'Cake', 'Coffee', 'Sandwich'}, {'Coffee', 'Tea', 'Sandwich', 'Muffin'}, {'Coffee', 'Cake', 'Tea'}, {'Soup', 'Coffee'}, {'Bread'}, {'Cake', 'Bread'}, {'Brownie', 'Coffee'}, {'Jam'}, {'Cake', 'Brownie'}, {'Cake', 'Coffee', 'Muffin', 'Toast'}, {'Tea'}, {'Coffee', 'Tea', 'Scone'}, {'Bread'}, {'Tiffin', 'Mineral water'}, {'Bread', 'Scone', 'Alfajores'}, {'Chicken Stew', 'Smoothies', 'Bread'}, {'Soup'}, {'Sandwich', 'Bread'}, {'Tiffin', 'Tea'}, {'Bread'}, {'Spanish Brunch'}, {'Coffee'}, {'Brownie', 'Coffee'}, {'Truffles', 'Coffee'}, {'Coffee', 'Mineral water', 'Sandwich', 'Bread'}, {'Bread'}, {'Coffee', 'Bread'}, {'Alfajores', 'Mineral water', 'Cookies', 'Coffee', 'Hot chocolate'}, {'Farm House'}, {'Brownie', 'Tea', 'Bread'}, {'Coffee', 'Tea', 'Alfajores'}, {'Farm House', 'Coffee', 'Pastry', 'Bread'}, {'Eggs'}, {'Coffee', 'Bread'}, {'NONE', 'Bread'}, {'Toast', 'Coffee', 'NONE', 'Coke'}, {'Cake', 'Muffin'}, {'Bread'}, {'Bread'}, {'Scandinavian'}, {'Medialuna', 'Pastry', 'Bread'}, {'Bread'}, {'Bread'}, {'Scandinavian', 'Baguette'}, {'Cookies', 'Bread'}, {'Cake', 'Coffee'}, {'Bread'}, {'Coffee', 'Pastry', 'Bread'}, {'Coffee', 'Pastry'}, {'Scone'}, {'Toast', 'Coffee'}, {'Scone', 'Bread'}, {'Pastry', 'Bread'}, {'Medialuna', 'Tea', 'Alfajores', 'Jam', 'Bread'}, {'Brownie', 'Coffee'}, {'Tea', 'NONE'}, {'Cookies', 'Coffee', 'Juice'}, {'Scandinavian'}, {'Cookies', 'Coffee'}, {'Coffee', 'Pastry'}, {'Coffee'}, {'Medialuna'}, {'Medialuna'}, {'Coffee'}, {'Coffee', 'Tea', 'Coke'}, {'Coffee', 'NONE', 'Bread'}, {'Medialuna', 'Tiffin'}, {'Bread', 'Brownie', 'Baguette', 'Alfajores'}, {'Cake', 'Coffee', 'Tea', 'Alfajores'}, {'Cake', 'Coffee'}, {'Cake', 'Chicken Stew', 'The Nomad', 'Coffee', 'NONE'}, {'Brownie', 'Hot chocolate'}, {'Nomad bag', 'Coffee', 'NONE'}, {'Coffee'}, {'Coffee', 'NONE'}, {'Coffee'}, {'Coffee'}, {'Coffee'}, {'Mineral water', 'Bread'}, {'Soup', 'Cake', 'Salad'}, {'Tea', 'Extra Salami or Feta', 'NONE'}, {'Soup', 'Bread'}, {'Sandwich', 'Coffee'}, {'Sandwich', 'Tea'}, {'Sandwich', 'Extra Salami or Feta', 'Bread', 'Coffee', 'Salad'}, {'Sandwich', 'Bread'}, {'Coffee'}, {'Chocolates', 'Coke', 'Tea', 'Juice', 'Hot chocolate'}, {'Coffee'}, {'Cake'}, {'Cake', 'Coffee'}, {'Scone', 'Cookies', 'Soup', 'Coffee', 'Hot chocolate'}, {'Tiffin', 'Tea', 'Bread'}, {'Cake', 'Scone', 'Muffin', 'Tea', 'Bread'}, {'Sandwich'}, {'Coke'}, {'Cake', 'Coffee'}, {'Sandwich', 'Coffee'}, {'Medialuna', 'Bread'}, {'Cake'}, {'Cookies', 'Coffee', 'Bread'}, {'Cake', 'Hot chocolate'}, {'Cake', 'Hot chocolate'}, {'Medialuna', 'Coffee', 'Fudge'}, {'Bread'}, {'Medialuna', 'Coffee', 'Fudge'}, {'Coffee'}, {'Medialuna', 'Coffee', 'Scone'}, {'Bread'}, {'Medialuna'}, {'Medialuna', 'Coffee'}, {'Cake', 'Juice', 'Soup', 'Coffee', 'NONE'}, {'Coffee'}, {'Coffee'}, {'Coffee', 'Medialuna', 'Tea', 'Art Tray'}, {'Coffee'}, {'Medialuna', 'Toast', 'Coffee'}, {'Medialuna', 'Cake', 'Scone'}, {'Eggs', 'Farm House', 'Medialuna', 'Bread'}, {'Coffee'}, {'Farm House'}, {'Alfajores', 'Bread'}, {'Cake', 'Jammie Dodgers', 'Scone'}, {'Scone', 'Bread'}, {'Bread'}, {'Coffee', 'Hot chocolate'}, {'Cake', 'Sandwich', 'Coffee', 'Hot chocolate', 'NONE'}, {'Coffee', 'Baguette', 'Pastry', 'Alfajores'}, {'Bread'}, {'The Nomad', 'Tea', 'NONE'}, {'Coffee', 'Scone', 'Alfajores'}, {'Sandwich', 'Juice', 'Bread', 'Coffee', 'NONE'}, {'Cookies', 'Farm House'}, {'Jammie Dodgers', 'Cake'}, {'Hot chocolate', 'Bread'}, {'Bread'}, {'Cookies', 'Tea'}, {'Coffee'}, {'Sandwich', 'Extra Salami or Feta', 'Juice', 'Cookies', 'Coffee', 'NONE'}, {'Coffee'}, {'Tiffin', 'Tea', 'Jammie Dodgers', 'Juice', 'Bread', 'Coffee'}, {'Cake', 'Pastry', 'Tea', 'Bread', 'Coffee'}, {'Coffee', 'Pastry'}, {'Toast'}, {'Coffee', 'Bread'}, {'Coffee'}, {'Soup', 'Spanish Brunch', 'Tea'}, {'Art Tray', 'Spanish Brunch', 'Soup', 'Coffee', 'Salad'}, {'Cookies', 'Sandwich'}, {'Spanish Brunch', 'Juice'}, {'Cake'}, {'Bread'}, {'Soup', 'Spanish Brunch', 'Coffee'}, {'Bread'}, {'Cake', 'Coffee', 'Scone'}, {'Cake', 'Coffee', 'Scone'}, {'Cake', 'Coffee', 'Hot chocolate'}, {'Chicken Stew'}, {'Cake', 'Coffee'}, {'Sandwich', 'Coffee', 'Hot chocolate'}, {'Sandwich', 'Tiffin', 'Jammie Dodgers', 'Coffee'}, {'Coffee'}, {'Bread'}, {'Cake', 'Tiffin', 'Jammie Dodgers', 'Cookies', 'Coffee'}, {'Soup', 'Coffee'}, {'Spanish Brunch', 'Coffee'}, {'Spanish Brunch', 'Coffee'}, {'Cake', 'Tea', 'Scone'}, {'Jam', 'Fudge'}, {'Cake', 'Truffles'}, {'Coffee'}, {'Coffee', 'Pastry'}, {'Medialuna', 'Coffee'}, {'Coffee'}, {'Coffee', 'Bread'}, {'Medialuna', 'Coffee'}, {'Tea', 'Pastry'}, {'Farm House'}, {'Jammie Dodgers', 'Coffee', 'Juice'}, {'Coffee', 'Pastry', 'Bread'}, {'Bread'}, {'Coffee', 'Bread'}, {'Coffee'}, {'Bread'}, {'Medialuna', 'Tea', 'Bread'}, {'Coffee', 'NONE'}, {'Spanish Brunch', 'Coffee'}, {'Sandwich', 'Coke'}, {'Soup'}, {'Soup', 'Bread'}, {'Toast', 'Coffee'}, {'Coffee', 'Granola'}, {'Medialuna', 'Jammie Dodgers', 'Tea'}, {'Farm House'}, {'Chicken Stew'}, {'Coffee'}, {'Tea'}, {'Bread'}, {'Soup', 'Chicken Stew', 'Coffee', 'Pastry'}, {'Jammie Dodgers', 'Coffee', 'Truffles'}, {'Coffee', 'Bread'}, {'Bread'}, {'Bread'}, {'Tiffin', 'Coffee', 'Tea'}, {'Bread'}, {'Bread'}, {'Bread'}, {'Bread'}, {'Bread'}, {'Pastry', 'Bread'}, {'Tea', 'Juice', 'NONE'}, {'Farm House'}, {'Toast', 'Coffee', 'Tea'}, {'Baguette'}, {'Cake', 'Truffles', 'Pastry', 'Baguette', 'Coffee'}, {'Coffee'}, {'Bread', 'Coke'}, {'Cookies', 'Bread'}, {'Bread'}, {'Coffee', 'Pastry'}, {'Bread', 'NONE'}, {'Bread'}, {'Coffee', 'Bread'}, {'Tea', 'Pastry', 'Bread'}, {'Coffee', 'Bread'}, {'Scandinavian'}, {'Coffee', 'Bread'}, {'Coffee'}, {'Bread'}, {'Baguette'}, {'Jammie Dodgers', 'Bread'}, {'Coffee'}, {'Bread'}, {'Soup', 'Coffee', 'Mineral water'}, {'Pastry', 'Bread'}, {'Cookies', 'Tea'}, {'Coffee'}, {'Coffee'}, {'Sandwich', 'Soup', 'Coffee', 'Coke'}, {'Farm House', 'Coffee'}, {'Scandinavian', 'Pastry', 'Baguette'}, {'Sandwich', 'Tea', 'Hot chocolate', 'NONE'}, {'Coffee'}, {'Cake', 'Tea'}, {'Coffee', 'Pastry', 'Alfajores'}, {'Coffee', 'Hot chocolate'}, {'Coffee'}, {'Sandwich', 'Coffee'}, {'Alfajores', 'Spanish Brunch', 'Tea', 'Bread'}, {'Cookies', 'Coffee', 'Hot chocolate'}, {'Cake', 'Coffee'}, {'Cookies', 'Tea'}, {'Coffee', 'Cake', 'Smoothies', 'Bread'}, {'Bread'}, {'Bread'}, {'Vegan Feast'}, {'Cake', 'Coffee'}, {'Tea', 'Hot chocolate', 'Pastry'}, {'Cake', 'Coffee', 'Hot chocolate'}, {'Coffee', 'Tea', 'Bread'}, {'Coffee'}, {'Coffee'}, {'Toast', 'Coffee', 'Tea'}, {'Coffee'}, {'Bread'}, {'Coffee', 'Juice', 'Pastry', 'Alfajores'}, {'Coffee', 'Baguette'}, {'Cake', 'Coffee', 'Pastry'}, {'Coffee', 'Tea'}, {'Pastry', 'Bread'}, {'Pastry', 'Bread'}, {'Coffee', 'Vegan mincepie', 'Baguette'}, {'Baguette'}, {'Coffee', 'Tea', 'Bread'}, {'Cake', 'Coffee', 'Juice', 'Toast'}, {'Truffles', 'Hot chocolate'}, {'Toast', 'Coffee'}, {'Hot chocolate', 'NONE'}, {'Bread'}, {'Tea', 'NONE'}, {'Chicken Stew'}, {'Chicken Stew'}, {'Soup', 'Chicken Stew', 'Tea', 'Bread'}, {'Pastry', 'Bread'}, {'Salad', 'NONE', 'Mineral water'}, {'Truffles', 'Duck egg', 'Sandwich', 'Soup', 'Coffee', 'NONE'}, {'Coffee', 'Bread'}, {'Sandwich', 'Hot chocolate'}, {'Bread'}, {'Cake', 'Chicken Stew', 'Tea', 'Soup', 'Coffee'}, {'Cookies', 'Coffee'}, {'Farm House'}, {'Coffee', 'Bread'}, {'Bread', 'Truffles', 'Tea', 'Coke'}, {'Bread'}, {'Cake', 'Tea', 'Bread'}, {'Smoothies', 'Bread'}, {'Coffee'}, {'Coffee', 'Juice'}, {'Coffee', 'NONE'}, {'Bread'}, {'Coffee', 'Toast', 'Tea'}, {'Jam', 'Bread'}, {'Coffee', 'Pastry'}, {'Bread'}, {'Bread'}, {'Cake', 'Tea'}, {'Hot chocolate', 'Bread'}, {'Cake', 'Coffee'}, {'Coffee', 'Hot chocolate', 'Pastry', 'Bread'}, {'Cake', 'Coffee', 'Hot chocolate'}, {'Toast', 'Coffee'}, {'Cake', 'Coffee'}, {'Pastry', 'Bread'}, {'Coffee', 'Tea'}, {'Coffee', 'Baguette'}, {'Coffee', 'Pastry'}, {'Pastry', 'Bread'}, {'Bread'}, {'Cookies', 'Coffee'}, {'Sandwich', 'Coffee'}, {'Tea'}, {'Bread'}, {'Bread'}, {'Tea'}, {'Bread'}, {'Coffee'}, {'Chicken Stew'}, {'Sandwich', 'Coffee'}, {'Coffee', 'Hot chocolate', 'Pastry', 'Bread'}, {'Coffee', 'Bread'}, {'Coffee', 'Bread'}, {'Hot chocolate', 'Pastry'}, {'Coffee', 'Hot chocolate'}, {'Coffee', 'Tea'}, {'Tea'}, {'Cake', 'Coffee'}, {'Cake', 'Coffee'}, {'Muffin', 'Bread'}, {'Tea', 'Pastry'}, {'Cake'}, {'Bread'}, {'Bread'}, {'Bread'}, {'Pastry', 'Bread'}, {'Bread'}, {'Coffee'}, {'Toast', 'Coffee'}, {'Coffee', 'NONE'}, {'Coffee'}, {'Cookies', 'Cake', 'Coffee', 'Juice'}, {'Coffee'}, {'Tiffin', 'Coffee'}, {'Bread'}, {'Coffee'}, {'Coffee', 'Pastry'}, {'Coffee', 'Sandwich', 'Pastry', 'Bread'}, {'Fudge'}, {'Scandinavian'}, {'Hot chocolate', 'Bread'}, {'Coffee', 'Fudge', 'Alfajores'}, {'Coffee'}, {'Coffee'}, {'Tea'}, {'Bread'}, {'Bread'}, {'Coffee', 'Pastry'}, {'Coffee', 'Tea'}, {'Sandwich'}, {'Tiffin', 'Cake', 'Coffee'}, {'Coffee'}, {'Coffee', 'Pastry', 'Tea'}, {'Coffee'}, {'Coffee'}, {'Chicken Stew', 'Sandwich', 'Mineral water'}, {'Cookies', 'Cake', 'Bread'}, {'Eggs', 'Coffee', 'Pastry', 'Bread'}, {'Bread'}, {'Sandwich', 'Coffee', 'Salad'}, {'Coffee', 'Pastry', 'Bread'}, {'Coffee', 'Bread'}, {'Chicken Stew', 'Tea'}, {'Cookies', 'Sandwich', 'Coffee'}, {'Tiffin', 'Coffee', 'Alfajores'}, {'Pastry', 'Bread'}, {'Tiffin', 'Hot chocolate'}, {'Spanish Brunch', 'Tea', 'Duck egg', 'Bread'}, {'Soup', 'Cookies', 'Tea'}, {'Soup', 'Cake', 'Muffin', 'Juice'}, {'Coffee', 'Sandwich', 'Smoothies', 'Coke'}, {'Afternoon with the baker'}, {'Sandwich', 'Coffee'}, {'Scone', 'Pastry', 'Bread'}, {'Coffee', 'Bread'}, {'Bread'}, {'Sandwich'}, {'Cookies', 'Coffee'}, {'Scone'}, {'Coffee'}, {'Sandwich', 'Tiffin', 'Bread'}, {'Afternoon with the baker', 'Tea', 'Juice', 'Bread'}, {'Coffee', 'Scone'}, {'Cake'}, {'Truffles', 'Coffee', 'Scone', 'Alfajores'}, {'Coffee'}, {'Bread'}, {'Coffee'}, {'Coffee', 'Scone', 'Bread'}, {'Bread'}, {'Coffee'}, {'Coffee', 'NONE', 'Pastry', 'Coke'}, {'Farm House', 'Coffee', 'Hot chocolate'}, {'Pastry', 'Bread'}, {'Scone'}, {'Coffee', 'Pastry', 'NONE'}, {'Scone', 'Bread'}, {'Tiffin', 'Brownie', 'Coffee', 'Juice'}, {'Scandinavian', 'Alfajores'}, {'Bread'}, {'Coffee', 'Tea', 'Juice'}, {'Coffee', 'Scone', 'Pastry'}, {'Coffee', 'Scone', 'Muffin'}, {'Bread'}, {'Coffee'}, {'Bread'}, {'Medialuna', 'Scone', 'Scandinavian', 'Baguette', 'Cookies'}, {'Coffee', 'Bread'}, {'Coffee', 'Pastry', 'Bread'}, {'Baguette'}, {'Bread'}, {'Jammie Dodgers', 'Cake', 'Bread'}, {'Sandwich', 'Extra Salami or Feta', 'Bread', 'Coffee', 'NONE'}, {'Cake', 'Tea', 'Brownie', 'Mineral water', 'Coffee', 'Hot chocolate'}, {'Coffee', 'Coke'}, {'Bread'}, {'Coffee', 'Tea'}, {'Cookies', 'Coffee'}, {'Bread'}, {'The Nomad', 'Spanish Brunch', 'Coffee'}, {'Coffee', 'Muffin'}, {'Coffee', 'Scone'}, {'Tiffin', 'Coffee', 'Bread'}, {'Baguette'}, {'Coffee', 'Bread'}, {'Sandwich', 'Brownie', 'Coffee', 'Smoothies'}, {'Scone', 'Coke', 'Brownie', 'Toast', 'Coffee', 'NONE'}, {'Cake', 'Smoothies', 'Sandwich', 'Bread', 'Soup'}, {'Bread'}, {'Sandwich', 'Juice', 'Baguette', 'Toast', 'Coffee'}, {'Coffee', 'Bread'}, {'Coffee'}, {'Spanish Brunch', 'Coffee'}, {'Scandinavian', 'Brownie', 'Bread', 'Soup', 'Coffee', 'NONE'}, {'Pastry'}, {'Vegan Feast'}, {'Cake', 'Muffin'}, {'Baguette'}, {'Truffles', 'Coke', 'Chicken Stew', 'Sandwich', 'Coffee'}, {'Soup', 'Tea', 'Scone'}, {'Bread'}, {'Soup', 'Sandwich', 'Juice'}, {'Cookies', 'Coffee', 'Mineral water'}, {'Cookies', 'Coffee', 'Pastry'}, {'Art Tray', 'Scone', 'Sandwich', 'Brownie', 'Soup', 'Coffee', 'NONE'}, {'Cake', 'Tiffin'}, {'Tea', 'Scone'}, {'Cookies', 'Brownie'}, {'Sandwich', 'Juice', 'NONE'}, {'Cake', 'Scone', 'Bread', 'Cookies', 'Coffee', 'Hot chocolate'}, {'Cake', 'Tea', 'Hot chocolate', 'Salad'}, {'Soup', 'Tea', 'Sandwich', 'Bread'}, {'Spanish Brunch', 'Sandwich'}, {'Toast', 'Bread'}, {'Toast', 'Coffee', 'NONE', 'Tea'}, {'Scone'}, {'Coffee', 'Scone'}, {'Brownie', 'Bread'}, {'Soup', 'Tea'}, {'Scone', 'Cake', 'Coffee', 'Hot chocolate'}, {'Brownie', 'Tea', 'Coke'}, {'Spanish Brunch', 'Truffles', 'Hot chocolate'}, {'Chicken Stew', 'Granola', 'Coke'}, {'Spanish Brunch', 'Smoothies'}, {'Bread'}, {'Coffee', 'Scone'}, {'Tea'}, {'Tea'}, {'Scandinavian'}, {'Coffee', 'Hot chocolate'}, {'Cake', 'Scone', 'Bread', 'Coffee', 'Hot chocolate'}, {'Tea', 'Scone', 'Bread'}, {'Scandinavian'}, {'Coffee', 'Bread'}, {'Truffles', 'Scone', 'Soup', 'Mineral water', 'Bread', 'Cookies', 'Coffee', 'Salad'}, {'Coffee', 'Tiffin', 'Tea'}, {'Coffee'}, {'Scone', 'Hot chocolate', 'Bread'}, {'Coffee', 'Cake', 'Tea', 'Scone'}, {'Bread'}, {'Scandinavian', 'Muffin'}, {'Scandinavian'}, {'Farm House'}, {'Medialuna', 'Bread', 'NONE'}, {'Spanish Brunch', 'Coffee'}, {'Coffee'}, {'Coffee'}, {'Spanish Brunch', 'Coffee', 'Pastry', 'Bread'}, {'Bread', 'Scone', 'NONE'}, {'Toast', 'Coffee', 'NONE', 'Bread'}, {'Bread'}, {'Pastry', 'Bread'}, {'Cookies', 'Hot chocolate', 'Pastry'}, {'The Nomad', 'Coffee', 'NONE'}, {'Jammie Dodgers', 'Coffee', 'Muffin', 'Tea'}, {'Coffee'}, {'Brownie', 'Coffee'}, {'Coffee'}, {'Coffee', 'Bread'}, {'Coffee', 'Hot chocolate', 'Muffin'}, {'Bread'}, {'Farm House'}, {'Tiffin', 'Coffee'}, {'Toast', 'Coffee', 'Scone', 'Pastry'}, {'Coffee'}, {'Jam'}, {'Cake', 'Coffee', 'Pastry'}, {'Tea', 'Juice', 'Soup', 'Coffee', 'NONE'}, {'Pastry'}, {'Coffee'}, {'Jammie Dodgers', 'Coffee'}, {'Coffee'}, {'Coffee'}, {'Muffin'}, {'Cake', 'Coffee', 'Muffin'}, {'Pastry', 'Bread'}, {'Coffee', 'Pastry', 'Bread'}, {'Hot chocolate'}, {'Cake', 'Coffee', 'Juice'}, {'Sandwich', 'Coke'}, {'Sandwich', 'Smoothies'}, {'Coffee'}, {'Scone'}, {'Cake', 'Juice', 'Bread', 'Coffee', 'NONE'}, {'Cake', 'Coffee', 'Tea'}, {'Cake', 'Truffles', 'Pastry', 'Sandwich', 'Coffee'}, {'Tiffin'}, {'Cake', 'Coffee'}, {'Medialuna', 'Cake', 'Scone', 'Tea', 'Soup', 'Coffee'}, {'Coffee'}, {'Coffee', 'NONE', 'Bread'}, {'Medialuna', 'Coffee', 'Pastry'}, {'Jammie Dodgers', 'Tiffin'}, {'Alfajores', 'Coffee', 'Bread'}, {'Afternoon with the baker'}, {'Afternoon with the baker'}, {'Afternoon with the baker'}, {'Afternoon with the baker'}, {'Afternoon with the baker'}, {'Jammie Dodgers'}, {'Coffee'}, {'Coffee', 'NONE'}, {'Coffee', 'Bread'}, {'Coffee'}, {'Bread'}, {'Bread'}, {'Coffee', 'Pastry'}, {'Bread'}, {'Tea', 'Pastry'}, {'Pastry'}, {'Tea', 'NONE'}, {'Coffee', 'NONE'}, {'Farm House'}, {'Coffee'}, {'Cookies', 'Coffee', 'Pastry'}, {'Toast', 'Coffee', 'Bread'}, {'Coffee', 'Cake', 'Tea'}, {'Toast', 'Coffee'}, {'Toast', 'Coffee'}, {'Bread'}, {'Bread'}, {'Bread'}, {'Farm House', 'Cake'}, {'Soup', 'Coffee'}, {'Coffee'}, {'Sandwich', 'Bread'}, {'Bread'}, {'Sandwich', 'Cake', 'Coffee', 'Juice'}, {'Bread'}, {'Tea', 'NONE'}, {'Cake', 'Bread'}, {'Chicken Stew', 'Coffee'}, {'Coffee', 'NONE'}, {'Coffee', 'NONE', 'Salad'}, {'Soup', 'Bread'}, {'Cake', 'Bread'}, {'Bread'}, {'Sandwich', 'Cake', 'Coffee'}, {'Cake', 'Truffles', 'Chicken Stew', 'Tea', 'Coffee', 'Salad'}, {'Coffee', 'Juice', 'Drinking chocolate spoons'}, {'Cake', 'Sandwich', 'Bread', 'Soup', 'Coffee'}, {'Juice'}, {'Tea'}, {'Bread'}, {'Cake', 'Tea', 'Hot chocolate'}, {'Coffee', 'Toast', 'Tea', 'Pastry'}, {'Cake', 'Coffee'}, {'Afternoon with the baker'}, {'Bread'}, {'Coffee'}, {'Toast', 'Coffee'}, {'Cookies', 'Pastry', 'Bread'}, {'Coke'}, {'Coffee'}, {'Coffee', 'Tea'}, {'Pastry', 'Bread'}, {'Coffee'}, {'Coffee'}, {'Pastry', 'Bread'}, {'Baguette'}, {'Bread'}, {'Coffee'}, {'Coffee', 'Tea'}, {'Coffee', 'Granola', 'NONE'}, {'Coffee'}, {'Bread'}, {'Sandwich', 'Bread'}, {'Coffee'}, {'Coffee'}, {'Toast', 'Bread'}, {'Cookies', 'Coffee', 'Hot chocolate', 'Pastry'}, {'Cookies', 'Coffee', 'Bread'}, {'Baguette'}, {'Tea', 'Bread'}, {'Coffee'}, {'Coffee'}, {'Bread'}, {'Coffee', 'Pastry', 'Bread'}, {'Bread'}, {'Spanish Brunch', 'Pastry', 'Bread', 'Coffee', 'NONE'}, {'Soup', 'Coffee'}, {'Salad', 'Spanish Brunch', 'Jam', 'Bread'}, {'Soup', 'Tea'}, {'Soup', 'Coffee', 'Sandwich'}, {'Sandwich', 'Cake', 'Coffee', 'Hot chocolate'}, {'Tiffin', 'Coffee', 'Salad'}, {'Sandwich', 'Cake', 'Coffee', 'Hot chocolate'}, {'Soup', 'Spanish Brunch', 'Coffee'}, {'Cookies'}, {'Farm House'}, {'Farm House', 'Spanish Brunch', 'Soup', 'Toast', 'Coffee', 'Salad'}, {'Fudge'}, {'Chicken Stew', 'Tea'}, {'Farm House'}, {'Coffee', 'Cake', 'Tiffin'}, {'Spanish Brunch', 'Tea'}, {'Bread'}, {'Coffee'}, {'Truffles', 'Pastry', 'Tiffin', 'Bread', 'Soup'}, {'Bread'}, {'Pastry', 'Bread'}, {'Cake', 'Coffee'}, {'Cake', 'Tea'}, {'Cake', 'Tea'}, {'Coffee', 'Hot chocolate', 'Bread'}, {'Bread'}, {'Bread'}, {'Bread'}, {'Pastry', 'Bread'}, {'Coffee', 'Pastry'}, {'Medialuna', 'Bread'}, {'Bread', 'Toast', 'NONE'}, {'Bread'}, {'Cake', 'Coffee'}, {'Coffee', 'Tea', 'Pastry', 'Bread'}, {'Bread'}, {'Pastry'}, {'Bread'}, {'Baguette'}, {'Coffee', 'Pastry'}, {'Bread'}, {'Coffee', 'NONE'}, {'Chicken Stew', 'Coffee', 'Salad'}, {'Bread'}, {'Soup'}, {'Sandwich', 'Truffles', 'Coffee', 'Bread'}, {'Soup', 'Farm House', 'Mineral water'}, {'Bread'}, {'Soup', 'Coffee', 'Tea'}, {'Chicken Stew'}, {'Coffee'}, {'Jammie Dodgers', 'Cake'}, {'Bread'}, {'Cake', 'Scone', 'Sandwich', 'Tea', 'Coffee'}, {'Baguette'}, {'Cake', 'Tea', 'Scone', 'Juice'}, {'Pastry', 'Bread'}, {'Tiffin', 'Cake', 'Coffee', 'Truffles'}, {'Jammie Dodgers', 'Coffee'}, {'Toast', 'Coffee'}, {'Bread'}, {'Coffee', 'Pastry'}, {'Coffee'}, {'Toast', 'Coffee', 'Bread'}, {'Baguette'}, {'Toast', 'Coffee', 'NONE'}, {'Bread', 'Cake', 'Coffee', 'Tea'}, {'Hot chocolate', 'Bread'}, {'Coffee', 'Baguette'}, {'Cake', 'Tiffin'}, {'Coffee'}, {'Coffee'}, {'Cake', 'Juice'}, {'Bread'}, {'Tiffin', 'Coffee'}, {'Sandwich', 'Tea'}, {'Sandwich', 'Tea'}, {'Chicken Stew', 'Coffee'}, {'Cookies', 'Sandwich'}, {'Salad', 'Coffee', 'Juice', 'NONE'}, {'Salad', 'Tea', 'Sandwich', 'Bread'}, {'Truffles', 'Pastry', 'Bread'}, {'Scandinavian', 'Bread'}, {'Chicken Stew', 'Coffee'}, {'Soup'}, {'Sandwich', 'Coffee'}, {'Cookies', 'Soup'}, {'Christmas common'}, {'Coffee'}, {'Soup', 'Medialuna', 'Sandwich', 'Coffee'}, {'Cake', 'Coffee', 'Hot chocolate', 'Pastry'}, {'Coffee'}, {'Pastry'}, {'Chicken Stew', 'Coffee', 'Pastry', 'Bread'}, {'Coffee'}, {'Cake', 'Tea'}, {'Spanish Brunch', 'Truffles', 'Coffee', 'Cake'}, {'Spanish Brunch', 'Truffles', 'Cake'}, {'Tea', 'Scone', 'Bread'}, {'Tea', 'Coke'}, {'Cake', 'Tea'}, {'Coke'}, {'Cake', 'Coffee', 'Bread'}, {'Cake', 'Scone', 'Tea', 'Cookies', 'Coffee'}, {'Coffee', 'NONE'}, {'Coffee'}, {'Coffee'}, {'Bread'}, {'Coffee', 'Pastry', 'Bread'}, {'Spanish Brunch', 'Coffee', 'Bread'}, {'Toast', 'Bread'}, {'Bread'}, {'Baguette'}, {'Coffee', 'Pastry'}, {'Cake', 'Tea', 'Hot chocolate'}, {'Coffee', 'Bread'}, {'Pastry', 'Bread'}, {'Coffee'}, {'Pastry'}, {'Toast', 'Coffee', 'Bread'}, {'Coffee'}, {'Bread'}, {'Coffee'}, {'Cookies', 'Bread'}, {'Medialuna', 'Bread'}, {'Tea'}, {'Cake', 'Coffee', 'Jam', 'Truffles'}, {'Cookies', 'Pastry', 'Coffee', 'Juice'}, {'Tiffin', 'Coffee', 'Bread'}, {'Cookies', 'Cake', 'Coffee', 'Juice'}, {'Coffee', 'Pastry', 'Vegan Feast'}, {'Coffee', 'Pastry'}, {'Coffee', 'Bread'}, {'Coffee', 'Bread'}, {'Bread'}, {'Medialuna', 'Coffee'}, {'Coffee'}, {'Tiffin', 'Coffee', 'Tea'}, {'Bread'}, {'Brownie'}, {'Coffee'}, {'Sandwich', 'Tea', 'NONE'}, {'Tiffin', 'Coffee'}, {'Scone', 'Bread'}, {'Soup', 'Bread', 'Salad'}, {'Sandwich', 'Coke'}, {'Toast', 'Coffee', 'Bread'}, {'Coffee', 'Cake', 'Sandwich'}, {'Soup', 'Truffles'}, {'Cookies', 'Tiffin', 'Vegan mincepie', 'Bread'}, {'Cookies'}, {'Soup'}, {'Spanish Brunch', 'Coffee'}, {'Coffee', 'Scone'}, {'Sandwich', 'Coffee', 'Bread'}, {'Coke', 'Spanish Brunch', 'Salad'}, {'Chicken Stew', 'Tiffin', 'Tea', 'Bread', 'Coffee'}, {'Cake', 'Tea', 'Bread'}, {'Truffles', 'Spanish Brunch', 'Scone', 'Mineral water', 'Bread'}, {'Coffee'}, {'Cake', 'Truffles'}, {'Coffee'}, {'Coffee', 'Bread'}, {'Cookies', 'Tiffin'}, {'Tea'}, {'Medialuna', 'Coffee'}, {'Toast', 'Coffee'}, {'Farm House', 'Baguette'}, {'Medialuna'}, {'Cake', 'Bread'}, {'Bread'}, {'Coffee', 'Tea'}, {'The Nomad', 'Medialuna', 'Coffee'}, {'Tea', 'Duck egg', 'NONE'}, {'Coffee', 'Scone', 'Bread'}, {'Coffee', 'Tea', 'Scandinavian'}, {'Scandinavian', 'Bread'}, {'Coffee', 'Chocolates', 'Coke'}, {'Coffee', 'Bread'}, {'Tea', 'Juice'}, {'Coffee', 'Scone', 'Pastry'}, {'Coffee'}, {'Baguette'}, {'Spanish Brunch', 'Tea', 'Jam', 'Fudge'}, {'Spanish Brunch', 'Coffee', 'Truffles'}, {'Cake', 'Scone', 'Scandinavian'}, {'Coffee', 'NONE'}, {'Coffee', 'Sandwich'}, {'Farm House', 'Bread'}, {'Cookies', 'Toast', 'Bread'}, {'Bread'}, {'Cookies', 'Farm House', 'Coffee'}, {'Medialuna', 'Cake', 'Spanish Brunch', 'Brownie', 'Bread', 'Coffee', 'NONE'}, {'Soup', 'Coffee', 'Sandwich', 'Pastry'}, {'Muffin'}, {'Tea'}, {'Tiffin'}, {'Coffee', 'Bread'}, {'Bread'}, {'Cookies', 'Hot chocolate', 'Bread'}, {'Jammie Dodgers', 'Cake', 'Juice', 'Bread'}, {'Scone', 'Bread'}, {'Tiffin', 'Tea', 'Hot chocolate', 'Bread'}, {'Coffee', 'Bread'}, {'Coffee'}, {'Cake', 'Granola', 'Sandwich', 'Coffee', 'NONE'}, {'Scone'}, {'Sandwich', 'Pastry'}, {'Coffee', 'Sandwich'}, {'Cake', 'Pastry', 'Bread'}, {'Pastry'}, {'Sandwich', 'Drinking chocolate spoons', 'Brownie', 'Bread', 'Coffee'}, {'Sandwich', 'Coffee'}, {'Jammie Dodgers', 'Bread'}, {'Cake', 'Tea'}, {'Coffee'}, {'Tea', 'Muffin', 'Juice', 'Salad'}, {'Spanish Brunch', 'Tea'}, {'Medialuna', 'Cake', 'Spanish Brunch', 'Chicken Stew', 'Sandwich', 'Toast'}, {'Bread'}, {'Soup', 'Bread'}, {'Coffee', 'Scone', 'Juice', 'Bread'}, {'Toast', 'Coffee', 'Scone', 'NONE'}, {'Bread'}, {'Cake', 'Bread'}, {'Brownie', 'Coke'}, {'Sandwich', 'Coffee'}, {'Cake', 'Jammie Dodgers', 'Bread'}, {'Coffee', 'Scone', 'Bread'}, {'Cake', 'Coffee', 'Scone'}, {'Coffee', 'Sandwich', 'NONE'}, {'Argentina Night', 'Vegan Feast'}, {'Cake', 'Coffee'}, {'Cake', 'Tea'}, {'Cake', 'Tea', 'Scone'}, {'Bread'}, {'Bread'}, {'Coffee'}, {'Cake', 'Coffee'}, {'Coffee'}, {'Coffee'}, {'Cookies', 'Muffin', 'Juice', 'Bread'}, {'Duck egg', 'Tea', 'The Nomad', 'Coffee', 'NONE'}, {'Coffee', 'Muffin'}, {'Scone', 'Cake', 'Coffee', 'Hot chocolate'}, {'Coffee', 'Pastry'}, {'Coffee', 'Pastry'}, {'Scone', 'Bread'}, {'Bread'}, {'Sandwich', 'Brownie', 'Coffee'}, {'Cake', 'Coffee'}, {'Spanish Brunch', 'Coffee', 'Scone'}, {'Coffee'}, {'Coffee', 'Bread'}, {'Spanish Brunch', 'Coffee'}, {'Spanish Brunch', 'Coffee'}, {'Bread'}, {'Cake', 'Muffin', 'Vegan Feast'}, {'Brownie', 'Bread'}, {'Coffee'}, {'Coffee', 'Bread'}, {'Cake', 'Vegan mincepie', 'Bread', 'Coffee', 'Hot chocolate'}, {'Jammie Dodgers', 'Tea', 'Muffin'}, {'Bread'}, {'Tea'}, {'Coffee', 'Scone', 'Pastry', 'Tea'}, {'Coffee', 'Pastry'}, {'Baguette'}, {'Cookies', 'Coffee'}, {'Coffee'}, {'Coffee'}, {'Bread'}, {'Truffles', 'Coffee', 'Juice', 'NONE'}, {'Coffee'}, {'Coffee'}, {'Spanish Brunch', 'Smoothies', 'NONE'}, {'Muffin', 'Juice', 'Toast', 'Coffee', 'NONE'}, {'Bread'}, {'The Nomad', 'Coffee'}, {'Hot chocolate', 'NONE'}, {'Spanish Brunch', 'Bread'}, {'Spanish Brunch', 'Tea', 'NONE'}, {'Medialuna', 'Smoothies', 'Scone', 'Cookies', 'Coffee'}, {'Coffee', 'Half slice Monster', 'Tiffin', 'Juice'}, {'Baguette'}, {'Spanish Brunch', 'Coke', 'Sandwich', 'Tea', 'Coffee'}, {'Bread'}, {'Cookies', 'Coffee', 'Hot chocolate'}, {'Soup', 'Cake', 'Coffee'}, {'Bread'}, {'Coffee'}, {'Mineral water', 'Coffee', 'Drinking chocolate spoons', 'Bread'}, {'Hot chocolate'}, {'Cake', 'Tea'}, {'Coffee', 'Cake', 'Tea', 'Jammie Dodgers'}, {'Medialuna'}, {'Scone'}, {'Cake', 'Hot chocolate'}, {'Medialuna', 'Spanish Brunch', 'Muffin', 'Chicken Stew', 'Coffee'}, {'Farm House'}, {'Cake', 'Coffee'}, {'Cake', 'Soup', 'Tea', 'Sandwich', 'Cookies', 'Coffee'}, {'Cookies', 'Coffee'}, {'Cake', 'Bread'}, {'Sandwich', 'Spanish Brunch', 'Coffee'}, {'Cookies', 'Coffee'}, {'Sandwich', 'Hot chocolate', 'Chocolates', 'Bread'}, {'Coffee', 'Pastry'}, {'Jammie Dodgers', 'Coffee'}, {'Coffee'}, {'Cake'}, {'Jam', 'Pastry', 'Bread'}, {'Bread'}, {'Tea'}, {'Coffee', 'Spanish Brunch', 'Tea'}, {'Afternoon with the baker'}, {'Bread'}, {'Cookies', 'Coffee'}, {'Cookies', 'Cake', 'Coffee', 'Tea'}, {'Coffee'}, {'Coffee'}, {'Coffee', 'Muffin'}, {'Bread'}, {'Tea'}, {'Coffee', 'Pastry'}, {'Coffee', 'Sandwich', 'Tea'}, {'Bread'}, {'Cake', 'Tea'}, {'Coffee'}, {'Baguette'}, {'Scone', 'Baguette'}, {'Coffee'}, {'Coffee', 'Pastry'}, {'Coffee', 'Pastry'}, {'Pastry'}, {'Bread'}, {'Coffee', 'Pastry'}, {'Bread', 'Tea', 'NONE'}, {'Coffee', 'Baguette'}, {'Bread'}, {'Truffles', 'Tea', 'Cookies', 'Bread', 'Soup', 'Salad'}, {'Soup', 'NONE'}, {'Soup', 'Afternoon with the baker', 'Coffee'}, {'Afternoon with the baker', 'Spanish Brunch', 'Coffee'}, {'Sandwich'}, {'Coffee'}, {'Coffee', 'Sandwich'}, {'Coffee', 'Sandwich'}, {'Sandwich', 'Coffee'}, {'Tea', 'Salad'}, {'Juice', 'NONE'}, {'Sandwich'}, {'Coffee', 'Tea', 'Hot chocolate'}, {'Soup', 'Coffee'}, {'Cake', 'Tea'}, {'Cake', 'Bread'}, {'Cake', 'Jammie Dodgers', 'Coffee'}, {'Coffee', 'Salad'}, {'Baguette'}, {'Jammie Dodgers', 'Coffee', 'Pastry'}, {'Cookies', 'Coffee'}, {'Farm House', 'Coffee', 'Pastry'}, {'Bread'}, {'Coffee'}, {'Coffee', 'Baguette'}, {'Toast', 'Coffee', 'Tea'}, {'Pastry'}, {'Bread'}, {'Coffee', 'Pastry'}, {'Salad', 'Bread'}, {'Pastry', 'Bread'}, {'Coffee'}, {'Toast', 'Coffee', 'NONE', 'Bread'}, {'Coffee'}, {'Coffee'}, {'Gift voucher', 'Bread'}, {'Pastry', 'Bread'}, {'Sandwich'}, {'Mineral water'}, {'Coffee', 'Pastry'}, {'Chicken Stew', 'Truffles'}, {'Pastry'}, {'Sandwich', 'Jammie Dodgers', 'Coffee'}, {'Cookies', 'Bread'}, {'Coffee', 'Medialuna', 'Tea'}, {'Chicken Stew'}, {'Coffee'}, {'Sandwich', 'Chicken Stew', 'Tea', 'Juice'}, {'Tea'}, {'Cake', 'Sandwich', 'Bread'}, {'Coffee', 'Muffin'}, {'Coffee', 'Bakewell', 'Juice'}, {'Cookies', 'Cake', 'Juice'}, {'Soup', 'Chicken Stew'}, {'Coffee', 'Bakewell'}, {'Coffee', 'Juice', 'NONE'}, {'Coffee', 'Bread'}, {'Tea', 'Bread'}, {'Tea', 'Bakewell'}, {'Cake', 'Coffee'}, {'Coffee', 'Bakewell'}, {'Cookies', 'Cake', 'Coffee', 'Juice'}, {'Sandwich', 'Cake', 'Coffee', 'Hot chocolate'}, {'Medialuna'}, {'Bread'}, {'Cookies', 'Cake', 'Jammie Dodgers', 'Vegan Feast'}, {'Bread'}, {'Coffee'}, {'Coffee'}, {'Baguette', 'Bread'}, {'Coffee', 'Pastry', 'Bread'}, {'Coffee', 'Pastry'}, {'Bread'}, {'Bread'}, {'Cake', 'Pastry'}, {'Toast'}, {'Hot chocolate'}, {'Coffee'}, {'Sandwich', 'Coffee'}, {'Cookies', 'Coffee'}, {'Cake', 'Coffee'}, {'Bread'}, {'Bread'}, {'Christmas common', 'Jam', 'Bread'}, {'Coffee'}, {'Salad', 'Coke'}, {'Extra Salami or Feta'}, {'Cookies'}, {'Cake'}, {'Truffles', 'Pastry'}, {'Cookies', 'Baguette'}, {'Coffee'}, {'Brownie'}, {'Toast', 'Coffee'}, {'Cookies', 'Tea', 'Pastry'}, {'Coke'}, {'Brownie', 'Coffee'}, {'Cake', 'Coffee'}, {'Cake', 'Truffles', 'Sandwich'}, {'Coffee', 'Cake', 'Tea', 'Bakewell'}, {'Cake', 'Coffee', 'Hot chocolate', 'Pastry'}, {'Brownie'}, {'Coffee', 'Scone'}, {'Cake', 'Baguette'}, {'Coffee', 'Tea'}, {'Cake', 'Coffee', 'Bread'}, {'Bread'}, {'Bread'}, {'Coffee', 'Scone'}, {'Coffee', 'Bread'}, {'Cake', 'Coffee', 'Juice'}, {'Brownie', 'Coffee'}, {'Cookies', 'Baguette'}, {'Medialuna', 'Coffee', 'Mineral water', 'Bread'}, {'Cookies', 'Coffee'}, {'Coffee', 'Bread'}, {'Toast', 'Coffee'}, {'Pastry', 'Bread'}, {'Coffee', 'Pastry', 'Bread'}, {'Toast', 'Coffee', 'Bread'}, {'Coffee'}, {'Farm House'}, {'Coffee', 'Pastry', 'Bread'}, {'Cookies', 'Coffee', 'Hot chocolate'}, {'Toast', 'Coffee', 'Granola', 'NONE'}, {'Pastry', 'Bread'}, {'Brownie', 'Hot chocolate', 'Bread'}, {'Crisps', 'Juice', 'Bread'}, {'Medialuna', 'Jammie Dodgers', 'Tea'}, {'Jammie Dodgers', 'Bread'}, {'Cake', 'Extra Salami or Feta', 'Cherry me Dried fruit', 'Toast', 'Coffee', 'Hot chocolate', 'NONE'}, {'Bread'}, {'Farm House'}, {'Medialuna', 'Coffee'}, {'Baguette'}, {'Scandinavian'}, {'Sandwich'}, {'Bread'}, {'Toast', 'Coffee', 'Tea'}, {'Bread'}, {'Bread'}, {'Coffee', 'Tea', 'Bread'}, {'Chicken Stew', 'Bread'}, {'Soup'}, {'Salad', 'Tea', 'Juice', 'Mineral water', 'Soup', 'NONE'}, {'Chicken Stew', 'Cake', 'Sandwich', 'Truffles'}, {'Pastry'}, {'Chicken Stew', 'Coffee'}, {'Eggs', 'Bread'}, {'Soup', 'Coffee', 'NONE'}, {'Coffee', 'Scone'}, {'Coke'}, {'Brownie', 'Bread'}, {'Cookies', 'Coffee', 'Hot chocolate'}, {'Cookies', 'Coffee'}, {'Cake', 'Bread'}, {'Cake', 'Coffee'}, {'Coffee'}, {'Tea', 'Bakewell', 'Bread'}, {'Coffee', 'Cake', 'Smoothies', 'Bread'}, {'Hot chocolate'}, {'Tea', 'Scone'}, {'Cookies', 'Baguette'}, {'Coffee', 'Bakewell'}, {'Mortimer'}, {'Bread'}, {'Bread'}, {'Coffee', 'Pastry'}, {'Coffee'}, {'Pastry', 'Bread'}, {'Bread'}, {'Coffee', 'NONE'}, {'Baguette'}, {'Coffee', 'Bread'}, {'Toast', 'Coffee'}, {'Cake', 'Bread'}, {'Coffee'}, {'Coffee'}, {'Cookies', 'Cake', 'Coffee', 'Juice'}, {'Baguette'}, {'Cake', 'Tea'}, {'Coffee', 'Pastry'}, {'Tea'}, {'Tea'}, {'Coffee', 'Pastry'}, {'Bread'}, {'Scandinavian'}, {'Coffee', 'Cake', 'Tiffin'}, {'Cake', 'Tea', 'Hot chocolate', 'Pastry'}, {'Brownie', 'Bread'}, {'Bread'}, {'Coffee'}, {'Toast', 'Coffee'}, {'Toast', 'Tea'}, {'Sandwich', 'Coffee', 'Pastry'}, {'Coffee'}, {'Bread'}, {'Coffee'}, {'Tiffin'}, {'Coffee'}, {'Cake', 'Brownie'}, {'Half slice Monster'}, {'Coffee', 'Mineral water'}, {'Cookies', 'Brownie', 'Coffee', 'Bread'}, {'Soup', 'Coffee', 'Sandwich'}, {'Coffee', 'Extra Salami or Feta', 'Coffee granules', 'Salad'}, {'Coffee', 'Salad'}, {'Cake', 'Coffee', 'Salad'}, {'Cookies', 'Cake'}, {'Cookies', 'Coffee'}, {'Coffee', 'Scone'}, {'Salad', 'Coffee', 'NONE'}, {'Coke'}, {'Cake', 'Coffee'}, {'Tiffin', 'Coffee', 'Hot chocolate'}, {'Scone', 'Coffee', 'Hot chocolate'}, {'Bread'}, {'Coffee', 'Hot chocolate'}, {'Tiffin'}, {'Sandwich', 'Coffee'}, {'Coffee', 'Hot chocolate', 'Pastry'}, {'Medialuna', 'Coffee'}, {'Coffee', 'Pastry'}, {'Cookies', 'Medialuna', 'Coffee'}, {'Pastry', 'Bread'}, {'Coffee'}, {'Baguette', 'Bread'}, {'Toast', 'Coffee', 'NONE'}, {'Farm House', 'Cake'}, {'NONE', 'Pastry', 'Bread'}, {'Coffee'}, {'Cookies', 'Coffee'}, {'Bread'}, {'Medialuna', 'Coffee', 'Pastry'}, {'Cake', 'Scone', 'Scandinavian'}, {'Coffee'}, {'Coffee'}, {'Coffee'}, {'Afternoon with the baker'}, {'Coffee', 'Duck egg', 'NONE'}, {'Bread'}, {'Tea', 'NONE'}, {'Toast', 'Coffee'}, {'Bread'}, {'Toast', 'Coffee'}, {'Truffles', 'Bread'}, {'Toast', 'Coffee', 'Juice', 'Bread'}, {'Coffee'}, {'Tea', 'NONE'}, {'Tiffin', 'Coffee', 'Scone', 'Bread'}, {'Brownie', 'Coffee'}, {'Jam'}, {'Scone', 'Mineral water'}, {'Mineral water'}, {'Scone', 'Coffee', 'Hot chocolate', 'Bread'}, {'Bread'}, {'Sandwich', 'Coffee', 'Salad'}, {'Bread'}, {'Coffee'}, {'Tiffin', 'Coffee', 'Scone'}, {'Coffee', 'NONE'}, {'Coffee', 'Tea', 'NONE'}, {'Soup', 'Brownie', 'Mineral water'}, {'Mineral water', 'NONE'}, {'Cookies', 'Soup', 'Scone', 'Bread'}, {'The Nomad', 'Spanish Brunch', 'Coffee'}, {'Bread'}, {'Cake', 'Tiffin', 'Sandwich', 'Coffee', 'NONE'}, {'Cookies', 'Coffee'}, {'Tiffin'}, {'Bread', 'Sandwich', 'Juice', 'Salad'}, {'Coffee', 'Cake', 'Sandwich', 'Tea'}, {'Bread'}, {'Jam', 'Bread'}, {'The Nomad', 'Jam', 'Bread'}, {'Bread'}, {'Brownie', 'Coffee', 'Hot chocolate', 'Bread'}, {'Bread'}, {'Spanish Brunch', 'Coffee', 'Tea'}, {'Fudge', 'Baguette'}, {'Sandwich'}, {'Bread'}, {'Sandwich'}, {'Scandinavian'}, {'Tea', 'Scone'}, {'Tiffin', 'Brownie', 'Tea'}, {'Scone', 'Bread'}, {'Cake', 'Coffee', 'Scone'}, {'Bread'}, {'Cake', 'Coffee'}, {'Cake', 'Tea', 'Bread'}, {'Coffee', 'Tea'}, {'Scone'}, {'Cake', 'Coffee', 'Hot chocolate'}, {'Half slice Monster'}, {'Chicken Stew', 'Tea'}, {'Cookies', 'Cake', 'Tea'}, {'Cake', 'Coffee', 'Tea'}, {'Cake', 'Smoothies', 'Sandwich', 'Soup', 'Coffee'}, {'Salad', 'Coffee', 'Coke'}, {'Coffee'}, {'Coffee'}, {'Tiffin', 'Coffee'}, {'Spanish Brunch', 'Scone', 'Bread', 'Coffee', 'NONE'}, {'Medialuna', 'Coffee'}, {'Bread'}, {'Tea'}, {'Bread'}, {'Cake', 'Coffee'}, {'Tea'}, {'Medialuna', 'Coffee', 'Tiffin'}, {'Coffee', 'Bread'}, {'Medialuna', 'Bread'}, {'Coffee'}, {'Tea', 'Scone'}, {'Cake', 'Tea', 'Hot chocolate', 'Bread'}, {'Spanish Brunch', 'Bread'}, {'Bread'}, {'Spanish Brunch', 'Truffles', 'Tiffin', 'Juice', 'Coffee'}, {'Coffee'}, {'Bread'}, {'Bread'}, {'Farm House'}, {'Coffee', 'Scone'}, {'Bread'}, {'Art Tray', 'Spanish Brunch', 'Coffee'}, {'Spanish Brunch', 'Hot chocolate'}, {'Cake', 'Coffee', 'Scone'}, {'Coffee', 'Tiffin'}, {'Cookies', 'Tea'}, {'Coffee', 'Bread'}, {'Cookies', 'Sandwich', 'Muffin', 'Bread'}, {'Farm House'}, {'Spanish Brunch', 'Cake', 'Pastry', 'Tea', 'Coffee', 'Salad'}, {'Coffee', 'Smoothies', 'Salad', 'Soup'}, {'Coffee', 'Sandwich', 'Tea', 'NONE'}, {'Sandwich'}, {'Salad', 'Spanish Brunch', 'Baguette', 'Toast', 'NONE'}, {'Sandwich'}, {'Cake', 'Muffin', 'Bread'}, {'Coffee', 'Pastry'}, {'Sandwich', 'Chicken Stew', 'Coffee'}, {'Cake', 'Coffee'}, {'Bread'}, {'Spanish Brunch', 'Coke', 'Mineral water', 'Bread', 'Soup', 'Coffee'}, {'Cake', 'Tea'}, {'Sandwich', 'Coffee', 'Muffin'}, {'Coffee'}, {'Cake', 'Coffee', 'Scone', 'Tea'}, {'Scone', 'Pastry'}, {'Coffee'}, {'Afternoon with the baker'}, {'Coffee'}, {'Coffee'}, {'Coffee', 'Bread'}, {'Coffee', 'Bread'}, {'Coffee'}, {'Coffee', 'Bread'}, {'Toast', 'Coffee', 'Pastry', 'Bread'}, {'Cake', 'Pastry', 'Bread'}, {'Coffee', 'Muffin'}, {'Baguette'}, {'Coffee', 'Bread'}, {'Cookies', 'Toast', 'Coffee', 'Mineral water'}, {'Spanish Brunch', 'Tea'}, {'Coffee'}, {'Coffee', 'NONE'}, {'Bread'}, {'Coffee granules'}, {'Cake', 'Muffin', 'Juice'}, {'Coffee'}, {'Cake'}, {'Sandwich', 'Juice'}, {'Coffee', 'Pastry'}, {'Coffee', 'Muffin'}, {'Truffles', 'Sandwich'}, {'Coffee', 'Baguette'}, {'Farm House'}, {'Pastry'}, {'Jam'}, {'Sandwich'}, {'Coffee'}, {'Muffin', 'Brownie', 'Bread', 'Coffee', 'Hot chocolate'}, {'Coffee', 'Bread'}, {'Coffee', 'Sandwich'}, {'Spanish Brunch', 'Coffee'}, {'Toast', 'Coffee'}, {'Coffee'}, {'Muffin'}, {'Coffee'}, {'Brownie', 'Tea'}, {'Tea', 'Hot chocolate', 'Bread'}, {'Salad', 'Bread'}, {'Tea', 'NONE', 'Salad'}, {'Coffee', 'Muffin'}, {'Tea'}, {'Farm House'}, {'Coffee', 'Tea', 'Pastry', 'Bread'}, {'Cookies', 'Farm House', 'Coffee'}, {'Medialuna', 'Tea'}, {'Coffee'}, {'Cookies', 'Coffee'}, {'Pastry'}, {'Coffee', 'Pastry'}, {'Cake', 'Pastry'}, {'Scandinavian', 'Bread'}, {'Coffee', 'Bread'}, {'Toast', 'Coffee'}, {'Coffee'}, {'Coffee', 'Pastry'}, {'Coffee'}, {'Cookies', 'Cake', 'Mineral water'}, {'Toast', 'Coffee'}, {'Baguette'}, {'Farm House'}, {'Coffee', 'Cake', 'Tea'}, {'Farm House', 'Coffee'}, {'Coffee'}, {'Bread'}, {'Coffee', 'Muffin'}, {'Christmas common'}, {'Sandwich', 'Coffee', 'Soup'}, {'Sandwich', 'Mineral water'}, {'Bread'}, {'Farm House', 'Spanish Brunch', 'Sandwich', 'Bread', 'Coffee'}, {'Cake', 'Coffee'}, {'Coffee'}, {'Soup', 'Tea'}, {'Cookies', 'Coffee'}, {'Sandwich', 'Coffee'}, {'Coffee', 'Bread'}, {'Jam'}, {'Cake', 'Bread'}, {'Coffee', 'Sandwich'}, {'Truffles', 'NONE'}, {'Truffles', 'Coffee', 'NONE'}, {'Soup', 'Coffee', 'Sandwich'}, {'Coffee', 'Sandwich', 'Tea'}, {'Coffee', 'Sandwich', 'Tea'}, {'Cookies', 'Coffee'}, {'Baguette', 'Coffee', 'Muffin', 'Bread'}, {'Christmas common', 'Bread'}, {'Cookies', 'Cake', 'Coffee', 'Bread'}, {'Coffee'}, {'Bread'}, {'Cake', 'Coffee', 'Bread'}, {'Cookies', 'Half slice Monster', 'Coffee', 'Juice'}, {'Coffee', 'Bread'}, {'Bread'}, {'Tea', 'Muffin', 'Bread'}, {'Farm House', 'Baguette'}, {'Coffee'}, {'Cookies'}, {'Brownie', 'Coffee', 'NONE', 'Bread'}, {'Sandwich', 'Coffee'}, {'Coffee', 'Cherry me Dried fruit'}, {'Coffee'}, {'Coffee', 'Muffin', 'Pastry', 'Coke'}, {'Bread'}, {'Brownie', 'Coffee', 'Scandinavian'}, {'Coffee', 'Pastry'}, {'Coffee'}, {'Baguette'}, {'Farm House'}, {'Bread'}, {'Bread'}, {'Toast', 'Coffee'}, {'Cookies', 'Coffee', 'Tea'}, {'Tea', 'Smoothies'}, {'Farm House'}, {'Coffee'}, {'Bread'}, {'Chicken Stew', 'Juice'}, {'Sandwich', 'Coffee', 'Bread'}, {'Bread'}, {'Toast', 'Coffee'}, {'Soup', 'Cake', 'Coffee'}, {'Toast', 'Coffee'}, {'Spanish Brunch', 'Bread', 'Granola', 'Tea', 'Mineral water'}, {'Bread'}, {'Sandwich', 'Coke'}, {'Soup', 'Coffee'}, {'Bread'}, {'Coffee'}, {'Sandwich', 'Coffee'}, {'Bread', 'Cake', 'Coffee', 'Tea'}, {'Juice', 'Pastry'}, {'Soup', 'Jam'}, {'Spanish Brunch', 'Tea', 'NONE', 'Coffee', 'Salad'}, {'Bread'}, {'Pastry'}, {'Cake', 'Coffee', 'Juice', 'Bread'}, {'Mortimer'}, {'Coffee'}, {'Coffee'}, {'Coke'}, {'Truffles', 'Juice'}, {'Soup', 'Bread', 'Coffee', 'Tea'}, {'Coffee'}, {'Tea', 'Jam', 'Juice', 'Bread', 'Cookies'}, {'Coffee'}, {'Coffee', 'Pastry'}, {'Pastry', 'Bread'}, {'Coffee'}, {'Coffee'}, {'Bread'}, {'Coffee'}, {'Bread'}, {'Coffee', 'NONE', 'Pastry', 'Bread'}, {'Cake'}, {'Bread'}, {'Tiffin', 'Juice'}, {'Cookies', 'Brownie', 'Coffee'}, {'Cookies', 'Tea', 'Pastry'}, {'Juice', 'Bread'}, {'Toast', 'Coffee', 'Bread'}, {'Bread'}, {'Cake', 'Coffee', 'Hot chocolate', 'Juice'}, {'Brownie', 'Bread'}, {'Coffee', 'Pastry'}, {'Farm House', 'Brownie', 'Tiffin', 'Bread'}, {'Sandwich', 'Bread'}, {'Bread'}, {'Brownie'}, {'Bread'}, {'Sandwich', 'Juice', 'Mineral water', 'Soup', 'Coffee', 'NONE'}, {'Coffee', 'Pastry'}, {'Soup', 'Chicken Stew', 'Cake', 'Bread'}, {'Chicken Stew', 'Coffee'}, {'Chicken Stew', 'Spanish Brunch', 'Juice', 'NONE'}, {'Cookies', 'Coffee'}, {'Sandwich', 'Bread'}, {'Soup'}, {'Sandwich', 'Argentina Night', 'Bread'}, {'Coffee', 'Bread'}, {'Coke', 'Truffles', 'Baguette', 'Salad'}, {'Medialuna', 'Pastry'}, {'Spanish Brunch', 'Chicken Stew', 'Tea', 'Bread', 'Soup'}, {'Spanish Brunch', 'Nomad bag', 'Sandwich', 'Juice', 'Bread', 'Coffee'}, {'Coffee'}, {'Tiffin'}, {'Coffee'}, {'Pastry', 'Baguette'}, {'Coffee', 'Pastry'}, {'Coffee', 'Bread'}, {'Brownie', 'Tea'}, {'Coffee'}, {'Cake'}, {'Coffee'}, {'Cake', 'Coffee'}, {'Chicken Stew', 'Truffles', 'Coffee', 'Bread'}, {'Farm House'}, {'Bread'}, {'Coffee'}, {'Hot chocolate', 'Drinking chocolate spoons'}, {'Coffee', 'Tiffin', 'Smoothies'}, {'Mortimer'}, {'Cookies', 'Brownie', 'Coffee'}, {'Coffee', 'Tea'}, {'Coffee'}, {'Medialuna', 'Coffee'}, {'Farm House', 'Coffee'}, {'Baguette'}, {'Pastry', 'Bread'}, {'Coffee'}, {'Coffee', 'Tea'}, {'Coffee', 'Tiffin'}, {'Tea', 'Pastry'}, {'Coffee'}, {'Baguette', 'Bread'}, {'Coffee', 'Juice', 'NONE'}, {'Spanish Brunch', 'Bread'}, {'Coffee'}, {'Scandinavian', 'Pastry', 'Bread'}, {'Cookies', 'Coffee', 'Scandinavian'}, {'Coffee', 'Muffin', 'Bread'}, {'Coffee'}, {'Coffee', 'Pastry', 'Bread'}, {'Coffee', 'Tea'}, {'Cake', 'Coffee', 'Bread'}, {'Baguette'}, {'Coffee', 'Pastry'}, {'Bread'}, {'Brownie', 'Coffee'}, {'Tiffin', 'Bread'}, {'Bread'}, {'Cookies', 'Bread'}, {'Coffee'}, {'Muffin', 'Bread'}, {'Chicken Stew', 'Tiffin', 'Bread'}, {'Chicken Stew', 'Bread'}, {'Spanish Brunch', 'Coffee'}, {'Salad'}, {'Bread'}, {'Sandwich', 'Coffee'}, {'Cake', 'Sandwich', 'Soup', 'Toast', 'Coffee', 'Hot chocolate'}, {'Coffee'}, {'Cake', 'Muffin'}, {'Cookies', 'Cake', 'Coffee'}, {'Soup', 'Truffles', 'Coffee', 'Sandwich'}, {'Spanish Brunch', 'Bread'}, {'Truffles', 'Mineral water'}, {'Jam'}, {'Toast', 'Coffee'}, {'Spanish Brunch', 'Baguette'}, {'Cake', 'Coffee', 'Juice'}, {'Brownie', 'Coffee'}, {'Cake', 'Tea', 'Bread'}, {'Eggs', 'Bread'}, {'Cookies', 'Tea', 'Juice'}, {'Cake', 'Coffee', 'Bread'}, {'Cake', 'Coffee'}, {'Coffee', 'Truffles', 'Tiffin'}, {'Truffles', 'Tea'}, {'Bread'}, {'Coffee'}, {'Coffee', 'Baguette'}, {'Toast', 'Coffee', 'NONE'}, {'Spanish Brunch', 'Juice', 'Bread', 'Coffee', 'NONE'}, {'Farm House'}, {'Cake', 'Pastry', 'Bread'}, {'Coffee'}, {'Pastry', 'Bread'}, {'Cookies', 'Farm House'}, {'Pastry'}, {'Farm House', 'Baguette'}, {'Jammie Dodgers', 'Tea'}, {'Scandinavian', 'Bread'}, {'Pastry', 'Bread'}, {'Coffee', 'Muffin', 'NONE'}, {'Cake', 'Scandinavian', 'Muffin', 'Baguette'}, {'Cookies', 'Jammie Dodgers', 'Pastry'}, {'Muffin', 'Pastry', 'Drinking chocolate spoons', 'Bread', 'Hot chocolate', 'NONE'}, {'Scandinavian'}, {'Bread'}, {'Cake', 'Coffee'}, {'Bread'}, {'Pastry', 'Bread'}, {'Bread'}, {'Bread'}, {'Coffee'}, {'Spanish Brunch', 'Coffee'}, {'Cookies', 'Jammie Dodgers', 'Coffee', 'Juice'}, {'Muffin', 'Pastry', 'Bread'}, {'Coffee'}, {'Pastry', 'Coffee', 'Juice'}, {'Scandinavian', 'Bread', 'Cookies', 'Coffee', 'Hot chocolate'}, {'Coffee', 'Tiffin', 'Bread'}, {'Coffee', 'Pastry'}, {'Cake', 'Coffee', 'Bread'}, {'Farm House', 'Coffee granules'}, {'Coffee', 'Muffin', 'Bread'}, {'Bread'}, {'Spanish Brunch', 'Cake', 'Smoothies', 'Muffin', 'Pastry', 'Coffee'}, {'Spanish Brunch', 'Coffee', 'Duck egg'}, {'Scandinavian'}, {'Cookies', 'Muffin', 'Pastry'}, {'Smoothies', 'Muffin', 'Juice'}, {'Cake', 'Bread'}, {'Coffee'}, {'Cookies', 'NONE'}, {'Eggs', 'Scandinavian'}, {'Bread'}, {'The Nomad'}, {'Cake', 'Coffee', 'Scandinavian'}, {'Cake', 'Juice', 'Bread'}, {'Muffin'}, {'Sandwich', 'Coffee'}, {'Bread'}, {'Coffee', 'Salad'}, {'Juice'}, {'Tea'}, {'Bread'}, {'Coffee'}, {'Coffee', 'Spanish Brunch', 'Tea', 'Juice'}, {'Soup', 'Truffles', 'Mineral water'}, {'Coke'}, {'Soup', 'Smoothies', 'Salad'}, {'Soup', 'Spanish Brunch', 'Coffee', 'NONE'}, {'Cake', 'Coffee', 'Bread'}, {'Mineral water'}, {'Coffee', 'Bread'}, {'Bread'}, {'Coffee', 'Pastry', 'NONE'}, {'Spanish Brunch', 'Smoothies', 'Hot chocolate'}, {'Spanish Brunch', 'Truffles', 'Cake', 'Sandwich', 'Jammie Dodgers', 'Bread', 'Coffee'}, {'Coffee', 'Hot chocolate', 'Coke'}, {'Cake'}, {'Spanish Brunch', 'Coffee'}, {'Bread'}, {'Coffee'}, {'Cake', 'Tea', 'Coke'}, {'Tea', 'Bread'}, {'Cake', 'Coffee', 'Bread'}, {'Bread'}, {'Coffee', 'Extra Salami or Feta', 'Salad'}, {'Sandwich', 'Coffee'}, {'Sandwich'}, {'Coffee', 'Hot chocolate', 'Muffin'}, {'Bread'}, {'Coffee', 'Salad'}, {'Coffee', 'Salad'}, {'Coffee', 'Sandwich', 'Bread'}, {'Cake', 'Hot chocolate'}, {'Cake', 'Coffee', 'Smoothies', 'Bread'}, {'Bread'}, {'Half slice Monster', 'Cake'}, {'Spanish Brunch', 'Coke', 'Chicken Stew', 'The Nomad', 'Juice', 'Coffee'}, {'Tea'}, {'Cake', 'Coffee'}, {'Coffee', 'Tea'}, {'Truffles'}, {'Cake', 'Coffee', 'Muffin'}, {'Bread', 'NONE'}, {'Bread'}, {'Cookies', 'Jammie Dodgers', 'Bread'}, {'Mineral water'}, {'Cake', 'Truffles', 'Muffin', 'Tea', 'Hot chocolate'}, {'Cake', 'Coffee', 'Juice', 'Bread'}, {'Coffee granules', 'Mortimer'}, {'Medialuna', 'Bread'}, {'Jam', 'Bread'}, {'Medialuna', 'Coffee'}, {'Medialuna', 'Coffee'}, {'Medialuna', 'Coffee'}, {'Pastry'}, {'Medialuna', 'Coffee'}, {'Sandwich', 'Medialuna', 'Coffee'}, {'Medialuna', 'Cake', 'Granola', 'Muffin', 'Sandwich', 'Tea', 'Bread', 'Coffee', 'Hot chocolate', 'NONE'}, {'Muffin'}, {'Jam', 'Bread'}, {'Coffee'}, {'Spanish Brunch', 'Cake', 'Bread'}, {'Spanish Brunch', 'Coffee', 'Juice'}, {'Bread'}, {'Bread'}, {'Pastry'}, {'Coffee'}, {'Coffee', 'Pastry', 'Bread'}, {'Cake', 'Coffee', 'Muffin', 'Tea'}, {'Baguette', 'Bread'}, {'Spanish Brunch', 'Coffee', 'Extra Salami or Feta', 'Toast'}, {'Cake', 'Coffee'}, {'Bread'}, {'Sandwich', 'Coffee', 'Pastry'}, {'Bread'}, {'Coffee'}, {'Coffee'}, {'Baguette'}, {'Smoothies', 'Bread'}, {'Bread'}, {'Bread'}, {'Medialuna', 'Spanish Brunch', 'Cake', 'Juice', 'Coffee', 'NONE'}, {'Truffles', 'Toast'}, {'Coffee', 'Spanish Brunch', 'Tea'}, {'Bread'}, {'Brownie', 'Coffee', 'Juice'}, {'Baguette'}, {'Bread'}, {'Bread'}, {'Smoothies'}, {'Cake', 'Coke', 'Bread', 'Soup', 'Coffee'}, {'Cake', 'Coffee', 'Smoothies', 'Bread'}, {'Sandwich', 'Tea'}, {'Mineral water', 'Sandwich', 'Juice', 'Coke'}, {'Bread'}, {'Baguette'}, {'Medialuna', 'Tea', 'Scone'}, {'Coffee'}, {'Jammie Dodgers', 'Coffee', 'Hot chocolate', 'Brownie'}, {'Brownie'}, {'Cake', 'Brownie', 'Coffee'}, {'Brownie', 'Tea', 'Bread'}, {'Sandwich', 'Coffee'}, {'Sandwich', 'Juice', 'Coke'}, {'Sandwich', 'Tea', 'Brownie', 'Bread', 'Coffee'}, {'Cake'}, {'Muffin'}, {'Cake', 'Coffee'}, {'Sandwich', 'Smoothies'}, {'Cake', 'Brownie', 'Coffee', 'Tea'}, {'Vegan Feast', 'Brownie', 'Bread', 'Cookies', 'Coffee', 'Hot chocolate'}, {'Sandwich', 'Juice', 'Bread'}, {'Coffee', 'Bakewell'}, {'Coffee', 'Muffin'}, {'Coffee'}, {'Bread'}, {'Toast', 'Tea'}, {'Toast', 'Hot chocolate'}, {'Coffee', 'Muffin'}, {'Coffee', 'Tea', 'NONE'}, {'Coffee'}, {'Toast'}, {'Coffee', 'Muffin'}, {'Tea', 'Scone'}, {'Tea', 'Bread'}, {'Coffee', 'Bread'}, {'Coffee', 'Tea'}, {'Coffee'}, {'Coffee', 'Bread'}, {'Coffee'}, {'Coffee'}, {'Bakewell', 'Scone'}, {'Brownie', 'Hot chocolate'}, {'Coffee', 'Muffin', 'Coke'}, {'Sandwich', 'Coffee'}, {'Chicken Stew', 'Coke'}, {'The Nomad', 'Coffee', 'Scone', 'Tea'}, {'Coffee'}, {'Chicken Stew', 'Coffee'}, {'Bread'}, {'Bakewell'}, {'Chicken Stew', 'Sandwich', 'Tea', 'Jammie Dodgers', 'Brownie', 'Bread'}, {'NONE'}, {'Coffee'}, {'Sandwich', 'Coffee', 'Coke'}, {'Jammie Dodgers', 'Coffee'}, {'Bakewell', 'Coke', 'Mineral water', 'Coffee', 'Salad'}, {'Coffee', 'Sandwich', 'Bakewell'}, {'Coffee'}, {'Tea', 'Muffin'}, {'Coffee', 'Bread'}, {'Soup', 'Tea'}, {'Cookies'}, {'Tea'}, {'Sandwich', 'Coffee'}, {'Mineral water'}, {'Coffee'}, {'Coffee', 'Bread'}, {'Coffee'}, {'Bread'}, {'Toast', 'Coffee'}, {'Coffee'}, {'Coffee', 'Bakewell'}, {'Sandwich', 'Coffee'}, {'Coffee'}, {'Coffee', 'Pastry'}, {'Baguette'}, {'Cookies', 'Coffee', 'Tea'}, {'Coffee', 'Tea'}, {'Coffee', 'Hot chocolate', 'Pastry'}, {'Cookies', 'Jammie Dodgers', 'Coffee', 'Bakewell'}, {'Coffee', 'Pastry'}, {'Coffee', 'Pastry', 'Tea'}, {'Coffee'}, {'Pastry'}, {'Coffee'}, {'Farm House'}, {'Coffee'}, {'Truffles', 'Bakewell', 'Pastry'}, {'Bread', 'Baguette'}, {'Eggs'}, {'Sandwich', 'Coffee', 'Muffin', 'Coke'}, {'Soup', 'Coffee', 'Bakewell'}, {'Cake', 'Muffin'}, {'Coke', 'Toast', 'Sandwich', 'Mineral water'}, {'Bakewell', 'Sandwich', 'Juice', 'Bread', 'Toast'}, {'Sandwich', 'Mineral water'}, {'Sandwich', 'Tea'}, {'Sandwich', 'Tea'}, {'Soup', 'Coffee'}, {'Soup'}, {'Tea', 'Muffin'}, {'Sandwich', 'Coffee'}, {'Soup', 'Coffee', 'Muffin'}, {'Soup', 'Cake', 'Juice'}, {'Soup', 'Salad'}, {'Bread'}, {'Toast', 'Coffee', 'Hot chocolate', 'Muffin'}, {'Coffee'}, {'Bread'}, {'Toast'}, {'Cookies', 'Tea'}, {'Coffee', 'Scone'}, {'Chicken Stew', 'Coffee'}, {'Cookies', 'Bread'}, {'Cookies', 'Muffin'}, {'Cookies', 'Bread'}, {'Coffee', 'Salad'}, {'Coffee'}, {'Coffee'}, {'Cookies', 'Hot chocolate', 'Bread'}, {'Bread'}, {'Cookies', 'Tea', 'Juice'}, {'Spanish Brunch', 'Bread'}, {'Granola'}, {'Smoothies'}, {'Farm House', 'Hot chocolate'}, {'Bread'}, {'Coffee'}, {'Cake', 'Coffee', 'Bread'}, {'Toast', 'Coffee'}, {'Coffee', 'NONE'}, {'Bread'}, {'Coffee'}, {'Bread'}, {'Medialuna', 'Sandwich', 'Juice', 'Coke'}, {'Toast', 'Coffee'}, {'Coffee'}, {'Medialuna', 'Cake', 'Coffee', 'Tea'}, {'Bread'}, {'Art Tray', 'Spanish Brunch', 'Coffee', 'Juice'}, {'Soup', 'Chicken Stew', 'Coffee', 'Bread'}, {'Coffee'}, {'Coffee', 'Cookies', 'Tea', 'Sandwich'}, {'Bread'}, {'Soup', 'Cake', 'Tea'}, {'Bread'}, {'Coffee', 'Cake', 'Tea', 'Soup'}, {'Coffee', 'Scone'}, {'Muffin', 'Bread'}, {'Spanish Brunch', 'Coffee'}, {'Coffee', 'Tea'}, {'Tea', 'Raw bars'}, {'Medialuna', 'Coffee', 'Muffin'}, {'Coffee', 'Drinking chocolate spoons', 'Bread'}, {'Tiffin', 'Coffee', 'Tea'}, {'Spanish Brunch', 'Coffee', 'Truffles'}, {'Coffee'}, {'Juice'}, {'Tea'}, {'Jammie Dodgers', 'Coffee'}, {'Soup', 'Cake', 'Tea'}, {'Coffee'}, {'Christmas common'}, {'Christmas common'}, {'Christmas common'}, {'Toast', 'Coffee', 'Hot chocolate'}, {'Coffee'}, {'Mortimer'}, {'Bread'}, {'Muffin', 'Bread'}, {'Cookies', 'Coffee'}, {'Coffee'}, {'Cake', 'Tea'}, {'Coffee'}, {'Bread'}, {'Toast', 'Tea', 'Bread'}, {'Coffee', 'Hot chocolate', 'Bread'}, {'Bread'}, {'Bakewell', 'Baguette'}, {'NONE'}, {'Jammie Dodgers', 'Smoothies'}, {'Jammie Dodgers', 'Tiffin'}, {'Baguette', 'Cake', 'Coffee', 'Bread'}, {'Bread'}, {'Farm House'}, {'Coffee'}, {'Coffee'}, {'Hot chocolate', 'Muffin', 'Juice'}, {'Coffee', 'Muffin'}, {'Cake', 'Truffles', 'Tea', 'Jammie Dodgers', 'Bread'}, {'Coffee', 'Bakewell'}, {'Sandwich'}, {'Cake', 'Truffles'}, {'Salad'}, {'Cake', 'Sandwich', 'Juice'}, {'Chicken Stew', 'Coffee'}, {'Cake', 'Tea', 'Coke'}, {'Toast', 'Coffee', 'Extra Salami or Feta', 'Salad'}, {'Sandwich', 'Coffee'}, {'Soup', 'Truffles', 'Cookies'}, {'Toast', 'Coffee'}, {'Cake', 'Coffee'}, {'Tiffin', 'Cake', 'Coffee', 'Bread'}, {'Bread'}, {'Cake', 'Coffee', 'Tea'}, {'Sandwich', 'Toast', 'Coffee', 'Tea'}, {'Cake', 'Coffee'}, {'Bread'}, {'Coffee'}, {'Coffee', 'Tea', 'Sandwich'}, {'Cake', 'Coffee', 'Tea'}, {'Coffee', 'Tea', 'Sandwich'}, {'Cake', 'Coffee'}, {'Cake', 'Coffee', 'Juice'}, {'Cake', 'Tea'}, {'Spanish Brunch', 'Coffee', 'Juice', 'Bread'}, {'Muffin'}, {'Sandwich', 'Coffee'}, {'Coffee'}, {'Toast', 'Coffee'}, {'Tiffin', 'Coffee'}, {'Coffee'}, {'Toast', 'Coffee'}, {'Medialuna', 'Coffee'}, {'Medialuna', 'Tea', 'Bread'}, {'Cookies', 'Bread'}, {'Tea'}, {'Tiffin', 'Tea', 'Hot chocolate', 'Pastry'}, {'Coffee'}, {'Bread'}, {'Cake'}, {'Bread'}, {'Medialuna', 'Coffee'}, {'Farm House'}, {'Jammie Dodgers', 'Coffee', 'Muffin', 'Juice'}, {'Medialuna', 'Alfajores', 'Juice', 'Cookies', 'Coffee'}, {'Coffee'}, {'Medialuna', 'Bread'}, {'Spanish Brunch'}, {'Coffee', 'Bread'}, {'Coffee', 'Bread'}, {'Coffee', 'Alfajores'}, {'Coke', 'Cookies', 'Bread'}, {'Cookies', 'Bread'}, {'Cookies', 'Bread'}, {'Bread'}, {'NONE'}, {'Coffee', 'NONE'}, {'Toast', 'Coffee'}, {'Coffee', 'Pastry'}, {'Coffee'}, {'Muffin', 'Juice'}, {'Farm House'}, {'Coffee'}, {'Medialuna', 'Coffee'}, {'NONE'}, {'Brownie', 'Bread'}, {'Tea', 'Extra Salami or Feta', 'Bread', 'Baguette', 'Salad'}, {'Bread'}, {'Sandwich', 'Bread', 'Cookies', 'Coffee', 'Hot chocolate'}, {'Chicken Stew'}, {'Sandwich', 'Bread'}, {'Coffee', 'Sandwich', 'Bread'}, {'Coffee', 'Sandwich'}, {'Tiffin'}, {'Baguette'}, {'Spanish Brunch', 'Coffee', 'Extra Salami or Feta', 'Salad'}, {'Tiffin', 'Bread'}, {'Soup', 'Chicken Stew', 'Bread'}, {'Brownie', 'Coffee'}, {'Coke', 'Sandwich', 'Mineral water', 'Soup', 'Coffee'}, {'Coffee', 'Scone'}, {'Coffee', 'Scone'}, {'Scone', 'Hot chocolate', 'Bread'}, {'Cookies', 'Bread'}, {'Scone', 'Bread'}, {'Brownie', 'Tea'}, {'Cake', 'Tea', 'Bread'}, {'Tea', 'Pastry'}, {'Cake', 'Hot chocolate'}, {'Tiffin', 'Coffee'}, {'Coffee'}, {'Cookies', 'Bread'}, {'Coffee'}, {'Brownie', 'Coffee'}, {'Soup', 'Coffee', 'Scone', 'Coke'}, {'Coffee', 'Juice'}, {'Coffee'}, {'Coffee', 'NONE'}, {'Bread'}, {'Cake', 'Sandwich', 'Bread'}, {'Farm House', 'Cake', 'Bread'}, {'Bread'}, {'Cookies', 'Bread'}, {'Toast', 'Coffee', 'Scone', 'Coke'}, {'Cookies', 'Brownie', 'Coffee', 'Bread'}, {'Juice'}, {'Farm House'}, {'Scone', 'Bread'}, {'Bread'}, {'Pastry', 'NONE'}, {'Coffee'}, {'Alfajores', 'Tiffin', 'Bread'}, {'Bread'}, {'Coffee', 'Scone'}, {'Coffee granules'}, {'Cookies', 'Brownie', 'Sandwich', 'Bread'}, {'Cookies', 'Coffee'}, {'Coffee', 'Pastry'}, {'Coffee'}, {'Cookies', 'Cake', 'Bread'}, {'Truffles', 'Coffee', 'Bread'}, {'Coffee'}, {'Toast', 'Coffee', 'Juice'}, {'Bread'}, {'Medialuna', 'Truffles', 'Alfajores', 'Juice', 'Baguette', 'Coffee'}, {'Cookies', 'Coffee'}, {'The Nomad', 'Coffee'}, {'Baguette', 'Bread'}, {'Bread'}, {'Coffee', 'Granola'}, {'Tea', 'Pastry', 'Bread'}, {'Coffee'}, {'Crisps'}, {'Bread'}, {'Spanish Brunch', 'Smoothies', 'Bread', 'Coffee', 'NONE'}, {'Coffee', 'NONE'}, {'Juice'}, {'Coffee', 'Tea'}, {'Cake', 'Coffee', 'Pastry', 'Tea'}, {'Tiffin', 'Coffee'}, {'Cake'}, {'Cake', 'Spanish Brunch', 'Tiffin', 'The Nomad', 'Coffee'}, {'Brownie', 'Bread'}, {'Sandwich', 'The Nomad', 'Juice', 'Bread', 'Coffee'}, {'Alfajores', 'Bread'}, {'Smoothies', 'Muffin', 'Sandwich', 'Bread', 'Coffee'}, {'Bread'}, {'Truffles', 'Pastry', 'Coke', 'Sandwich', 'Juice', 'Coffee'}, {'Soup', 'Chicken Stew', 'Tea', 'NONE'}, {'Soup', 'Coke'}, {'Coffee', 'Truffles', 'Sandwich', 'Pastry'}, {'Cookies', 'Cake', 'Coffee', 'Brownie'}, {'Bread'}, {'Soup', 'Coffee', 'Bread'}, {'Scone'}, {'Cake', 'Bread'}, {'Medialuna', 'Muffin', 'Sandwich', 'Bread', 'Coffee'}, {'Honey', 'Scandinavian'}, {'Coffee'}, {'Cake', 'Brownie', 'Alfajores'}, {'Bread'}, {'Coffee'}, {'Mineral water'}, {'Spanish Brunch', 'Truffles'}, {'Soup', 'Coffee', 'Bread'}, {'Sandwich'}, {'Bread'}, {'Chicken Stew', 'Coffee', 'Extra Salami or Feta'}, {'Medialuna', 'Scone', 'Tea', 'Bread', 'Coffee'}, {'Tea', 'Granola', 'NONE'}, {'Bread'}, {'Tiffin', 'Hot chocolate', 'NONE', 'Bread'}, {'Bread'}, {'Coffee'}, {'Coffee'}, {'Coffee'}, {'Cookies', 'Cake', 'Coffee'}, {'Cake', 'Coffee', 'Hot chocolate'}, {'Coffee', 'Pastry'}, {'Coffee', 'Muffin'}, {'Coffee', 'Bread'}, {'Coffee'}, {'Medialuna', 'Coffee', 'NONE'}, {'Bread'}, {'Coffee', 'Cookies', 'Tea'}, {'Coffee', 'Bread'}, {'Bread'}, {'Coffee'}, {'Cake', 'Brownie'}, {'Farm House', 'Bread'}, {'Cake', 'Pastry'}, {'Fudge', 'Sandwich', 'Scandinavian', 'Bread', 'Coffee', 'NONE'}, {'Bread'}, {'Tiffin', 'Jammie Dodgers', 'Coffee', 'Juice'}, {'Bread'}, {'Sandwich', 'Coffee'}, {'Spanish Brunch'}, {'Truffles', 'Sandwich', 'Crisps'}, {'Farm House', 'Muffin', 'Coke', 'Sandwich', 'Tea', 'Bread', 'NONE'}, {'Coffee', 'Pastry', 'Bread'}, {'Cake', 'Scone', 'Pastry', 'Alfajores'}, {'Cake', 'Coffee'}, {'Argentina Night'}, {'Soup'}, {'Cake', 'Smoothies'}, {'Cake'}, {'Truffles', 'Pastry', 'Bread'}, {'Scone', 'Tea', 'Bread', 'Coffee', 'NONE'}, {'Cake', 'Sandwich', 'Bread'}, {'Coffee', 'Sandwich'}, {'Cake', 'Coffee'}, {'Spanish Brunch', 'Coffee', 'Juice', 'NONE'}, {'Sandwich', 'Cake', 'Coffee'}, {'Cookies'}, {'Cake', 'Tea'}, {'Cookies', 'Cake', 'Juice', 'Bread'}, {'Farm House'}, {'Coffee'}, {'Coffee', 'Bread'}, {'Coffee'}, {'Tea'}, {'Coffee', 'NONE'}, {'Sandwich', 'Coffee', 'Pastry'}, {'Scone', 'Bread'}, {'Toast', 'Coffee', 'Granola'}, {'Cake', 'Coffee', 'Pastry'}, {'Tea'}, {'Farm House'}, {'Coffee', 'NONE'}, {'Coffee', 'Pastry'}, {'Truffles', 'Coffee', 'Pastry', 'Bread'}, {'Bread'}, {'Coffee', 'Coffee granules'}, {'The Nomad'}, {'Bread'}, {'Cookies', 'Bread'}, {'Bread'}, {'Truffles'}, {'Sandwich', 'Cake', 'Coffee'}, {'Toast', 'Coffee'}, {'Farm House', 'Tea', 'Scandinavian', 'Toast', 'Coffee'}, {'Bread'}, {'Coffee'}, {'Coffee'}, {'NONE'}, {'Spanish Brunch', 'Scone', 'Bread'}, {'Cookies', 'Coffee'}, {'Coke', 'Truffles', 'Scone', 'Mineral water'}, {'Soup', 'Sandwich'}, {'Coffee'}, {'Medialuna', 'Cake', 'Coffee'}, {'Sandwich', 'Tea'}, {'Bread'}, {'Sandwich', 'Coffee'}, {'Coffee', 'Scone', 'Bread'}, {'Coffee'}, {'Jammie Dodgers', 'Coffee', 'Juice'}, {'Cookies'}, {'Soup'}, {'Sandwich', 'Bread'}, {'Cookies', 'Tea'}, {'Cookies', 'Cake', 'Tea'}, {'Coffee', 'Tea', 'Alfajores'}, {'Medialuna'}, {'Scone', 'Bread'}, {'Toast', 'Tea', 'Alfajores'}, {'Soup', 'Medialuna', 'Coffee'}, {'Cookies', 'Tiffin', 'Hot chocolate'}, {'Coffee'}, {'Cookies'}, {'Alfajores'}, {'Bread'}, {'Bread'}, {'Cake', 'Tea', 'Coffee', 'Hot chocolate', 'Salad'}, {'Coffee', 'NONE'}, {'Mineral water', 'Bread'}, {'Cookies', 'Coffee'}, {'Toast', 'Coffee'}, {'Cake', 'Pastry'}, {'Coffee'}, {'Coffee'}, {'Coffee', 'Extra Salami or Feta', 'NONE'}, {'Pastry', 'Bread'}, {'Tea'}, {'Coke'}, {'Coffee'}, {'Bread'}, {'Coffee', 'Pastry'}, {'Coffee'}, {'Coffee'}, {'Coffee'}, {'Jammie Dodgers', 'Honey', 'Bread'}, {'Jammie Dodgers', 'Coffee', 'Bread'}, {'Coffee', 'Bread'}, {'Pastry', 'Bread'}, {'Coffee'}, {'Eggs'}, {'Cake', 'Bread'}, {'Coffee'}, {'Bread'}, {'Juice', 'Bread'}, {'Coffee', 'NONE'}, {'Coffee', 'NONE'}, {'Coffee', 'Extra Salami or Feta', 'NONE'}, {'Coffee', 'Bread'}, {'Coffee'}, {'Sandwich', 'Drinking chocolate spoons', 'Juice', 'Mineral water', 'Coffee', 'Salad'}, {'Chicken Stew', 'Tea', 'Mineral water'}, {'Coffee', 'Bread'}, {'Coffee', 'Salad'}, {'Bread'}, {'Cookies'}, {'Soup', 'Tea'}, {'Spanish Brunch', 'Cake', 'Extra Salami or Feta', 'Juice', 'Bread', 'Coffee', 'Salad'}, {'Cake', 'Coffee'}, {'Cake', 'Coffee'}, {'Soup', 'Bread'}, {'Coffee', 'Bread'}, {'Cookies', 'Mineral water'}, {'Coffee', 'Tea'}, {'Coffee', 'Baguette'}, {'Coffee', 'Salad'}, {'Coffee', 'Bread'}, {'Coffee', 'Tea'}, {'Coffee', 'Cake', 'Tea', 'Juice'}, {'Cake', 'Coffee'}, {'Cake', 'Coffee', 'Smoothies', 'Tea'}, {'Chicken Stew', 'Tea'}, {'Coffee'}, {'Tea', 'Bread'}, {'Christmas common', 'Hot chocolate', 'Jam', 'Bread'}, {'Coffee'}, {'Coffee', 'Bread'}, {'Coffee', 'Hot chocolate', 'Pastry'}, {'Coffee', 'Tea'}, {'Tea'}, {'Toast', 'Coffee', 'Pastry'}, {'Bread'}, {'Truffles', 'Tea'}, {'Coffee', 'Pastry'}, {'Coffee', 'Toast', 'Tea', 'Bread'}, {'Bread', 'Toast', 'Coffee', 'NONE'}, {'Muffin', 'Pastry', 'Tea', 'Bread', 'Coffee', 'NONE'}, {'Coffee', 'Pastry'}, {'Coffee', 'Tea', 'Sandwich'}, {'Tea', 'Salad'}, {'Tea', 'Pastry'}, {'Farm House'}, {'Truffles', 'Coffee', 'Bread'}, {'Sandwich', 'Coffee'}, {'Coffee', 'Sandwich'}, {'Salad'}, {'Coffee', 'Tea'}, {'Tiffin', 'Coffee', 'Bread'}, {'Chicken Stew', 'Tiffin', 'Coke'}, {'Coffee', 'Extra Salami or Feta', 'Muffin', 'Salad'}, {'Cake'}, {'Drinking chocolate spoons', 'Bread'}, {'Sandwich', 'Cake', 'Coffee', 'Salad'}, {'Cookies', 'Cake', 'Coffee'}, {'Cake', 'Coke', 'Tiffin', 'Sandwich', 'Juice'}, {'Cake', 'Coffee', 'Hot chocolate'}, {'Sandwich', 'Bread'}, {'Hot chocolate', 'Baguette'}, {'Jammie Dodgers', 'Bread'}, {'Farm House', 'Baguette'}, {'Pastry'}, {'Coke'}, {'Coffee', 'Bread'}, {'Scandinavian'}, {'Cookies'}, {'Cake', 'Coffee'}, {'Spanish Brunch', 'Muffin', 'Soup', 'Tea', 'Cookies'}, {'Cake', 'Truffles', 'Bread'}, {'Coffee', 'Bread'}, {'Cookies', 'Cake', 'Coffee', 'Bread'}, {'Cake', 'Tea'}, {'Bread'}, {'Tiffin', 'Bread'}, {'Pastry'}, {'Cake'}, {'Coffee', 'Tea', 'Pastry'}, {'Chocolates', 'Pastry', 'Coke', 'Tea', 'Tiffin', 'Alfajores', 'Juice', 'Mineral water', 'Cookies', 'Coffee'}, {'Juice', 'Mineral water'}, {'Coffee'}, {'Bread'}, {'Toast'}, {'Coffee'}, {'Tiffin', 'Coffee', 'Bread'}, {'Tea', 'NONE', 'Alfajores'}, {'Farm House'}, {'Toast', 'Coffee'}, {'Juice', 'Bread'}, {'Coffee'}, {'Coffee', 'Juice'}, {'Jammie Dodgers', 'Coffee'}, {'Cookies', 'Coffee', 'Juice', 'Bread'}, {'Tiffin', 'Juice', 'Tea'}, {'Toast', 'Coffee'}, {'Bread'}, {'Tea'}, {'Alfajores', 'Brioche and salami', 'Bread'}, {'Cake', 'Tea'}, {'Christmas common'}, {'Farm House', 'Scandinavian'}, {'Coffee', 'Alfajores'}, {'Cookies', 'Art Tray', 'Juice', 'Salad'}, {'Sandwich'}, {'Sandwich', 'Tea'}, {'Soup', 'Coffee'}, {'Sandwich', 'Coffee'}, {'Bread'}, {'Bread'}, {'Soup', 'Muffin'}, {'Coffee', 'Sandwich'}, {'Tiffin', 'Coffee'}, {'Sandwich', 'Coffee'}, {'Soup', 'Farm House', 'Coke'}, {'Tiffin', 'Coffee'}, {'Sandwich'}, {'Coffee', 'Sandwich', 'Bread'}, {'Coffee', 'Truffles', 'Tea'}, {'Coffee'}, {'Sandwich', 'Tea'}, {'Smoothies', 'Coke', 'Sandwich', 'Alfajores', 'Bread', 'Coffee', 'Crisps'}, {'Toast', 'Coffee', 'Salad'}, {'Soup', 'Tea', 'Muffin', 'Bread'}, {'Tiffin', 'Bread'}, {'Toast', 'Bread'}, {'Sandwich', 'Coffee'}, {'Coke'}, {'Cookies', 'Coffee', 'Juice'}, {'Bread', 'Alfajores'}, {'Mineral water', 'Cake', 'Muffin', 'Bread'}, {'Tiffin', 'Tea'}, {'Cookies', 'Tea'}, {'Coffee'}, {'Pastry', 'Bread'}, {'Medialuna', 'Tiffin', 'Cookies', 'Toast', 'Coffee', 'NONE'}, {'Coffee', 'Tea', 'NONE'}, {'Coffee'}, {'Medialuna', 'Coffee'}, {'Cookies', 'Coffee', 'Bread'}, {'Coffee'}, {'Cake', 'Tea', 'Bread'}, {'Bread'}, {'Medialuna', 'Coffee', 'Pastry', 'Bread'}, {'Cookies', 'Bread'}, {'Cookies', 'Coffee'}, {'Tea', 'Muffin', 'Juice'}, {'Coffee', 'Bread'}, {'Coffee'}, {'Coffee'}, {'Toast', 'Coffee'}, {'Toast', 'Coffee'}, {'Toast', 'Coffee'}, {'Bread'}, {'Soup', 'Coffee'}, {'Coffee'}, {'Coke', 'Tea', 'Sandwich', 'Mineral water', 'Soup', 'NONE'}, {'Soup'}, {'Coffee'}, {'Bread'}, {'Bread', 'Coffee', 'Baguette'}, {'Truffles', 'Cake', 'Coke', 'Chicken Stew', 'Sandwich', 'Alfajores', 'Juice', 'Coffee', 'Salad'}, {'Tiffin', 'Tea'}, {'Chicken Stew', 'Truffles'}, {'Coffee'}, {'Coffee'}, {'Sandwich', 'Mineral water'}, {'Coffee'}, {'Coffee'}, {'Cookies'}, {'Cake', 'Tiffin', 'Bread'}, {'Cake', 'Muffin', 'Alfajores'}, {'Tea', 'Scone'}, {'Coffee', 'Scone'}, {'Coke'}, {'Coffee', 'Alfajores'}, {'Bread'}, {'Chicken Stew', 'Sandwich', 'NONE'}, {'Pastry', 'Bread'}, {'Farm House'}, {'Bread'}, {'Coffee', 'Bread'}, {'Argentina Night'}, {'Argentina Night'}, {'Bread'}, {'Pastry', 'Alfajores'}, {'Cake', 'Coffee', 'Hot chocolate'}, {'Bread'}, {'Honey', 'Pastry', 'Bread'}, {'Bread', 'Coffee', 'Extra Salami or Feta', 'Salad'}, {'Coffee', 'Muffin', 'Baguette'}, {'Bread'}, {'Pastry'}, {'Farm House'}, {'Baguette', 'Scandinavian', 'Bread'}, {'Coffee', 'Muffin', 'Bread'}, {'Bread'}, {'Cake', 'Coffee', 'Alfajores'}, {'Coffee', 'Muffin'}, {'Bread'}, {'Coffee', 'Juice'}, {'Spanish Brunch', 'The Nomad', 'Brownie', 'Cookies', 'Coffee'}, {'Coffee', 'Pastry'}, {'Sandwich', 'Spanish Brunch', 'Coffee', 'Bread'}, {'Bread'}, {'Afternoon with the baker', 'Tea', 'Granola', 'Argentina Night'}, {'Afternoon with the baker', 'Tea', 'Argentina Night', 'NONE'}, {'The Nomad', 'Truffles', 'Coffee', 'NONE'}, {'Baguette'}, {'Pastry'}, {'Coffee'}, {'Coffee', 'Scone', 'Alfajores'}, {'Truffles', 'Coffee', 'Pastry'}, {'Christmas common', 'Cake', 'Scandinavian', 'Baguette'}, {'Tacos/Fajita', 'Cake', 'Coffee'}, {'Cookies', 'Coffee', 'Scone', 'Bread'}, {'Coffee'}, {'Spanish Brunch', 'Smoothies', 'Tea', 'The Nomad', 'Coffee', 'NONE'}, {'Bread'}, {'Coffee'}, {'Brownie', 'Muffin'}, {'Bread'}, {'Sandwich'}, {'Coffee'}, {'Bread'}, {'Tacos/Fajita', 'Coffee', 'Coke'}, {'Spanish Brunch', 'Sandwich', 'Tea', 'Juice', 'NONE'}, {'Coffee'}, {'Cake', 'Coffee', 'Tea', 'Bread'}, {'Tacos/Fajita', 'Cake', 'Truffles', 'Bread'}, {'Cake'}, {'Coffee', 'Sandwich', 'Juice'}, {'Truffles', 'Alfajores', 'Juice', 'Bread', 'Tacos/Fajita'}, {'Bread'}, {'Jam', 'Bread'}, {'Coffee'}, {'Brownie', 'Coffee'}, {'The Nomad'}, {'Coffee', 'Scone'}, {'Tacos/Fajita', 'Tea', 'Juice'}, {'Tacos/Fajita', 'Juice'}, {'Tacos/Fajita', 'Bread'}, {'Scandinavian'}, {'Cake', 'Tea', 'Honey', 'Tacos/Fajita', 'Coffee'}, {'Sandwich', 'Coffee', 'Bread'}, {'Cake', 'Coffee', 'Juice'}, {'Scandinavian', 'Bread'}, {'Scandinavian'}, {'Truffles', 'Brownie', 'Coke'}, {'Coffee'}, {'Eggs', 'Cherry me Dried fruit'}, {'Honey'}, {'Scandinavian'}, {'Cake', 'Coffee', 'Hot chocolate', 'Toast'}, {'Coffee', 'Tea', 'Alfajores'}, {'Brownie', 'Juice'}, {'Soup', 'Cake', 'Coffee'}, {'Cake'}, {'Sandwich', 'Coffee'}, {'Muffin', 'Bread'}, {'Coffee', 'Muffin', 'Alfajores'}, {'Coffee', 'Scandinavian', 'Salad'}, {'Cake', 'Tea', 'Juice'}, {'Vegan Feast'}, {'Vegan Feast'}, {'Vegan Feast'}, {'Vegan Feast'}, {'Scandinavian'}, {'Vegan Feast'}, {'Vegan Feast'}, {'Vegan Feast'}, {'Medialuna', 'Cake', 'Coffee', 'Hot chocolate'}, {'Coffee', 'Pastry', 'Bread'}, {'Coffee', 'Pastry'}, {'Baguette'}, {'Cake', 'Coffee'}, {'Half slice Monster', 'Hot chocolate', 'My-5 Fruit Shoot'}, {'Tea'}, {'Toast', 'Coffee'}, {'Coffee'}, {'Spanish Brunch', 'Coffee', 'Extra Salami or Feta'}, {'Cake', 'Tea', 'Juice'}, {'Bread'}, {'Coffee', 'Bread'}, {'Spanish Brunch', 'Coffee', 'Juice'}, {'Coffee', 'NONE'}, {'Bread', 'Sandwich', 'NONE'}, {'Tea', 'Bread'}, {'Farm House'}, {'Farm House'}, {'Bread'}, {'Cookies', 'Coffee', 'Extra Salami or Feta', 'NONE'}, {'Spanish Brunch', 'Coffee', 'Bread'}, {'Coffee'}, {'Sandwich', 'Smoothies'}, {'Tacos/Fajita', 'Coke'}, {'Tacos/Fajita', 'Toast', 'Coffee'}, {'Spanish Brunch', 'Bread'}, {'Bread'}, {'Christmas common', 'Spanish Brunch', 'Truffles', 'Tea'}, {'Tacos/Fajita', 'Coffee', 'Muffin', 'Tea'}, {'Coffee', 'Pastry'}, {'Smoothies'}])"
      ]
     },
     "execution_count": 4,
     "metadata": {},
     "output_type": "execute_result"
    }
   ],
   "source": [
    "repo_ds = list(map(lambda x: list(x[1][\"Item\"]), pandas.read_csv(\"./data/BreadBasket_DMS.csv\").groupby([\"Transaction\"])))\n",
    "test_ds = datasets.from_json(\"./data/data_set.json\")"
   ]
  },
  {
   "cell_type": "markdown",
   "metadata": {},
   "source": [
    "## Формирование баз ассоциативных правил"
   ]
  },
  {
   "cell_type": "code",
   "execution_count": 4,
   "metadata": {},
   "outputs": [
    {
     "data": {
      "text/plain": [
       "[[{'Toast'}, {'Coffee'}, 0.7044025157232704]]"
      ]
     },
     "execution_count": 4,
     "metadata": {},
     "output_type": "execute_result"
    }
   ],
   "source": [
    "_, test_rules = apriori(test_ds, minSup=0.15, minConf=0.6)\n",
    "_, repo_rules_60 = apriori(repo_ds, minSup=0.01, minConf=0.6)\n",
    "_, repo_rules_80 = apriori(repo_ds, minSup=0.01, minConf=0.8)\n",
    "repo_rules_60"
   ]
  },
  {
   "cell_type": "code",
   "execution_count": 5,
   "metadata": {},
   "outputs": [
    {
     "data": {
      "text/plain": [
       "[({Toast} -> {Coffee}, 0.7044025157232704)]"
      ]
     },
     "execution_count": 5,
     "metadata": {},
     "output_type": "execute_result"
    }
   ],
   "source": [
    "_, test_rules_e = e_apriori(test_ds, min_support=0.15, min_confidence=0.6)\n",
    "_, repo_rules_e_60 = e_apriori(repo_ds, min_support=0.01, min_confidence=0.6)\n",
    "_, repo_rules_e_80 = e_apriori(repo_ds, min_support=0.01, min_confidence=0.8)\n",
    "list(map(lambda x: (x, x.confidence), repo_rules_e_60))"
   ]
  },
  {
   "cell_type": "code",
   "execution_count": 6,
   "metadata": {},
   "outputs": [
    {
     "data": {
      "text/plain": [
       "[[{'Toast'}, {'Coffee'}, 0.7044025157232704]]"
      ]
     },
     "execution_count": 6,
     "metadata": {},
     "output_type": "execute_result"
    }
   ],
   "source": [
    "_, test_rules_fpg = fpgrowth(test_ds, minSupRatio=0.15, minConf=0.6)\n",
    "_, repo_rules_fpg_60 = fpgrowth(repo_ds, minSupRatio=0.01, minConf=0.6)\n",
    "_, repo_rules_fpg_80 = fpgrowth(repo_ds, minSupRatio=0.01, minConf=0.8)\n",
    "repo_rules_fpg_60"
   ]
  },
  {
   "cell_type": "markdown",
   "metadata": {},
   "source": [
    "## Ручные расчёты"
   ]
  },
  {
   "cell_type": "code",
   "execution_count": 7,
   "metadata": {},
   "outputs": [
    {
     "data": {
      "text/plain": [
       "{'support': 0.13333333333333333,\n",
       " 'confidence': 0.6666666666666666,\n",
       " 'significance': 3.96}"
      ]
     },
     "execution_count": 7,
     "metadata": {},
     "output_type": "execute_result"
    }
   ],
   "source": [
    "from lib import associative_rules\n",
    "r = associative_rules.compute(test_ds)\n",
    "r[('Соус', 'Вино')]"
   ]
  },
  {
   "cell_type": "markdown",
   "metadata": {},
   "source": [
    "## Визуализация правил"
   ]
  },
  {
   "cell_type": "code",
   "execution_count": 12,
   "metadata": {},
   "outputs": [
    {
     "data": {
      "application/vnd.plotly.v1+json": {
       "config": {
        "plotlyServerURL": "https://plot.ly"
       },
       "data": [
        {
         "marker": {
          "color": [
           1.4826988465897728
          ],
          "colorbar": {
           "title": {
            "text": "Lift"
           }
          },
          "colorscale": [
           [
            0,
            "rgb(243, 224, 247)"
           ],
           [
            0.16666666666666666,
            "rgb(228, 199, 241)"
           ],
           [
            0.3333333333333333,
            "rgb(209, 175, 232)"
           ],
           [
            0.5,
            "rgb(185, 152, 221)"
           ],
           [
            0.6666666666666666,
            "rgb(159, 130, 206)"
           ],
           [
            0.8333333333333334,
            "rgb(130, 109, 186)"
           ],
           [
            1,
            "rgb(99, 88, 159)"
           ]
          ]
         },
         "mode": "markers",
         "text": [
          "('Toast',) => ('Coffee',), Lift: 1.4826988465897728"
         ],
         "type": "scatter",
         "x": [
          0.023502255796873362
         ],
         "y": [
          0.7044025157232704
         ]
        }
       ],
       "layout": {
        "template": {
         "data": {
          "bar": [
           {
            "error_x": {
             "color": "#2a3f5f"
            },
            "error_y": {
             "color": "#2a3f5f"
            },
            "marker": {
             "line": {
              "color": "#E5ECF6",
              "width": 0.5
             },
             "pattern": {
              "fillmode": "overlay",
              "size": 10,
              "solidity": 0.2
             }
            },
            "type": "bar"
           }
          ],
          "barpolar": [
           {
            "marker": {
             "line": {
              "color": "#E5ECF6",
              "width": 0.5
             },
             "pattern": {
              "fillmode": "overlay",
              "size": 10,
              "solidity": 0.2
             }
            },
            "type": "barpolar"
           }
          ],
          "carpet": [
           {
            "aaxis": {
             "endlinecolor": "#2a3f5f",
             "gridcolor": "white",
             "linecolor": "white",
             "minorgridcolor": "white",
             "startlinecolor": "#2a3f5f"
            },
            "baxis": {
             "endlinecolor": "#2a3f5f",
             "gridcolor": "white",
             "linecolor": "white",
             "minorgridcolor": "white",
             "startlinecolor": "#2a3f5f"
            },
            "type": "carpet"
           }
          ],
          "choropleth": [
           {
            "colorbar": {
             "outlinewidth": 0,
             "ticks": ""
            },
            "type": "choropleth"
           }
          ],
          "contour": [
           {
            "colorbar": {
             "outlinewidth": 0,
             "ticks": ""
            },
            "colorscale": [
             [
              0,
              "#0d0887"
             ],
             [
              0.1111111111111111,
              "#46039f"
             ],
             [
              0.2222222222222222,
              "#7201a8"
             ],
             [
              0.3333333333333333,
              "#9c179e"
             ],
             [
              0.4444444444444444,
              "#bd3786"
             ],
             [
              0.5555555555555556,
              "#d8576b"
             ],
             [
              0.6666666666666666,
              "#ed7953"
             ],
             [
              0.7777777777777778,
              "#fb9f3a"
             ],
             [
              0.8888888888888888,
              "#fdca26"
             ],
             [
              1,
              "#f0f921"
             ]
            ],
            "type": "contour"
           }
          ],
          "contourcarpet": [
           {
            "colorbar": {
             "outlinewidth": 0,
             "ticks": ""
            },
            "type": "contourcarpet"
           }
          ],
          "heatmap": [
           {
            "colorbar": {
             "outlinewidth": 0,
             "ticks": ""
            },
            "colorscale": [
             [
              0,
              "#0d0887"
             ],
             [
              0.1111111111111111,
              "#46039f"
             ],
             [
              0.2222222222222222,
              "#7201a8"
             ],
             [
              0.3333333333333333,
              "#9c179e"
             ],
             [
              0.4444444444444444,
              "#bd3786"
             ],
             [
              0.5555555555555556,
              "#d8576b"
             ],
             [
              0.6666666666666666,
              "#ed7953"
             ],
             [
              0.7777777777777778,
              "#fb9f3a"
             ],
             [
              0.8888888888888888,
              "#fdca26"
             ],
             [
              1,
              "#f0f921"
             ]
            ],
            "type": "heatmap"
           }
          ],
          "heatmapgl": [
           {
            "colorbar": {
             "outlinewidth": 0,
             "ticks": ""
            },
            "colorscale": [
             [
              0,
              "#0d0887"
             ],
             [
              0.1111111111111111,
              "#46039f"
             ],
             [
              0.2222222222222222,
              "#7201a8"
             ],
             [
              0.3333333333333333,
              "#9c179e"
             ],
             [
              0.4444444444444444,
              "#bd3786"
             ],
             [
              0.5555555555555556,
              "#d8576b"
             ],
             [
              0.6666666666666666,
              "#ed7953"
             ],
             [
              0.7777777777777778,
              "#fb9f3a"
             ],
             [
              0.8888888888888888,
              "#fdca26"
             ],
             [
              1,
              "#f0f921"
             ]
            ],
            "type": "heatmapgl"
           }
          ],
          "histogram": [
           {
            "marker": {
             "pattern": {
              "fillmode": "overlay",
              "size": 10,
              "solidity": 0.2
             }
            },
            "type": "histogram"
           }
          ],
          "histogram2d": [
           {
            "colorbar": {
             "outlinewidth": 0,
             "ticks": ""
            },
            "colorscale": [
             [
              0,
              "#0d0887"
             ],
             [
              0.1111111111111111,
              "#46039f"
             ],
             [
              0.2222222222222222,
              "#7201a8"
             ],
             [
              0.3333333333333333,
              "#9c179e"
             ],
             [
              0.4444444444444444,
              "#bd3786"
             ],
             [
              0.5555555555555556,
              "#d8576b"
             ],
             [
              0.6666666666666666,
              "#ed7953"
             ],
             [
              0.7777777777777778,
              "#fb9f3a"
             ],
             [
              0.8888888888888888,
              "#fdca26"
             ],
             [
              1,
              "#f0f921"
             ]
            ],
            "type": "histogram2d"
           }
          ],
          "histogram2dcontour": [
           {
            "colorbar": {
             "outlinewidth": 0,
             "ticks": ""
            },
            "colorscale": [
             [
              0,
              "#0d0887"
             ],
             [
              0.1111111111111111,
              "#46039f"
             ],
             [
              0.2222222222222222,
              "#7201a8"
             ],
             [
              0.3333333333333333,
              "#9c179e"
             ],
             [
              0.4444444444444444,
              "#bd3786"
             ],
             [
              0.5555555555555556,
              "#d8576b"
             ],
             [
              0.6666666666666666,
              "#ed7953"
             ],
             [
              0.7777777777777778,
              "#fb9f3a"
             ],
             [
              0.8888888888888888,
              "#fdca26"
             ],
             [
              1,
              "#f0f921"
             ]
            ],
            "type": "histogram2dcontour"
           }
          ],
          "mesh3d": [
           {
            "colorbar": {
             "outlinewidth": 0,
             "ticks": ""
            },
            "type": "mesh3d"
           }
          ],
          "parcoords": [
           {
            "line": {
             "colorbar": {
              "outlinewidth": 0,
              "ticks": ""
             }
            },
            "type": "parcoords"
           }
          ],
          "pie": [
           {
            "automargin": true,
            "type": "pie"
           }
          ],
          "scatter": [
           {
            "marker": {
             "colorbar": {
              "outlinewidth": 0,
              "ticks": ""
             }
            },
            "type": "scatter"
           }
          ],
          "scatter3d": [
           {
            "line": {
             "colorbar": {
              "outlinewidth": 0,
              "ticks": ""
             }
            },
            "marker": {
             "colorbar": {
              "outlinewidth": 0,
              "ticks": ""
             }
            },
            "type": "scatter3d"
           }
          ],
          "scattercarpet": [
           {
            "marker": {
             "colorbar": {
              "outlinewidth": 0,
              "ticks": ""
             }
            },
            "type": "scattercarpet"
           }
          ],
          "scattergeo": [
           {
            "marker": {
             "colorbar": {
              "outlinewidth": 0,
              "ticks": ""
             }
            },
            "type": "scattergeo"
           }
          ],
          "scattergl": [
           {
            "marker": {
             "colorbar": {
              "outlinewidth": 0,
              "ticks": ""
             }
            },
            "type": "scattergl"
           }
          ],
          "scattermapbox": [
           {
            "marker": {
             "colorbar": {
              "outlinewidth": 0,
              "ticks": ""
             }
            },
            "type": "scattermapbox"
           }
          ],
          "scatterpolar": [
           {
            "marker": {
             "colorbar": {
              "outlinewidth": 0,
              "ticks": ""
             }
            },
            "type": "scatterpolar"
           }
          ],
          "scatterpolargl": [
           {
            "marker": {
             "colorbar": {
              "outlinewidth": 0,
              "ticks": ""
             }
            },
            "type": "scatterpolargl"
           }
          ],
          "scatterternary": [
           {
            "marker": {
             "colorbar": {
              "outlinewidth": 0,
              "ticks": ""
             }
            },
            "type": "scatterternary"
           }
          ],
          "surface": [
           {
            "colorbar": {
             "outlinewidth": 0,
             "ticks": ""
            },
            "colorscale": [
             [
              0,
              "#0d0887"
             ],
             [
              0.1111111111111111,
              "#46039f"
             ],
             [
              0.2222222222222222,
              "#7201a8"
             ],
             [
              0.3333333333333333,
              "#9c179e"
             ],
             [
              0.4444444444444444,
              "#bd3786"
             ],
             [
              0.5555555555555556,
              "#d8576b"
             ],
             [
              0.6666666666666666,
              "#ed7953"
             ],
             [
              0.7777777777777778,
              "#fb9f3a"
             ],
             [
              0.8888888888888888,
              "#fdca26"
             ],
             [
              1,
              "#f0f921"
             ]
            ],
            "type": "surface"
           }
          ],
          "table": [
           {
            "cells": {
             "fill": {
              "color": "#EBF0F8"
             },
             "line": {
              "color": "white"
             }
            },
            "header": {
             "fill": {
              "color": "#C8D4E3"
             },
             "line": {
              "color": "white"
             }
            },
            "type": "table"
           }
          ]
         },
         "layout": {
          "annotationdefaults": {
           "arrowcolor": "#2a3f5f",
           "arrowhead": 0,
           "arrowwidth": 1
          },
          "autotypenumbers": "strict",
          "coloraxis": {
           "colorbar": {
            "outlinewidth": 0,
            "ticks": ""
           }
          },
          "colorscale": {
           "diverging": [
            [
             0,
             "#8e0152"
            ],
            [
             0.1,
             "#c51b7d"
            ],
            [
             0.2,
             "#de77ae"
            ],
            [
             0.3,
             "#f1b6da"
            ],
            [
             0.4,
             "#fde0ef"
            ],
            [
             0.5,
             "#f7f7f7"
            ],
            [
             0.6,
             "#e6f5d0"
            ],
            [
             0.7,
             "#b8e186"
            ],
            [
             0.8,
             "#7fbc41"
            ],
            [
             0.9,
             "#4d9221"
            ],
            [
             1,
             "#276419"
            ]
           ],
           "sequential": [
            [
             0,
             "#0d0887"
            ],
            [
             0.1111111111111111,
             "#46039f"
            ],
            [
             0.2222222222222222,
             "#7201a8"
            ],
            [
             0.3333333333333333,
             "#9c179e"
            ],
            [
             0.4444444444444444,
             "#bd3786"
            ],
            [
             0.5555555555555556,
             "#d8576b"
            ],
            [
             0.6666666666666666,
             "#ed7953"
            ],
            [
             0.7777777777777778,
             "#fb9f3a"
            ],
            [
             0.8888888888888888,
             "#fdca26"
            ],
            [
             1,
             "#f0f921"
            ]
           ],
           "sequentialminus": [
            [
             0,
             "#0d0887"
            ],
            [
             0.1111111111111111,
             "#46039f"
            ],
            [
             0.2222222222222222,
             "#7201a8"
            ],
            [
             0.3333333333333333,
             "#9c179e"
            ],
            [
             0.4444444444444444,
             "#bd3786"
            ],
            [
             0.5555555555555556,
             "#d8576b"
            ],
            [
             0.6666666666666666,
             "#ed7953"
            ],
            [
             0.7777777777777778,
             "#fb9f3a"
            ],
            [
             0.8888888888888888,
             "#fdca26"
            ],
            [
             1,
             "#f0f921"
            ]
           ]
          },
          "colorway": [
           "#636efa",
           "#EF553B",
           "#00cc96",
           "#ab63fa",
           "#FFA15A",
           "#19d3f3",
           "#FF6692",
           "#B6E880",
           "#FF97FF",
           "#FECB52"
          ],
          "font": {
           "color": "#2a3f5f"
          },
          "geo": {
           "bgcolor": "white",
           "lakecolor": "white",
           "landcolor": "#E5ECF6",
           "showlakes": true,
           "showland": true,
           "subunitcolor": "white"
          },
          "hoverlabel": {
           "align": "left"
          },
          "hovermode": "closest",
          "mapbox": {
           "style": "light"
          },
          "paper_bgcolor": "white",
          "plot_bgcolor": "#E5ECF6",
          "polar": {
           "angularaxis": {
            "gridcolor": "white",
            "linecolor": "white",
            "ticks": ""
           },
           "bgcolor": "#E5ECF6",
           "radialaxis": {
            "gridcolor": "white",
            "linecolor": "white",
            "ticks": ""
           }
          },
          "scene": {
           "xaxis": {
            "backgroundcolor": "#E5ECF6",
            "gridcolor": "white",
            "gridwidth": 2,
            "linecolor": "white",
            "showbackground": true,
            "ticks": "",
            "zerolinecolor": "white"
           },
           "yaxis": {
            "backgroundcolor": "#E5ECF6",
            "gridcolor": "white",
            "gridwidth": 2,
            "linecolor": "white",
            "showbackground": true,
            "ticks": "",
            "zerolinecolor": "white"
           },
           "zaxis": {
            "backgroundcolor": "#E5ECF6",
            "gridcolor": "white",
            "gridwidth": 2,
            "linecolor": "white",
            "showbackground": true,
            "ticks": "",
            "zerolinecolor": "white"
           }
          },
          "shapedefaults": {
           "line": {
            "color": "#2a3f5f"
           }
          },
          "ternary": {
           "aaxis": {
            "gridcolor": "white",
            "linecolor": "white",
            "ticks": ""
           },
           "baxis": {
            "gridcolor": "white",
            "linecolor": "white",
            "ticks": ""
           },
           "bgcolor": "#E5ECF6",
           "caxis": {
            "gridcolor": "white",
            "linecolor": "white",
            "ticks": ""
           }
          },
          "title": {
           "x": 0.05
          },
          "xaxis": {
           "automargin": true,
           "gridcolor": "white",
           "linecolor": "white",
           "ticks": "",
           "title": {
            "standoff": 15
           },
           "zerolinecolor": "white",
           "zerolinewidth": 2
          },
          "yaxis": {
           "automargin": true,
           "gridcolor": "white",
           "linecolor": "white",
           "ticks": "",
           "title": {
            "standoff": 15
           },
           "zerolinecolor": "white",
           "zerolinewidth": 2
          }
         }
        },
        "title": {
         "text": "Association Rules Strength Distribution"
        },
        "xaxis": {
         "autorange": "reversed",
         "title": {
          "text": "Support"
         }
        },
        "yaxis": {
         "title": {
          "text": "Confidence"
         }
        }
       }
      }
     },
     "metadata": {},
     "output_type": "display_data"
    },
    {
     "data": {
      "application/vnd.plotly.v1+json": {
       "config": {
        "plotlyServerURL": "https://plot.ly"
       },
       "data": [
        {
         "marker": {
          "color": [
           1.4826988465897728
          ],
          "colorbar": {
           "title": {
            "text": "Lift"
           }
          },
          "colorscale": [
           [
            0,
            "rgb(243, 224, 247)"
           ],
           [
            0.16666666666666666,
            "rgb(228, 199, 241)"
           ],
           [
            0.3333333333333333,
            "rgb(209, 175, 232)"
           ],
           [
            0.5,
            "rgb(185, 152, 221)"
           ],
           [
            0.6666666666666666,
            "rgb(159, 130, 206)"
           ],
           [
            0.8333333333333334,
            "rgb(130, 109, 186)"
           ],
           [
            1,
            "rgb(99, 88, 159)"
           ]
          ]
         },
         "mode": "markers",
         "text": [
          "('Toast',) => ('Coffee',), Lift: 1.4826988465897728"
         ],
         "type": "scatter",
         "x": [
          0.023502255796873362
         ],
         "y": [
          0.7044025157232704
         ]
        }
       ],
       "layout": {
        "template": {
         "data": {
          "bar": [
           {
            "error_x": {
             "color": "#2a3f5f"
            },
            "error_y": {
             "color": "#2a3f5f"
            },
            "marker": {
             "line": {
              "color": "#E5ECF6",
              "width": 0.5
             },
             "pattern": {
              "fillmode": "overlay",
              "size": 10,
              "solidity": 0.2
             }
            },
            "type": "bar"
           }
          ],
          "barpolar": [
           {
            "marker": {
             "line": {
              "color": "#E5ECF6",
              "width": 0.5
             },
             "pattern": {
              "fillmode": "overlay",
              "size": 10,
              "solidity": 0.2
             }
            },
            "type": "barpolar"
           }
          ],
          "carpet": [
           {
            "aaxis": {
             "endlinecolor": "#2a3f5f",
             "gridcolor": "white",
             "linecolor": "white",
             "minorgridcolor": "white",
             "startlinecolor": "#2a3f5f"
            },
            "baxis": {
             "endlinecolor": "#2a3f5f",
             "gridcolor": "white",
             "linecolor": "white",
             "minorgridcolor": "white",
             "startlinecolor": "#2a3f5f"
            },
            "type": "carpet"
           }
          ],
          "choropleth": [
           {
            "colorbar": {
             "outlinewidth": 0,
             "ticks": ""
            },
            "type": "choropleth"
           }
          ],
          "contour": [
           {
            "colorbar": {
             "outlinewidth": 0,
             "ticks": ""
            },
            "colorscale": [
             [
              0,
              "#0d0887"
             ],
             [
              0.1111111111111111,
              "#46039f"
             ],
             [
              0.2222222222222222,
              "#7201a8"
             ],
             [
              0.3333333333333333,
              "#9c179e"
             ],
             [
              0.4444444444444444,
              "#bd3786"
             ],
             [
              0.5555555555555556,
              "#d8576b"
             ],
             [
              0.6666666666666666,
              "#ed7953"
             ],
             [
              0.7777777777777778,
              "#fb9f3a"
             ],
             [
              0.8888888888888888,
              "#fdca26"
             ],
             [
              1,
              "#f0f921"
             ]
            ],
            "type": "contour"
           }
          ],
          "contourcarpet": [
           {
            "colorbar": {
             "outlinewidth": 0,
             "ticks": ""
            },
            "type": "contourcarpet"
           }
          ],
          "heatmap": [
           {
            "colorbar": {
             "outlinewidth": 0,
             "ticks": ""
            },
            "colorscale": [
             [
              0,
              "#0d0887"
             ],
             [
              0.1111111111111111,
              "#46039f"
             ],
             [
              0.2222222222222222,
              "#7201a8"
             ],
             [
              0.3333333333333333,
              "#9c179e"
             ],
             [
              0.4444444444444444,
              "#bd3786"
             ],
             [
              0.5555555555555556,
              "#d8576b"
             ],
             [
              0.6666666666666666,
              "#ed7953"
             ],
             [
              0.7777777777777778,
              "#fb9f3a"
             ],
             [
              0.8888888888888888,
              "#fdca26"
             ],
             [
              1,
              "#f0f921"
             ]
            ],
            "type": "heatmap"
           }
          ],
          "heatmapgl": [
           {
            "colorbar": {
             "outlinewidth": 0,
             "ticks": ""
            },
            "colorscale": [
             [
              0,
              "#0d0887"
             ],
             [
              0.1111111111111111,
              "#46039f"
             ],
             [
              0.2222222222222222,
              "#7201a8"
             ],
             [
              0.3333333333333333,
              "#9c179e"
             ],
             [
              0.4444444444444444,
              "#bd3786"
             ],
             [
              0.5555555555555556,
              "#d8576b"
             ],
             [
              0.6666666666666666,
              "#ed7953"
             ],
             [
              0.7777777777777778,
              "#fb9f3a"
             ],
             [
              0.8888888888888888,
              "#fdca26"
             ],
             [
              1,
              "#f0f921"
             ]
            ],
            "type": "heatmapgl"
           }
          ],
          "histogram": [
           {
            "marker": {
             "pattern": {
              "fillmode": "overlay",
              "size": 10,
              "solidity": 0.2
             }
            },
            "type": "histogram"
           }
          ],
          "histogram2d": [
           {
            "colorbar": {
             "outlinewidth": 0,
             "ticks": ""
            },
            "colorscale": [
             [
              0,
              "#0d0887"
             ],
             [
              0.1111111111111111,
              "#46039f"
             ],
             [
              0.2222222222222222,
              "#7201a8"
             ],
             [
              0.3333333333333333,
              "#9c179e"
             ],
             [
              0.4444444444444444,
              "#bd3786"
             ],
             [
              0.5555555555555556,
              "#d8576b"
             ],
             [
              0.6666666666666666,
              "#ed7953"
             ],
             [
              0.7777777777777778,
              "#fb9f3a"
             ],
             [
              0.8888888888888888,
              "#fdca26"
             ],
             [
              1,
              "#f0f921"
             ]
            ],
            "type": "histogram2d"
           }
          ],
          "histogram2dcontour": [
           {
            "colorbar": {
             "outlinewidth": 0,
             "ticks": ""
            },
            "colorscale": [
             [
              0,
              "#0d0887"
             ],
             [
              0.1111111111111111,
              "#46039f"
             ],
             [
              0.2222222222222222,
              "#7201a8"
             ],
             [
              0.3333333333333333,
              "#9c179e"
             ],
             [
              0.4444444444444444,
              "#bd3786"
             ],
             [
              0.5555555555555556,
              "#d8576b"
             ],
             [
              0.6666666666666666,
              "#ed7953"
             ],
             [
              0.7777777777777778,
              "#fb9f3a"
             ],
             [
              0.8888888888888888,
              "#fdca26"
             ],
             [
              1,
              "#f0f921"
             ]
            ],
            "type": "histogram2dcontour"
           }
          ],
          "mesh3d": [
           {
            "colorbar": {
             "outlinewidth": 0,
             "ticks": ""
            },
            "type": "mesh3d"
           }
          ],
          "parcoords": [
           {
            "line": {
             "colorbar": {
              "outlinewidth": 0,
              "ticks": ""
             }
            },
            "type": "parcoords"
           }
          ],
          "pie": [
           {
            "automargin": true,
            "type": "pie"
           }
          ],
          "scatter": [
           {
            "marker": {
             "colorbar": {
              "outlinewidth": 0,
              "ticks": ""
             }
            },
            "type": "scatter"
           }
          ],
          "scatter3d": [
           {
            "line": {
             "colorbar": {
              "outlinewidth": 0,
              "ticks": ""
             }
            },
            "marker": {
             "colorbar": {
              "outlinewidth": 0,
              "ticks": ""
             }
            },
            "type": "scatter3d"
           }
          ],
          "scattercarpet": [
           {
            "marker": {
             "colorbar": {
              "outlinewidth": 0,
              "ticks": ""
             }
            },
            "type": "scattercarpet"
           }
          ],
          "scattergeo": [
           {
            "marker": {
             "colorbar": {
              "outlinewidth": 0,
              "ticks": ""
             }
            },
            "type": "scattergeo"
           }
          ],
          "scattergl": [
           {
            "marker": {
             "colorbar": {
              "outlinewidth": 0,
              "ticks": ""
             }
            },
            "type": "scattergl"
           }
          ],
          "scattermapbox": [
           {
            "marker": {
             "colorbar": {
              "outlinewidth": 0,
              "ticks": ""
             }
            },
            "type": "scattermapbox"
           }
          ],
          "scatterpolar": [
           {
            "marker": {
             "colorbar": {
              "outlinewidth": 0,
              "ticks": ""
             }
            },
            "type": "scatterpolar"
           }
          ],
          "scatterpolargl": [
           {
            "marker": {
             "colorbar": {
              "outlinewidth": 0,
              "ticks": ""
             }
            },
            "type": "scatterpolargl"
           }
          ],
          "scatterternary": [
           {
            "marker": {
             "colorbar": {
              "outlinewidth": 0,
              "ticks": ""
             }
            },
            "type": "scatterternary"
           }
          ],
          "surface": [
           {
            "colorbar": {
             "outlinewidth": 0,
             "ticks": ""
            },
            "colorscale": [
             [
              0,
              "#0d0887"
             ],
             [
              0.1111111111111111,
              "#46039f"
             ],
             [
              0.2222222222222222,
              "#7201a8"
             ],
             [
              0.3333333333333333,
              "#9c179e"
             ],
             [
              0.4444444444444444,
              "#bd3786"
             ],
             [
              0.5555555555555556,
              "#d8576b"
             ],
             [
              0.6666666666666666,
              "#ed7953"
             ],
             [
              0.7777777777777778,
              "#fb9f3a"
             ],
             [
              0.8888888888888888,
              "#fdca26"
             ],
             [
              1,
              "#f0f921"
             ]
            ],
            "type": "surface"
           }
          ],
          "table": [
           {
            "cells": {
             "fill": {
              "color": "#EBF0F8"
             },
             "line": {
              "color": "white"
             }
            },
            "header": {
             "fill": {
              "color": "#C8D4E3"
             },
             "line": {
              "color": "white"
             }
            },
            "type": "table"
           }
          ]
         },
         "layout": {
          "annotationdefaults": {
           "arrowcolor": "#2a3f5f",
           "arrowhead": 0,
           "arrowwidth": 1
          },
          "autotypenumbers": "strict",
          "coloraxis": {
           "colorbar": {
            "outlinewidth": 0,
            "ticks": ""
           }
          },
          "colorscale": {
           "diverging": [
            [
             0,
             "#8e0152"
            ],
            [
             0.1,
             "#c51b7d"
            ],
            [
             0.2,
             "#de77ae"
            ],
            [
             0.3,
             "#f1b6da"
            ],
            [
             0.4,
             "#fde0ef"
            ],
            [
             0.5,
             "#f7f7f7"
            ],
            [
             0.6,
             "#e6f5d0"
            ],
            [
             0.7,
             "#b8e186"
            ],
            [
             0.8,
             "#7fbc41"
            ],
            [
             0.9,
             "#4d9221"
            ],
            [
             1,
             "#276419"
            ]
           ],
           "sequential": [
            [
             0,
             "#0d0887"
            ],
            [
             0.1111111111111111,
             "#46039f"
            ],
            [
             0.2222222222222222,
             "#7201a8"
            ],
            [
             0.3333333333333333,
             "#9c179e"
            ],
            [
             0.4444444444444444,
             "#bd3786"
            ],
            [
             0.5555555555555556,
             "#d8576b"
            ],
            [
             0.6666666666666666,
             "#ed7953"
            ],
            [
             0.7777777777777778,
             "#fb9f3a"
            ],
            [
             0.8888888888888888,
             "#fdca26"
            ],
            [
             1,
             "#f0f921"
            ]
           ],
           "sequentialminus": [
            [
             0,
             "#0d0887"
            ],
            [
             0.1111111111111111,
             "#46039f"
            ],
            [
             0.2222222222222222,
             "#7201a8"
            ],
            [
             0.3333333333333333,
             "#9c179e"
            ],
            [
             0.4444444444444444,
             "#bd3786"
            ],
            [
             0.5555555555555556,
             "#d8576b"
            ],
            [
             0.6666666666666666,
             "#ed7953"
            ],
            [
             0.7777777777777778,
             "#fb9f3a"
            ],
            [
             0.8888888888888888,
             "#fdca26"
            ],
            [
             1,
             "#f0f921"
            ]
           ]
          },
          "colorway": [
           "#636efa",
           "#EF553B",
           "#00cc96",
           "#ab63fa",
           "#FFA15A",
           "#19d3f3",
           "#FF6692",
           "#B6E880",
           "#FF97FF",
           "#FECB52"
          ],
          "font": {
           "color": "#2a3f5f"
          },
          "geo": {
           "bgcolor": "white",
           "lakecolor": "white",
           "landcolor": "#E5ECF6",
           "showlakes": true,
           "showland": true,
           "subunitcolor": "white"
          },
          "hoverlabel": {
           "align": "left"
          },
          "hovermode": "closest",
          "mapbox": {
           "style": "light"
          },
          "paper_bgcolor": "white",
          "plot_bgcolor": "#E5ECF6",
          "polar": {
           "angularaxis": {
            "gridcolor": "white",
            "linecolor": "white",
            "ticks": ""
           },
           "bgcolor": "#E5ECF6",
           "radialaxis": {
            "gridcolor": "white",
            "linecolor": "white",
            "ticks": ""
           }
          },
          "scene": {
           "xaxis": {
            "backgroundcolor": "#E5ECF6",
            "gridcolor": "white",
            "gridwidth": 2,
            "linecolor": "white",
            "showbackground": true,
            "ticks": "",
            "zerolinecolor": "white"
           },
           "yaxis": {
            "backgroundcolor": "#E5ECF6",
            "gridcolor": "white",
            "gridwidth": 2,
            "linecolor": "white",
            "showbackground": true,
            "ticks": "",
            "zerolinecolor": "white"
           },
           "zaxis": {
            "backgroundcolor": "#E5ECF6",
            "gridcolor": "white",
            "gridwidth": 2,
            "linecolor": "white",
            "showbackground": true,
            "ticks": "",
            "zerolinecolor": "white"
           }
          },
          "shapedefaults": {
           "line": {
            "color": "#2a3f5f"
           }
          },
          "ternary": {
           "aaxis": {
            "gridcolor": "white",
            "linecolor": "white",
            "ticks": ""
           },
           "baxis": {
            "gridcolor": "white",
            "linecolor": "white",
            "ticks": ""
           },
           "bgcolor": "#E5ECF6",
           "caxis": {
            "gridcolor": "white",
            "linecolor": "white",
            "ticks": ""
           }
          },
          "title": {
           "x": 0.05
          },
          "xaxis": {
           "automargin": true,
           "gridcolor": "white",
           "linecolor": "white",
           "ticks": "",
           "title": {
            "standoff": 15
           },
           "zerolinecolor": "white",
           "zerolinewidth": 2
          },
          "yaxis": {
           "automargin": true,
           "gridcolor": "white",
           "linecolor": "white",
           "ticks": "",
           "title": {
            "standoff": 15
           },
           "zerolinecolor": "white",
           "zerolinewidth": 2
          }
         }
        },
        "title": {
         "text": "Association Rules Strength Distribution"
        },
        "xaxis": {
         "autorange": "reversed",
         "title": {
          "text": "Support"
         }
        },
        "yaxis": {
         "title": {
          "text": "Confidence"
         }
        }
       }
      }
     },
     "metadata": {},
     "output_type": "display_data"
    }
   ],
   "source": [
    "from PyARMViz import PyARMViz\n",
    "# PyARMViz.metadata_scatter_plot(test_rules_e)\n",
    "# rules = map(lambda x: PyARMViz.Rule(x.lhs, x.rhs), test_rules_e)\n",
    "rules = test_rules_e\n",
    "PyARMViz.metadata_scatter_plot(rules)"
   ]
  },
  {
   "cell_type": "markdown",
   "metadata": {},
   "source": [
    "## Оценка времени формирования"
   ]
  },
  {
   "cell_type": "code",
   "execution_count": 9,
   "metadata": {},
   "outputs": [
    {
     "data": {
      "text/plain": [
       "{0.1: {0: 0.2939944267272949, 1: 0.2970011234283447, 2: 0.30599427223205566},\n",
       " 0.2: {0: 0.2129974365234375, 1: 0.2932002544403076, 2: 0.2701075077056885},\n",
       " 0.3: {0: 0.20875120162963867, 1: 0.24999761581420898, 2: 0.29199814796447754},\n",
       " 0.4: {0: 0.19800019264221191, 1: 0.2551422119140625, 2: 0.27097034454345703},\n",
       " 0.5: {0: 0.20160460472106934, 1: 0.2619764804840088, 2: 0.2750272750854492},\n",
       " 0.6: {0: 0.19221043586730957, 1: 0.2510490417480469, 2: 0.2799496650695801},\n",
       " 0.7: {0: 0.18886113166809082, 1: 0.24803829193115234, 2: 0.2697012424468994},\n",
       " 0.8: {0: 0.18511652946472168, 1: 0.2898263931274414, 2: 0.2810826301574707},\n",
       " 0.9: {0: 0.18606042861938477, 1: 0.24657154083251953, 2: 0.27296948432922363},\n",
       " 1.0: {0: 0.19099688529968262, 1: 0.2520267963409424, 2: 0.27211451530456543}}"
      ]
     },
     "execution_count": 9,
     "metadata": {},
     "output_type": "execute_result"
    }
   ],
   "source": [
    "from time import time\n",
    "def measure(action):\n",
    "    start = time()\n",
    "    result = action()\n",
    "    end = time()\n",
    "    return end - start, result\n",
    "\n",
    "confidence_probes = [ x / 10 for x in range(1, 11, 1) ]\n",
    "algorithms = [\n",
    "    lambda conf: lambda: fpgrowth(repo_ds, minSupRatio=0.01, minConf=conf),\n",
    "    lambda conf: lambda: e_apriori(repo_ds, min_support=0.01, min_confidence=conf),\n",
    "    lambda conf: lambda: apriori(repo_ds, minSup=0.01, minConf=conf)\n",
    "]\n",
    "result = {}\n",
    "for conf in confidence_probes:\n",
    "    result[conf] = {}\n",
    "    for n, algorithm in enumerate(algorithms):\n",
    "        elapsed, _ = measure(algorithm(conf))\n",
    "        result[conf][n] = elapsed\n",
    "result"
   ]
  },
  {
   "cell_type": "code",
   "execution_count": 10,
   "metadata": {},
   "outputs": [
    {
     "data": {
      "image/png": "[encoded data removed]",
      "text/plain": [
       "<Figure size 432x288 with 1 Axes>"
      ]
     },
     "metadata": {
      "needs_background": "light"
     },
     "output_type": "display_data"
    }
   ],
   "source": [
    "import matplotlib.pyplot as plt\n",
    "x = confidence_probes\n",
    "y0 = list(map(lambda conf: result[conf][0] ,result))\n",
    "y1 = list(map(lambda conf: result[conf][1] ,result))\n",
    "y2 = list(map(lambda conf: result[conf][2] ,result))\n",
    "plt.plot(x, y0, label=\"fpgrowth\")\n",
    "plt.plot(x, y1, label=\"efficent_apriori\")\n",
    "plt.plot(x, y2, label=\"apriori_python\")\n",
    "plt.legend()\n",
    "plt.show()"
   ]
  }
 ],
 "metadata": {
  "interpreter": {
   "hash": "63fd5069d213b44bf678585dea6b12cceca9941eaf7f819626cde1f2670de90d"
  },
  "kernelspec": {
   "display_name": "Python 3.9.6 64-bit",
   "name": "python3"
  },
  "language_info": {
   "codemirror_mode": {
    "name": "ipython",
    "version": 3
   },
   "file_extension": ".py",
   "mimetype": "text/x-python",
   "name": "python",
   "nbconvert_exporter": "python",
   "pygments_lexer": "ipython3",
   "version": "3.9.6"
  },
  "orig_nbformat": 4
 },
 "nbformat": 4,
 "nbformat_minor": 2
}
