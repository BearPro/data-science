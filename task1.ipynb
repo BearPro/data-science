{
 "cells": [
  {
   "cell_type": "markdown",
   "source": [
    "# Работа №1 - Поиск ассоциативных правил\n",
    "\n",
    "_Вариант 5. Сформировать набор из 30 транзакций на основе продуктов, употребляемых на завтрак, обед и ужин._"
   ],
   "metadata": {}
  },
  {
   "cell_type": "code",
   "execution_count": 1,
   "source": [
    "#! echo '[[\"Мясо\", \"Соус\", \"Вино\"],[\"Мясо\", \"Соус\", \"Картофель\", \"Масло\"],[\"Картофель\", \"Масло\"],[\"Картофель\", \"Масло\"],[\"Вино\", \"Яйца\", \"Бекон\"],[\"Овощи\", \"Мясо\", \"Специи\"],[\"Яйца\", \"Бекон\", \"Овощи\", \"Мясо\", \"Специи\"],[\"Яйца\", \"Бекон\", \"Овощи\", \"Мясо\", \"Специи\"],[\"Лапша\", \"Кетчуп\"],[\"Пельмени\", \"Майонез\", \"Кетчуп\"],[\"Пельмени\", \"Майонез\", \"Кетчуп\"],[\"Овощи\", \"Пельмени\", \"Майонез\", \"Кетчуп\"],[\"Овощи\", \"Соус\", \"Вино\"],[\"Кетчуп\"],[\"Кетчуп\", \"Лапша\", \"Пельмени\", \"Майонез\"],[\"Кетчуп\", \"Лапша\", \"Пельмени\", \"Майонез\"],[\"Кетчуп\", \"Лапша\", \"Мясо\", \"Соус\", \"Вино\"],[\"Овощи\", \"Мясо\", \"Соус\", \"Вино\"],[\"Майонез\"],[\"Вино\"],[\"Овощи\", \"Масло\"],[\"Овощи\", \"Масло\", \"Картофель\"],[\"Овощи\", \"Масло\", \"Картофель\", \"Мясо\", \"Соус\"],[\"Овощи\", \"Бекон\", \"Яйца\"],[\"Бекон\", \"Яйца\"],[\"Яйца\", \"Кетчуп\", \"Лапша\"],[\"Мясо\"],[\"Мясо\", \"Масло\"],[\"Мясо\", \"Масло\", \"Картофель\"],[\"Масло\", \"Картофель\"]]' > data/data_set.json\r\n",
    "#! curl https://raw.githubusercontent.com/viktree/curly-octo-chainsaw/master/BreadBasket_DMS.csv > ./data/BreadBasket_DMS.csv\r\n",
    "#! pip3 install apriori_python efficient-apriori fpgrowth-py pyarmviz pandas numpy pyarmviz "
   ],
   "outputs": [],
   "metadata": {}
  },
  {
   "cell_type": "code",
   "execution_count": 2,
   "source": [
    "from lib import datasets\r\n",
    "from pandas import pandas\r\n",
    "from fpgrowth_py import fpgrowth\r\n",
    "from efficient_apriori import apriori as e_apriori\r\n",
    "from apriori_python import apriori as apriori"
   ],
   "outputs": [],
   "metadata": {}
  },
  {
   "cell_type": "code",
   "execution_count": 3,
   "source": [
    "repo_ds = datasets.from_csv(\"./data/BreadBasket_DMS.csv\")\r\n",
    "test_ds = datasets.from_json(\"./data/data_set.json\")"
   ],
   "outputs": [],
   "metadata": {}
  },
  {
   "cell_type": "markdown",
   "source": [
    "## Формирование баз ассоциативных правил"
   ],
   "metadata": {}
  },
  {
   "cell_type": "code",
   "execution_count": 4,
   "source": [
    "_, test_rules = apriori(test_ds, minSup=0.15, minConf=0.6)\r\n",
    "_, repo_rules_60 = apriori(repo_ds, minSup=0.01, minConf=0.6)\r\n",
    "_, repo_rules_80 = apriori(repo_ds, minSup=0.01, minConf=0.8)\r\n",
    "repo_rules_60"
   ],
   "outputs": [
    {
     "output_type": "execute_result",
     "data": {
      "text/plain": [
       "[[{'Toast'}, {'Coffee'}, 0.7044025157232704]]"
      ]
     },
     "metadata": {},
     "execution_count": 4
    }
   ],
   "metadata": {}
  },
  {
   "cell_type": "code",
   "execution_count": 5,
   "source": [
    "_, test_rules_e = e_apriori(test_ds, min_support=0.15, min_confidence=0.6)\r\n",
    "_, repo_rules_e_60 = e_apriori(repo_ds, min_support=0.01, min_confidence=0.6)\r\n",
    "_, repo_rules_e_80 = e_apriori(repo_ds, min_support=0.01, min_confidence=0.8)\r\n",
    "list(map(lambda x: (x, x.confidence), repo_rules_e_60))"
   ],
   "outputs": [
    {
     "output_type": "execute_result",
     "data": {
      "text/plain": [
       "[({Toast} -> {Coffee}, 0.7044025157232704)]"
      ]
     },
     "metadata": {},
     "execution_count": 5
    }
   ],
   "metadata": {}
  },
  {
   "cell_type": "code",
   "execution_count": 6,
   "source": [
    "_, test_rules_fpg = fpgrowth(test_ds, minSupRatio=0.15, minConf=0.6)\r\n",
    "_, repo_rules_fpg_60 = fpgrowth(repo_ds, minSupRatio=0.01, minConf=0.6)\r\n",
    "_, repo_rules_fpg_80 = fpgrowth(repo_ds, minSupRatio=0.01, minConf=0.8)\r\n",
    "repo_rules_fpg_60"
   ],
   "outputs": [
    {
     "output_type": "execute_result",
     "data": {
      "text/plain": [
       "[[{'Toast'}, {'Coffee'}, 0.7044025157232704]]"
      ]
     },
     "metadata": {},
     "execution_count": 6
    }
   ],
   "metadata": {}
  },
  {
   "cell_type": "markdown",
   "source": [
    "## Ручные расчёты"
   ],
   "metadata": {}
  },
  {
   "cell_type": "code",
   "execution_count": 7,
   "source": [
    "from lib import associative_rules\r\n",
    "r = associative_rules.compute(test_ds)\r\n",
    "r[('Соус', 'Вино')]"
   ],
   "outputs": [
    {
     "output_type": "execute_result",
     "data": {
      "text/plain": [
       "{'support': 0.13333333333333333,\n",
       " 'confidence': 0.6666666666666666,\n",
       " 'significance': 3.96}"
      ]
     },
     "metadata": {},
     "execution_count": 7
    }
   ],
   "metadata": {}
  },
  {
   "cell_type": "markdown",
   "source": [
    "## Визуализация правил"
   ],
   "metadata": {}
  },
  {
   "cell_type": "code",
   "execution_count": null,
   "source": [
    "from PyARMViz import PyARMViz\r\n",
    "# PyARMViz.metadata_scatter_plot(test_rules_e)\r\n",
    "rules = map(PyARMViz.Rule.generate_rule_from_rule, test_rules_e)\r\n",
    "adjacency_graph_plotly(rules)"
   ],
   "outputs": [],
   "metadata": {}
  },
  {
   "cell_type": "markdown",
   "source": [
    "## Оценка времени формирования"
   ],
   "metadata": {}
  },
  {
   "cell_type": "code",
   "execution_count": 24,
   "source": [
    "from time import time\r\n",
    "def measure(action):\r\n",
    "    start = time()\r\n",
    "    result = action()\r\n",
    "    end = time()\r\n",
    "    return end - start, result\r\n",
    "\r\n",
    "confidence_probes = [ x / 10 for x in range(1, 11, 1) ]\r\n",
    "algorithms = [\r\n",
    "    lambda conf: lambda: fpgrowth(repo_ds, minSupRatio=0.01, minConf=conf),\r\n",
    "    lambda conf: lambda: e_apriori(repo_ds, min_support=0.01, min_confidence=conf),\r\n",
    "    lambda conf: lambda: apriori(repo_ds, minSup=0.01, minConf=conf)\r\n",
    "]\r\n",
    "result = {}\r\n",
    "for conf in confidence_probes:\r\n",
    "    result[conf] = {}\r\n",
    "    for n, algorithm in enumerate(algorithms):\r\n",
    "        elapsed, _ = measure(algorithm(conf))\r\n",
    "        result[conf][n] = elapsed\r\n",
    "result"
   ],
   "outputs": [
    {
     "output_type": "execute_result",
     "data": {
      "text/plain": [
       "{0.1: {0: 0.2200009822845459, 1: 0.26099538803100586, 2: 0.30499815940856934},\n",
       " 0.2: {0: 0.2020273208618164, 1: 0.240997314453125, 2: 0.2854428291320801},\n",
       " 0.3: {0: 0.23169684410095215, 1: 0.24402928352355957, 2: 0.2882523536682129},\n",
       " 0.4: {0: 0.1979982852935791, 1: 0.24902725219726562, 2: 0.28699779510498047},\n",
       " 0.5: {0: 0.19297075271606445, 1: 0.2516927719116211, 2: 0.2740962505340576},\n",
       " 0.6: {0: 0.18697214126586914, 1: 0.26800012588500977, 2: 0.27602481842041016},\n",
       " 0.7: {0: 0.18600058555603027, 1: 0.2449967861175537, 2: 0.2859673500061035},\n",
       " 0.8: {0: 0.19277453422546387, 1: 0.24899840354919434, 2: 0.27602696418762207},\n",
       " 0.9: {0: 0.18599796295166016, 1: 0.2594766616821289, 2: 0.279998779296875},\n",
       " 1.0: {0: 0.18902826309204102, 1: 0.24799823760986328, 2: 0.28600025177001953}}"
      ]
     },
     "metadata": {},
     "execution_count": 24
    }
   ],
   "metadata": {}
  },
  {
   "cell_type": "code",
   "execution_count": 36,
   "source": [
    "import matplotlib.pyplot as plt\r\n",
    "x = confidence_probes\r\n",
    "y0 = list(map(lambda conf: result[conf][0] ,result))\r\n",
    "y1 = list(map(lambda conf: result[conf][1] ,result))\r\n",
    "y2 = list(map(lambda conf: result[conf][2] ,result))\r\n",
    "plt.plot(x, y0, label=\"fpgrowth\")\r\n",
    "plt.plot(x, y1, label=\"efficent_apriori\")\r\n",
    "plt.plot(x, y2, label=\"apriori_python\")\r\n",
    "plt.legend()\r\n",
    "plt.show()"
   ],
   "outputs": [
    {
     "output_type": "display_data",
     "data": {
      "image/png": "[encoded data removed]",
      "text/plain": [
       "<Figure size 432x288 with 1 Axes>"
      ]
     },
     "metadata": {
      "needs_background": "light"
     }
    }
   ],
   "metadata": {}
  }
 ],
 "metadata": {
  "orig_nbformat": 4,
  "language_info": {
   "name": "python",
   "version": "3.9.6",
   "mimetype": "text/x-python",
   "codemirror_mode": {
    "name": "ipython",
    "version": 3
   },
   "pygments_lexer": "ipython3",
   "nbconvert_exporter": "python",
   "file_extension": ".py"
  },
  "kernelspec": {
   "name": "python3",
   "display_name": "Python 3.9.6 64-bit"
  },
  "interpreter": {
   "hash": "63fd5069d213b44bf678585dea6b12cceca9941eaf7f819626cde1f2670de90d"
  }
 },
 "nbformat": 4,
 "nbformat_minor": 2
}