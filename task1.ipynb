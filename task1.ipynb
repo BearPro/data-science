{
 "cells": [
  {
   "cell_type": "markdown",
   "source": [
    "# Работа №1 - Поиск ассоциативных правил\n",
    "\n",
    "_Вариант 5. Сформировать набор из 30 транзакций на основе продуктов, употребляемых на завтрак, обед и ужин._"
   ],
   "metadata": {}
  },
  {
   "cell_type": "code",
   "execution_count": 1,
   "source": [
    "! echo '[[\"Мясо\", \"Соус\", \"Вино\"],[\"Мясо\", \"Соус\", \"Картофель\", \"Масло\"],[\"Картофель\", \"Масло\"],[\"Картофель\", \"Масло\"],[\"Вино\", \"Яйца\", \"Бекон\"],[\"Овощи\", \"Мясо\", \"Специи\"],[\"Яйца\", \"Бекон\", \"Овощи\", \"Мясо\", \"Специи\"],[\"Яйца\", \"Бекон\", \"Овощи\", \"Мясо\", \"Специи\"],[\"Лапша\", \"Кетчуп\"],[\"Пельмени\", \"Майонез\", \"Кетчуп\"],[\"Пельмени\", \"Майонез\", \"Кетчуп\"],[\"Овощи\", \"Пельмени\", \"Майонез\", \"Кетчуп\"],[\"Овощи\", \"Соус\", \"Вино\"],[\"Кетчуп\"],[\"Кетчуп\", \"Лапша\", \"Пельмени\", \"Майонез\"],[\"Кетчуп\", \"Лапша\", \"Пельмени\", \"Майонез\"],[\"Кетчуп\", \"Лапша\", \"Мясо\", \"Соус\", \"Вино\"],[\"Овощи\", \"Мясо\", \"Соус\", \"Вино\"],[\"Майонез\"],[\"Вино\"],[\"Овощи\", \"Масло\"],[\"Овощи\", \"Масло\", \"Картофель\"],[\"Овощи\", \"Масло\", \"Картофель\", \"Мясо\", \"Соус\"],[\"Овощи\", \"Бекон\", \"Яйца\"],[\"Бекон\", \"Яйца\"],[\"Яйца\", \"Кетчуп\", \"Лапша\"],[\"Мясо\"],[\"Мясо\", \"Масло\"],[\"Мясо\", \"Масло\", \"Картофель\"],[\"Масло\", \"Картофель\"]]' > data/data_set.json\n",
    "! curl https://raw.githubusercontent.com/viktree/curly-octo-chainsaw/master/BreadBasket_DMS.csv > ./data/BreadBasket_DMS.csv\n",
    "! pip install apriori_python efficient-apriori fpgrowth-py pyarmviz pandas"
   ],
   "outputs": [
    {
     "output_type": "stream",
     "name": "stdout",
     "text": [
      "  % Total    % Received % Xferd  Average Speed   Time    Time     Time  Current\n",
      "                                 Dload  Upload   Total   Spent    Left  Speed\n",
      "100  693k  100  693k    0     0   773k      0 --:--:-- --:--:-- --:--:--  772k\n",
      "Requirement already satisfied: apriori_python in /home/bearpro/.local/lib/python3.9/site-packages (1.0.4)\n",
      "Requirement already satisfied: efficient-apriori in /home/bearpro/.local/lib/python3.9/site-packages (1.1.1)\n",
      "Requirement already satisfied: fpgrowth-py in /home/bearpro/.local/lib/python3.9/site-packages (1.0.0)\n",
      "Requirement already satisfied: pyarmviz in /home/bearpro/.local/lib/python3.9/site-packages (0.1.4)\n",
      "Requirement already satisfied: pandas in /home/bearpro/.local/lib/python3.9/site-packages (1.3.3)\n",
      "Requirement already satisfied: numpy>=1.17.3 in /home/bearpro/.local/lib/python3.9/site-packages (from pandas) (1.21.2)\n",
      "Requirement already satisfied: python-dateutil>=2.7.3 in /home/bearpro/.local/lib/python3.9/site-packages (from pandas) (2.8.2)\n",
      "Requirement already satisfied: pytz>=2017.3 in /home/bearpro/.local/lib/python3.9/site-packages (from pandas) (2021.1)\n",
      "Requirement already satisfied: six>=1.5 in /home/bearpro/.local/lib/python3.9/site-packages (from python-dateutil>=2.7.3->pandas) (1.16.0)\n",
      "Requirement already satisfied: plotly in /home/bearpro/.local/lib/python3.9/site-packages (from pyarmviz) (5.3.1)\n",
      "Requirement already satisfied: networkx in /home/bearpro/.local/lib/python3.9/site-packages (from pyarmviz) (2.6.3)\n",
      "Requirement already satisfied: tenacity>=6.2.0 in /home/bearpro/.local/lib/python3.9/site-packages (from plotly->pyarmviz) (8.0.1)\n"
     ]
    }
   ],
   "metadata": {}
  },
  {
   "cell_type": "code",
   "execution_count": 14,
   "source": [
    "from lib import datasets\n",
    "from pandas import pandas\n",
    "from fpgrowth_py import fpgrowth\n",
    "from efficient_apriori import apriori"
   ],
   "outputs": [],
   "metadata": {}
  },
  {
   "cell_type": "code",
   "execution_count": 15,
   "source": [
    "repo_ds = datasets.from_csv(\"./data/BreadBasket_DMS.csv\")\n",
    "test_ds = datasets.from_json(\"./data/data_set.json\")"
   ],
   "outputs": [],
   "metadata": {}
  },
  {
   "cell_type": "code",
   "execution_count": 21,
   "source": [
    "_, test_rules = apriori(test_ds, min_support=0.15, min_confidence=0.6)\n",
    "_, repo_rules = apriori(repo_ds, min_support=0.01, min_confidence=0.6)\n",
    "repo_rules"
   ],
   "outputs": [
    {
     "output_type": "execute_result",
     "data": {
      "text/plain": [
       "[{Toast} -> {Coffee}]"
      ]
     },
     "metadata": {},
     "execution_count": 21
    }
   ],
   "metadata": {}
  },
  {
   "cell_type": "code",
   "execution_count": 19,
   "source": [
    "_, test_rules_fpg = fpgrowth(test_ds, minSupRatio=0.15, minConf=0.6)\n",
    "_, repo_rules_fpg = fpgrowth(repo_ds, minSupRatio=0.01, minConf=0.6)\n",
    "repo_rules_fpg"
   ],
   "outputs": [
    {
     "output_type": "execute_result",
     "data": {
      "text/plain": [
       "[[{'Toast'}, {'Coffee'}, 0.7044025157232704]]"
      ]
     },
     "metadata": {},
     "execution_count": 19
    }
   ],
   "metadata": {}
  }
 ],
 "metadata": {
  "orig_nbformat": 4,
  "language_info": {
   "name": "python",
   "version": "3.9.2",
   "mimetype": "text/x-python",
   "codemirror_mode": {
    "name": "ipython",
    "version": 3
   },
   "pygments_lexer": "ipython3",
   "nbconvert_exporter": "python",
   "file_extension": ".py"
  },
  "kernelspec": {
   "name": "python3",
   "display_name": "Python 3.9.2 64-bit"
  },
  "interpreter": {
   "hash": "916dbcbb3f70747c44a77c7bcd40155683ae19c65e1c03b4aa3499c5328201f1"
  }
 },
 "nbformat": 4,
 "nbformat_minor": 2
}